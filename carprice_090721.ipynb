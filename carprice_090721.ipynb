{
 "cells": [
  {
   "cell_type": "code",
   "execution_count": 2,
   "metadata": {},
   "outputs": [],
   "source": [
    "import numpy as np\n",
    "import pandas as pd\n",
    "import matplotlib.pyplot as plt\n",
    "import seaborn as sns\n",
    "from datetime import datetime\n",
    "import jovian\n",
    "project_name = 'carprice'\n",
    "\n",
    "pd.set_option('display.max_rows', 200)\n",
    "pd.set_option('display.max_columns', 200)"
   ]
  },
  {
   "cell_type": "code",
   "execution_count": 29,
   "metadata": {},
   "outputs": [],
   "source": [
    "def fit_predict(estimator, x_train=x_train, train_targets=train_targets, x_val=x_val, \n",
    "                val_targets=val_targets):\n",
    "    estimator.fit(x_train, train_targets)\n",
    "    train_preds = estimator.predict(x_train)\n",
    "    val_preds = estimator.predict(x_val)\n",
    "\n",
    "    from sklearn.metrics import mean_squared_error\n",
    "    \n",
    "    train_error = np.sqrt(mean_squared_error(train_targets, train_preds))\n",
    "    val_error = np.sqrt(mean_squared_error(val_targets, val_preds))\n",
    "    \n",
    "    \n",
    "    print('Train RMSLE:', train_error)\n",
    "    print('Val RMSLE:', val_error)\n",
    "    \n",
    "    # LOGGING MODELLING PARAMS\n",
    "    \n",
    "    log = pd.read_excel('model_params_metrics.xlsx')\n",
    "    \n",
    "    size= len(log.index)\n",
    "    log.loc[size] = np.nan\n",
    "    log.loc[size, 'Date'] = datetime.now()\n",
    "    log.loc[size,'estimator'] = str(estimator)\n",
    "    log.loc[size,'hyperparams'] = str(estimator.get_params())[1:-1]\n",
    "    log.loc[size, 'train_RMSLE'] = train_error\n",
    "    log.loc[size, 'val_RMSLE'] = val_error\n",
    "    \n",
    "    log.to_excel('model_params_metrics.xlsx', index=False)\n",
    "    log.tail()\n",
    "    \n",
    "# def log_model_metrics(estimator):\n",
    "#     dflog = dflogfinal.values.flatten()\n",
    "#     dflog = np.append(dflog, [time, str(estimator), params, train_error, val_error])\n",
    "#     dflogfinal = dflog.reshape(-1, 5)\n",
    "#     print(pd.DataFrame(dflogfinal, columns = ['time', 'model', 'hyperparams','train_error','val_error']))"
   ]
  },
  {
   "cell_type": "code",
   "execution_count": 4,
   "metadata": {},
   "outputs": [],
   "source": [
    "df = pd.read_csv('train.csv')\n",
    "df = df.drop('ID', axis=1)"
   ]
  },
  {
   "cell_type": "code",
   "execution_count": 5,
   "metadata": {},
   "outputs": [
    {
     "data": {
      "text/html": [
       "<div>\n",
       "<style scoped>\n",
       "    .dataframe tbody tr th:only-of-type {\n",
       "        vertical-align: middle;\n",
       "    }\n",
       "\n",
       "    .dataframe tbody tr th {\n",
       "        vertical-align: top;\n",
       "    }\n",
       "\n",
       "    .dataframe thead th {\n",
       "        text-align: right;\n",
       "    }\n",
       "</style>\n",
       "<table border=\"1\" class=\"dataframe\">\n",
       "  <thead>\n",
       "    <tr style=\"text-align: right;\">\n",
       "      <th></th>\n",
       "      <th>Price</th>\n",
       "      <th>Levy</th>\n",
       "      <th>Manufacturer</th>\n",
       "      <th>Model</th>\n",
       "      <th>Prod. year</th>\n",
       "      <th>Category</th>\n",
       "      <th>Leather interior</th>\n",
       "      <th>Fuel type</th>\n",
       "      <th>Engine volume</th>\n",
       "      <th>Mileage</th>\n",
       "      <th>Cylinders</th>\n",
       "      <th>Gear box type</th>\n",
       "      <th>Drive wheels</th>\n",
       "      <th>Doors</th>\n",
       "      <th>Wheel</th>\n",
       "      <th>Color</th>\n",
       "      <th>Airbags</th>\n",
       "    </tr>\n",
       "  </thead>\n",
       "  <tbody>\n",
       "    <tr>\n",
       "      <th>0</th>\n",
       "      <td>13328</td>\n",
       "      <td>1399</td>\n",
       "      <td>LEXUS</td>\n",
       "      <td>RX 450</td>\n",
       "      <td>2010</td>\n",
       "      <td>Jeep</td>\n",
       "      <td>Yes</td>\n",
       "      <td>Hybrid</td>\n",
       "      <td>3.5</td>\n",
       "      <td>186005 km</td>\n",
       "      <td>6.0</td>\n",
       "      <td>Automatic</td>\n",
       "      <td>4x4</td>\n",
       "      <td>04-May</td>\n",
       "      <td>Left wheel</td>\n",
       "      <td>Silver</td>\n",
       "      <td>12</td>\n",
       "    </tr>\n",
       "    <tr>\n",
       "      <th>1</th>\n",
       "      <td>16621</td>\n",
       "      <td>1018</td>\n",
       "      <td>CHEVROLET</td>\n",
       "      <td>Equinox</td>\n",
       "      <td>2011</td>\n",
       "      <td>Jeep</td>\n",
       "      <td>No</td>\n",
       "      <td>Petrol</td>\n",
       "      <td>3</td>\n",
       "      <td>192000 km</td>\n",
       "      <td>6.0</td>\n",
       "      <td>Tiptronic</td>\n",
       "      <td>4x4</td>\n",
       "      <td>04-May</td>\n",
       "      <td>Left wheel</td>\n",
       "      <td>Black</td>\n",
       "      <td>8</td>\n",
       "    </tr>\n",
       "    <tr>\n",
       "      <th>2</th>\n",
       "      <td>8467</td>\n",
       "      <td>-</td>\n",
       "      <td>HONDA</td>\n",
       "      <td>FIT</td>\n",
       "      <td>2006</td>\n",
       "      <td>Hatchback</td>\n",
       "      <td>No</td>\n",
       "      <td>Petrol</td>\n",
       "      <td>1.3</td>\n",
       "      <td>200000 km</td>\n",
       "      <td>4.0</td>\n",
       "      <td>Variator</td>\n",
       "      <td>Front</td>\n",
       "      <td>04-May</td>\n",
       "      <td>Right-hand drive</td>\n",
       "      <td>Black</td>\n",
       "      <td>2</td>\n",
       "    </tr>\n",
       "    <tr>\n",
       "      <th>3</th>\n",
       "      <td>3607</td>\n",
       "      <td>862</td>\n",
       "      <td>FORD</td>\n",
       "      <td>Escape</td>\n",
       "      <td>2011</td>\n",
       "      <td>Jeep</td>\n",
       "      <td>Yes</td>\n",
       "      <td>Hybrid</td>\n",
       "      <td>2.5</td>\n",
       "      <td>168966 km</td>\n",
       "      <td>4.0</td>\n",
       "      <td>Automatic</td>\n",
       "      <td>4x4</td>\n",
       "      <td>04-May</td>\n",
       "      <td>Left wheel</td>\n",
       "      <td>White</td>\n",
       "      <td>0</td>\n",
       "    </tr>\n",
       "    <tr>\n",
       "      <th>4</th>\n",
       "      <td>11726</td>\n",
       "      <td>446</td>\n",
       "      <td>HONDA</td>\n",
       "      <td>FIT</td>\n",
       "      <td>2014</td>\n",
       "      <td>Hatchback</td>\n",
       "      <td>Yes</td>\n",
       "      <td>Petrol</td>\n",
       "      <td>1.3</td>\n",
       "      <td>91901 km</td>\n",
       "      <td>4.0</td>\n",
       "      <td>Automatic</td>\n",
       "      <td>Front</td>\n",
       "      <td>04-May</td>\n",
       "      <td>Left wheel</td>\n",
       "      <td>Silver</td>\n",
       "      <td>4</td>\n",
       "    </tr>\n",
       "  </tbody>\n",
       "</table>\n",
       "</div>"
      ],
      "text/plain": [
       "   Price  Levy Manufacturer    Model  Prod. year   Category Leather interior  \\\n",
       "0  13328  1399        LEXUS   RX 450        2010       Jeep              Yes   \n",
       "1  16621  1018    CHEVROLET  Equinox        2011       Jeep               No   \n",
       "2   8467     -        HONDA      FIT        2006  Hatchback               No   \n",
       "3   3607   862         FORD   Escape        2011       Jeep              Yes   \n",
       "4  11726   446        HONDA      FIT        2014  Hatchback              Yes   \n",
       "\n",
       "  Fuel type Engine volume    Mileage  Cylinders Gear box type Drive wheels  \\\n",
       "0    Hybrid           3.5  186005 km        6.0     Automatic          4x4   \n",
       "1    Petrol             3  192000 km        6.0     Tiptronic          4x4   \n",
       "2    Petrol           1.3  200000 km        4.0      Variator        Front   \n",
       "3    Hybrid           2.5  168966 km        4.0     Automatic          4x4   \n",
       "4    Petrol           1.3   91901 km        4.0     Automatic        Front   \n",
       "\n",
       "    Doors             Wheel   Color  Airbags  \n",
       "0  04-May        Left wheel  Silver       12  \n",
       "1  04-May        Left wheel   Black        8  \n",
       "2  04-May  Right-hand drive   Black        2  \n",
       "3  04-May        Left wheel   White        0  \n",
       "4  04-May        Left wheel  Silver        4  "
      ]
     },
     "execution_count": 5,
     "metadata": {},
     "output_type": "execute_result"
    }
   ],
   "source": [
    "df.head()"
   ]
  },
  {
   "cell_type": "code",
   "execution_count": 6,
   "metadata": {},
   "outputs": [
    {
     "data": {
      "text/plain": [
       "Price                 int64\n",
       "Levy                 object\n",
       "Manufacturer         object\n",
       "Model                object\n",
       "Prod. year            int64\n",
       "Category             object\n",
       "Leather interior     object\n",
       "Fuel type            object\n",
       "Engine volume        object\n",
       "Mileage              object\n",
       "Cylinders           float64\n",
       "Gear box type        object\n",
       "Drive wheels         object\n",
       "Doors                object\n",
       "Wheel                object\n",
       "Color                object\n",
       "Airbags               int64\n",
       "dtype: object"
      ]
     },
     "execution_count": 6,
     "metadata": {},
     "output_type": "execute_result"
    }
   ],
   "source": [
    "df.dtypes"
   ]
  },
  {
   "cell_type": "code",
   "execution_count": 7,
   "metadata": {},
   "outputs": [
    {
     "data": {
      "text/plain": [
       "Price               0\n",
       "Levy                0\n",
       "Manufacturer        0\n",
       "Model               0\n",
       "Prod. year          0\n",
       "Category            0\n",
       "Leather interior    0\n",
       "Fuel type           0\n",
       "Engine volume       0\n",
       "Mileage             0\n",
       "Cylinders           0\n",
       "Gear box type       0\n",
       "Drive wheels        0\n",
       "Doors               0\n",
       "Wheel               0\n",
       "Color               0\n",
       "Airbags             0\n",
       "dtype: int64"
      ]
     },
     "execution_count": 7,
     "metadata": {},
     "output_type": "execute_result"
    }
   ],
   "source": [
    "df.isnull().sum()"
   ]
  },
  {
   "cell_type": "code",
   "execution_count": 8,
   "metadata": {},
   "outputs": [
    {
     "data": {
      "text/plain": [
       "count    1.923700e+04\n",
       "mean     1.855593e+04\n",
       "std      1.905813e+05\n",
       "min      1.000000e+00\n",
       "25%      5.331000e+03\n",
       "50%      1.317200e+04\n",
       "75%      2.207500e+04\n",
       "max      2.630750e+07\n",
       "Name: Price, dtype: float64"
      ]
     },
     "execution_count": 8,
     "metadata": {},
     "output_type": "execute_result"
    }
   ],
   "source": [
    "df['Price'].describe()"
   ]
  },
  {
   "cell_type": "markdown",
   "metadata": {},
   "source": [
    "###  Manufacture and model"
   ]
  },
  {
   "cell_type": "code",
   "execution_count": 15,
   "metadata": {},
   "outputs": [
    {
     "data": {
      "text/plain": [
       "HYUNDAI          3769\n",
       "TOYOTA           3662\n",
       "MERCEDES-BENZ    2076\n",
       "FORD             1111\n",
       "CHEVROLET        1069\n",
       "BMW              1049\n",
       "LEXUS             982\n",
       "HONDA             977\n",
       "NISSAN            660\n",
       "VOLKSWAGEN        579\n",
       "SSANGYONG         441\n",
       "KIA               421\n",
       "OPEL              397\n",
       "MITSUBISHI        289\n",
       "SUBARU            275\n",
       "AUDI              255\n",
       "MAZDA             183\n",
       "JEEP              138\n",
       "DAEWOO             91\n",
       "DODGE              91\n",
       "Name: Manufacturer, dtype: int64"
      ]
     },
     "execution_count": 15,
     "metadata": {},
     "output_type": "execute_result"
    }
   ],
   "source": [
    "df['Manufacturer'].value_counts(dropna=False)[:20]"
   ]
  },
  {
   "cell_type": "code",
   "execution_count": 10,
   "metadata": {},
   "outputs": [
    {
     "data": {
      "text/plain": [
       "<AxesSubplot:ylabel='Manufacturer'>"
      ]
     },
     "execution_count": 10,
     "metadata": {},
     "output_type": "execute_result"
    },
    {
     "data": {
      "image/png": "[encoded data removed]",
      "text/plain": [
       "<Figure size 576x576 with 1 Axes>"
      ]
     },
     "metadata": {
      "needs_background": "light"
     },
     "output_type": "display_data"
    }
   ],
   "source": [
    "plt.figure(figsize=(8,8))\n",
    "df.groupby('Manufacturer')['Price'].mean().plot(kind='barh')"
   ]
  },
  {
   "cell_type": "code",
   "execution_count": 22,
   "metadata": {},
   "outputs": [
    {
     "data": {
      "text/plain": [
       "Manufacturer\n",
       "LAMBORGHINI    872946.000000\n",
       "BENTLEY        197574.500000\n",
       "OPEL            73305.617128\n",
       "FERRARI         66955.500000\n",
       "LAND ROVER      54053.489796\n",
       "                   ...      \n",
       "VAZ              4613.583333\n",
       "MOSKVICH         4609.000000\n",
       "ZAZ              3822.500000\n",
       "ROVER            2433.333333\n",
       "ROLLS-ROYCE       178.500000\n",
       "Name: Price, Length: 65, dtype: float64"
      ]
     },
     "execution_count": 22,
     "metadata": {},
     "output_type": "execute_result"
    }
   ],
   "source": [
    "df.groupby('Manufacturer')['Price'].mean().sort_values(ascending=False)"
   ]
  },
  {
   "cell_type": "code",
   "execution_count": null,
   "metadata": {},
   "outputs": [],
   "source": [
    "df['cost'] = df['Price']"
   ]
  },
  {
   "cell_type": "code",
   "execution_count": 27,
   "metadata": {},
   "outputs": [
    {
     "data": {
      "text/plain": [
       "-       5819\n",
       "1011       8\n",
       "1016       4\n",
       "1017     298\n",
       "1018     135\n",
       "        ... \n",
       "986       40\n",
       "988       32\n",
       "993        3\n",
       "994        5\n",
       "997        1\n",
       "Name: Levy, Length: 559, dtype: int64"
      ]
     },
     "execution_count": 27,
     "metadata": {},
     "output_type": "execute_result"
    }
   ],
   "source": [
    "df['Levy'].value_counts(dropna=False).sort_index()"
   ]
  },
  {
   "cell_type": "code",
   "execution_count": 9,
   "metadata": {},
   "outputs": [
    {
     "data": {
      "text/plain": [
       "0        1399\n",
       "1        1018\n",
       "2           -\n",
       "3         862\n",
       "4         446\n",
       "         ... \n",
       "19232       -\n",
       "19233     831\n",
       "19234     836\n",
       "19235    1288\n",
       "19236     753\n",
       "Name: Levy, Length: 19237, dtype: object"
      ]
     },
     "execution_count": 9,
     "metadata": {},
     "output_type": "execute_result"
    }
   ],
   "source": [
    "df['Levy'] = df['Levy'].apply()"
   ]
  },
  {
   "cell_type": "code",
   "execution_count": 34,
   "metadata": {},
   "outputs": [],
   "source": [
    "df['Levy'].replace('-', np.nan, inplace=True)\n",
    "df['Levy'].isnull().sum()\n",
    "df['Levy'] = df['Levy'].astype('float32')"
   ]
  },
  {
   "cell_type": "code",
   "execution_count": 35,
   "metadata": {},
   "outputs": [],
   "source": [
    "df['cost'] = df['Price'] + df['Levy'].fillna(0)"
   ]
  },
  {
   "cell_type": "code",
   "execution_count": 37,
   "metadata": {},
   "outputs": [
    {
     "data": {
      "text/plain": [
       "count    1.923700e+04\n",
       "mean     1.918837e+04\n",
       "std      1.905795e+05\n",
       "min      1.000000e+00\n",
       "25%      5.871000e+03\n",
       "50%      1.365500e+04\n",
       "75%      2.281100e+04\n",
       "max      2.630750e+07\n",
       "Name: cost, dtype: float64"
      ]
     },
     "execution_count": 37,
     "metadata": {},
     "output_type": "execute_result"
    }
   ],
   "source": [
    "df['cost'].describe()"
   ]
  },
  {
   "cell_type": "code",
   "execution_count": 86,
   "metadata": {},
   "outputs": [],
   "source": [
    "df['outlier'] = 0"
   ]
  },
  {
   "cell_type": "code",
   "execution_count": 89,
   "metadata": {},
   "outputs": [
    {
     "data": {
      "text/html": [
       "<div>\n",
       "<style scoped>\n",
       "    .dataframe tbody tr th:only-of-type {\n",
       "        vertical-align: middle;\n",
       "    }\n",
       "\n",
       "    .dataframe tbody tr th {\n",
       "        vertical-align: top;\n",
       "    }\n",
       "\n",
       "    .dataframe thead th {\n",
       "        text-align: right;\n",
       "    }\n",
       "</style>\n",
       "<table border=\"1\" class=\"dataframe\">\n",
       "  <thead>\n",
       "    <tr style=\"text-align: right;\">\n",
       "      <th></th>\n",
       "      <th>ID</th>\n",
       "      <th>Price</th>\n",
       "      <th>Levy</th>\n",
       "      <th>Manufacturer</th>\n",
       "      <th>Model</th>\n",
       "      <th>Prod. year</th>\n",
       "      <th>Category</th>\n",
       "      <th>Fuel type</th>\n",
       "      <th>Engine volume</th>\n",
       "      <th>Mileage</th>\n",
       "      <th>...</th>\n",
       "      <th>Doors</th>\n",
       "      <th>Wheel</th>\n",
       "      <th>Color</th>\n",
       "      <th>Airbags</th>\n",
       "      <th>cost</th>\n",
       "      <th>leather</th>\n",
       "      <th>engine</th>\n",
       "      <th>turbo</th>\n",
       "      <th>gearbox</th>\n",
       "      <th>outlier</th>\n",
       "    </tr>\n",
       "  </thead>\n",
       "  <tbody>\n",
       "    <tr>\n",
       "      <th>16983</th>\n",
       "      <td>45812886</td>\n",
       "      <td>26307500.0</td>\n",
       "      <td>NaN</td>\n",
       "      <td>OPEL</td>\n",
       "      <td>Combo</td>\n",
       "      <td>1999</td>\n",
       "      <td>Goods wagon</td>\n",
       "      <td>Diesel</td>\n",
       "      <td>1.7</td>\n",
       "      <td>99999.0</td>\n",
       "      <td>...</td>\n",
       "      <td>2</td>\n",
       "      <td>Left wheel</td>\n",
       "      <td>Blue</td>\n",
       "      <td>0</td>\n",
       "      <td>26307500.0</td>\n",
       "      <td>0</td>\n",
       "      <td>1.700195</td>\n",
       "      <td>0</td>\n",
       "      <td>Manual</td>\n",
       "      <td>1</td>\n",
       "    </tr>\n",
       "  </tbody>\n",
       "</table>\n",
       "<p>1 rows × 22 columns</p>\n",
       "</div>"
      ],
      "text/plain": [
       "             ID       Price  Levy Manufacturer  Model  Prod. year  \\\n",
       "16983  45812886  26307500.0   NaN         OPEL  Combo        1999   \n",
       "\n",
       "          Category Fuel type Engine volume  Mileage  ...  Doors       Wheel  \\\n",
       "16983  Goods wagon    Diesel           1.7  99999.0  ...      2  Left wheel   \n",
       "\n",
       "      Color Airbags        cost  leather    engine  turbo  gearbox  outlier  \n",
       "16983  Blue       0  26307500.0        0  1.700195      0   Manual        1  \n",
       "\n",
       "[1 rows x 22 columns]"
      ]
     },
     "execution_count": 89,
     "metadata": {},
     "output_type": "execute_result"
    }
   ],
   "source": [
    "df.loc[df['Price']>1000000]\n",
    "# confirmed outlier"
   ]
  },
  {
   "cell_type": "code",
   "execution_count": 88,
   "metadata": {},
   "outputs": [],
   "source": [
    "df.loc[df['Price']>1000000,'outlier'] = 1"
   ]
  },
  {
   "cell_type": "code",
   "execution_count": 101,
   "metadata": {},
   "outputs": [],
   "source": [
    "df = df.loc[df['outlier'] == 0]"
   ]
  },
  {
   "cell_type": "markdown",
   "metadata": {},
   "source": [
    "#### Some columnsa are marked object but are actually numerbs"
   ]
  },
  {
   "cell_type": "code",
   "execution_count": 18,
   "metadata": {},
   "outputs": [
    {
     "data": {
      "text/html": [
       "<div>\n",
       "<style scoped>\n",
       "    .dataframe tbody tr th:only-of-type {\n",
       "        vertical-align: middle;\n",
       "    }\n",
       "\n",
       "    .dataframe tbody tr th {\n",
       "        vertical-align: top;\n",
       "    }\n",
       "\n",
       "    .dataframe thead th {\n",
       "        text-align: right;\n",
       "    }\n",
       "</style>\n",
       "<table border=\"1\" class=\"dataframe\">\n",
       "  <thead>\n",
       "    <tr style=\"text-align: right;\">\n",
       "      <th></th>\n",
       "      <th>Manufacturer</th>\n",
       "      <th>Model</th>\n",
       "      <th>Category</th>\n",
       "      <th>Leather interior</th>\n",
       "      <th>Fuel type</th>\n",
       "      <th>Engine volume</th>\n",
       "      <th>Mileage</th>\n",
       "      <th>Gear box type</th>\n",
       "      <th>Drive wheels</th>\n",
       "      <th>Doors</th>\n",
       "      <th>Wheel</th>\n",
       "      <th>Color</th>\n",
       "    </tr>\n",
       "  </thead>\n",
       "  <tbody>\n",
       "    <tr>\n",
       "      <th>0</th>\n",
       "      <td>LEXUS</td>\n",
       "      <td>RX 450</td>\n",
       "      <td>Jeep</td>\n",
       "      <td>Yes</td>\n",
       "      <td>Hybrid</td>\n",
       "      <td>3.5</td>\n",
       "      <td>186005 km</td>\n",
       "      <td>Automatic</td>\n",
       "      <td>4x4</td>\n",
       "      <td>04-May</td>\n",
       "      <td>Left wheel</td>\n",
       "      <td>Silver</td>\n",
       "    </tr>\n",
       "    <tr>\n",
       "      <th>1</th>\n",
       "      <td>CHEVROLET</td>\n",
       "      <td>Equinox</td>\n",
       "      <td>Jeep</td>\n",
       "      <td>No</td>\n",
       "      <td>Petrol</td>\n",
       "      <td>3</td>\n",
       "      <td>192000 km</td>\n",
       "      <td>Tiptronic</td>\n",
       "      <td>4x4</td>\n",
       "      <td>04-May</td>\n",
       "      <td>Left wheel</td>\n",
       "      <td>Black</td>\n",
       "    </tr>\n",
       "    <tr>\n",
       "      <th>2</th>\n",
       "      <td>HONDA</td>\n",
       "      <td>FIT</td>\n",
       "      <td>Hatchback</td>\n",
       "      <td>No</td>\n",
       "      <td>Petrol</td>\n",
       "      <td>1.3</td>\n",
       "      <td>200000 km</td>\n",
       "      <td>Variator</td>\n",
       "      <td>Front</td>\n",
       "      <td>04-May</td>\n",
       "      <td>Right-hand drive</td>\n",
       "      <td>Black</td>\n",
       "    </tr>\n",
       "    <tr>\n",
       "      <th>3</th>\n",
       "      <td>FORD</td>\n",
       "      <td>Escape</td>\n",
       "      <td>Jeep</td>\n",
       "      <td>Yes</td>\n",
       "      <td>Hybrid</td>\n",
       "      <td>2.5</td>\n",
       "      <td>168966 km</td>\n",
       "      <td>Automatic</td>\n",
       "      <td>4x4</td>\n",
       "      <td>04-May</td>\n",
       "      <td>Left wheel</td>\n",
       "      <td>White</td>\n",
       "    </tr>\n",
       "    <tr>\n",
       "      <th>4</th>\n",
       "      <td>HONDA</td>\n",
       "      <td>FIT</td>\n",
       "      <td>Hatchback</td>\n",
       "      <td>Yes</td>\n",
       "      <td>Petrol</td>\n",
       "      <td>1.3</td>\n",
       "      <td>91901 km</td>\n",
       "      <td>Automatic</td>\n",
       "      <td>Front</td>\n",
       "      <td>04-May</td>\n",
       "      <td>Left wheel</td>\n",
       "      <td>Silver</td>\n",
       "    </tr>\n",
       "  </tbody>\n",
       "</table>\n",
       "</div>"
      ],
      "text/plain": [
       "  Manufacturer    Model   Category Leather interior Fuel type Engine volume  \\\n",
       "0        LEXUS   RX 450       Jeep              Yes    Hybrid           3.5   \n",
       "1    CHEVROLET  Equinox       Jeep               No    Petrol             3   \n",
       "2        HONDA      FIT  Hatchback               No    Petrol           1.3   \n",
       "3         FORD   Escape       Jeep              Yes    Hybrid           2.5   \n",
       "4        HONDA      FIT  Hatchback              Yes    Petrol           1.3   \n",
       "\n",
       "     Mileage Gear box type Drive wheels   Doors             Wheel   Color  \n",
       "0  186005 km     Automatic          4x4  04-May        Left wheel  Silver  \n",
       "1  192000 km     Tiptronic          4x4  04-May        Left wheel   Black  \n",
       "2  200000 km      Variator        Front  04-May  Right-hand drive   Black  \n",
       "3  168966 km     Automatic          4x4  04-May        Left wheel   White  \n",
       "4   91901 km     Automatic        Front  04-May        Left wheel  Silver  "
      ]
     },
     "execution_count": 18,
     "metadata": {},
     "output_type": "execute_result"
    }
   ],
   "source": [
    "df.select_dtypes('object').head()"
   ]
  },
  {
   "cell_type": "code",
   "execution_count": 43,
   "metadata": {},
   "outputs": [
    {
     "data": {
      "text/plain": [
       "Index(['Manufacturer', 'Model', 'Category', 'Leather interior', 'Fuel type',\n",
       "       'Engine volume', 'Mileage', 'Gear box type', 'Drive wheels', 'Doors',\n",
       "       'Wheel', 'Color'],\n",
       "      dtype='object')"
      ]
     },
     "execution_count": 43,
     "metadata": {},
     "output_type": "execute_result"
    }
   ],
   "source": [
    "df.select_dtypes('object').columns"
   ]
  },
  {
   "cell_type": "markdown",
   "metadata": {},
   "source": [
    "#### leather"
   ]
  },
  {
   "cell_type": "code",
   "execution_count": 45,
   "metadata": {},
   "outputs": [
    {
     "data": {
      "text/plain": [
       "Yes    13954\n",
       "No      5283\n",
       "Name: Leather interior, dtype: int64"
      ]
     },
     "execution_count": 45,
     "metadata": {},
     "output_type": "execute_result"
    }
   ],
   "source": [
    "df['Leather interior'].value_counts()"
   ]
  },
  {
   "cell_type": "code",
   "execution_count": 48,
   "metadata": {},
   "outputs": [
    {
     "data": {
      "text/plain": [
       "1    13954\n",
       "0     5283\n",
       "Name: leather, dtype: int64"
      ]
     },
     "execution_count": 48,
     "metadata": {},
     "output_type": "execute_result"
    }
   ],
   "source": [
    "df['leather'] = df['Leather interior'].map({'Yes':1, 'No':0})\n",
    "df = df.drop('Leather interior', axis=1)\n",
    "df['leather'].value_counts()"
   ]
  },
  {
   "cell_type": "markdown",
   "metadata": {},
   "source": [
    "#### fuel type"
   ]
  },
  {
   "cell_type": "code",
   "execution_count": 47,
   "metadata": {},
   "outputs": [
    {
     "data": {
      "text/plain": [
       "Petrol            10150\n",
       "Diesel             4036\n",
       "Hybrid             3578\n",
       "LPG                 892\n",
       "CNG                 494\n",
       "Plug-in Hybrid       86\n",
       "Hydrogen              1\n",
       "Name: Fuel type, dtype: int64"
      ]
     },
     "execution_count": 47,
     "metadata": {},
     "output_type": "execute_result"
    }
   ],
   "source": [
    "df['Fuel type'].value_counts()"
   ]
  },
  {
   "cell_type": "markdown",
   "metadata": {},
   "source": [
    "#### engine volume"
   ]
  },
  {
   "cell_type": "code",
   "execution_count": 19,
   "metadata": {},
   "outputs": [
    {
     "data": {
      "text/plain": [
       "['0',\n",
       " '0.1',\n",
       " '0.2',\n",
       " '0.2 Turbo',\n",
       " '0.3',\n",
       " '0.3 Turbo',\n",
       " '0.4',\n",
       " '0.4 Turbo',\n",
       " '0.5',\n",
       " '0.6']"
      ]
     },
     "execution_count": 19,
     "metadata": {},
     "output_type": "execute_result"
    }
   ],
   "source": [
    "sorted(df['Engine volume'].unique())[:10]"
   ]
  },
  {
   "cell_type": "code",
   "execution_count": 54,
   "metadata": {},
   "outputs": [],
   "source": [
    "df['engine'] = df['Engine volume']"
   ]
  },
  {
   "cell_type": "code",
   "execution_count": 60,
   "metadata": {},
   "outputs": [
    {
     "data": {
      "text/plain": [
       "1931"
      ]
     },
     "execution_count": 60,
     "metadata": {},
     "output_type": "execute_result"
    }
   ],
   "source": [
    "df['engine'].apply(lambda x: 0 if len(x)<4 else 1).sum()"
   ]
  },
  {
   "cell_type": "code",
   "execution_count": 63,
   "metadata": {},
   "outputs": [
    {
     "data": {
      "text/plain": [
       "0        0\n",
       "1        0\n",
       "2        0\n",
       "3        0\n",
       "4        0\n",
       "        ..\n",
       "19232    1\n",
       "19233    0\n",
       "19234    0\n",
       "19235    0\n",
       "19236    0\n",
       "Name: turbo, Length: 19237, dtype: int64"
      ]
     },
     "execution_count": 63,
     "metadata": {},
     "output_type": "execute_result"
    }
   ],
   "source": [
    "df['turbo'] = df['engine'].apply(lambda x: 0 if x.find('Turbo') == -1 else 1)\n",
    "df['turbo']"
   ]
  },
  {
   "cell_type": "code",
   "execution_count": 169,
   "metadata": {},
   "outputs": [
    {
     "data": {
      "text/plain": [
       "[0.0, 0.1, 0.2, 0.3, 0.4]"
      ]
     },
     "execution_count": 169,
     "metadata": {},
     "output_type": "execute_result"
    }
   ],
   "source": [
    "# df['engine'] = df['engine'].str.replace(' Turbo','')\n",
    "sorted(df['engine'].unique())[:5]"
   ]
  },
  {
   "cell_type": "code",
   "execution_count": 66,
   "metadata": {},
   "outputs": [],
   "source": [
    "df['engine'] = df['engine'].astype('float16')"
   ]
  },
  {
   "cell_type": "markdown",
   "metadata": {},
   "source": [
    "#### Mileage"
   ]
  },
  {
   "cell_type": "code",
   "execution_count": 68,
   "metadata": {},
   "outputs": [
    {
     "data": {
      "text/plain": [
       "['0 km', '1000 km', '10000 km', '100000 km', '1000000 km']"
      ]
     },
     "execution_count": 68,
     "metadata": {},
     "output_type": "execute_result"
    }
   ],
   "source": [
    "sorted(df['Mileage'].unique())[:5]"
   ]
  },
  {
   "cell_type": "code",
   "execution_count": 69,
   "metadata": {},
   "outputs": [],
   "source": [
    "df['Mileage'] = df['Mileage'].str.replace(' km','')"
   ]
  },
  {
   "cell_type": "code",
   "execution_count": 70,
   "metadata": {},
   "outputs": [],
   "source": [
    "df['Mileage'] = df['Mileage'].astype('float32')"
   ]
  },
  {
   "cell_type": "markdown",
   "metadata": {},
   "source": [
    "#### gearbox"
   ]
  },
  {
   "cell_type": "code",
   "execution_count": 72,
   "metadata": {},
   "outputs": [
    {
     "data": {
      "text/plain": [
       "Automatic    13514\n",
       "Tiptronic     3102\n",
       "Manual        1875\n",
       "Variator       746\n",
       "Name: gearbox, dtype: int64"
      ]
     },
     "execution_count": 72,
     "metadata": {},
     "output_type": "execute_result"
    }
   ],
   "source": [
    "df['gearbox'] = df['Gear box type']\n",
    "df = df.drop('Gear box type', axis=1)\n",
    "df['gearbox'].value_counts()"
   ]
  },
  {
   "cell_type": "markdown",
   "metadata": {},
   "source": [
    "#### Drive wheels"
   ]
  },
  {
   "cell_type": "code",
   "execution_count": 74,
   "metadata": {},
   "outputs": [
    {
     "data": {
      "text/plain": [
       "Front    12874\n",
       "4x4       4058\n",
       "Rear      2305\n",
       "Name: Drive wheels, dtype: int64"
      ]
     },
     "execution_count": 74,
     "metadata": {},
     "output_type": "execute_result"
    }
   ],
   "source": [
    "df['Drive wheels'].value_counts(dropna=False)"
   ]
  },
  {
   "cell_type": "code",
   "execution_count": 76,
   "metadata": {},
   "outputs": [
    {
     "data": {
      "text/plain": [
       "04-May    18332\n",
       "02-Mar      777\n",
       ">5          128\n",
       "Name: Doors, dtype: int64"
      ]
     },
     "execution_count": 76,
     "metadata": {},
     "output_type": "execute_result"
    }
   ],
   "source": [
    "df['Doors'].value_counts()"
   ]
  },
  {
   "cell_type": "code",
   "execution_count": 77,
   "metadata": {},
   "outputs": [
    {
     "data": {
      "text/plain": [
       "4    18332\n",
       "2      777\n",
       "5      128\n",
       "Name: Doors, dtype: int64"
      ]
     },
     "execution_count": 77,
     "metadata": {},
     "output_type": "execute_result"
    }
   ],
   "source": [
    "df['Doors'] = df['Doors'].map({'04-May':'4','02-Mar':'2','>5':'5'})\n",
    "df['Doors'].value_counts()"
   ]
  },
  {
   "cell_type": "markdown",
   "metadata": {},
   "source": [
    "#### Wheel and color"
   ]
  },
  {
   "cell_type": "code",
   "execution_count": 79,
   "metadata": {},
   "outputs": [
    {
     "data": {
      "text/plain": [
       "Left wheel          17753\n",
       "Right-hand drive     1484\n",
       "Name: Wheel, dtype: int64"
      ]
     },
     "execution_count": 79,
     "metadata": {},
     "output_type": "execute_result"
    }
   ],
   "source": [
    "df['Wheel'].value_counts()"
   ]
  },
  {
   "cell_type": "code",
   "execution_count": 82,
   "metadata": {},
   "outputs": [],
   "source": [
    "df['Price'] = df['Price'].astype('float32')"
   ]
  },
  {
   "cell_type": "code",
   "execution_count": 107,
   "metadata": {},
   "outputs": [
    {
     "data": {
      "text/plain": [
       "<AxesSubplot:xlabel='price', ylabel='color'>"
      ]
     },
     "execution_count": 107,
     "metadata": {},
     "output_type": "execute_result"
    },
    {
     "data": {
      "image/png": "[encoded data removed]",
      "text/plain": [
       "<Figure size 432x288 with 1 Axes>"
      ]
     },
     "metadata": {
      "needs_background": "light"
     },
     "output_type": "display_data"
    }
   ],
   "source": [
    "sns.stripplot(data=df,y='color',x='price')"
   ]
  },
  {
   "cell_type": "code",
   "execution_count": 103,
   "metadata": {},
   "outputs": [
    {
     "name": "stderr",
     "output_type": "stream",
     "text": [
      "C:\\Users\\Anshu\\anaconda3\\lib\\site-packages\\pandas\\core\\indexing.py:1675: SettingWithCopyWarning: \n",
      "A value is trying to be set on a copy of a slice from a DataFrame.\n",
      "Try using .loc[row_indexer,col_indexer] = value instead\n",
      "\n",
      "See the caveats in the documentation: https://pandas.pydata.org/pandas-docs/stable/user_guide/indexing.html#returning-a-view-versus-a-copy\n",
      "  self._setitem_single_column(ilocs[0], value, pi)\n"
     ]
    }
   ],
   "source": [
    "df.loc[:,'logprice'] = np.log(df['Price'])"
   ]
  },
  {
   "cell_type": "code",
   "execution_count": 105,
   "metadata": {},
   "outputs": [
    {
     "data": {
      "text/plain": [
       "<seaborn.axisgrid.FacetGrid at 0x1ef68206b08>"
      ]
     },
     "execution_count": 105,
     "metadata": {},
     "output_type": "execute_result"
    },
    {
     "data": {
      "image/png": "[encoded data removed]",
      "text/plain": [
       "<Figure size 360x360 with 1 Axes>"
      ]
     },
     "metadata": {
      "needs_background": "light"
     },
     "output_type": "display_data"
    }
   ],
   "source": [
    "sns.displot(x=np.log(df.loc[df['outlier']==0]['Price']))"
   ]
  },
  {
   "cell_type": "code",
   "execution_count": 106,
   "metadata": {},
   "outputs": [
    {
     "data": {
      "text/plain": [
       "5818"
      ]
     },
     "execution_count": 106,
     "metadata": {},
     "output_type": "execute_result"
    }
   ],
   "source": [
    "df['Levy'].isnull().sum()"
   ]
  },
  {
   "cell_type": "code",
   "execution_count": null,
   "metadata": {},
   "outputs": [],
   "source": [
    "df['Levy'] = df['Levy'].fillna(1)"
   ]
  },
  {
   "cell_type": "code",
   "execution_count": 108,
   "metadata": {},
   "outputs": [
    {
     "data": {
      "text/plain": [
       "<AxesSubplot:xlabel='Levy', ylabel='Price'>"
      ]
     },
     "execution_count": 108,
     "metadata": {},
     "output_type": "execute_result"
    },
    {
     "data": {
      "image/png": "[encoded data removed]",
      "text/plain": [
       "<Figure size 432x288 with 1 Axes>"
      ]
     },
     "metadata": {
      "needs_background": "light"
     },
     "output_type": "display_data"
    }
   ],
   "source": [
    "sns.scatterplot(x=df['Levy'].fillna(1), y=df['Price'])"
   ]
  },
  {
   "cell_type": "code",
   "execution_count": 113,
   "metadata": {},
   "outputs": [
    {
     "data": {
      "text/plain": [
       "<seaborn.axisgrid.FacetGrid at 0x1ef6a2c89c8>"
      ]
     },
     "execution_count": 113,
     "metadata": {},
     "output_type": "execute_result"
    },
    {
     "data": {
      "image/png": "[encoded data removed]",
      "text/plain": [
       "<Figure size 360x360 with 1 Axes>"
      ]
     },
     "metadata": {
      "needs_background": "light"
     },
     "output_type": "display_data"
    }
   ],
   "source": [
    "sns.displot(np.log(df['Levy'].fillna(1)), bins=50)"
   ]
  },
  {
   "cell_type": "markdown",
   "metadata": {},
   "source": [
    "### 03-07-2021 -  cleaning and preprocessing"
   ]
  },
  {
   "cell_type": "markdown",
   "metadata": {},
   "source": [
    "#### First, remove null values and bring to proper format"
   ]
  },
  {
   "cell_type": "code",
   "execution_count": 149,
   "metadata": {},
   "outputs": [
    {
     "data": {
      "text/html": [
       "<div>\n",
       "<style scoped>\n",
       "    .dataframe tbody tr th:only-of-type {\n",
       "        vertical-align: middle;\n",
       "    }\n",
       "\n",
       "    .dataframe tbody tr th {\n",
       "        vertical-align: top;\n",
       "    }\n",
       "\n",
       "    .dataframe thead th {\n",
       "        text-align: right;\n",
       "    }\n",
       "</style>\n",
       "<table border=\"1\" class=\"dataframe\">\n",
       "  <thead>\n",
       "    <tr style=\"text-align: right;\">\n",
       "      <th></th>\n",
       "      <th>Levy</th>\n",
       "      <th>Manufacturer</th>\n",
       "      <th>Model</th>\n",
       "      <th>Prod. year</th>\n",
       "      <th>Category</th>\n",
       "      <th>Leather interior</th>\n",
       "      <th>Fuel type</th>\n",
       "      <th>Engine volume</th>\n",
       "      <th>Mileage</th>\n",
       "      <th>Cylinders</th>\n",
       "      <th>Gear box type</th>\n",
       "      <th>Drive wheels</th>\n",
       "      <th>Doors</th>\n",
       "      <th>Wheel</th>\n",
       "      <th>Color</th>\n",
       "      <th>Airbags</th>\n",
       "      <th>Price</th>\n",
       "    </tr>\n",
       "  </thead>\n",
       "  <tbody>\n",
       "    <tr>\n",
       "      <th>0</th>\n",
       "      <td>1399</td>\n",
       "      <td>LEXUS</td>\n",
       "      <td>RX 450</td>\n",
       "      <td>2010</td>\n",
       "      <td>Jeep</td>\n",
       "      <td>Yes</td>\n",
       "      <td>Hybrid</td>\n",
       "      <td>3.5</td>\n",
       "      <td>186005 km</td>\n",
       "      <td>6.0</td>\n",
       "      <td>Automatic</td>\n",
       "      <td>4x4</td>\n",
       "      <td>04-May</td>\n",
       "      <td>Left wheel</td>\n",
       "      <td>Silver</td>\n",
       "      <td>12</td>\n",
       "      <td>13328</td>\n",
       "    </tr>\n",
       "    <tr>\n",
       "      <th>1</th>\n",
       "      <td>1018</td>\n",
       "      <td>CHEVROLET</td>\n",
       "      <td>Equinox</td>\n",
       "      <td>2011</td>\n",
       "      <td>Jeep</td>\n",
       "      <td>No</td>\n",
       "      <td>Petrol</td>\n",
       "      <td>3</td>\n",
       "      <td>192000 km</td>\n",
       "      <td>6.0</td>\n",
       "      <td>Tiptronic</td>\n",
       "      <td>4x4</td>\n",
       "      <td>04-May</td>\n",
       "      <td>Left wheel</td>\n",
       "      <td>Black</td>\n",
       "      <td>8</td>\n",
       "      <td>16621</td>\n",
       "    </tr>\n",
       "  </tbody>\n",
       "</table>\n",
       "</div>"
      ],
      "text/plain": [
       "   Levy Manufacturer    Model  Prod. year Category Leather interior Fuel type  \\\n",
       "0  1399        LEXUS   RX 450        2010     Jeep              Yes    Hybrid   \n",
       "1  1018    CHEVROLET  Equinox        2011     Jeep               No    Petrol   \n",
       "\n",
       "  Engine volume    Mileage  Cylinders Gear box type Drive wheels   Doors  \\\n",
       "0           3.5  186005 km        6.0     Automatic          4x4  04-May   \n",
       "1             3  192000 km        6.0     Tiptronic          4x4  04-May   \n",
       "\n",
       "        Wheel   Color  Airbags  Price  \n",
       "0  Left wheel  Silver       12  13328  \n",
       "1  Left wheel   Black        8  16621  "
      ]
     },
     "execution_count": 149,
     "metadata": {},
     "output_type": "execute_result"
    }
   ],
   "source": [
    "df = pd.read_csv('train.csv')\n",
    "df = df.drop('ID', axis=1)\n",
    "dfc = df.copy()\n",
    "df.head(2)"
   ]
  },
  {
   "cell_type": "markdown",
   "metadata": {},
   "source": [
    "- bring data into correct format (remove 'Turbo', km, '-', etc)\n",
    "- study the relationship of each variable with target (visualise)\n",
    "- apply log transformation to price\n",
    "- apply box-cox transformation where required\n",
    "\n",
    "- replace the price of outliers by average price of that car in dataset"
   ]
  },
  {
   "cell_type": "code",
   "execution_count": 51,
   "metadata": {},
   "outputs": [
    {
     "data": {
      "text/plain": [
       "-       8273\n",
       "765      708\n",
       "891      665\n",
       "640      582\n",
       "639      575\n",
       "        ... \n",
       "3268       1\n",
       "1590       1\n",
       "3273       1\n",
       "3301       1\n",
       "1678       1\n",
       "Name: Levy, Length: 635, dtype: int64"
      ]
     },
     "execution_count": 51,
     "metadata": {},
     "output_type": "execute_result"
    }
   ],
   "source": [
    "dff['Levy'].value_counts()"
   ]
  },
  {
   "cell_type": "markdown",
   "metadata": {},
   "source": [
    "#### Cleaning and format correction"
   ]
  },
  {
   "cell_type": "code",
   "execution_count": 150,
   "metadata": {},
   "outputs": [
    {
     "data": {
      "text/html": [
       "<div>\n",
       "<style scoped>\n",
       "    .dataframe tbody tr th:only-of-type {\n",
       "        vertical-align: middle;\n",
       "    }\n",
       "\n",
       "    .dataframe tbody tr th {\n",
       "        vertical-align: top;\n",
       "    }\n",
       "\n",
       "    .dataframe thead th {\n",
       "        text-align: right;\n",
       "    }\n",
       "</style>\n",
       "<table border=\"1\" class=\"dataframe\">\n",
       "  <thead>\n",
       "    <tr style=\"text-align: right;\">\n",
       "      <th></th>\n",
       "      <th>levy</th>\n",
       "      <th>manufacturer</th>\n",
       "      <th>model</th>\n",
       "      <th>prod</th>\n",
       "      <th>category</th>\n",
       "      <th>leather</th>\n",
       "      <th>fuel</th>\n",
       "      <th>engine</th>\n",
       "      <th>mileage</th>\n",
       "      <th>cylinders</th>\n",
       "      <th>gear</th>\n",
       "      <th>drive</th>\n",
       "      <th>doors</th>\n",
       "      <th>wheel</th>\n",
       "      <th>color</th>\n",
       "      <th>airbags</th>\n",
       "      <th>price</th>\n",
       "    </tr>\n",
       "  </thead>\n",
       "  <tbody>\n",
       "    <tr>\n",
       "      <th>0</th>\n",
       "      <td>1399</td>\n",
       "      <td>LEXUS</td>\n",
       "      <td>RX 450</td>\n",
       "      <td>2010</td>\n",
       "      <td>Jeep</td>\n",
       "      <td>Yes</td>\n",
       "      <td>Hybrid</td>\n",
       "      <td>3.5</td>\n",
       "      <td>186005 km</td>\n",
       "      <td>6.0</td>\n",
       "      <td>Automatic</td>\n",
       "      <td>4x4</td>\n",
       "      <td>04-May</td>\n",
       "      <td>Left wheel</td>\n",
       "      <td>Silver</td>\n",
       "      <td>12</td>\n",
       "      <td>13328</td>\n",
       "    </tr>\n",
       "    <tr>\n",
       "      <th>1</th>\n",
       "      <td>1018</td>\n",
       "      <td>CHEVROLET</td>\n",
       "      <td>Equinox</td>\n",
       "      <td>2011</td>\n",
       "      <td>Jeep</td>\n",
       "      <td>No</td>\n",
       "      <td>Petrol</td>\n",
       "      <td>3</td>\n",
       "      <td>192000 km</td>\n",
       "      <td>6.0</td>\n",
       "      <td>Tiptronic</td>\n",
       "      <td>4x4</td>\n",
       "      <td>04-May</td>\n",
       "      <td>Left wheel</td>\n",
       "      <td>Black</td>\n",
       "      <td>8</td>\n",
       "      <td>16621</td>\n",
       "    </tr>\n",
       "    <tr>\n",
       "      <th>2</th>\n",
       "      <td>-</td>\n",
       "      <td>HONDA</td>\n",
       "      <td>FIT</td>\n",
       "      <td>2006</td>\n",
       "      <td>Hatchback</td>\n",
       "      <td>No</td>\n",
       "      <td>Petrol</td>\n",
       "      <td>1.3</td>\n",
       "      <td>200000 km</td>\n",
       "      <td>4.0</td>\n",
       "      <td>Variator</td>\n",
       "      <td>Front</td>\n",
       "      <td>04-May</td>\n",
       "      <td>Right-hand drive</td>\n",
       "      <td>Black</td>\n",
       "      <td>2</td>\n",
       "      <td>8467</td>\n",
       "    </tr>\n",
       "    <tr>\n",
       "      <th>3</th>\n",
       "      <td>862</td>\n",
       "      <td>FORD</td>\n",
       "      <td>Escape</td>\n",
       "      <td>2011</td>\n",
       "      <td>Jeep</td>\n",
       "      <td>Yes</td>\n",
       "      <td>Hybrid</td>\n",
       "      <td>2.5</td>\n",
       "      <td>168966 km</td>\n",
       "      <td>4.0</td>\n",
       "      <td>Automatic</td>\n",
       "      <td>4x4</td>\n",
       "      <td>04-May</td>\n",
       "      <td>Left wheel</td>\n",
       "      <td>White</td>\n",
       "      <td>0</td>\n",
       "      <td>3607</td>\n",
       "    </tr>\n",
       "    <tr>\n",
       "      <th>4</th>\n",
       "      <td>446</td>\n",
       "      <td>HONDA</td>\n",
       "      <td>FIT</td>\n",
       "      <td>2014</td>\n",
       "      <td>Hatchback</td>\n",
       "      <td>Yes</td>\n",
       "      <td>Petrol</td>\n",
       "      <td>1.3</td>\n",
       "      <td>91901 km</td>\n",
       "      <td>4.0</td>\n",
       "      <td>Automatic</td>\n",
       "      <td>Front</td>\n",
       "      <td>04-May</td>\n",
       "      <td>Left wheel</td>\n",
       "      <td>Silver</td>\n",
       "      <td>4</td>\n",
       "      <td>11726</td>\n",
       "    </tr>\n",
       "  </tbody>\n",
       "</table>\n",
       "</div>"
      ],
      "text/plain": [
       "   levy manufacturer    model  prod   category leather    fuel engine  \\\n",
       "0  1399        LEXUS   RX 450  2010       Jeep     Yes  Hybrid    3.5   \n",
       "1  1018    CHEVROLET  Equinox  2011       Jeep      No  Petrol      3   \n",
       "2     -        HONDA      FIT  2006  Hatchback      No  Petrol    1.3   \n",
       "3   862         FORD   Escape  2011       Jeep     Yes  Hybrid    2.5   \n",
       "4   446        HONDA      FIT  2014  Hatchback     Yes  Petrol    1.3   \n",
       "\n",
       "     mileage  cylinders       gear  drive   doors             wheel   color  \\\n",
       "0  186005 km        6.0  Automatic    4x4  04-May        Left wheel  Silver   \n",
       "1  192000 km        6.0  Tiptronic    4x4  04-May        Left wheel   Black   \n",
       "2  200000 km        4.0   Variator  Front  04-May  Right-hand drive   Black   \n",
       "3  168966 km        4.0  Automatic    4x4  04-May        Left wheel   White   \n",
       "4   91901 km        4.0  Automatic  Front  04-May        Left wheel  Silver   \n",
       "\n",
       "   airbags  price  \n",
       "0       12  13328  \n",
       "1        8  16621  \n",
       "2        2   8467  \n",
       "3        0   3607  \n",
       "4        4  11726  "
      ]
     },
     "execution_count": 150,
     "metadata": {},
     "output_type": "execute_result"
    }
   ],
   "source": [
    "# shortening column names\n",
    "for col in df.columns:\n",
    "#     print(col.lower().split()[0].replace('.',''))\n",
    "    new_col = col.lower().split()[0].replace('.','')\n",
    "    df[new_col] = df[col]\n",
    "    df = df.drop(col, axis=1)\n",
    "df.head()"
   ]
  },
  {
   "cell_type": "code",
   "execution_count": 91,
   "metadata": {},
   "outputs": [
    {
     "data": {
      "text/plain": [
       "-      5819\n",
       "765     486\n",
       "891     461\n",
       "Name: levy, dtype: int64"
      ]
     },
     "execution_count": 91,
     "metadata": {},
     "output_type": "execute_result"
    }
   ],
   "source": [
    "df['levy'].value_counts()[:3]"
   ]
  },
  {
   "cell_type": "code",
   "execution_count": 152,
   "metadata": {},
   "outputs": [
    {
     "data": {
      "text/plain": [
       "NaN       5819\n",
       "765.0      486\n",
       "891.0      461\n",
       "639.0      410\n",
       "640.0      405\n",
       "          ... \n",
       "997.0        1\n",
       "556.0        1\n",
       "2268.0       1\n",
       "1365.0       1\n",
       "1466.0       1\n",
       "Name: levy, Length: 555, dtype: int64"
      ]
     },
     "execution_count": 152,
     "metadata": {},
     "output_type": "execute_result"
    }
   ],
   "source": [
    "df['levy'] = df['levy'].replace('-', np.nan)\n",
    "df['levy'] = df['levy'].astype('float16')\n",
    "df['levy'].value_counts(dropna=False)"
   ]
  },
  {
   "cell_type": "code",
   "execution_count": 153,
   "metadata": {},
   "outputs": [
    {
     "data": {
      "text/plain": [
       "levy            5819\n",
       "manufacturer       0\n",
       "model              0\n",
       "prod               0\n",
       "category           0\n",
       "leather            0\n",
       "fuel               0\n",
       "engine             0\n",
       "mileage            0\n",
       "cylinders          0\n",
       "gear               0\n",
       "drive              0\n",
       "doors              0\n",
       "wheel              0\n",
       "color              0\n",
       "airbags            0\n",
       "price              0\n",
       "dtype: int64"
      ]
     },
     "execution_count": 153,
     "metadata": {},
     "output_type": "execute_result"
    }
   ],
   "source": [
    "df.isnull().sum()"
   ]
  },
  {
   "cell_type": "code",
   "execution_count": 154,
   "metadata": {},
   "outputs": [
    {
     "data": {
      "text/plain": [
       "1    13954\n",
       "0     5283\n",
       "Name: leather, dtype: int64"
      ]
     },
     "execution_count": 154,
     "metadata": {},
     "output_type": "execute_result"
    }
   ],
   "source": [
    "df['leather'] = df['leather'].map({'Yes':1, 'No':0})\n",
    "df['leather'].value_counts()"
   ]
  },
  {
   "cell_type": "code",
   "execution_count": 94,
   "metadata": {},
   "outputs": [
    {
     "data": {
      "text/html": [
       "<div>\n",
       "<style scoped>\n",
       "    .dataframe tbody tr th:only-of-type {\n",
       "        vertical-align: middle;\n",
       "    }\n",
       "\n",
       "    .dataframe tbody tr th {\n",
       "        vertical-align: top;\n",
       "    }\n",
       "\n",
       "    .dataframe thead th {\n",
       "        text-align: right;\n",
       "    }\n",
       "</style>\n",
       "<table border=\"1\" class=\"dataframe\">\n",
       "  <thead>\n",
       "    <tr style=\"text-align: right;\">\n",
       "      <th></th>\n",
       "      <th>manufacturer</th>\n",
       "      <th>model</th>\n",
       "      <th>category</th>\n",
       "      <th>fuel</th>\n",
       "      <th>engine</th>\n",
       "      <th>mileage</th>\n",
       "      <th>gear</th>\n",
       "      <th>drive</th>\n",
       "      <th>doors</th>\n",
       "      <th>wheel</th>\n",
       "      <th>color</th>\n",
       "    </tr>\n",
       "  </thead>\n",
       "  <tbody>\n",
       "    <tr>\n",
       "      <th>0</th>\n",
       "      <td>LEXUS</td>\n",
       "      <td>RX 450</td>\n",
       "      <td>Jeep</td>\n",
       "      <td>Hybrid</td>\n",
       "      <td>3.5</td>\n",
       "      <td>186005 km</td>\n",
       "      <td>Automatic</td>\n",
       "      <td>4x4</td>\n",
       "      <td>04-May</td>\n",
       "      <td>Left wheel</td>\n",
       "      <td>Silver</td>\n",
       "    </tr>\n",
       "    <tr>\n",
       "      <th>1</th>\n",
       "      <td>CHEVROLET</td>\n",
       "      <td>Equinox</td>\n",
       "      <td>Jeep</td>\n",
       "      <td>Petrol</td>\n",
       "      <td>3</td>\n",
       "      <td>192000 km</td>\n",
       "      <td>Tiptronic</td>\n",
       "      <td>4x4</td>\n",
       "      <td>04-May</td>\n",
       "      <td>Left wheel</td>\n",
       "      <td>Black</td>\n",
       "    </tr>\n",
       "    <tr>\n",
       "      <th>2</th>\n",
       "      <td>HONDA</td>\n",
       "      <td>FIT</td>\n",
       "      <td>Hatchback</td>\n",
       "      <td>Petrol</td>\n",
       "      <td>1.3</td>\n",
       "      <td>200000 km</td>\n",
       "      <td>Variator</td>\n",
       "      <td>Front</td>\n",
       "      <td>04-May</td>\n",
       "      <td>Right-hand drive</td>\n",
       "      <td>Black</td>\n",
       "    </tr>\n",
       "  </tbody>\n",
       "</table>\n",
       "</div>"
      ],
      "text/plain": [
       "  manufacturer    model   category    fuel engine    mileage       gear  \\\n",
       "0        LEXUS   RX 450       Jeep  Hybrid    3.5  186005 km  Automatic   \n",
       "1    CHEVROLET  Equinox       Jeep  Petrol      3  192000 km  Tiptronic   \n",
       "2        HONDA      FIT  Hatchback  Petrol    1.3  200000 km   Variator   \n",
       "\n",
       "   drive   doors             wheel   color  \n",
       "0    4x4  04-May        Left wheel  Silver  \n",
       "1    4x4  04-May        Left wheel   Black  \n",
       "2  Front  04-May  Right-hand drive   Black  "
      ]
     },
     "execution_count": 94,
     "metadata": {},
     "output_type": "execute_result"
    }
   ],
   "source": [
    "df.select_dtypes('object').head(3)"
   ]
  },
  {
   "cell_type": "code",
   "execution_count": 155,
   "metadata": {},
   "outputs": [
    {
     "data": {
      "text/plain": [
       "manufacturer    0\n",
       "model           0\n",
       "category        0\n",
       "fuel            0\n",
       "engine          0\n",
       "mileage         0\n",
       "gear            0\n",
       "drive           0\n",
       "doors           0\n",
       "wheel           0\n",
       "color           0\n",
       "dtype: int64"
      ]
     },
     "execution_count": 155,
     "metadata": {},
     "output_type": "execute_result"
    }
   ],
   "source": [
    "df.select_dtypes('object').isnull().sum()"
   ]
  },
  {
   "cell_type": "code",
   "execution_count": 79,
   "metadata": {},
   "outputs": [
    {
     "data": {
      "text/plain": [
       "HYUNDAI          3769\n",
       "TOYOTA           3662\n",
       "MERCEDES-BENZ    2076\n",
       "FORD             1111\n",
       "CHEVROLET        1069\n",
       "                 ... \n",
       "PONTIAC             1\n",
       "LAMBORGHINI         1\n",
       "HAVAL               1\n",
       "ASTON MARTIN        1\n",
       "GREATWALL           1\n",
       "Name: manufacturer, Length: 65, dtype: int64"
      ]
     },
     "execution_count": 79,
     "metadata": {},
     "output_type": "execute_result"
    }
   ],
   "source": [
    "df['manufacturer'].value_counts()"
   ]
  },
  {
   "cell_type": "code",
   "execution_count": 80,
   "metadata": {},
   "outputs": [
    {
     "data": {
      "text/plain": [
       "Prius                1083\n",
       "Sonata               1079\n",
       "Camry                 938\n",
       "Elantra               922\n",
       "E 350                 542\n",
       "                     ... \n",
       "Elantra Se              1\n",
       "Range Rover VOGUE       1\n",
       "Camry sport se          1\n",
       "Cruze sonic             1\n",
       "FIT RS                  1\n",
       "Name: model, Length: 1590, dtype: int64"
      ]
     },
     "execution_count": 80,
     "metadata": {},
     "output_type": "execute_result"
    }
   ],
   "source": [
    "df['model'].value_counts()"
   ]
  },
  {
   "cell_type": "code",
   "execution_count": 81,
   "metadata": {},
   "outputs": [
    {
     "data": {
      "text/plain": [
       "Sedan          8736\n",
       "Jeep           5473\n",
       "Hatchback      2847\n",
       "Minivan         647\n",
       "Coupe           532\n",
       "Universal       364\n",
       "Microbus        306\n",
       "Goods wagon     233\n",
       "Pickup           52\n",
       "Cabriolet        36\n",
       "Limousine        11\n",
       "Name: category, dtype: int64"
      ]
     },
     "execution_count": 81,
     "metadata": {},
     "output_type": "execute_result"
    }
   ],
   "source": [
    "df['category'].value_counts()"
   ]
  },
  {
   "cell_type": "code",
   "execution_count": 82,
   "metadata": {},
   "outputs": [
    {
     "data": {
      "text/plain": [
       "Petrol            10150\n",
       "Diesel             4036\n",
       "Hybrid             3578\n",
       "LPG                 892\n",
       "CNG                 494\n",
       "Plug-in Hybrid       86\n",
       "Hydrogen              1\n",
       "Name: fuel, dtype: int64"
      ]
     },
     "execution_count": 82,
     "metadata": {},
     "output_type": "execute_result"
    }
   ],
   "source": [
    "df['fuel'].value_counts()"
   ]
  },
  {
   "cell_type": "code",
   "execution_count": 95,
   "metadata": {},
   "outputs": [
    {
     "data": {
      "text/plain": [
       "array(['3.5', '3', '1.3', '2.5', '2', '1.8', '2.4', '4', '1.6', '3.3',\n",
       "       '2.0 Turbo', '2.2 Turbo', '4.7', '1.5', '4.4', '3.0 Turbo',\n",
       "       '1.4 Turbo', '3.6', '2.3', '1.5 Turbo', '1.6 Turbo', '2.2',\n",
       "       '2.3 Turbo', '1.4', '5.5', '2.8 Turbo', '3.2', '3.8', '4.6', '1.2',\n",
       "       '5', '1.7', '2.9', '0.5', '1.8 Turbo', '2.4 Turbo', '3.5 Turbo',\n",
       "       '1.9', '2.7', '4.8', '5.3', '0.4', '2.8', '3.2 Turbo', '1.1',\n",
       "       '2.1', '0.7', '5.4', '1.3 Turbo', '3.7', '1', '2.5 Turbo', '2.6',\n",
       "       '1.9 Turbo', '4.4 Turbo', '4.7 Turbo', '0.8', '0.2 Turbo', '5.7',\n",
       "       '4.8 Turbo', '4.6 Turbo', '6.7', '6.2', '1.2 Turbo', '3.4',\n",
       "       '1.7 Turbo', '6.3 Turbo', '2.7 Turbo', '4.3', '4.2', '2.9 Turbo',\n",
       "       '0', '4.0 Turbo', '20', '3.6 Turbo', '0.3', '3.7 Turbo', '5.9',\n",
       "       '5.5 Turbo', '0.2', '2.1 Turbo', '5.6', '6', '0.7 Turbo',\n",
       "       '0.6 Turbo', '6.8', '4.5', '0.6', '7.3', '0.1', '1.0 Turbo', '6.3',\n",
       "       '4.5 Turbo', '0.8 Turbo', '4.2 Turbo', '3.1', '5.0 Turbo', '6.4',\n",
       "       '3.9', '5.7 Turbo', '0.9', '0.4 Turbo', '5.4 Turbo', '0.3 Turbo',\n",
       "       '5.2', '5.8', '1.1 Turbo'], dtype=object)"
      ]
     },
     "execution_count": 95,
     "metadata": {},
     "output_type": "execute_result"
    }
   ],
   "source": [
    "df['engine'].unique()"
   ]
  },
  {
   "cell_type": "code",
   "execution_count": 101,
   "metadata": {},
   "outputs": [],
   "source": [
    "eng = df['engine']"
   ]
  },
  {
   "cell_type": "code",
   "execution_count": 102,
   "metadata": {},
   "outputs": [
    {
     "data": {
      "text/plain": [
       "0    3.5\n",
       "1      3\n",
       "2    1.3\n",
       "3    2.5\n",
       "4    1.3\n",
       "Name: engine, dtype: object"
      ]
     },
     "execution_count": 102,
     "metadata": {},
     "output_type": "execute_result"
    }
   ],
   "source": [
    "eng = eng.apply(lambda x: str(x).split()[0])\n",
    "eng.head()"
   ]
  },
  {
   "cell_type": "code",
   "execution_count": 103,
   "metadata": {},
   "outputs": [
    {
     "data": {
      "text/plain": [
       "0    3.5\n",
       "1    3.0\n",
       "2    1.3\n",
       "3    2.5\n",
       "4    1.3\n",
       "Name: engine, dtype: float64"
      ]
     },
     "execution_count": 103,
     "metadata": {},
     "output_type": "execute_result"
    }
   ],
   "source": [
    "eng = eng.apply(lambda x: round(float(x), 3))\n",
    "eng.head()"
   ]
  },
  {
   "cell_type": "code",
   "execution_count": 159,
   "metadata": {},
   "outputs": [
    {
     "data": {
      "text/plain": [
       "0    0\n",
       "1    0\n",
       "2    0\n",
       "3    0\n",
       "4    0\n",
       "Name: turbo, dtype: int64"
      ]
     },
     "execution_count": 159,
     "metadata": {},
     "output_type": "execute_result"
    }
   ],
   "source": [
    "df['turbo'] = df['engine'].apply( lambda x: 0 if x.find('Turbo') == -1 else 1)\n",
    "df['turbo'][:5]"
   ]
  },
  {
   "cell_type": "code",
   "execution_count": 160,
   "metadata": {},
   "outputs": [
    {
     "data": {
      "text/plain": [
       "0    3.5\n",
       "1    3.0\n",
       "2    1.3\n",
       "3    2.5\n",
       "4    1.3\n",
       "Name: engine, dtype: float64"
      ]
     },
     "execution_count": 160,
     "metadata": {},
     "output_type": "execute_result"
    }
   ],
   "source": [
    "df['turbo'] = df['engine'].apply( lambda x: 0 if x.find('Turbo') == -1 else 1)\n",
    "df['engine'] = df['engine'].apply(lambda x: str(x).split()[0])\n",
    "df['engine'] = df['engine'].apply(lambda x: round(float(x), 3))\n",
    "df['engine'].head()"
   ]
  },
  {
   "cell_type": "code",
   "execution_count": 105,
   "metadata": {},
   "outputs": [
    {
     "data": {
      "text/plain": [
       "2.0    4324\n",
       "2.5    2370\n",
       "1.8    1937\n",
       "1.6    1578\n",
       "1.5    1393\n",
       "       ... \n",
       "3.1       1\n",
       "0.5       1\n",
       "6.8       1\n",
       "6.7       1\n",
       "5.2       1\n",
       "Name: engine, Length: 65, dtype: int64"
      ]
     },
     "execution_count": 105,
     "metadata": {},
     "output_type": "execute_result"
    }
   ],
   "source": [
    "df['engine'].value_counts()"
   ]
  },
  {
   "cell_type": "code",
   "execution_count": 106,
   "metadata": {},
   "outputs": [
    {
     "data": {
      "text/html": [
       "<div>\n",
       "<style scoped>\n",
       "    .dataframe tbody tr th:only-of-type {\n",
       "        vertical-align: middle;\n",
       "    }\n",
       "\n",
       "    .dataframe tbody tr th {\n",
       "        vertical-align: top;\n",
       "    }\n",
       "\n",
       "    .dataframe thead th {\n",
       "        text-align: right;\n",
       "    }\n",
       "</style>\n",
       "<table border=\"1\" class=\"dataframe\">\n",
       "  <thead>\n",
       "    <tr style=\"text-align: right;\">\n",
       "      <th></th>\n",
       "      <th>manufacturer</th>\n",
       "      <th>model</th>\n",
       "      <th>category</th>\n",
       "      <th>fuel</th>\n",
       "      <th>mileage</th>\n",
       "      <th>gear</th>\n",
       "      <th>drive</th>\n",
       "      <th>doors</th>\n",
       "      <th>wheel</th>\n",
       "      <th>color</th>\n",
       "    </tr>\n",
       "  </thead>\n",
       "  <tbody>\n",
       "    <tr>\n",
       "      <th>0</th>\n",
       "      <td>LEXUS</td>\n",
       "      <td>RX 450</td>\n",
       "      <td>Jeep</td>\n",
       "      <td>Hybrid</td>\n",
       "      <td>186005 km</td>\n",
       "      <td>Automatic</td>\n",
       "      <td>4x4</td>\n",
       "      <td>04-May</td>\n",
       "      <td>Left wheel</td>\n",
       "      <td>Silver</td>\n",
       "    </tr>\n",
       "    <tr>\n",
       "      <th>1</th>\n",
       "      <td>CHEVROLET</td>\n",
       "      <td>Equinox</td>\n",
       "      <td>Jeep</td>\n",
       "      <td>Petrol</td>\n",
       "      <td>192000 km</td>\n",
       "      <td>Tiptronic</td>\n",
       "      <td>4x4</td>\n",
       "      <td>04-May</td>\n",
       "      <td>Left wheel</td>\n",
       "      <td>Black</td>\n",
       "    </tr>\n",
       "  </tbody>\n",
       "</table>\n",
       "</div>"
      ],
      "text/plain": [
       "  manufacturer    model category    fuel    mileage       gear drive   doors  \\\n",
       "0        LEXUS   RX 450     Jeep  Hybrid  186005 km  Automatic   4x4  04-May   \n",
       "1    CHEVROLET  Equinox     Jeep  Petrol  192000 km  Tiptronic   4x4  04-May   \n",
       "\n",
       "        wheel   color  \n",
       "0  Left wheel  Silver  \n",
       "1  Left wheel   Black  "
      ]
     },
     "execution_count": 106,
     "metadata": {},
     "output_type": "execute_result"
    }
   ],
   "source": [
    "df.select_dtypes('object').head(2)"
   ]
  },
  {
   "cell_type": "code",
   "execution_count": 161,
   "metadata": {},
   "outputs": [
    {
     "data": {
      "text/plain": [
       "0        186005\n",
       "1        192000\n",
       "2        200000\n",
       "3        168966\n",
       "4         91901\n",
       "          ...  \n",
       "19232    300000\n",
       "19233    161600\n",
       "19234    116365\n",
       "19235     51258\n",
       "19236    186923\n",
       "Name: mileage, Length: 19237, dtype: int32"
      ]
     },
     "execution_count": 161,
     "metadata": {},
     "output_type": "execute_result"
    }
   ],
   "source": [
    "df['mileage'] = df['mileage'].apply(lambda x: x.split()[0])\n",
    "df['mileage'] = df['mileage'].astype(int)\n",
    "df['mileage']"
   ]
  },
  {
   "cell_type": "code",
   "execution_count": 120,
   "metadata": {},
   "outputs": [
    {
     "data": {
      "text/plain": [
       "Automatic    13514\n",
       "Tiptronic     3102\n",
       "Manual        1875\n",
       "Variator       746\n",
       "Name: gear, dtype: int64"
      ]
     },
     "execution_count": 120,
     "metadata": {},
     "output_type": "execute_result"
    }
   ],
   "source": [
    "df['gear'].value_counts(dropna=False)"
   ]
  },
  {
   "cell_type": "code",
   "execution_count": 121,
   "metadata": {},
   "outputs": [
    {
     "data": {
      "text/plain": [
       "Front    12874\n",
       "4x4       4058\n",
       "Rear      2305\n",
       "Name: drive, dtype: int64"
      ]
     },
     "execution_count": 121,
     "metadata": {},
     "output_type": "execute_result"
    }
   ],
   "source": [
    "df['drive'].value_counts(dropna=False)"
   ]
  },
  {
   "cell_type": "code",
   "execution_count": 122,
   "metadata": {},
   "outputs": [
    {
     "data": {
      "text/plain": [
       "04-May    18332\n",
       "02-Mar      777\n",
       ">5          128\n",
       "Name: doors, dtype: int64"
      ]
     },
     "execution_count": 122,
     "metadata": {},
     "output_type": "execute_result"
    }
   ],
   "source": [
    "df['doors'].value_counts(dropna=False)"
   ]
  },
  {
   "cell_type": "code",
   "execution_count": 124,
   "metadata": {},
   "outputs": [
    {
     "data": {
      "text/plain": [
       "Index(['04-May', '02-Mar', '>5'], dtype='object')"
      ]
     },
     "execution_count": 124,
     "metadata": {},
     "output_type": "execute_result"
    }
   ],
   "source": [
    "df['doors'].value_counts().index"
   ]
  },
  {
   "cell_type": "code",
   "execution_count": 162,
   "metadata": {},
   "outputs": [
    {
     "data": {
      "text/plain": [
       "4    18332\n",
       "2      777\n",
       "5      128\n",
       "Name: doors, dtype: int64"
      ]
     },
     "execution_count": 162,
     "metadata": {},
     "output_type": "execute_result"
    }
   ],
   "source": [
    "df['doors'] = df['doors'].apply(lambda x: x[1:2])\n",
    "df['doors'] = df['doors'].astype('uint8')\n",
    "df['doors'].value_counts()"
   ]
  },
  {
   "cell_type": "code",
   "execution_count": 128,
   "metadata": {},
   "outputs": [
    {
     "data": {
      "text/plain": [
       "Left wheel          17753\n",
       "Right-hand drive     1484\n",
       "Name: wheel, dtype: int64"
      ]
     },
     "execution_count": 128,
     "metadata": {},
     "output_type": "execute_result"
    }
   ],
   "source": [
    "df['wheel'].value_counts()"
   ]
  },
  {
   "cell_type": "code",
   "execution_count": 163,
   "metadata": {},
   "outputs": [
    {
     "data": {
      "text/plain": [
       "left     17753\n",
       "right     1484\n",
       "Name: wheel, dtype: int64"
      ]
     },
     "execution_count": 163,
     "metadata": {},
     "output_type": "execute_result"
    }
   ],
   "source": [
    "df['wheel'] = df['wheel'].map({'Left wheel':'left', 'Right-hand drive':'right'})\n",
    "df['wheel'].value_counts()"
   ]
  },
  {
   "cell_type": "code",
   "execution_count": 130,
   "metadata": {},
   "outputs": [
    {
     "data": {
      "text/plain": [
       "Black            5033\n",
       "White            4489\n",
       "Silver           3792\n",
       "Grey             2375\n",
       "Blue             1396\n",
       "Red               639\n",
       "Green             322\n",
       "Orange            253\n",
       "Brown             187\n",
       "Carnelian red     179\n",
       "Golden            145\n",
       "Beige             134\n",
       "Sky blue          122\n",
       "Yellow            106\n",
       "Purple             39\n",
       "Pink               26\n",
       "Name: color, dtype: int64"
      ]
     },
     "execution_count": 130,
     "metadata": {},
     "output_type": "execute_result"
    }
   ],
   "source": [
    "df['color'].value_counts()"
   ]
  },
  {
   "cell_type": "code",
   "execution_count": 164,
   "metadata": {},
   "outputs": [
    {
     "data": {
      "text/html": [
       "<div>\n",
       "<style scoped>\n",
       "    .dataframe tbody tr th:only-of-type {\n",
       "        vertical-align: middle;\n",
       "    }\n",
       "\n",
       "    .dataframe tbody tr th {\n",
       "        vertical-align: top;\n",
       "    }\n",
       "\n",
       "    .dataframe thead th {\n",
       "        text-align: right;\n",
       "    }\n",
       "</style>\n",
       "<table border=\"1\" class=\"dataframe\">\n",
       "  <thead>\n",
       "    <tr style=\"text-align: right;\">\n",
       "      <th></th>\n",
       "      <th>levy</th>\n",
       "      <th>manufacturer</th>\n",
       "      <th>model</th>\n",
       "      <th>prod</th>\n",
       "      <th>category</th>\n",
       "      <th>leather</th>\n",
       "      <th>fuel</th>\n",
       "      <th>engine</th>\n",
       "      <th>mileage</th>\n",
       "      <th>cylinders</th>\n",
       "      <th>gear</th>\n",
       "      <th>drive</th>\n",
       "      <th>doors</th>\n",
       "      <th>wheel</th>\n",
       "      <th>color</th>\n",
       "      <th>airbags</th>\n",
       "      <th>price</th>\n",
       "      <th>turbo</th>\n",
       "    </tr>\n",
       "  </thead>\n",
       "  <tbody>\n",
       "    <tr>\n",
       "      <th>0</th>\n",
       "      <td>1399.0</td>\n",
       "      <td>LEXUS</td>\n",
       "      <td>RX 450</td>\n",
       "      <td>2010</td>\n",
       "      <td>Jeep</td>\n",
       "      <td>1</td>\n",
       "      <td>Hybrid</td>\n",
       "      <td>3.5</td>\n",
       "      <td>186005</td>\n",
       "      <td>6.0</td>\n",
       "      <td>Automatic</td>\n",
       "      <td>4x4</td>\n",
       "      <td>4</td>\n",
       "      <td>left</td>\n",
       "      <td>Silver</td>\n",
       "      <td>12</td>\n",
       "      <td>13328</td>\n",
       "      <td>0</td>\n",
       "    </tr>\n",
       "    <tr>\n",
       "      <th>1</th>\n",
       "      <td>1018.0</td>\n",
       "      <td>CHEVROLET</td>\n",
       "      <td>Equinox</td>\n",
       "      <td>2011</td>\n",
       "      <td>Jeep</td>\n",
       "      <td>0</td>\n",
       "      <td>Petrol</td>\n",
       "      <td>3.0</td>\n",
       "      <td>192000</td>\n",
       "      <td>6.0</td>\n",
       "      <td>Tiptronic</td>\n",
       "      <td>4x4</td>\n",
       "      <td>4</td>\n",
       "      <td>left</td>\n",
       "      <td>Black</td>\n",
       "      <td>8</td>\n",
       "      <td>16621</td>\n",
       "      <td>0</td>\n",
       "    </tr>\n",
       "    <tr>\n",
       "      <th>2</th>\n",
       "      <td>NaN</td>\n",
       "      <td>HONDA</td>\n",
       "      <td>FIT</td>\n",
       "      <td>2006</td>\n",
       "      <td>Hatchback</td>\n",
       "      <td>0</td>\n",
       "      <td>Petrol</td>\n",
       "      <td>1.3</td>\n",
       "      <td>200000</td>\n",
       "      <td>4.0</td>\n",
       "      <td>Variator</td>\n",
       "      <td>Front</td>\n",
       "      <td>4</td>\n",
       "      <td>right</td>\n",
       "      <td>Black</td>\n",
       "      <td>2</td>\n",
       "      <td>8467</td>\n",
       "      <td>0</td>\n",
       "    </tr>\n",
       "    <tr>\n",
       "      <th>3</th>\n",
       "      <td>862.0</td>\n",
       "      <td>FORD</td>\n",
       "      <td>Escape</td>\n",
       "      <td>2011</td>\n",
       "      <td>Jeep</td>\n",
       "      <td>1</td>\n",
       "      <td>Hybrid</td>\n",
       "      <td>2.5</td>\n",
       "      <td>168966</td>\n",
       "      <td>4.0</td>\n",
       "      <td>Automatic</td>\n",
       "      <td>4x4</td>\n",
       "      <td>4</td>\n",
       "      <td>left</td>\n",
       "      <td>White</td>\n",
       "      <td>0</td>\n",
       "      <td>3607</td>\n",
       "      <td>0</td>\n",
       "    </tr>\n",
       "    <tr>\n",
       "      <th>4</th>\n",
       "      <td>446.0</td>\n",
       "      <td>HONDA</td>\n",
       "      <td>FIT</td>\n",
       "      <td>2014</td>\n",
       "      <td>Hatchback</td>\n",
       "      <td>1</td>\n",
       "      <td>Petrol</td>\n",
       "      <td>1.3</td>\n",
       "      <td>91901</td>\n",
       "      <td>4.0</td>\n",
       "      <td>Automatic</td>\n",
       "      <td>Front</td>\n",
       "      <td>4</td>\n",
       "      <td>left</td>\n",
       "      <td>Silver</td>\n",
       "      <td>4</td>\n",
       "      <td>11726</td>\n",
       "      <td>0</td>\n",
       "    </tr>\n",
       "  </tbody>\n",
       "</table>\n",
       "</div>"
      ],
      "text/plain": [
       "     levy manufacturer    model  prod   category  leather    fuel  engine  \\\n",
       "0  1399.0        LEXUS   RX 450  2010       Jeep        1  Hybrid     3.5   \n",
       "1  1018.0    CHEVROLET  Equinox  2011       Jeep        0  Petrol     3.0   \n",
       "2     NaN        HONDA      FIT  2006  Hatchback        0  Petrol     1.3   \n",
       "3   862.0         FORD   Escape  2011       Jeep        1  Hybrid     2.5   \n",
       "4   446.0        HONDA      FIT  2014  Hatchback        1  Petrol     1.3   \n",
       "\n",
       "   mileage  cylinders       gear  drive  doors  wheel   color  airbags  price  \\\n",
       "0   186005        6.0  Automatic    4x4      4   left  Silver       12  13328   \n",
       "1   192000        6.0  Tiptronic    4x4      4   left   Black        8  16621   \n",
       "2   200000        4.0   Variator  Front      4  right   Black        2   8467   \n",
       "3   168966        4.0  Automatic    4x4      4   left   White        0   3607   \n",
       "4    91901        4.0  Automatic  Front      4   left  Silver        4  11726   \n",
       "\n",
       "   turbo  \n",
       "0      0  \n",
       "1      0  \n",
       "2      0  \n",
       "3      0  \n",
       "4      0  "
      ]
     },
     "execution_count": 164,
     "metadata": {},
     "output_type": "execute_result"
    }
   ],
   "source": [
    "df.head()"
   ]
  },
  {
   "cell_type": "code",
   "execution_count": 165,
   "metadata": {},
   "outputs": [
    {
     "name": "stdout",
     "output_type": "stream",
     "text": [
      "<class 'pandas.core.frame.DataFrame'>\n",
      "RangeIndex: 19237 entries, 0 to 19236\n",
      "Data columns (total 18 columns):\n",
      " #   Column        Non-Null Count  Dtype  \n",
      "---  ------        --------------  -----  \n",
      " 0   levy          13418 non-null  float16\n",
      " 1   manufacturer  19237 non-null  object \n",
      " 2   model         19237 non-null  object \n",
      " 3   prod          19237 non-null  int64  \n",
      " 4   category      19237 non-null  object \n",
      " 5   leather       19237 non-null  int64  \n",
      " 6   fuel          19237 non-null  object \n",
      " 7   engine        19237 non-null  float64\n",
      " 8   mileage       19237 non-null  int32  \n",
      " 9   cylinders     19237 non-null  float64\n",
      " 10  gear          19237 non-null  object \n",
      " 11  drive         19237 non-null  object \n",
      " 12  doors         19237 non-null  uint8  \n",
      " 13  wheel         19237 non-null  object \n",
      " 14  color         19237 non-null  object \n",
      " 15  airbags       19237 non-null  int64  \n",
      " 16  price         19237 non-null  int64  \n",
      " 17  turbo         19237 non-null  int64  \n",
      "dtypes: float16(1), float64(2), int32(1), int64(5), object(8), uint8(1)\n",
      "memory usage: 2.3+ MB\n"
     ]
    }
   ],
   "source": [
    "df.info()"
   ]
  },
  {
   "cell_type": "code",
   "execution_count": 170,
   "metadata": {},
   "outputs": [],
   "source": [
    "df.to_csv('train_cleaned.csv', index=False)"
   ]
  },
  {
   "cell_type": "code",
   "execution_count": 167,
   "metadata": {},
   "outputs": [
    {
     "data": {
      "text/plain": [
       "0                 LEXUS_RX 450\n",
       "1            CHEVROLET_Equinox\n",
       "2                    HONDA_FIT\n",
       "3                  FORD_Escape\n",
       "4                    HONDA_FIT\n",
       "                 ...          \n",
       "19232    MERCEDES-BENZ_CLK 200\n",
       "19233           HYUNDAI_Sonata\n",
       "19234           HYUNDAI_Tucson\n",
       "19235        CHEVROLET_Captiva\n",
       "19236           HYUNDAI_Sonata\n",
       "Length: 19237, dtype: object"
      ]
     },
     "execution_count": 167,
     "metadata": {},
     "output_type": "execute_result"
    }
   ],
   "source": [
    "df[['manufacturer','model']].apply(lambda x: '_'.join([str(x['manufacturer']), str(x['model'])]), \n",
    "                                   axis=1)"
   ]
  },
  {
   "cell_type": "markdown",
   "metadata": {},
   "source": [
    "### Studying relation between target and features"
   ]
  },
  {
   "cell_type": "code",
   "execution_count": 174,
   "metadata": {},
   "outputs": [],
   "source": [
    "input_cols = list(df.drop('price', axis=1).columns)\n",
    "target = 'price'"
   ]
  },
  {
   "cell_type": "code",
   "execution_count": 171,
   "metadata": {},
   "outputs": [
    {
     "data": {
      "text/html": [
       "<div>\n",
       "<style scoped>\n",
       "    .dataframe tbody tr th:only-of-type {\n",
       "        vertical-align: middle;\n",
       "    }\n",
       "\n",
       "    .dataframe tbody tr th {\n",
       "        vertical-align: top;\n",
       "    }\n",
       "\n",
       "    .dataframe thead th {\n",
       "        text-align: right;\n",
       "    }\n",
       "</style>\n",
       "<table border=\"1\" class=\"dataframe\">\n",
       "  <thead>\n",
       "    <tr style=\"text-align: right;\">\n",
       "      <th></th>\n",
       "      <th>levy</th>\n",
       "      <th>manufacturer</th>\n",
       "      <th>model</th>\n",
       "      <th>prod</th>\n",
       "      <th>category</th>\n",
       "      <th>leather</th>\n",
       "      <th>fuel</th>\n",
       "      <th>engine</th>\n",
       "      <th>mileage</th>\n",
       "      <th>cylinders</th>\n",
       "      <th>gear</th>\n",
       "      <th>drive</th>\n",
       "      <th>doors</th>\n",
       "      <th>wheel</th>\n",
       "      <th>color</th>\n",
       "      <th>airbags</th>\n",
       "      <th>price</th>\n",
       "      <th>turbo</th>\n",
       "    </tr>\n",
       "  </thead>\n",
       "  <tbody>\n",
       "    <tr>\n",
       "      <th>0</th>\n",
       "      <td>1399.0</td>\n",
       "      <td>LEXUS</td>\n",
       "      <td>RX 450</td>\n",
       "      <td>2010</td>\n",
       "      <td>Jeep</td>\n",
       "      <td>1</td>\n",
       "      <td>Hybrid</td>\n",
       "      <td>3.5</td>\n",
       "      <td>186005</td>\n",
       "      <td>6.0</td>\n",
       "      <td>Automatic</td>\n",
       "      <td>4x4</td>\n",
       "      <td>4</td>\n",
       "      <td>left</td>\n",
       "      <td>Silver</td>\n",
       "      <td>12</td>\n",
       "      <td>13328</td>\n",
       "      <td>0</td>\n",
       "    </tr>\n",
       "    <tr>\n",
       "      <th>1</th>\n",
       "      <td>1018.0</td>\n",
       "      <td>CHEVROLET</td>\n",
       "      <td>Equinox</td>\n",
       "      <td>2011</td>\n",
       "      <td>Jeep</td>\n",
       "      <td>0</td>\n",
       "      <td>Petrol</td>\n",
       "      <td>3.0</td>\n",
       "      <td>192000</td>\n",
       "      <td>6.0</td>\n",
       "      <td>Tiptronic</td>\n",
       "      <td>4x4</td>\n",
       "      <td>4</td>\n",
       "      <td>left</td>\n",
       "      <td>Black</td>\n",
       "      <td>8</td>\n",
       "      <td>16621</td>\n",
       "      <td>0</td>\n",
       "    </tr>\n",
       "  </tbody>\n",
       "</table>\n",
       "</div>"
      ],
      "text/plain": [
       "     levy manufacturer    model  prod category  leather    fuel  engine  \\\n",
       "0  1399.0        LEXUS   RX 450  2010     Jeep        1  Hybrid     3.5   \n",
       "1  1018.0    CHEVROLET  Equinox  2011     Jeep        0  Petrol     3.0   \n",
       "\n",
       "   mileage  cylinders       gear drive  doors wheel   color  airbags  price  \\\n",
       "0   186005        6.0  Automatic   4x4      4  left  Silver       12  13328   \n",
       "1   192000        6.0  Tiptronic   4x4      4  left   Black        8  16621   \n",
       "\n",
       "   turbo  \n",
       "0      0  \n",
       "1      0  "
      ]
     },
     "execution_count": 171,
     "metadata": {},
     "output_type": "execute_result"
    }
   ],
   "source": [
    "df.head(2)"
   ]
  },
  {
   "cell_type": "code",
   "execution_count": 173,
   "metadata": {},
   "outputs": [
    {
     "data": {
      "text/html": [
       "<div>\n",
       "<style scoped>\n",
       "    .dataframe tbody tr th:only-of-type {\n",
       "        vertical-align: middle;\n",
       "    }\n",
       "\n",
       "    .dataframe tbody tr th {\n",
       "        vertical-align: top;\n",
       "    }\n",
       "\n",
       "    .dataframe thead th {\n",
       "        text-align: right;\n",
       "    }\n",
       "</style>\n",
       "<table border=\"1\" class=\"dataframe\">\n",
       "  <thead>\n",
       "    <tr style=\"text-align: right;\">\n",
       "      <th></th>\n",
       "      <th>levy</th>\n",
       "      <th>manufacturer</th>\n",
       "      <th>model</th>\n",
       "      <th>prod</th>\n",
       "      <th>category</th>\n",
       "      <th>leather</th>\n",
       "      <th>fuel</th>\n",
       "      <th>engine</th>\n",
       "      <th>mileage</th>\n",
       "      <th>cylinders</th>\n",
       "      <th>gear</th>\n",
       "      <th>drive</th>\n",
       "      <th>doors</th>\n",
       "      <th>wheel</th>\n",
       "      <th>color</th>\n",
       "      <th>airbags</th>\n",
       "      <th>price</th>\n",
       "      <th>turbo</th>\n",
       "    </tr>\n",
       "  </thead>\n",
       "  <tbody>\n",
       "    <tr>\n",
       "      <th>16983</th>\n",
       "      <td>NaN</td>\n",
       "      <td>OPEL</td>\n",
       "      <td>Combo</td>\n",
       "      <td>1999</td>\n",
       "      <td>Goods wagon</td>\n",
       "      <td>0</td>\n",
       "      <td>Diesel</td>\n",
       "      <td>1.7</td>\n",
       "      <td>99999</td>\n",
       "      <td>4.0</td>\n",
       "      <td>Manual</td>\n",
       "      <td>Front</td>\n",
       "      <td>2</td>\n",
       "      <td>left</td>\n",
       "      <td>Blue</td>\n",
       "      <td>0</td>\n",
       "      <td>26307500</td>\n",
       "      <td>0</td>\n",
       "    </tr>\n",
       "    <tr>\n",
       "      <th>8541</th>\n",
       "      <td>2068.0</td>\n",
       "      <td>LAMBORGHINI</td>\n",
       "      <td>Urus</td>\n",
       "      <td>2019</td>\n",
       "      <td>Universal</td>\n",
       "      <td>1</td>\n",
       "      <td>Petrol</td>\n",
       "      <td>4.0</td>\n",
       "      <td>2531</td>\n",
       "      <td>8.0</td>\n",
       "      <td>Tiptronic</td>\n",
       "      <td>4x4</td>\n",
       "      <td>4</td>\n",
       "      <td>left</td>\n",
       "      <td>Black</td>\n",
       "      <td>0</td>\n",
       "      <td>872946</td>\n",
       "      <td>0</td>\n",
       "    </tr>\n",
       "    <tr>\n",
       "      <th>1225</th>\n",
       "      <td>NaN</td>\n",
       "      <td>MERCEDES-BENZ</td>\n",
       "      <td>G 65 AMG 63AMG</td>\n",
       "      <td>2020</td>\n",
       "      <td>Jeep</td>\n",
       "      <td>1</td>\n",
       "      <td>Petrol</td>\n",
       "      <td>6.3</td>\n",
       "      <td>0</td>\n",
       "      <td>8.0</td>\n",
       "      <td>Tiptronic</td>\n",
       "      <td>4x4</td>\n",
       "      <td>4</td>\n",
       "      <td>left</td>\n",
       "      <td>Black</td>\n",
       "      <td>12</td>\n",
       "      <td>627220</td>\n",
       "      <td>1</td>\n",
       "    </tr>\n",
       "    <tr>\n",
       "      <th>5008</th>\n",
       "      <td>1694.0</td>\n",
       "      <td>PORSCHE</td>\n",
       "      <td>911</td>\n",
       "      <td>2016</td>\n",
       "      <td>Coupe</td>\n",
       "      <td>1</td>\n",
       "      <td>Petrol</td>\n",
       "      <td>4.0</td>\n",
       "      <td>8690</td>\n",
       "      <td>6.0</td>\n",
       "      <td>Automatic</td>\n",
       "      <td>Rear</td>\n",
       "      <td>2</td>\n",
       "      <td>left</td>\n",
       "      <td>Black</td>\n",
       "      <td>12</td>\n",
       "      <td>308906</td>\n",
       "      <td>0</td>\n",
       "    </tr>\n",
       "    <tr>\n",
       "      <th>14839</th>\n",
       "      <td>NaN</td>\n",
       "      <td>LAND ROVER</td>\n",
       "      <td>Range Rover Vogue</td>\n",
       "      <td>2019</td>\n",
       "      <td>Jeep</td>\n",
       "      <td>1</td>\n",
       "      <td>Diesel</td>\n",
       "      <td>3.0</td>\n",
       "      <td>4500</td>\n",
       "      <td>8.0</td>\n",
       "      <td>Tiptronic</td>\n",
       "      <td>4x4</td>\n",
       "      <td>4</td>\n",
       "      <td>left</td>\n",
       "      <td>Black</td>\n",
       "      <td>12</td>\n",
       "      <td>297930</td>\n",
       "      <td>1</td>\n",
       "    </tr>\n",
       "  </tbody>\n",
       "</table>\n",
       "</div>"
      ],
      "text/plain": [
       "         levy   manufacturer              model  prod     category  leather  \\\n",
       "16983     NaN           OPEL              Combo  1999  Goods wagon        0   \n",
       "8541   2068.0    LAMBORGHINI               Urus  2019    Universal        1   \n",
       "1225      NaN  MERCEDES-BENZ     G 65 AMG 63AMG  2020         Jeep        1   \n",
       "5008   1694.0        PORSCHE                911  2016        Coupe        1   \n",
       "14839     NaN     LAND ROVER  Range Rover Vogue  2019         Jeep        1   \n",
       "\n",
       "         fuel  engine  mileage  cylinders       gear  drive  doors wheel  \\\n",
       "16983  Diesel     1.7    99999        4.0     Manual  Front      2  left   \n",
       "8541   Petrol     4.0     2531        8.0  Tiptronic    4x4      4  left   \n",
       "1225   Petrol     6.3        0        8.0  Tiptronic    4x4      4  left   \n",
       "5008   Petrol     4.0     8690        6.0  Automatic   Rear      2  left   \n",
       "14839  Diesel     3.0     4500        8.0  Tiptronic    4x4      4  left   \n",
       "\n",
       "       color  airbags     price  turbo  \n",
       "16983   Blue        0  26307500      0  \n",
       "8541   Black        0    872946      0  \n",
       "1225   Black       12    627220      1  \n",
       "5008   Black       12    308906      0  \n",
       "14839  Black       12    297930      1  "
      ]
     },
     "execution_count": 173,
     "metadata": {},
     "output_type": "execute_result"
    }
   ],
   "source": [
    "df.sort_values('price', ascending=False)[:5]"
   ]
  },
  {
   "cell_type": "code",
   "execution_count": 177,
   "metadata": {},
   "outputs": [
    {
     "data": {
      "text/plain": [
       "(19237, 18)"
      ]
     },
     "execution_count": 177,
     "metadata": {},
     "output_type": "execute_result"
    }
   ],
   "source": [
    "df.shape"
   ]
  },
  {
   "cell_type": "markdown",
   "metadata": {},
   "source": [
    "#### Let us drop column number 16983 because its clearly an outlier."
   ]
  },
  {
   "cell_type": "code",
   "execution_count": 178,
   "metadata": {},
   "outputs": [
    {
     "data": {
      "text/plain": [
       "(19236, 18)"
      ]
     },
     "execution_count": 178,
     "metadata": {},
     "output_type": "execute_result"
    }
   ],
   "source": [
    "df = df.drop(16983)\n",
    "df.shape"
   ]
  },
  {
   "cell_type": "code",
   "execution_count": 43,
   "metadata": {},
   "outputs": [
    {
     "data": {
      "text/plain": [
       "<AxesSubplot:xlabel='price', ylabel='manufacturer'>"
      ]
     },
     "execution_count": 43,
     "metadata": {},
     "output_type": "execute_result"
    },
    {
     "name": "stderr",
     "output_type": "stream",
     "text": [
      "C:\\Users\\Anshu\\anaconda3\\lib\\site-packages\\matplotlib\\backends\\backend_agg.py:238: RuntimeWarning: Glyph 144 missing from current font.\n",
      "  font.set_text(s, 0.0, flags=flags)\n",
      "C:\\Users\\Anshu\\anaconda3\\lib\\site-packages\\matplotlib\\backends\\backend_agg.py:201: RuntimeWarning: Glyph 144 missing from current font.\n",
      "  font.set_text(s, 0, flags=flags)\n"
     ]
    },
    {
     "data": {
      "image/png": "[encoded data removed]",
      "text/plain": [
       "<Figure size 504x936 with 1 Axes>"
      ]
     },
     "metadata": {
      "needs_background": "light"
     },
     "output_type": "display_data"
    }
   ],
   "source": [
    "plt.figure(figsize=(7,13))\n",
    "sns.stripplot(data=df, y='manufacturer', x='price')"
   ]
  },
  {
   "cell_type": "code",
   "execution_count": 185,
   "metadata": {},
   "outputs": [
    {
     "data": {
      "text/plain": [
       "HYUNDAI          3769\n",
       "TOYOTA           3662\n",
       "MERCEDES-BENZ    2076\n",
       "FORD             1111\n",
       "CHEVROLET        1069\n",
       "BMW              1049\n",
       "LEXUS             982\n",
       "HONDA             977\n",
       "NISSAN            660\n",
       "VOLKSWAGEN        579\n",
       "SSANGYONG         441\n",
       "KIA               421\n",
       "OPEL              396\n",
       "MITSUBISHI        289\n",
       "SUBARU            275\n",
       "Name: manufacturer, dtype: int64"
      ]
     },
     "execution_count": 185,
     "metadata": {},
     "output_type": "execute_result"
    }
   ],
   "source": [
    "df['manufacturer'].value_counts()[:15]"
   ]
  },
  {
   "cell_type": "markdown",
   "metadata": {},
   "source": [
    "- combine manufacturer and model\n",
    "- convert prod year to categorical\n",
    "- find age of car"
   ]
  },
  {
   "cell_type": "markdown",
   "metadata": {},
   "source": [
    "#### engine"
   ]
  },
  {
   "cell_type": "code",
   "execution_count": 44,
   "metadata": {},
   "outputs": [
    {
     "data": {
      "text/plain": [
       "<AxesSubplot:xlabel='engine', ylabel='price'>"
      ]
     },
     "execution_count": 44,
     "metadata": {},
     "output_type": "execute_result"
    },
    {
     "data": {
      "image/png": "[encoded data removed]",
      "text/plain": [
       "<Figure size 432x288 with 1 Axes>"
      ]
     },
     "metadata": {
      "needs_background": "light"
     },
     "output_type": "display_data"
    }
   ],
   "source": [
    "sns.scatterplot(data=df, x='engine', y='price')"
   ]
  },
  {
   "cell_type": "markdown",
   "metadata": {},
   "source": [
    "#### 20L engine with low price is definitely an outlier"
   ]
  },
  {
   "cell_type": "code",
   "execution_count": 190,
   "metadata": {},
   "outputs": [
    {
     "data": {
      "text/html": [
       "<div>\n",
       "<style scoped>\n",
       "    .dataframe tbody tr th:only-of-type {\n",
       "        vertical-align: middle;\n",
       "    }\n",
       "\n",
       "    .dataframe tbody tr th {\n",
       "        vertical-align: top;\n",
       "    }\n",
       "\n",
       "    .dataframe thead th {\n",
       "        text-align: right;\n",
       "    }\n",
       "</style>\n",
       "<table border=\"1\" class=\"dataframe\">\n",
       "  <thead>\n",
       "    <tr style=\"text-align: right;\">\n",
       "      <th></th>\n",
       "      <th>levy</th>\n",
       "      <th>manufacturer</th>\n",
       "      <th>model</th>\n",
       "      <th>prod</th>\n",
       "      <th>category</th>\n",
       "      <th>leather</th>\n",
       "      <th>fuel</th>\n",
       "      <th>engine</th>\n",
       "      <th>mileage</th>\n",
       "      <th>cylinders</th>\n",
       "      <th>gear</th>\n",
       "      <th>drive</th>\n",
       "      <th>doors</th>\n",
       "      <th>wheel</th>\n",
       "      <th>color</th>\n",
       "      <th>airbags</th>\n",
       "      <th>price</th>\n",
       "      <th>turbo</th>\n",
       "    </tr>\n",
       "  </thead>\n",
       "  <tbody>\n",
       "    <tr>\n",
       "      <th>17777</th>\n",
       "      <td>5604.0</td>\n",
       "      <td>HYUNDAI</td>\n",
       "      <td>Sonata</td>\n",
       "      <td>2014</td>\n",
       "      <td>Sedan</td>\n",
       "      <td>1</td>\n",
       "      <td>LPG</td>\n",
       "      <td>20.0</td>\n",
       "      <td>333686</td>\n",
       "      <td>4.0</td>\n",
       "      <td>Automatic</td>\n",
       "      <td>Front</td>\n",
       "      <td>4</td>\n",
       "      <td>left</td>\n",
       "      <td>Silver</td>\n",
       "      <td>4</td>\n",
       "      <td>10036</td>\n",
       "      <td>0</td>\n",
       "    </tr>\n",
       "    <tr>\n",
       "      <th>2357</th>\n",
       "      <td>5604.0</td>\n",
       "      <td>HYUNDAI</td>\n",
       "      <td>Sonata</td>\n",
       "      <td>2014</td>\n",
       "      <td>Sedan</td>\n",
       "      <td>1</td>\n",
       "      <td>LPG</td>\n",
       "      <td>20.0</td>\n",
       "      <td>333686</td>\n",
       "      <td>4.0</td>\n",
       "      <td>Automatic</td>\n",
       "      <td>Front</td>\n",
       "      <td>4</td>\n",
       "      <td>left</td>\n",
       "      <td>Silver</td>\n",
       "      <td>4</td>\n",
       "      <td>10036</td>\n",
       "      <td>0</td>\n",
       "    </tr>\n",
       "    <tr>\n",
       "      <th>5367</th>\n",
       "      <td>5876.0</td>\n",
       "      <td>MERCEDES-BENZ</td>\n",
       "      <td>CLK 430</td>\n",
       "      <td>2005</td>\n",
       "      <td>Cabriolet</td>\n",
       "      <td>0</td>\n",
       "      <td>Petrol</td>\n",
       "      <td>7.3</td>\n",
       "      <td>156470</td>\n",
       "      <td>12.0</td>\n",
       "      <td>Automatic</td>\n",
       "      <td>Rear</td>\n",
       "      <td>4</td>\n",
       "      <td>left</td>\n",
       "      <td>Black</td>\n",
       "      <td>12</td>\n",
       "      <td>7840</td>\n",
       "      <td>0</td>\n",
       "    </tr>\n",
       "    <tr>\n",
       "      <th>4722</th>\n",
       "      <td>2820.0</td>\n",
       "      <td>BENTLEY</td>\n",
       "      <td>Mulsanne</td>\n",
       "      <td>2016</td>\n",
       "      <td>Sedan</td>\n",
       "      <td>1</td>\n",
       "      <td>Petrol</td>\n",
       "      <td>6.8</td>\n",
       "      <td>6189</td>\n",
       "      <td>8.0</td>\n",
       "      <td>Automatic</td>\n",
       "      <td>Rear</td>\n",
       "      <td>4</td>\n",
       "      <td>left</td>\n",
       "      <td>Black</td>\n",
       "      <td>12</td>\n",
       "      <td>175622</td>\n",
       "      <td>0</td>\n",
       "    </tr>\n",
       "    <tr>\n",
       "      <th>1086</th>\n",
       "      <td>1935.0</td>\n",
       "      <td>DODGE</td>\n",
       "      <td>RAM</td>\n",
       "      <td>2014</td>\n",
       "      <td>Pickup</td>\n",
       "      <td>1</td>\n",
       "      <td>Diesel</td>\n",
       "      <td>6.7</td>\n",
       "      <td>367053</td>\n",
       "      <td>6.0</td>\n",
       "      <td>Automatic</td>\n",
       "      <td>Front</td>\n",
       "      <td>4</td>\n",
       "      <td>left</td>\n",
       "      <td>White</td>\n",
       "      <td>12</td>\n",
       "      <td>1019</td>\n",
       "      <td>0</td>\n",
       "    </tr>\n",
       "    <tr>\n",
       "      <th>...</th>\n",
       "      <td>...</td>\n",
       "      <td>...</td>\n",
       "      <td>...</td>\n",
       "      <td>...</td>\n",
       "      <td>...</td>\n",
       "      <td>...</td>\n",
       "      <td>...</td>\n",
       "      <td>...</td>\n",
       "      <td>...</td>\n",
       "      <td>...</td>\n",
       "      <td>...</td>\n",
       "      <td>...</td>\n",
       "      <td>...</td>\n",
       "      <td>...</td>\n",
       "      <td>...</td>\n",
       "      <td>...</td>\n",
       "      <td>...</td>\n",
       "      <td>...</td>\n",
       "    </tr>\n",
       "    <tr>\n",
       "      <th>2010</th>\n",
       "      <td>87.0</td>\n",
       "      <td>TESLA</td>\n",
       "      <td>Model X</td>\n",
       "      <td>2018</td>\n",
       "      <td>Sedan</td>\n",
       "      <td>1</td>\n",
       "      <td>Petrol</td>\n",
       "      <td>0.0</td>\n",
       "      <td>81907</td>\n",
       "      <td>6.0</td>\n",
       "      <td>Automatic</td>\n",
       "      <td>4x4</td>\n",
       "      <td>4</td>\n",
       "      <td>left</td>\n",
       "      <td>Silver</td>\n",
       "      <td>12</td>\n",
       "      <td>53941</td>\n",
       "      <td>0</td>\n",
       "    </tr>\n",
       "    <tr>\n",
       "      <th>3516</th>\n",
       "      <td>87.0</td>\n",
       "      <td>HYUNDAI</td>\n",
       "      <td>Elantra</td>\n",
       "      <td>2016</td>\n",
       "      <td>Sedan</td>\n",
       "      <td>1</td>\n",
       "      <td>LPG</td>\n",
       "      <td>0.0</td>\n",
       "      <td>65004</td>\n",
       "      <td>4.0</td>\n",
       "      <td>Automatic</td>\n",
       "      <td>Front</td>\n",
       "      <td>4</td>\n",
       "      <td>left</td>\n",
       "      <td>White</td>\n",
       "      <td>4</td>\n",
       "      <td>27356</td>\n",
       "      <td>0</td>\n",
       "    </tr>\n",
       "    <tr>\n",
       "      <th>12917</th>\n",
       "      <td>87.0</td>\n",
       "      <td>MERCEDES-BENZ</td>\n",
       "      <td>E 350</td>\n",
       "      <td>2016</td>\n",
       "      <td>Sedan</td>\n",
       "      <td>1</td>\n",
       "      <td>Petrol</td>\n",
       "      <td>0.0</td>\n",
       "      <td>33600</td>\n",
       "      <td>6.0</td>\n",
       "      <td>Automatic</td>\n",
       "      <td>Rear</td>\n",
       "      <td>4</td>\n",
       "      <td>left</td>\n",
       "      <td>White</td>\n",
       "      <td>12</td>\n",
       "      <td>6</td>\n",
       "      <td>0</td>\n",
       "    </tr>\n",
       "    <tr>\n",
       "      <th>17375</th>\n",
       "      <td>87.0</td>\n",
       "      <td>MERCEDES-BENZ</td>\n",
       "      <td>CLS 550</td>\n",
       "      <td>2014</td>\n",
       "      <td>Sedan</td>\n",
       "      <td>1</td>\n",
       "      <td>Petrol</td>\n",
       "      <td>0.0</td>\n",
       "      <td>92800</td>\n",
       "      <td>8.0</td>\n",
       "      <td>Automatic</td>\n",
       "      <td>Rear</td>\n",
       "      <td>4</td>\n",
       "      <td>left</td>\n",
       "      <td>Black</td>\n",
       "      <td>12</td>\n",
       "      <td>78</td>\n",
       "      <td>0</td>\n",
       "    </tr>\n",
       "    <tr>\n",
       "      <th>7685</th>\n",
       "      <td>87.0</td>\n",
       "      <td>SSANGYONG</td>\n",
       "      <td>REXTON</td>\n",
       "      <td>2016</td>\n",
       "      <td>Jeep</td>\n",
       "      <td>1</td>\n",
       "      <td>Diesel</td>\n",
       "      <td>0.0</td>\n",
       "      <td>73968</td>\n",
       "      <td>4.0</td>\n",
       "      <td>Automatic</td>\n",
       "      <td>Front</td>\n",
       "      <td>4</td>\n",
       "      <td>left</td>\n",
       "      <td>Black</td>\n",
       "      <td>4</td>\n",
       "      <td>47076</td>\n",
       "      <td>0</td>\n",
       "    </tr>\n",
       "  </tbody>\n",
       "</table>\n",
       "<p>19236 rows × 18 columns</p>\n",
       "</div>"
      ],
      "text/plain": [
       "         levy   manufacturer     model  prod   category  leather    fuel  \\\n",
       "17777  5604.0        HYUNDAI    Sonata  2014      Sedan        1     LPG   \n",
       "2357   5604.0        HYUNDAI    Sonata  2014      Sedan        1     LPG   \n",
       "5367   5876.0  MERCEDES-BENZ   CLK 430  2005  Cabriolet        0  Petrol   \n",
       "4722   2820.0        BENTLEY  Mulsanne  2016      Sedan        1  Petrol   \n",
       "1086   1935.0          DODGE       RAM  2014     Pickup        1  Diesel   \n",
       "...       ...            ...       ...   ...        ...      ...     ...   \n",
       "2010     87.0          TESLA   Model X  2018      Sedan        1  Petrol   \n",
       "3516     87.0        HYUNDAI   Elantra  2016      Sedan        1     LPG   \n",
       "12917    87.0  MERCEDES-BENZ     E 350  2016      Sedan        1  Petrol   \n",
       "17375    87.0  MERCEDES-BENZ   CLS 550  2014      Sedan        1  Petrol   \n",
       "7685     87.0      SSANGYONG    REXTON  2016       Jeep        1  Diesel   \n",
       "\n",
       "       engine  mileage  cylinders       gear  drive  doors wheel   color  \\\n",
       "17777    20.0   333686        4.0  Automatic  Front      4  left  Silver   \n",
       "2357     20.0   333686        4.0  Automatic  Front      4  left  Silver   \n",
       "5367      7.3   156470       12.0  Automatic   Rear      4  left   Black   \n",
       "4722      6.8     6189        8.0  Automatic   Rear      4  left   Black   \n",
       "1086      6.7   367053        6.0  Automatic  Front      4  left   White   \n",
       "...       ...      ...        ...        ...    ...    ...   ...     ...   \n",
       "2010      0.0    81907        6.0  Automatic    4x4      4  left  Silver   \n",
       "3516      0.0    65004        4.0  Automatic  Front      4  left   White   \n",
       "12917     0.0    33600        6.0  Automatic   Rear      4  left   White   \n",
       "17375     0.0    92800        8.0  Automatic   Rear      4  left   Black   \n",
       "7685      0.0    73968        4.0  Automatic  Front      4  left   Black   \n",
       "\n",
       "       airbags   price  turbo  \n",
       "17777        4   10036      0  \n",
       "2357         4   10036      0  \n",
       "5367        12    7840      0  \n",
       "4722        12  175622      0  \n",
       "1086        12    1019      0  \n",
       "...        ...     ...    ...  \n",
       "2010        12   53941      0  \n",
       "3516         4   27356      0  \n",
       "12917       12       6      0  \n",
       "17375       12      78      0  \n",
       "7685         4   47076      0  \n",
       "\n",
       "[19236 rows x 18 columns]"
      ]
     },
     "execution_count": 190,
     "metadata": {},
     "output_type": "execute_result"
    }
   ],
   "source": [
    "df.sort_values('engine', ascending=False)"
   ]
  },
  {
   "cell_type": "markdown",
   "metadata": {},
   "source": [
    "#### Sonata with 20L is absurd value. Try to fill it with Sonata price of same year and same spec."
   ]
  },
  {
   "cell_type": "code",
   "execution_count": 193,
   "metadata": {},
   "outputs": [
    {
     "data": {
      "text/html": [
       "<div>\n",
       "<style scoped>\n",
       "    .dataframe tbody tr th:only-of-type {\n",
       "        vertical-align: middle;\n",
       "    }\n",
       "\n",
       "    .dataframe tbody tr th {\n",
       "        vertical-align: top;\n",
       "    }\n",
       "\n",
       "    .dataframe thead th {\n",
       "        text-align: right;\n",
       "    }\n",
       "</style>\n",
       "<table border=\"1\" class=\"dataframe\">\n",
       "  <thead>\n",
       "    <tr style=\"text-align: right;\">\n",
       "      <th></th>\n",
       "      <th>levy</th>\n",
       "      <th>manufacturer</th>\n",
       "      <th>model</th>\n",
       "      <th>prod</th>\n",
       "      <th>category</th>\n",
       "      <th>leather</th>\n",
       "      <th>fuel</th>\n",
       "      <th>engine</th>\n",
       "      <th>mileage</th>\n",
       "      <th>cylinders</th>\n",
       "      <th>gear</th>\n",
       "      <th>drive</th>\n",
       "      <th>doors</th>\n",
       "      <th>wheel</th>\n",
       "      <th>color</th>\n",
       "      <th>airbags</th>\n",
       "      <th>price</th>\n",
       "      <th>turbo</th>\n",
       "    </tr>\n",
       "  </thead>\n",
       "  <tbody>\n",
       "    <tr>\n",
       "      <th>2357</th>\n",
       "      <td>5604.0</td>\n",
       "      <td>HYUNDAI</td>\n",
       "      <td>Sonata</td>\n",
       "      <td>2014</td>\n",
       "      <td>Sedan</td>\n",
       "      <td>1</td>\n",
       "      <td>LPG</td>\n",
       "      <td>20.0</td>\n",
       "      <td>333686</td>\n",
       "      <td>4.0</td>\n",
       "      <td>Automatic</td>\n",
       "      <td>Front</td>\n",
       "      <td>4</td>\n",
       "      <td>left</td>\n",
       "      <td>Silver</td>\n",
       "      <td>4</td>\n",
       "      <td>10036</td>\n",
       "      <td>0</td>\n",
       "    </tr>\n",
       "    <tr>\n",
       "      <th>17777</th>\n",
       "      <td>5604.0</td>\n",
       "      <td>HYUNDAI</td>\n",
       "      <td>Sonata</td>\n",
       "      <td>2014</td>\n",
       "      <td>Sedan</td>\n",
       "      <td>1</td>\n",
       "      <td>LPG</td>\n",
       "      <td>20.0</td>\n",
       "      <td>333686</td>\n",
       "      <td>4.0</td>\n",
       "      <td>Automatic</td>\n",
       "      <td>Front</td>\n",
       "      <td>4</td>\n",
       "      <td>left</td>\n",
       "      <td>Silver</td>\n",
       "      <td>4</td>\n",
       "      <td>10036</td>\n",
       "      <td>0</td>\n",
       "    </tr>\n",
       "    <tr>\n",
       "      <th>3252</th>\n",
       "      <td>NaN</td>\n",
       "      <td>HYUNDAI</td>\n",
       "      <td>Sonata</td>\n",
       "      <td>2006</td>\n",
       "      <td>Sedan</td>\n",
       "      <td>1</td>\n",
       "      <td>LPG</td>\n",
       "      <td>3.3</td>\n",
       "      <td>243200</td>\n",
       "      <td>6.0</td>\n",
       "      <td>Tiptronic</td>\n",
       "      <td>Front</td>\n",
       "      <td>4</td>\n",
       "      <td>left</td>\n",
       "      <td>Black</td>\n",
       "      <td>10</td>\n",
       "      <td>10036</td>\n",
       "      <td>0</td>\n",
       "    </tr>\n",
       "    <tr>\n",
       "      <th>18</th>\n",
       "      <td>2386.0</td>\n",
       "      <td>HYUNDAI</td>\n",
       "      <td>Sonata</td>\n",
       "      <td>2006</td>\n",
       "      <td>Sedan</td>\n",
       "      <td>1</td>\n",
       "      <td>Petrol</td>\n",
       "      <td>3.3</td>\n",
       "      <td>295059</td>\n",
       "      <td>6.0</td>\n",
       "      <td>Automatic</td>\n",
       "      <td>Rear</td>\n",
       "      <td>4</td>\n",
       "      <td>left</td>\n",
       "      <td>Blue</td>\n",
       "      <td>12</td>\n",
       "      <td>549</td>\n",
       "      <td>0</td>\n",
       "    </tr>\n",
       "    <tr>\n",
       "      <th>5431</th>\n",
       "      <td>1292.0</td>\n",
       "      <td>HYUNDAI</td>\n",
       "      <td>Sonata</td>\n",
       "      <td>2016</td>\n",
       "      <td>Sedan</td>\n",
       "      <td>1</td>\n",
       "      <td>LPG</td>\n",
       "      <td>3.0</td>\n",
       "      <td>153616</td>\n",
       "      <td>4.0</td>\n",
       "      <td>Automatic</td>\n",
       "      <td>Front</td>\n",
       "      <td>4</td>\n",
       "      <td>left</td>\n",
       "      <td>Silver</td>\n",
       "      <td>4</td>\n",
       "      <td>26262</td>\n",
       "      <td>0</td>\n",
       "    </tr>\n",
       "    <tr>\n",
       "      <th>9481</th>\n",
       "      <td>751.0</td>\n",
       "      <td>HYUNDAI</td>\n",
       "      <td>Sonata</td>\n",
       "      <td>2013</td>\n",
       "      <td>Sedan</td>\n",
       "      <td>1</td>\n",
       "      <td>Hybrid</td>\n",
       "      <td>2.4</td>\n",
       "      <td>126690</td>\n",
       "      <td>4.0</td>\n",
       "      <td>Automatic</td>\n",
       "      <td>Front</td>\n",
       "      <td>4</td>\n",
       "      <td>left</td>\n",
       "      <td>Silver</td>\n",
       "      <td>0</td>\n",
       "      <td>2744</td>\n",
       "      <td>0</td>\n",
       "    </tr>\n",
       "    <tr>\n",
       "      <th>10383</th>\n",
       "      <td>749.0</td>\n",
       "      <td>HYUNDAI</td>\n",
       "      <td>Sonata</td>\n",
       "      <td>2014</td>\n",
       "      <td>Sedan</td>\n",
       "      <td>1</td>\n",
       "      <td>Petrol</td>\n",
       "      <td>2.4</td>\n",
       "      <td>173925</td>\n",
       "      <td>4.0</td>\n",
       "      <td>Automatic</td>\n",
       "      <td>Front</td>\n",
       "      <td>4</td>\n",
       "      <td>left</td>\n",
       "      <td>Silver</td>\n",
       "      <td>12</td>\n",
       "      <td>282</td>\n",
       "      <td>0</td>\n",
       "    </tr>\n",
       "    <tr>\n",
       "      <th>10348</th>\n",
       "      <td>NaN</td>\n",
       "      <td>HYUNDAI</td>\n",
       "      <td>Sonata</td>\n",
       "      <td>2011</td>\n",
       "      <td>Sedan</td>\n",
       "      <td>1</td>\n",
       "      <td>Petrol</td>\n",
       "      <td>2.4</td>\n",
       "      <td>174400</td>\n",
       "      <td>4.0</td>\n",
       "      <td>Automatic</td>\n",
       "      <td>Front</td>\n",
       "      <td>4</td>\n",
       "      <td>left</td>\n",
       "      <td>Black</td>\n",
       "      <td>0</td>\n",
       "      <td>15053</td>\n",
       "      <td>0</td>\n",
       "    </tr>\n",
       "    <tr>\n",
       "      <th>10213</th>\n",
       "      <td>751.0</td>\n",
       "      <td>HYUNDAI</td>\n",
       "      <td>Sonata</td>\n",
       "      <td>2013</td>\n",
       "      <td>Sedan</td>\n",
       "      <td>1</td>\n",
       "      <td>Petrol</td>\n",
       "      <td>2.4</td>\n",
       "      <td>216118</td>\n",
       "      <td>4.0</td>\n",
       "      <td>Automatic</td>\n",
       "      <td>Front</td>\n",
       "      <td>4</td>\n",
       "      <td>left</td>\n",
       "      <td>Grey</td>\n",
       "      <td>12</td>\n",
       "      <td>549</td>\n",
       "      <td>0</td>\n",
       "    </tr>\n",
       "    <tr>\n",
       "      <th>10123</th>\n",
       "      <td>753.0</td>\n",
       "      <td>HYUNDAI</td>\n",
       "      <td>Sonata</td>\n",
       "      <td>2012</td>\n",
       "      <td>Sedan</td>\n",
       "      <td>1</td>\n",
       "      <td>Petrol</td>\n",
       "      <td>2.4</td>\n",
       "      <td>215266</td>\n",
       "      <td>4.0</td>\n",
       "      <td>Automatic</td>\n",
       "      <td>Front</td>\n",
       "      <td>4</td>\n",
       "      <td>left</td>\n",
       "      <td>Grey</td>\n",
       "      <td>12</td>\n",
       "      <td>941</td>\n",
       "      <td>0</td>\n",
       "    </tr>\n",
       "  </tbody>\n",
       "</table>\n",
       "</div>"
      ],
      "text/plain": [
       "         levy manufacturer   model  prod category  leather    fuel  engine  \\\n",
       "2357   5604.0      HYUNDAI  Sonata  2014    Sedan        1     LPG    20.0   \n",
       "17777  5604.0      HYUNDAI  Sonata  2014    Sedan        1     LPG    20.0   \n",
       "3252      NaN      HYUNDAI  Sonata  2006    Sedan        1     LPG     3.3   \n",
       "18     2386.0      HYUNDAI  Sonata  2006    Sedan        1  Petrol     3.3   \n",
       "5431   1292.0      HYUNDAI  Sonata  2016    Sedan        1     LPG     3.0   \n",
       "9481    751.0      HYUNDAI  Sonata  2013    Sedan        1  Hybrid     2.4   \n",
       "10383   749.0      HYUNDAI  Sonata  2014    Sedan        1  Petrol     2.4   \n",
       "10348     NaN      HYUNDAI  Sonata  2011    Sedan        1  Petrol     2.4   \n",
       "10213   751.0      HYUNDAI  Sonata  2013    Sedan        1  Petrol     2.4   \n",
       "10123   753.0      HYUNDAI  Sonata  2012    Sedan        1  Petrol     2.4   \n",
       "\n",
       "       mileage  cylinders       gear  drive  doors wheel   color  airbags  \\\n",
       "2357    333686        4.0  Automatic  Front      4  left  Silver        4   \n",
       "17777   333686        4.0  Automatic  Front      4  left  Silver        4   \n",
       "3252    243200        6.0  Tiptronic  Front      4  left   Black       10   \n",
       "18      295059        6.0  Automatic   Rear      4  left    Blue       12   \n",
       "5431    153616        4.0  Automatic  Front      4  left  Silver        4   \n",
       "9481    126690        4.0  Automatic  Front      4  left  Silver        0   \n",
       "10383   173925        4.0  Automatic  Front      4  left  Silver       12   \n",
       "10348   174400        4.0  Automatic  Front      4  left   Black        0   \n",
       "10213   216118        4.0  Automatic  Front      4  left    Grey       12   \n",
       "10123   215266        4.0  Automatic  Front      4  left    Grey       12   \n",
       "\n",
       "       price  turbo  \n",
       "2357   10036      0  \n",
       "17777  10036      0  \n",
       "3252   10036      0  \n",
       "18       549      0  \n",
       "5431   26262      0  \n",
       "9481    2744      0  \n",
       "10383    282      0  \n",
       "10348  15053      0  \n",
       "10213    549      0  \n",
       "10123    941      0  "
      ]
     },
     "execution_count": 193,
     "metadata": {},
     "output_type": "execute_result"
    }
   ],
   "source": [
    "df.loc[df['model'] =='Sonata'].sort_values('engine', ascending=False).head(10)"
   ]
  },
  {
   "cell_type": "markdown",
   "metadata": {},
   "source": [
    "### function to do Splitting, imputing, one_hot_encoding, preparing for modelling"
   ]
  },
  {
   "cell_type": "code",
   "execution_count": null,
   "metadata": {},
   "outputs": [],
   "source": [
    "def carprice_transform(df, istest=False)    \n",
    "    # MARKING INPUT AND TARGET COLUMNS\n",
    "    input_cols = df.drop(['price','logprice'], axis=1).columns\n",
    "    price = df['price']\n",
    "    logprice = df['logprice']\n",
    "\n",
    "    # SPLITTING INTO TRAIN AND VAL\n",
    "    from sklearn.model_selection import train_test_split\n",
    "    train_inputs, val_inputs, train_targets, val_targets = train_test_split(df[input_cols],\n",
    "                                                                           df['price'],\n",
    "                                                                           test_size=0.3)\n",
    "    # NUMERIC IMPUTATION\n",
    "    numeric_cols = list(train_inputs.select_dtypes(include = np.number).columns)\n",
    "    categorical_cols = list(train_inputs.select_dtypes('object').columns)\n",
    "\n",
    "    from sklearn.impute import SimpleImputer\n",
    "    num_imputer = SimpleImputer(strategy='mean')\n",
    "\n",
    "    num_imputer.fit(train_inputs[numeric_cols])\n",
    "\n",
    "    train_inputs[numeric_cols] = num_imputer.transform(train_inputs[numeric_cols])\n",
    "    val_inputs[numeric_cols] = num_imputer.transform(val_inputs[numeric_cols])\n",
    "\n",
    "\n",
    "    # CATEGORICAL IMPUTATION\n",
    "    train_inputs[categorical_cols] = train_inputs[categorical_cols].fillna('Unknown')\n",
    "\n",
    "    # ONE-HOT ENCODING CATEGORICAL DATA\n",
    "    from sklearn.preprocessing import OneHotEncoder\n",
    "\n",
    "    one_hot = OneHotEncoder(sparse=False, handle_unknown='ignore')\n",
    "    one_hot.fit(df[categorical_cols])\n",
    "    encoded_cols = list(one_hot.get_feature_names(categorical_cols))\n",
    "\n",
    "    train_inputs[encoded_cols] = one_hot.transform(train_inputs[categorical_cols])\n",
    "    val_inputs[encoded_cols] = one_hot.transform(val_inputs[categorical_cols])\n",
    "\n",
    "    # GETTING FINAL TRAIN DATA\n",
    "    x_train = train_inputs[numeric_cols+encoded_cols]\n",
    "    x_val = val_inputs[numeric_cols+encoded_cols]"
   ]
  },
  {
   "cell_type": "markdown",
   "metadata": {},
   "source": [
    "### function to do intitial preprocessing"
   ]
  },
  {
   "cell_type": "code",
   "execution_count": 83,
   "metadata": {},
   "outputs": [],
   "source": [
    "def carprice_transform_train(df):\n",
    "    # MARKING INPUT AND TARGET COLUMNS\n",
    "    input_cols = df.drop(['price','logprice'], axis=1).columns\n",
    "    price = df['price']\n",
    "    logprice = df['logprice']\n",
    "\n",
    "    # SPLITTING INTO TRAIN AND VAL\n",
    "    from sklearn.model_selection import train_test_split\n",
    "    train_inputs, val_inputs, train_targets, val_targets = train_test_split(df[input_cols],\n",
    "                                                                           df['price'],\n",
    "                                                                           test_size=0.3)\n",
    "    # NUMERIC IMPUTATION\n",
    "    numeric_cols = list(train_inputs.select_dtypes(include = np.number).columns)\n",
    "    categorical_cols = list(train_inputs.select_dtypes('object').columns)\n",
    "\n",
    "    from sklearn.impute import SimpleImputer\n",
    "    num_imputer = SimpleImputer(strategy='mean')\n",
    "\n",
    "    num_imputer.fit(train_inputs[numeric_cols])\n",
    "\n",
    "    train_inputs[numeric_cols] = num_imputer.transform(train_inputs[numeric_cols])\n",
    "    val_inputs[numeric_cols] = num_imputer.transform(val_inputs[numeric_cols])\n",
    "\n",
    "\n",
    "    # CATEGORICAL IMPUTATION\n",
    "    train_inputs[categorical_cols] = train_inputs[categorical_cols].fillna('Unknown')\n",
    "\n",
    "    # ONE-HOT ENCODING CATEGORICAL DATA\n",
    "    from sklearn.preprocessing import OneHotEncoder\n",
    "\n",
    "    one_hot = OneHotEncoder(sparse=False, handle_unknown='ignore')\n",
    "    one_hot.fit(df[categorical_cols])\n",
    "    encoded_cols = list(one_hot.get_feature_names(categorical_cols))\n",
    "\n",
    "    train_inputs[encoded_cols] = one_hot.transform(train_inputs[categorical_cols])\n",
    "    val_inputs[encoded_cols] = one_hot.transform(val_inputs[categorical_cols])\n",
    "\n",
    "    # GETTING FINAL TRAIN DATA\n",
    "    x_train = train_inputs[numeric_cols+encoded_cols]\n",
    "    x_val = val_inputs[numeric_cols+encoded_cols]\n",
    "\n",
    "    return x_train, x_val, train_targets, val_targets\n",
    "\n",
    "# def carprice_transform_test(df, num_imputer=num_imputer, one_hot=one_hot):\n",
    "#     pass\n",
    "\n",
    "def carprice_preprocess(df, istest=False):\n",
    "    # READ, DROP ID\n",
    "    df = df.drop('ID', axis=1)\n",
    "    dfc= df.copy()\n",
    "    # SHORTENING COLUMN NAMES\n",
    "    for col in df.columns:\n",
    "        new_col = col.lower().split()[0].replace('.','')\n",
    "        df[new_col] = df[col]\n",
    "        df = df.drop(col, axis=1)\n",
    "\n",
    "    # LEVY COLUMN\n",
    "    df['levy'] = df['levy'].replace('-', np.nan)\n",
    "    df['levy'] = df['levy'].astype('float16')\n",
    "\n",
    "    # LEATHER\n",
    "    df['leather'] = df['leather'].map({'Yes':1, 'No':0})\n",
    "\n",
    "    # Engine-TURBO\n",
    "    df['turbo'] = df['engine'].apply( lambda x: 0 if x.find('Turbo') == -1 else 1)\n",
    "    df['engine'] = df['engine'].apply(lambda x: str(x).split()[0])\n",
    "    df['engine'] = df['engine'].apply(lambda x: round(float(x), 3))\n",
    "\n",
    "    # MILEAGE\n",
    "    df['mileage'] = df['mileage'].apply(lambda x: x.split()[0])\n",
    "    df['mileage'] = df['mileage'].astype(int)\n",
    "\n",
    "    # DOORS\n",
    "    df['doors'] = df['doors'].apply(lambda x: x[1:2])\n",
    "    df['doors'] = df['doors'].astype('uint8')\n",
    "\n",
    "    # WHEEL\n",
    "    df['wheel'] = df['wheel'].map({'Left wheel':'left', 'Right-hand drive':'right'})\n",
    "    \n",
    "    # TRANSFORM PRICE, ONLY FOR TRAIN\n",
    "    if istest == False:\n",
    "        df = get_logprice(df)\n",
    "        df = df.dropna()\n",
    "        \n",
    "    return df\n",
    "def get_logprice(df):\n",
    "    # GETTING LOG PRICE\n",
    "    price = df.pop('price')\n",
    "    df['price'] = price  # to have 'price' column at the end\n",
    "    df['logprice'] = np.log(df['price'])\n",
    "    return df"
   ]
  },
  {
   "cell_type": "code",
   "execution_count": 68,
   "metadata": {},
   "outputs": [],
   "source": [
    "dftest = pd.read_csv('test.csv')"
   ]
  },
  {
   "cell_type": "markdown",
   "metadata": {},
   "source": [
    "### function to try out various estimators, after preprocessing and splitting"
   ]
  },
  {
   "cell_type": "code",
   "execution_count": null,
   "metadata": {},
   "outputs": [],
   "source": [
    "def fit_predict(x_train=x_train, train_targets=train_targets, x_val=x_val, \n",
    "                val_targets=val_targets, estimator=model):\n",
    "    estimator.fit(x_train, train_targets)\n",
    "    \n",
    "    train_preds = estimator.predict(x_train)\n",
    "    val_preds = estimator.predict(x_val)\n",
    "\n",
    "    from sklearn.metrics import mean_squared_log_error\n",
    "    \n",
    "    train_error = np.sqrt(mean_squared_log_error(train_targets, train_preds))\n",
    "    val_error = np.sqrt(mean_squared_log_error(val_targets, val_preds))\n",
    "    \n",
    "    \n",
    "    print('Train RMSLE:', train_error)\n",
    "    print('Val RMSLE:', val_error)"
   ]
  },
  {
   "cell_type": "markdown",
   "metadata": {},
   "source": [
    "### Taking a look at test data, comparing with train data"
   ]
  },
  {
   "cell_type": "code",
   "execution_count": 92,
   "metadata": {},
   "outputs": [],
   "source": [
    "df = pd.read_csv('train.csv')\n",
    "df = carprice_preprocess(df)\n",
    "x_train, x_val, train_targets, val_targets = carprice_transform_train(df)"
   ]
  },
  {
   "cell_type": "code",
   "execution_count": 93,
   "metadata": {},
   "outputs": [
    {
     "data": {
      "text/plain": [
       "((13465, 1707), (5772, 1707), (13465,), (5772,))"
      ]
     },
     "execution_count": 93,
     "metadata": {},
     "output_type": "execute_result"
    }
   ],
   "source": [
    "x_train.shape, x_val.shape, train_targets.shape, val_targets.shape"
   ]
  },
  {
   "cell_type": "code",
   "execution_count": 99,
   "metadata": {},
   "outputs": [
    {
     "data": {
      "text/html": [
       "<div>\n",
       "<style scoped>\n",
       "    .dataframe tbody tr th:only-of-type {\n",
       "        vertical-align: middle;\n",
       "    }\n",
       "\n",
       "    .dataframe tbody tr th {\n",
       "        vertical-align: top;\n",
       "    }\n",
       "\n",
       "    .dataframe thead th {\n",
       "        text-align: right;\n",
       "    }\n",
       "</style>\n",
       "<table border=\"1\" class=\"dataframe\">\n",
       "  <thead>\n",
       "    <tr style=\"text-align: right;\">\n",
       "      <th></th>\n",
       "      <th>levy</th>\n",
       "      <th>manufacturer</th>\n",
       "      <th>model</th>\n",
       "      <th>prod</th>\n",
       "      <th>category</th>\n",
       "      <th>leather</th>\n",
       "      <th>fuel</th>\n",
       "      <th>engine</th>\n",
       "      <th>mileage</th>\n",
       "      <th>cylinders</th>\n",
       "      <th>gear</th>\n",
       "      <th>drive</th>\n",
       "      <th>doors</th>\n",
       "      <th>wheel</th>\n",
       "      <th>color</th>\n",
       "      <th>airbags</th>\n",
       "      <th>price</th>\n",
       "      <th>turbo</th>\n",
       "    </tr>\n",
       "  </thead>\n",
       "  <tbody>\n",
       "    <tr>\n",
       "      <th>0</th>\n",
       "      <td>NaN</td>\n",
       "      <td>VOLKSWAGEN</td>\n",
       "      <td>Golf</td>\n",
       "      <td>2012</td>\n",
       "      <td>Hatchback</td>\n",
       "      <td>0</td>\n",
       "      <td>Diesel</td>\n",
       "      <td>2.0</td>\n",
       "      <td>0</td>\n",
       "      <td>4</td>\n",
       "      <td>Manual</td>\n",
       "      <td>Front</td>\n",
       "      <td>2</td>\n",
       "      <td>left</td>\n",
       "      <td>Grey</td>\n",
       "      <td>10</td>\n",
       "      <td>NaN</td>\n",
       "      <td>1</td>\n",
       "    </tr>\n",
       "    <tr>\n",
       "      <th>1</th>\n",
       "      <td>NaN</td>\n",
       "      <td>HYUNDAI</td>\n",
       "      <td>Sonata</td>\n",
       "      <td>2012</td>\n",
       "      <td>Sedan</td>\n",
       "      <td>1</td>\n",
       "      <td>Petrol</td>\n",
       "      <td>2.4</td>\n",
       "      <td>26000</td>\n",
       "      <td>4</td>\n",
       "      <td>Tiptronic</td>\n",
       "      <td>Front</td>\n",
       "      <td>4</td>\n",
       "      <td>left</td>\n",
       "      <td>Grey</td>\n",
       "      <td>10</td>\n",
       "      <td>NaN</td>\n",
       "      <td>0</td>\n",
       "    </tr>\n",
       "  </tbody>\n",
       "</table>\n",
       "</div>"
      ],
      "text/plain": [
       "   levy manufacturer   model  prod   category  leather    fuel  engine  \\\n",
       "0   NaN   VOLKSWAGEN    Golf  2012  Hatchback        0  Diesel     2.0   \n",
       "1   NaN      HYUNDAI  Sonata  2012      Sedan        1  Petrol     2.4   \n",
       "\n",
       "   mileage  cylinders       gear  drive  doors wheel color  airbags  price  \\\n",
       "0        0          4     Manual  Front      2  left  Grey       10    NaN   \n",
       "1    26000          4  Tiptronic  Front      4  left  Grey       10    NaN   \n",
       "\n",
       "   turbo  \n",
       "0      1  \n",
       "1      0  "
      ]
     },
     "execution_count": 99,
     "metadata": {},
     "output_type": "execute_result"
    }
   ],
   "source": [
    "dftest = pd.read_csv('test.csv')\n",
    "dftest = carprice_preprocess(dftest, istest=True)\n",
    "dftest.head(2)"
   ]
  },
  {
   "cell_type": "code",
   "execution_count": 108,
   "metadata": {},
   "outputs": [
    {
     "data": {
      "text/plain": [
       "2454"
      ]
     },
     "execution_count": 108,
     "metadata": {},
     "output_type": "execute_result"
    }
   ],
   "source": [
    "dftest['levy'].isna().sum()"
   ]
  },
  {
   "cell_type": "code",
   "execution_count": 103,
   "metadata": {},
   "outputs": [
    {
     "data": {
      "text/plain": [
       "<seaborn.axisgrid.FacetGrid at 0x14103b4f548>"
      ]
     },
     "execution_count": 103,
     "metadata": {},
     "output_type": "execute_result"
    },
    {
     "data": {
      "image/png": "[encoded data removed]",
      "text/plain": [
       "<Figure size 360x360 with 1 Axes>"
      ]
     },
     "metadata": {
      "needs_background": "light"
     },
     "output_type": "display_data"
    }
   ],
   "source": [
    "sns.displot(dftest['levy'].fillna(1))"
   ]
  },
  {
   "cell_type": "markdown",
   "metadata": {},
   "source": [
    "### test-manufacturer"
   ]
  },
  {
   "cell_type": "code",
   "execution_count": 123,
   "metadata": {},
   "outputs": [
    {
     "data": {
      "text/html": [
       "<div>\n",
       "<style scoped>\n",
       "    .dataframe tbody tr th:only-of-type {\n",
       "        vertical-align: middle;\n",
       "    }\n",
       "\n",
       "    .dataframe tbody tr th {\n",
       "        vertical-align: top;\n",
       "    }\n",
       "\n",
       "    .dataframe thead th {\n",
       "        text-align: right;\n",
       "    }\n",
       "</style>\n",
       "<table border=\"1\" class=\"dataframe\">\n",
       "  <thead>\n",
       "    <tr style=\"text-align: right;\">\n",
       "      <th></th>\n",
       "      <th>levy</th>\n",
       "      <th>manufacturer</th>\n",
       "      <th>model</th>\n",
       "      <th>prod</th>\n",
       "      <th>category</th>\n",
       "      <th>leather</th>\n",
       "      <th>fuel</th>\n",
       "      <th>engine</th>\n",
       "      <th>mileage</th>\n",
       "      <th>cylinders</th>\n",
       "      <th>gear</th>\n",
       "      <th>drive</th>\n",
       "      <th>doors</th>\n",
       "      <th>wheel</th>\n",
       "      <th>color</th>\n",
       "      <th>airbags</th>\n",
       "      <th>turbo</th>\n",
       "      <th>price</th>\n",
       "      <th>logprice</th>\n",
       "    </tr>\n",
       "  </thead>\n",
       "  <tbody>\n",
       "  </tbody>\n",
       "</table>\n",
       "</div>"
      ],
      "text/plain": [
       "Empty DataFrame\n",
       "Columns: [levy, manufacturer, model, prod, category, leather, fuel, engine, mileage, cylinders, gear, drive, doors, wheel, color, airbags, turbo, price, logprice]\n",
       "Index: []"
      ]
     },
     "execution_count": 123,
     "metadata": {},
     "output_type": "execute_result"
    }
   ],
   "source": [
    "df.loc[df['manufacturer'] == 'TATA']"
   ]
  },
  {
   "cell_type": "code",
   "execution_count": 121,
   "metadata": {},
   "outputs": [
    {
     "data": {
      "text/plain": [
       "{'FOTON', 'MG', 'TATA'}"
      ]
     },
     "execution_count": 121,
     "metadata": {},
     "output_type": "execute_result"
    }
   ],
   "source": [
    "set(df['manufacturer'].unique()) - set(dftest['manufacturer'].unique())\n",
    "set(dftest['manufacturer'].unique()) - set(df['manufacturer'].unique())"
   ]
  },
  {
   "cell_type": "markdown",
   "metadata": {},
   "source": [
    "### test-model"
   ]
  },
  {
   "cell_type": "code",
   "execution_count": null,
   "metadata": {},
   "outputs": [],
   "source": [
    "set(dftest['manufacturer'].unique()) - set(df['manufacturer'].unique())"
   ]
  },
  {
   "cell_type": "code",
   "execution_count": 129,
   "metadata": {},
   "outputs": [
    {
     "data": {
      "text/plain": [
       "391"
      ]
     },
     "execution_count": 129,
     "metadata": {},
     "output_type": "execute_result"
    }
   ],
   "source": [
    "len(set(dftest['model'].unique()) - set(df['model'].unique()))"
   ]
  },
  {
   "cell_type": "markdown",
   "metadata": {},
   "source": [
    "### Need to take full train+test for proper categorical embedding"
   ]
  },
  {
   "cell_type": "markdown",
   "metadata": {},
   "source": [
    "### test-prod"
   ]
  },
  {
   "cell_type": "code",
   "execution_count": 131,
   "metadata": {},
   "outputs": [
    {
     "data": {
      "text/plain": [
       "<seaborn.axisgrid.FacetGrid at 0x1410d188bc8>"
      ]
     },
     "execution_count": 131,
     "metadata": {},
     "output_type": "execute_result"
    },
    {
     "data": {
      "image/png": "[encoded data removed]",
      "text/plain": [
       "<Figure size 360x360 with 1 Axes>"
      ]
     },
     "metadata": {
      "needs_background": "light"
     },
     "output_type": "display_data"
    }
   ],
   "source": [
    "sns.displot(dftest['prod'])"
   ]
  },
  {
   "cell_type": "markdown",
   "metadata": {},
   "source": [
    "### test-category"
   ]
  },
  {
   "cell_type": "code",
   "execution_count": 135,
   "metadata": {},
   "outputs": [
    {
     "data": {
      "text/plain": [
       "0"
      ]
     },
     "execution_count": 135,
     "metadata": {},
     "output_type": "execute_result"
    }
   ],
   "source": [
    "len(set(dftest['category'].unique()) - set(df['category'].unique()))"
   ]
  },
  {
   "cell_type": "code",
   "execution_count": null,
   "metadata": {},
   "outputs": [],
   "source": []
  },
  {
   "cell_type": "code",
   "execution_count": null,
   "metadata": {},
   "outputs": [],
   "source": []
  },
  {
   "cell_type": "markdown",
   "metadata": {},
   "source": [
    "### Need to drop duplicate columns"
   ]
  },
  {
   "cell_type": "code",
   "execution_count": 48,
   "metadata": {},
   "outputs": [
    {
     "data": {
      "text/html": [
       "<div>\n",
       "<style scoped>\n",
       "    .dataframe tbody tr th:only-of-type {\n",
       "        vertical-align: middle;\n",
       "    }\n",
       "\n",
       "    .dataframe tbody tr th {\n",
       "        vertical-align: top;\n",
       "    }\n",
       "\n",
       "    .dataframe thead th {\n",
       "        text-align: right;\n",
       "    }\n",
       "</style>\n",
       "<table border=\"1\" class=\"dataframe\">\n",
       "  <thead>\n",
       "    <tr style=\"text-align: right;\">\n",
       "      <th></th>\n",
       "      <th>levy</th>\n",
       "      <th>manufacturer</th>\n",
       "      <th>model</th>\n",
       "      <th>prod</th>\n",
       "      <th>category</th>\n",
       "      <th>leather</th>\n",
       "      <th>fuel</th>\n",
       "      <th>engine</th>\n",
       "      <th>mileage</th>\n",
       "      <th>cylinders</th>\n",
       "      <th>gear</th>\n",
       "      <th>drive</th>\n",
       "      <th>doors</th>\n",
       "      <th>wheel</th>\n",
       "      <th>color</th>\n",
       "      <th>airbags</th>\n",
       "      <th>price</th>\n",
       "      <th>turbo</th>\n",
       "      <th>logprice</th>\n",
       "    </tr>\n",
       "  </thead>\n",
       "  <tbody>\n",
       "    <tr>\n",
       "      <th>0</th>\n",
       "      <td>1399.0</td>\n",
       "      <td>LEXUS</td>\n",
       "      <td>RX 450</td>\n",
       "      <td>2010</td>\n",
       "      <td>Jeep</td>\n",
       "      <td>1</td>\n",
       "      <td>Hybrid</td>\n",
       "      <td>3.5</td>\n",
       "      <td>186005</td>\n",
       "      <td>6.0</td>\n",
       "      <td>Automatic</td>\n",
       "      <td>4x4</td>\n",
       "      <td>4</td>\n",
       "      <td>left</td>\n",
       "      <td>Silver</td>\n",
       "      <td>12</td>\n",
       "      <td>13328</td>\n",
       "      <td>0</td>\n",
       "      <td>9.497622</td>\n",
       "    </tr>\n",
       "    <tr>\n",
       "      <th>1</th>\n",
       "      <td>1018.0</td>\n",
       "      <td>CHEVROLET</td>\n",
       "      <td>Equinox</td>\n",
       "      <td>2011</td>\n",
       "      <td>Jeep</td>\n",
       "      <td>0</td>\n",
       "      <td>Petrol</td>\n",
       "      <td>3.0</td>\n",
       "      <td>192000</td>\n",
       "      <td>6.0</td>\n",
       "      <td>Tiptronic</td>\n",
       "      <td>4x4</td>\n",
       "      <td>4</td>\n",
       "      <td>left</td>\n",
       "      <td>Black</td>\n",
       "      <td>8</td>\n",
       "      <td>16621</td>\n",
       "      <td>0</td>\n",
       "      <td>9.718422</td>\n",
       "    </tr>\n",
       "  </tbody>\n",
       "</table>\n",
       "</div>"
      ],
      "text/plain": [
       "     levy manufacturer    model  prod category  leather    fuel  engine  \\\n",
       "0  1399.0        LEXUS   RX 450  2010     Jeep        1  Hybrid     3.5   \n",
       "1  1018.0    CHEVROLET  Equinox  2011     Jeep        0  Petrol     3.0   \n",
       "\n",
       "   mileage  cylinders       gear drive  doors wheel   color  airbags  price  \\\n",
       "0   186005        6.0  Automatic   4x4      4  left  Silver       12  13328   \n",
       "1   192000        6.0  Tiptronic   4x4      4  left   Black        8  16621   \n",
       "\n",
       "   turbo  logprice  \n",
       "0      0  9.497622  \n",
       "1      0  9.718422  "
      ]
     },
     "execution_count": 48,
     "metadata": {},
     "output_type": "execute_result"
    }
   ],
   "source": [
    "clean = pd.read_csv('train_cleaned.csv')\n",
    "clean = clean.drop('Unnamed: 0', axis=1)\n",
    "clean.head(2)"
   ]
  },
  {
   "cell_type": "code",
   "execution_count": 55,
   "metadata": {},
   "outputs": [
    {
     "data": {
      "text/plain": [
       "(19237, 19)"
      ]
     },
     "execution_count": 55,
     "metadata": {},
     "output_type": "execute_result"
    }
   ],
   "source": [
    "df.shape"
   ]
  },
  {
   "cell_type": "code",
   "execution_count": 56,
   "metadata": {},
   "outputs": [],
   "source": [
    "df.to_csv('train_cleaned_full.csv', index=False)"
   ]
  },
  {
   "cell_type": "code",
   "execution_count": 27,
   "metadata": {},
   "outputs": [
    {
     "data": {
      "text/plain": [
       "(3512, 3512)"
      ]
     },
     "execution_count": 27,
     "metadata": {},
     "output_type": "execute_result"
    }
   ],
   "source": [
    "clean.duplicated().sum(), df.duplicated().sum()"
   ]
  },
  {
   "cell_type": "code",
   "execution_count": 28,
   "metadata": {},
   "outputs": [],
   "source": [
    "clean = clean.drop_duplicates()\n",
    "df = df.drop_duplicates()"
   ]
  },
  {
   "cell_type": "code",
   "execution_count": 29,
   "metadata": {},
   "outputs": [
    {
     "data": {
      "text/plain": [
       "((15724, 19), (15725, 19))"
      ]
     },
     "execution_count": 29,
     "metadata": {},
     "output_type": "execute_result"
    }
   ],
   "source": [
    "clean.shape, df.shape"
   ]
  },
  {
   "cell_type": "code",
   "execution_count": 50,
   "metadata": {},
   "outputs": [
    {
     "data": {
      "text/plain": [
       "(19236, 19)"
      ]
     },
     "execution_count": 50,
     "metadata": {},
     "output_type": "execute_result"
    }
   ],
   "source": [
    "clean.shape"
   ]
  },
  {
   "cell_type": "code",
   "execution_count": 49,
   "metadata": {},
   "outputs": [
    {
     "data": {
      "text/plain": [
       "(38473, 19)"
      ]
     },
     "execution_count": 49,
     "metadata": {},
     "output_type": "execute_result"
    }
   ],
   "source": [
    "dff = pd.concat([clean, df], ignore_index=True)\n",
    "dff.shape"
   ]
  },
  {
   "cell_type": "code",
   "execution_count": 51,
   "metadata": {},
   "outputs": [
    {
     "data": {
      "text/plain": [
       "20289"
      ]
     },
     "execution_count": 51,
     "metadata": {},
     "output_type": "execute_result"
    }
   ],
   "source": [
    "dff.duplicated().sum()"
   ]
  },
  {
   "cell_type": "code",
   "execution_count": 52,
   "metadata": {},
   "outputs": [
    {
     "data": {
      "text/plain": [
       "16777"
      ]
     },
     "execution_count": 52,
     "metadata": {},
     "output_type": "execute_result"
    }
   ],
   "source": [
    "20289 - 3512"
   ]
  },
  {
   "cell_type": "code",
   "execution_count": null,
   "metadata": {},
   "outputs": [],
   "source": []
  },
  {
   "cell_type": "markdown",
   "metadata": {},
   "source": [
    "### Isolation forest for outlier removal"
   ]
  },
  {
   "cell_type": "markdown",
   "metadata": {},
   "source": [
    "### 07-07-2021"
   ]
  },
  {
   "cell_type": "code",
   "execution_count": 69,
   "metadata": {},
   "outputs": [
    {
     "data": {
      "text/plain": [
       "(19236, 18)"
      ]
     },
     "execution_count": 69,
     "metadata": {},
     "output_type": "execute_result"
    }
   ],
   "source": [
    "# df = pd.read_csv('train_cleaned.csv')\n",
    "# df['levy'] = df['levy'].fillna(df['levy'].mean())\n",
    "# dfc = df.copy()\n",
    "df.shape"
   ]
  },
  {
   "cell_type": "code",
   "execution_count": 70,
   "metadata": {},
   "outputs": [
    {
     "data": {
      "text/html": [
       "<div>\n",
       "<style scoped>\n",
       "    .dataframe tbody tr th:only-of-type {\n",
       "        vertical-align: middle;\n",
       "    }\n",
       "\n",
       "    .dataframe tbody tr th {\n",
       "        vertical-align: top;\n",
       "    }\n",
       "\n",
       "    .dataframe thead th {\n",
       "        text-align: right;\n",
       "    }\n",
       "</style>\n",
       "<table border=\"1\" class=\"dataframe\">\n",
       "  <thead>\n",
       "    <tr style=\"text-align: right;\">\n",
       "      <th></th>\n",
       "      <th>levy</th>\n",
       "      <th>manufacturer</th>\n",
       "      <th>model</th>\n",
       "      <th>prod</th>\n",
       "      <th>category</th>\n",
       "      <th>leather</th>\n",
       "      <th>fuel</th>\n",
       "      <th>engine</th>\n",
       "      <th>mileage</th>\n",
       "      <th>cylinders</th>\n",
       "      <th>gear</th>\n",
       "      <th>drive</th>\n",
       "      <th>doors</th>\n",
       "      <th>wheel</th>\n",
       "      <th>color</th>\n",
       "      <th>airbags</th>\n",
       "      <th>price</th>\n",
       "      <th>turbo</th>\n",
       "    </tr>\n",
       "  </thead>\n",
       "  <tbody>\n",
       "    <tr>\n",
       "      <th>0</th>\n",
       "      <td>1399.0</td>\n",
       "      <td>LEXUS</td>\n",
       "      <td>RX 450</td>\n",
       "      <td>2010</td>\n",
       "      <td>Jeep</td>\n",
       "      <td>1</td>\n",
       "      <td>Hybrid</td>\n",
       "      <td>3.5</td>\n",
       "      <td>186005</td>\n",
       "      <td>6</td>\n",
       "      <td>Automatic</td>\n",
       "      <td>4x4</td>\n",
       "      <td>4</td>\n",
       "      <td>left</td>\n",
       "      <td>Silver</td>\n",
       "      <td>12</td>\n",
       "      <td>9.497622</td>\n",
       "      <td>0</td>\n",
       "    </tr>\n",
       "    <tr>\n",
       "      <th>1</th>\n",
       "      <td>1018.0</td>\n",
       "      <td>CHEVROLET</td>\n",
       "      <td>Equinox</td>\n",
       "      <td>2011</td>\n",
       "      <td>Jeep</td>\n",
       "      <td>0</td>\n",
       "      <td>Petrol</td>\n",
       "      <td>3.0</td>\n",
       "      <td>192000</td>\n",
       "      <td>6</td>\n",
       "      <td>Tiptronic</td>\n",
       "      <td>4x4</td>\n",
       "      <td>4</td>\n",
       "      <td>left</td>\n",
       "      <td>Black</td>\n",
       "      <td>8</td>\n",
       "      <td>9.718422</td>\n",
       "      <td>0</td>\n",
       "    </tr>\n",
       "  </tbody>\n",
       "</table>\n",
       "</div>"
      ],
      "text/plain": [
       "     levy manufacturer    model  prod category  leather    fuel  engine  \\\n",
       "0  1399.0        LEXUS   RX 450  2010     Jeep        1  Hybrid     3.5   \n",
       "1  1018.0    CHEVROLET  Equinox  2011     Jeep        0  Petrol     3.0   \n",
       "\n",
       "   mileage  cylinders       gear drive  doors wheel   color  airbags  \\\n",
       "0   186005          6  Automatic   4x4      4  left  Silver       12   \n",
       "1   192000          6  Tiptronic   4x4      4  left   Black        8   \n",
       "\n",
       "      price  turbo  \n",
       "0  9.497622      0  \n",
       "1  9.718422      0  "
      ]
     },
     "execution_count": 70,
     "metadata": {},
     "output_type": "execute_result"
    }
   ],
   "source": [
    "df.head(2)"
   ]
  },
  {
   "cell_type": "code",
   "execution_count": 47,
   "metadata": {},
   "outputs": [],
   "source": [
    "from sklearn.model_selection import train_test_split"
   ]
  },
  {
   "cell_type": "code",
   "execution_count": 71,
   "metadata": {},
   "outputs": [],
   "source": [
    "from sklearn.ensemble import IsolationForest\n",
    "from sklearn.preprocessing import OneHotEncoder\n",
    "from sklearn.preprocessing import MinMaxScaler\n",
    "from sklearn.impute import SimpleImputer"
   ]
  },
  {
   "cell_type": "code",
   "execution_count": 72,
   "metadata": {},
   "outputs": [
    {
     "data": {
      "text/plain": [
       "5818"
      ]
     },
     "execution_count": 72,
     "metadata": {},
     "output_type": "execute_result"
    }
   ],
   "source": [
    "df.isna().sum().sum()"
   ]
  },
  {
   "cell_type": "code",
   "execution_count": 108,
   "metadata": {},
   "outputs": [
    {
     "data": {
      "text/plain": [
       "(19236, 19)"
      ]
     },
     "execution_count": 108,
     "metadata": {},
     "output_type": "execute_result"
    }
   ],
   "source": [
    "price = df.pop('price')\n",
    "df.shape"
   ]
  },
  {
   "cell_type": "code",
   "execution_count": 53,
   "metadata": {},
   "outputs": [
    {
     "data": {
      "text/html": [
       "<div>\n",
       "<style scoped>\n",
       "    .dataframe tbody tr th:only-of-type {\n",
       "        vertical-align: middle;\n",
       "    }\n",
       "\n",
       "    .dataframe tbody tr th {\n",
       "        vertical-align: top;\n",
       "    }\n",
       "\n",
       "    .dataframe thead th {\n",
       "        text-align: right;\n",
       "    }\n",
       "</style>\n",
       "<table border=\"1\" class=\"dataframe\">\n",
       "  <thead>\n",
       "    <tr style=\"text-align: right;\">\n",
       "      <th></th>\n",
       "      <th>levy</th>\n",
       "      <th>manufacturer</th>\n",
       "      <th>model</th>\n",
       "      <th>prod</th>\n",
       "      <th>category</th>\n",
       "      <th>leather</th>\n",
       "      <th>fuel</th>\n",
       "      <th>engine</th>\n",
       "      <th>mileage</th>\n",
       "      <th>cylinders</th>\n",
       "      <th>gear</th>\n",
       "      <th>drive</th>\n",
       "      <th>doors</th>\n",
       "      <th>wheel</th>\n",
       "      <th>color</th>\n",
       "      <th>airbags</th>\n",
       "      <th>turbo</th>\n",
       "    </tr>\n",
       "  </thead>\n",
       "  <tbody>\n",
       "    <tr>\n",
       "      <th>0</th>\n",
       "      <td>1399.0</td>\n",
       "      <td>LEXUS</td>\n",
       "      <td>RX 450</td>\n",
       "      <td>2010</td>\n",
       "      <td>Jeep</td>\n",
       "      <td>1</td>\n",
       "      <td>Hybrid</td>\n",
       "      <td>3.5</td>\n",
       "      <td>186005</td>\n",
       "      <td>6</td>\n",
       "      <td>Automatic</td>\n",
       "      <td>4x4</td>\n",
       "      <td>4</td>\n",
       "      <td>left</td>\n",
       "      <td>Silver</td>\n",
       "      <td>12</td>\n",
       "      <td>0</td>\n",
       "    </tr>\n",
       "    <tr>\n",
       "      <th>1</th>\n",
       "      <td>1018.0</td>\n",
       "      <td>CHEVROLET</td>\n",
       "      <td>Equinox</td>\n",
       "      <td>2011</td>\n",
       "      <td>Jeep</td>\n",
       "      <td>0</td>\n",
       "      <td>Petrol</td>\n",
       "      <td>3.0</td>\n",
       "      <td>192000</td>\n",
       "      <td>6</td>\n",
       "      <td>Tiptronic</td>\n",
       "      <td>4x4</td>\n",
       "      <td>4</td>\n",
       "      <td>left</td>\n",
       "      <td>Black</td>\n",
       "      <td>8</td>\n",
       "      <td>0</td>\n",
       "    </tr>\n",
       "  </tbody>\n",
       "</table>\n",
       "</div>"
      ],
      "text/plain": [
       "     levy manufacturer    model  prod category  leather    fuel  engine  \\\n",
       "0  1399.0        LEXUS   RX 450  2010     Jeep        1  Hybrid     3.5   \n",
       "1  1018.0    CHEVROLET  Equinox  2011     Jeep        0  Petrol     3.0   \n",
       "\n",
       "   mileage  cylinders       gear drive  doors wheel   color  airbags  turbo  \n",
       "0   186005          6  Automatic   4x4      4  left  Silver       12      0  \n",
       "1   192000          6  Tiptronic   4x4      4  left   Black        8      0  "
      ]
     },
     "execution_count": 53,
     "metadata": {},
     "output_type": "execute_result"
    }
   ],
   "source": [
    "df.head(2)"
   ]
  },
  {
   "cell_type": "code",
   "execution_count": 74,
   "metadata": {},
   "outputs": [],
   "source": [
    "numeric_cols = list(df.select_dtypes(include=np.number).columns)\n",
    "categorical_cols = list(df.select_dtypes('object').columns)"
   ]
  },
  {
   "cell_type": "code",
   "execution_count": 75,
   "metadata": {},
   "outputs": [
    {
     "data": {
      "text/plain": [
       "['manufacturer', 'model']"
      ]
     },
     "execution_count": 75,
     "metadata": {},
     "output_type": "execute_result"
    }
   ],
   "source": [
    "categorical_cols[:2]"
   ]
  },
  {
   "cell_type": "code",
   "execution_count": 76,
   "metadata": {},
   "outputs": [
    {
     "data": {
      "text/html": [
       "<div>\n",
       "<style scoped>\n",
       "    .dataframe tbody tr th:only-of-type {\n",
       "        vertical-align: middle;\n",
       "    }\n",
       "\n",
       "    .dataframe tbody tr th {\n",
       "        vertical-align: top;\n",
       "    }\n",
       "\n",
       "    .dataframe thead th {\n",
       "        text-align: right;\n",
       "    }\n",
       "</style>\n",
       "<table border=\"1\" class=\"dataframe\">\n",
       "  <thead>\n",
       "    <tr style=\"text-align: right;\">\n",
       "      <th></th>\n",
       "      <th>levy</th>\n",
       "      <th>prod</th>\n",
       "      <th>leather</th>\n",
       "      <th>engine</th>\n",
       "      <th>mileage</th>\n",
       "      <th>cylinders</th>\n",
       "      <th>doors</th>\n",
       "      <th>airbags</th>\n",
       "      <th>turbo</th>\n",
       "    </tr>\n",
       "  </thead>\n",
       "  <tbody>\n",
       "    <tr>\n",
       "      <th>0</th>\n",
       "      <td>1399.0</td>\n",
       "      <td>2010</td>\n",
       "      <td>1</td>\n",
       "      <td>3.5</td>\n",
       "      <td>186005</td>\n",
       "      <td>6</td>\n",
       "      <td>4</td>\n",
       "      <td>12</td>\n",
       "      <td>0</td>\n",
       "    </tr>\n",
       "    <tr>\n",
       "      <th>1</th>\n",
       "      <td>1018.0</td>\n",
       "      <td>2011</td>\n",
       "      <td>0</td>\n",
       "      <td>3.0</td>\n",
       "      <td>192000</td>\n",
       "      <td>6</td>\n",
       "      <td>4</td>\n",
       "      <td>8</td>\n",
       "      <td>0</td>\n",
       "    </tr>\n",
       "  </tbody>\n",
       "</table>\n",
       "</div>"
      ],
      "text/plain": [
       "     levy  prod  leather  engine  mileage  cylinders  doors  airbags  turbo\n",
       "0  1399.0  2010        1     3.5   186005          6      4       12      0\n",
       "1  1018.0  2011        0     3.0   192000          6      4        8      0"
      ]
     },
     "execution_count": 76,
     "metadata": {},
     "output_type": "execute_result"
    }
   ],
   "source": [
    "df[numeric_cols].head(2)"
   ]
  },
  {
   "cell_type": "code",
   "execution_count": 57,
   "metadata": {},
   "outputs": [
    {
     "data": {
      "text/html": [
       "<div>\n",
       "<style scoped>\n",
       "    .dataframe tbody tr th:only-of-type {\n",
       "        vertical-align: middle;\n",
       "    }\n",
       "\n",
       "    .dataframe tbody tr th {\n",
       "        vertical-align: top;\n",
       "    }\n",
       "\n",
       "    .dataframe thead th {\n",
       "        text-align: right;\n",
       "    }\n",
       "</style>\n",
       "<table border=\"1\" class=\"dataframe\">\n",
       "  <thead>\n",
       "    <tr style=\"text-align: right;\">\n",
       "      <th></th>\n",
       "      <th>manufacturer</th>\n",
       "      <th>model</th>\n",
       "      <th>category</th>\n",
       "      <th>fuel</th>\n",
       "      <th>gear</th>\n",
       "      <th>drive</th>\n",
       "      <th>wheel</th>\n",
       "      <th>color</th>\n",
       "    </tr>\n",
       "  </thead>\n",
       "  <tbody>\n",
       "    <tr>\n",
       "      <th>0</th>\n",
       "      <td>LEXUS</td>\n",
       "      <td>RX 450</td>\n",
       "      <td>Jeep</td>\n",
       "      <td>Hybrid</td>\n",
       "      <td>Automatic</td>\n",
       "      <td>4x4</td>\n",
       "      <td>left</td>\n",
       "      <td>Silver</td>\n",
       "    </tr>\n",
       "    <tr>\n",
       "      <th>1</th>\n",
       "      <td>CHEVROLET</td>\n",
       "      <td>Equinox</td>\n",
       "      <td>Jeep</td>\n",
       "      <td>Petrol</td>\n",
       "      <td>Tiptronic</td>\n",
       "      <td>4x4</td>\n",
       "      <td>left</td>\n",
       "      <td>Black</td>\n",
       "    </tr>\n",
       "  </tbody>\n",
       "</table>\n",
       "</div>"
      ],
      "text/plain": [
       "  manufacturer    model category    fuel       gear drive wheel   color\n",
       "0        LEXUS   RX 450     Jeep  Hybrid  Automatic   4x4  left  Silver\n",
       "1    CHEVROLET  Equinox     Jeep  Petrol  Tiptronic   4x4  left   Black"
      ]
     },
     "execution_count": 57,
     "metadata": {},
     "output_type": "execute_result"
    }
   ],
   "source": [
    "df[categorical_cols].head(2)"
   ]
  },
  {
   "cell_type": "code",
   "execution_count": 77,
   "metadata": {},
   "outputs": [],
   "source": [
    "scaler = MinMaxScaler()\n",
    "scaler.fit(df[numeric_cols])\n",
    "df[numeric_cols] = scaler.transform(df[numeric_cols])\n",
    "\n",
    "imputer = SimpleImputer(strategy = 'median')\n",
    "df[numeric_cols] = imputer.fit_transform(df[numeric_cols])"
   ]
  },
  {
   "cell_type": "code",
   "execution_count": 78,
   "metadata": {},
   "outputs": [
    {
     "data": {
      "text/plain": [
       "(19236, 1707)"
      ]
     },
     "execution_count": 78,
     "metadata": {},
     "output_type": "execute_result"
    }
   ],
   "source": [
    "# USING PANDAS GET_DUMMIES\n",
    "dff = pd.concat([df[numeric_cols], pd.get_dummies(df[categorical_cols])],axis=1)\n",
    "dff.shape"
   ]
  },
  {
   "cell_type": "code",
   "execution_count": 79,
   "metadata": {},
   "outputs": [
    {
     "data": {
      "text/html": [
       "<div>\n",
       "<style scoped>\n",
       "    .dataframe tbody tr th:only-of-type {\n",
       "        vertical-align: middle;\n",
       "    }\n",
       "\n",
       "    .dataframe tbody tr th {\n",
       "        vertical-align: top;\n",
       "    }\n",
       "\n",
       "    .dataframe thead th {\n",
       "        text-align: right;\n",
       "    }\n",
       "</style>\n",
       "<table border=\"1\" class=\"dataframe\">\n",
       "  <thead>\n",
       "    <tr style=\"text-align: right;\">\n",
       "      <th></th>\n",
       "      <th>levy</th>\n",
       "      <th>prod</th>\n",
       "      <th>leather</th>\n",
       "      <th>engine</th>\n",
       "      <th>mileage</th>\n",
       "      <th>cylinders</th>\n",
       "      <th>doors</th>\n",
       "      <th>airbags</th>\n",
       "      <th>turbo</th>\n",
       "    </tr>\n",
       "  </thead>\n",
       "  <tbody>\n",
       "    <tr>\n",
       "      <th>0</th>\n",
       "      <td>0.11288</td>\n",
       "      <td>0.876543</td>\n",
       "      <td>1.0</td>\n",
       "      <td>0.175</td>\n",
       "      <td>0.000087</td>\n",
       "      <td>0.333333</td>\n",
       "      <td>0.666667</td>\n",
       "      <td>0.75</td>\n",
       "      <td>0.0</td>\n",
       "    </tr>\n",
       "    <tr>\n",
       "      <th>1</th>\n",
       "      <td>0.08010</td>\n",
       "      <td>0.888889</td>\n",
       "      <td>0.0</td>\n",
       "      <td>0.150</td>\n",
       "      <td>0.000089</td>\n",
       "      <td>0.333333</td>\n",
       "      <td>0.666667</td>\n",
       "      <td>0.50</td>\n",
       "      <td>0.0</td>\n",
       "    </tr>\n",
       "  </tbody>\n",
       "</table>\n",
       "</div>"
      ],
      "text/plain": [
       "      levy      prod  leather  engine   mileage  cylinders     doors  airbags  \\\n",
       "0  0.11288  0.876543      1.0   0.175  0.000087   0.333333  0.666667     0.75   \n",
       "1  0.08010  0.888889      0.0   0.150  0.000089   0.333333  0.666667     0.50   \n",
       "\n",
       "   turbo  \n",
       "0    0.0  \n",
       "1    0.0  "
      ]
     },
     "execution_count": 79,
     "metadata": {},
     "output_type": "execute_result"
    }
   ],
   "source": [
    "dff.select_dtypes('float64').head(2)"
   ]
  },
  {
   "cell_type": "code",
   "execution_count": 80,
   "metadata": {},
   "outputs": [
    {
     "data": {
      "text/plain": [
       "levy              0\n",
       "prod              0\n",
       "leather           0\n",
       "engine            0\n",
       "mileage           0\n",
       "                 ..\n",
       "color_Red         0\n",
       "color_Silver      0\n",
       "color_Sky blue    0\n",
       "color_White       0\n",
       "color_Yellow      0\n",
       "Length: 1707, dtype: int64"
      ]
     },
     "execution_count": 80,
     "metadata": {},
     "output_type": "execute_result"
    }
   ],
   "source": [
    "dff.isna().sum().sum()"
   ]
  },
  {
   "cell_type": "code",
   "execution_count": 144,
   "metadata": {},
   "outputs": [],
   "source": [
    "def isolation_forest_outliers(df, contamination = 0.1):\n",
    "    dff = df.copy()\n",
    "    price_ = dff.pop('price')\n",
    "    numeric_cols = list(dff.select_dtypes(include=np.number).columns)\n",
    "    categorical_cols = list(dff.select_dtypes('object').columns)\n",
    "    scaler = MinMaxScaler()\n",
    "    scaler.fit(dff[numeric_cols])\n",
    "    df[numeric_cols] = scaler.transform(dff[numeric_cols])\n",
    "\n",
    "    imputer = SimpleImputer(strategy = 'median')\n",
    "    dff[numeric_cols] = imputer.fit_transform(dff[numeric_cols])\n",
    "    \n",
    "    dff = pd.concat([dff[numeric_cols], pd.get_dummies(dff[categorical_cols])],axis=1)\n",
    "    \n",
    "    is_forest = IsolationForest(contamination = contamination)\n",
    "    is_forest.fit(dff.values)\n",
    "    preds = is_forest.predict(dff.values)\n",
    "    scores = is_forest.score_samples(dff.values)\n",
    "    \n",
    "    dff['ifscores'] = scores\n",
    "    dff['ifinlier'] = preds\n",
    "    dff['ifinlier'] = dff['ifinlier'].map({1:True,-1:False})\n",
    "    \n",
    "    return dff['ifinlier'].values\n",
    "\n",
    "def if_outliers(df, contamination = 0.1):\n",
    "    dff = df.copy()\n",
    "    is_forest = IsolationForest(contamination = contamination)\n",
    "    is_forest.fit(dff.values)\n",
    "    preds = is_forest.predict(dff.values)\n",
    "    scores = is_forest.score_samples(dff.values)\n",
    "    \n",
    "    dff['ifscores'] = scores\n",
    "    dff['ifinlier'] = preds\n",
    "    dff['ifinlier'] = dff['ifinlier'].map({1:True,-1:False})\n",
    "    \n",
    "    return dff['ifinlier'].values"
   ]
  },
  {
   "cell_type": "code",
   "execution_count": 81,
   "metadata": {},
   "outputs": [],
   "source": [
    "is_forest = IsolationForest(contamination = 0.15)"
   ]
  },
  {
   "cell_type": "code",
   "execution_count": 82,
   "metadata": {},
   "outputs": [
    {
     "data": {
      "text/plain": [
       "IsolationForest(contamination=0.15)"
      ]
     },
     "execution_count": 82,
     "metadata": {},
     "output_type": "execute_result"
    }
   ],
   "source": [
    "is_forest.fit(dff)"
   ]
  },
  {
   "cell_type": "code",
   "execution_count": 83,
   "metadata": {},
   "outputs": [],
   "source": [
    "preds = is_forest.predict(dff)"
   ]
  },
  {
   "cell_type": "code",
   "execution_count": 84,
   "metadata": {},
   "outputs": [],
   "source": [
    "scores = is_forest.score_samples(dff.values)"
   ]
  },
  {
   "cell_type": "code",
   "execution_count": 92,
   "metadata": {},
   "outputs": [
    {
     "data": {
      "text/plain": [
       "1    16351\n",
       "0     2885\n",
       "Name: ifinlier, dtype: int64"
      ]
     },
     "execution_count": 92,
     "metadata": {},
     "output_type": "execute_result"
    }
   ],
   "source": [
    "df['ifscores'] = scores\n",
    "df['ifinlier'] = preds\n",
    "df['ifinlier'] = df['ifinlier'].map({1:1,-1:0})\n",
    "df['ifinlier'].value_counts()"
   ]
  },
  {
   "cell_type": "code",
   "execution_count": 95,
   "metadata": {},
   "outputs": [
    {
     "data": {
      "text/plain": [
       "ifinlier\n",
       "0   -0.356584\n",
       "1   -0.332436\n",
       "Name: ifscores, dtype: float64"
      ]
     },
     "execution_count": 95,
     "metadata": {},
     "output_type": "execute_result"
    }
   ],
   "source": [
    "df.groupby('ifinlier')['ifscores'].mean()"
   ]
  },
  {
   "cell_type": "code",
   "execution_count": 96,
   "metadata": {},
   "outputs": [
    {
     "data": {
      "text/html": [
       "<div>\n",
       "<style scoped>\n",
       "    .dataframe tbody tr th:only-of-type {\n",
       "        vertical-align: middle;\n",
       "    }\n",
       "\n",
       "    .dataframe tbody tr th {\n",
       "        vertical-align: top;\n",
       "    }\n",
       "\n",
       "    .dataframe thead th {\n",
       "        text-align: right;\n",
       "    }\n",
       "</style>\n",
       "<table border=\"1\" class=\"dataframe\">\n",
       "  <thead>\n",
       "    <tr style=\"text-align: right;\">\n",
       "      <th></th>\n",
       "      <th>levy</th>\n",
       "      <th>manufacturer</th>\n",
       "      <th>model</th>\n",
       "      <th>prod</th>\n",
       "      <th>category</th>\n",
       "      <th>leather</th>\n",
       "      <th>fuel</th>\n",
       "      <th>engine</th>\n",
       "      <th>mileage</th>\n",
       "      <th>cylinders</th>\n",
       "      <th>gear</th>\n",
       "      <th>drive</th>\n",
       "      <th>doors</th>\n",
       "      <th>wheel</th>\n",
       "      <th>color</th>\n",
       "      <th>airbags</th>\n",
       "      <th>turbo</th>\n",
       "      <th>ifscores</th>\n",
       "      <th>ifinlier</th>\n",
       "    </tr>\n",
       "  </thead>\n",
       "  <tbody>\n",
       "    <tr>\n",
       "      <th>3764</th>\n",
       "      <td>0.148327</td>\n",
       "      <td>LEXUS</td>\n",
       "      <td>GX 470</td>\n",
       "      <td>0.876543</td>\n",
       "      <td>Jeep</td>\n",
       "      <td>1.0</td>\n",
       "      <td>Petrol</td>\n",
       "      <td>0.23</td>\n",
       "      <td>0.000166</td>\n",
       "      <td>0.466667</td>\n",
       "      <td>Automatic</td>\n",
       "      <td>4x4</td>\n",
       "      <td>0.666667</td>\n",
       "      <td>left</td>\n",
       "      <td>Grey</td>\n",
       "      <td>0.0</td>\n",
       "      <td>0.0</td>\n",
       "      <td>-0.383719</td>\n",
       "      <td>0</td>\n",
       "    </tr>\n",
       "    <tr>\n",
       "      <th>13827</th>\n",
       "      <td>0.148327</td>\n",
       "      <td>LEXUS</td>\n",
       "      <td>GX 470</td>\n",
       "      <td>0.876543</td>\n",
       "      <td>Jeep</td>\n",
       "      <td>1.0</td>\n",
       "      <td>Petrol</td>\n",
       "      <td>0.23</td>\n",
       "      <td>0.000166</td>\n",
       "      <td>0.466667</td>\n",
       "      <td>Automatic</td>\n",
       "      <td>4x4</td>\n",
       "      <td>0.666667</td>\n",
       "      <td>left</td>\n",
       "      <td>Grey</td>\n",
       "      <td>0.0</td>\n",
       "      <td>0.0</td>\n",
       "      <td>-0.383719</td>\n",
       "      <td>0</td>\n",
       "    </tr>\n",
       "    <tr>\n",
       "      <th>7631</th>\n",
       "      <td>0.148327</td>\n",
       "      <td>LEXUS</td>\n",
       "      <td>GX 470</td>\n",
       "      <td>0.876543</td>\n",
       "      <td>Jeep</td>\n",
       "      <td>1.0</td>\n",
       "      <td>Petrol</td>\n",
       "      <td>0.23</td>\n",
       "      <td>0.000166</td>\n",
       "      <td>0.466667</td>\n",
       "      <td>Automatic</td>\n",
       "      <td>4x4</td>\n",
       "      <td>0.666667</td>\n",
       "      <td>left</td>\n",
       "      <td>Grey</td>\n",
       "      <td>0.0</td>\n",
       "      <td>0.0</td>\n",
       "      <td>-0.383719</td>\n",
       "      <td>0</td>\n",
       "    </tr>\n",
       "    <tr>\n",
       "      <th>13642</th>\n",
       "      <td>0.148327</td>\n",
       "      <td>LEXUS</td>\n",
       "      <td>GX 470</td>\n",
       "      <td>0.876543</td>\n",
       "      <td>Jeep</td>\n",
       "      <td>1.0</td>\n",
       "      <td>Petrol</td>\n",
       "      <td>0.23</td>\n",
       "      <td>0.000166</td>\n",
       "      <td>0.466667</td>\n",
       "      <td>Automatic</td>\n",
       "      <td>4x4</td>\n",
       "      <td>0.666667</td>\n",
       "      <td>left</td>\n",
       "      <td>Grey</td>\n",
       "      <td>0.0</td>\n",
       "      <td>0.0</td>\n",
       "      <td>-0.383719</td>\n",
       "      <td>0</td>\n",
       "    </tr>\n",
       "    <tr>\n",
       "      <th>11649</th>\n",
       "      <td>0.148327</td>\n",
       "      <td>LEXUS</td>\n",
       "      <td>GX 470</td>\n",
       "      <td>0.876543</td>\n",
       "      <td>Jeep</td>\n",
       "      <td>1.0</td>\n",
       "      <td>Petrol</td>\n",
       "      <td>0.23</td>\n",
       "      <td>0.000166</td>\n",
       "      <td>0.466667</td>\n",
       "      <td>Automatic</td>\n",
       "      <td>4x4</td>\n",
       "      <td>0.666667</td>\n",
       "      <td>left</td>\n",
       "      <td>Grey</td>\n",
       "      <td>0.0</td>\n",
       "      <td>0.0</td>\n",
       "      <td>-0.383719</td>\n",
       "      <td>0</td>\n",
       "    </tr>\n",
       "    <tr>\n",
       "      <th>1625</th>\n",
       "      <td>0.148327</td>\n",
       "      <td>LEXUS</td>\n",
       "      <td>GX 470</td>\n",
       "      <td>0.876543</td>\n",
       "      <td>Jeep</td>\n",
       "      <td>1.0</td>\n",
       "      <td>Petrol</td>\n",
       "      <td>0.23</td>\n",
       "      <td>0.000166</td>\n",
       "      <td>0.466667</td>\n",
       "      <td>Automatic</td>\n",
       "      <td>4x4</td>\n",
       "      <td>0.666667</td>\n",
       "      <td>left</td>\n",
       "      <td>Grey</td>\n",
       "      <td>0.0</td>\n",
       "      <td>0.0</td>\n",
       "      <td>-0.383719</td>\n",
       "      <td>0</td>\n",
       "    </tr>\n",
       "    <tr>\n",
       "      <th>15829</th>\n",
       "      <td>0.148327</td>\n",
       "      <td>LEXUS</td>\n",
       "      <td>GX 470</td>\n",
       "      <td>0.876543</td>\n",
       "      <td>Jeep</td>\n",
       "      <td>1.0</td>\n",
       "      <td>Petrol</td>\n",
       "      <td>0.23</td>\n",
       "      <td>0.000166</td>\n",
       "      <td>0.466667</td>\n",
       "      <td>Automatic</td>\n",
       "      <td>4x4</td>\n",
       "      <td>0.666667</td>\n",
       "      <td>left</td>\n",
       "      <td>Grey</td>\n",
       "      <td>0.0</td>\n",
       "      <td>0.0</td>\n",
       "      <td>-0.383719</td>\n",
       "      <td>0</td>\n",
       "    </tr>\n",
       "    <tr>\n",
       "      <th>17094</th>\n",
       "      <td>0.148327</td>\n",
       "      <td>LEXUS</td>\n",
       "      <td>GX 470</td>\n",
       "      <td>0.876543</td>\n",
       "      <td>Jeep</td>\n",
       "      <td>1.0</td>\n",
       "      <td>Petrol</td>\n",
       "      <td>0.23</td>\n",
       "      <td>0.000166</td>\n",
       "      <td>0.466667</td>\n",
       "      <td>Automatic</td>\n",
       "      <td>4x4</td>\n",
       "      <td>0.666667</td>\n",
       "      <td>left</td>\n",
       "      <td>Grey</td>\n",
       "      <td>0.0</td>\n",
       "      <td>0.0</td>\n",
       "      <td>-0.383719</td>\n",
       "      <td>0</td>\n",
       "    </tr>\n",
       "  </tbody>\n",
       "</table>\n",
       "</div>"
      ],
      "text/plain": [
       "           levy manufacturer   model      prod category  leather    fuel  \\\n",
       "3764   0.148327        LEXUS  GX 470  0.876543     Jeep      1.0  Petrol   \n",
       "13827  0.148327        LEXUS  GX 470  0.876543     Jeep      1.0  Petrol   \n",
       "7631   0.148327        LEXUS  GX 470  0.876543     Jeep      1.0  Petrol   \n",
       "13642  0.148327        LEXUS  GX 470  0.876543     Jeep      1.0  Petrol   \n",
       "11649  0.148327        LEXUS  GX 470  0.876543     Jeep      1.0  Petrol   \n",
       "1625   0.148327        LEXUS  GX 470  0.876543     Jeep      1.0  Petrol   \n",
       "15829  0.148327        LEXUS  GX 470  0.876543     Jeep      1.0  Petrol   \n",
       "17094  0.148327        LEXUS  GX 470  0.876543     Jeep      1.0  Petrol   \n",
       "\n",
       "       engine   mileage  cylinders       gear drive     doors wheel color  \\\n",
       "3764     0.23  0.000166   0.466667  Automatic   4x4  0.666667  left  Grey   \n",
       "13827    0.23  0.000166   0.466667  Automatic   4x4  0.666667  left  Grey   \n",
       "7631     0.23  0.000166   0.466667  Automatic   4x4  0.666667  left  Grey   \n",
       "13642    0.23  0.000166   0.466667  Automatic   4x4  0.666667  left  Grey   \n",
       "11649    0.23  0.000166   0.466667  Automatic   4x4  0.666667  left  Grey   \n",
       "1625     0.23  0.000166   0.466667  Automatic   4x4  0.666667  left  Grey   \n",
       "15829    0.23  0.000166   0.466667  Automatic   4x4  0.666667  left  Grey   \n",
       "17094    0.23  0.000166   0.466667  Automatic   4x4  0.666667  left  Grey   \n",
       "\n",
       "       airbags  turbo  ifscores  ifinlier  \n",
       "3764       0.0    0.0 -0.383719         0  \n",
       "13827      0.0    0.0 -0.383719         0  \n",
       "7631       0.0    0.0 -0.383719         0  \n",
       "13642      0.0    0.0 -0.383719         0  \n",
       "11649      0.0    0.0 -0.383719         0  \n",
       "1625       0.0    0.0 -0.383719         0  \n",
       "15829      0.0    0.0 -0.383719         0  \n",
       "17094      0.0    0.0 -0.383719         0  "
      ]
     },
     "execution_count": 96,
     "metadata": {},
     "output_type": "execute_result"
    }
   ],
   "source": [
    "df.loc[df['ifinlier'] == 0].sort_values('ifscores')[:8]"
   ]
  },
  {
   "cell_type": "code",
   "execution_count": 106,
   "metadata": {},
   "outputs": [
    {
     "data": {
      "text/html": [
       "<div>\n",
       "<style scoped>\n",
       "    .dataframe tbody tr th:only-of-type {\n",
       "        vertical-align: middle;\n",
       "    }\n",
       "\n",
       "    .dataframe tbody tr th {\n",
       "        vertical-align: top;\n",
       "    }\n",
       "\n",
       "    .dataframe thead th {\n",
       "        text-align: right;\n",
       "    }\n",
       "</style>\n",
       "<table border=\"1\" class=\"dataframe\">\n",
       "  <thead>\n",
       "    <tr style=\"text-align: right;\">\n",
       "      <th></th>\n",
       "      <th>levy</th>\n",
       "      <th>manufacturer</th>\n",
       "      <th>model</th>\n",
       "      <th>prod</th>\n",
       "      <th>category</th>\n",
       "      <th>leather</th>\n",
       "      <th>fuel</th>\n",
       "      <th>engine</th>\n",
       "      <th>mileage</th>\n",
       "      <th>cylinders</th>\n",
       "      <th>gear</th>\n",
       "      <th>drive</th>\n",
       "      <th>doors</th>\n",
       "      <th>wheel</th>\n",
       "      <th>color</th>\n",
       "      <th>airbags</th>\n",
       "      <th>turbo</th>\n",
       "      <th>ifscores</th>\n",
       "      <th>ifinlier</th>\n",
       "    </tr>\n",
       "  </thead>\n",
       "  <tbody>\n",
       "    <tr>\n",
       "      <th>3964</th>\n",
       "      <td>0.053343</td>\n",
       "      <td>SSANGYONG</td>\n",
       "      <td>REXTON</td>\n",
       "      <td>0.888889</td>\n",
       "      <td>Jeep</td>\n",
       "      <td>1.0</td>\n",
       "      <td>Diesel</td>\n",
       "      <td>0.1</td>\n",
       "      <td>0.000025</td>\n",
       "      <td>0.200000</td>\n",
       "      <td>Automatic</td>\n",
       "      <td>Front</td>\n",
       "      <td>0.666667</td>\n",
       "      <td>left</td>\n",
       "      <td>Black</td>\n",
       "      <td>0.25</td>\n",
       "      <td>0.0</td>\n",
       "      <td>-0.349115</td>\n",
       "      <td>1</td>\n",
       "    </tr>\n",
       "    <tr>\n",
       "      <th>6978</th>\n",
       "      <td>0.047578</td>\n",
       "      <td>SSANGYONG</td>\n",
       "      <td>REXTON</td>\n",
       "      <td>0.913580</td>\n",
       "      <td>Jeep</td>\n",
       "      <td>1.0</td>\n",
       "      <td>Diesel</td>\n",
       "      <td>0.1</td>\n",
       "      <td>0.000025</td>\n",
       "      <td>0.200000</td>\n",
       "      <td>Automatic</td>\n",
       "      <td>Front</td>\n",
       "      <td>0.666667</td>\n",
       "      <td>left</td>\n",
       "      <td>Black</td>\n",
       "      <td>0.25</td>\n",
       "      <td>0.0</td>\n",
       "      <td>-0.349115</td>\n",
       "      <td>1</td>\n",
       "    </tr>\n",
       "    <tr>\n",
       "      <th>13063</th>\n",
       "      <td>0.047578</td>\n",
       "      <td>SSANGYONG</td>\n",
       "      <td>REXTON</td>\n",
       "      <td>0.913580</td>\n",
       "      <td>Jeep</td>\n",
       "      <td>1.0</td>\n",
       "      <td>Diesel</td>\n",
       "      <td>0.1</td>\n",
       "      <td>0.000022</td>\n",
       "      <td>0.200000</td>\n",
       "      <td>Automatic</td>\n",
       "      <td>Front</td>\n",
       "      <td>0.666667</td>\n",
       "      <td>left</td>\n",
       "      <td>Black</td>\n",
       "      <td>0.25</td>\n",
       "      <td>0.0</td>\n",
       "      <td>-0.349115</td>\n",
       "      <td>1</td>\n",
       "    </tr>\n",
       "    <tr>\n",
       "      <th>12680</th>\n",
       "      <td>0.047578</td>\n",
       "      <td>SSANGYONG</td>\n",
       "      <td>REXTON</td>\n",
       "      <td>0.913580</td>\n",
       "      <td>Jeep</td>\n",
       "      <td>1.0</td>\n",
       "      <td>Diesel</td>\n",
       "      <td>0.1</td>\n",
       "      <td>0.000025</td>\n",
       "      <td>0.200000</td>\n",
       "      <td>Automatic</td>\n",
       "      <td>Front</td>\n",
       "      <td>0.666667</td>\n",
       "      <td>left</td>\n",
       "      <td>Black</td>\n",
       "      <td>0.25</td>\n",
       "      <td>0.0</td>\n",
       "      <td>-0.349115</td>\n",
       "      <td>1</td>\n",
       "    </tr>\n",
       "    <tr>\n",
       "      <th>3167</th>\n",
       "      <td>0.047492</td>\n",
       "      <td>SSANGYONG</td>\n",
       "      <td>REXTON</td>\n",
       "      <td>0.925926</td>\n",
       "      <td>Jeep</td>\n",
       "      <td>1.0</td>\n",
       "      <td>Diesel</td>\n",
       "      <td>0.1</td>\n",
       "      <td>0.000024</td>\n",
       "      <td>0.200000</td>\n",
       "      <td>Automatic</td>\n",
       "      <td>Front</td>\n",
       "      <td>0.666667</td>\n",
       "      <td>left</td>\n",
       "      <td>Black</td>\n",
       "      <td>0.25</td>\n",
       "      <td>0.0</td>\n",
       "      <td>-0.349115</td>\n",
       "      <td>1</td>\n",
       "    </tr>\n",
       "    <tr>\n",
       "      <th>13952</th>\n",
       "      <td>0.047578</td>\n",
       "      <td>SSANGYONG</td>\n",
       "      <td>REXTON</td>\n",
       "      <td>0.913580</td>\n",
       "      <td>Jeep</td>\n",
       "      <td>1.0</td>\n",
       "      <td>Diesel</td>\n",
       "      <td>0.1</td>\n",
       "      <td>0.000022</td>\n",
       "      <td>0.200000</td>\n",
       "      <td>Automatic</td>\n",
       "      <td>Front</td>\n",
       "      <td>0.666667</td>\n",
       "      <td>left</td>\n",
       "      <td>Black</td>\n",
       "      <td>0.25</td>\n",
       "      <td>0.0</td>\n",
       "      <td>-0.349115</td>\n",
       "      <td>1</td>\n",
       "    </tr>\n",
       "    <tr>\n",
       "      <th>5583</th>\n",
       "      <td>0.053343</td>\n",
       "      <td>SSANGYONG</td>\n",
       "      <td>REXTON</td>\n",
       "      <td>0.888889</td>\n",
       "      <td>Jeep</td>\n",
       "      <td>1.0</td>\n",
       "      <td>Diesel</td>\n",
       "      <td>0.1</td>\n",
       "      <td>0.000025</td>\n",
       "      <td>0.200000</td>\n",
       "      <td>Automatic</td>\n",
       "      <td>Front</td>\n",
       "      <td>0.666667</td>\n",
       "      <td>left</td>\n",
       "      <td>Black</td>\n",
       "      <td>0.25</td>\n",
       "      <td>0.0</td>\n",
       "      <td>-0.349115</td>\n",
       "      <td>1</td>\n",
       "    </tr>\n",
       "    <tr>\n",
       "      <th>18554</th>\n",
       "      <td>0.128968</td>\n",
       "      <td>NISSAN</td>\n",
       "      <td>X-Terra</td>\n",
       "      <td>0.876543</td>\n",
       "      <td>Jeep</td>\n",
       "      <td>0.0</td>\n",
       "      <td>Petrol</td>\n",
       "      <td>0.2</td>\n",
       "      <td>0.000088</td>\n",
       "      <td>0.333333</td>\n",
       "      <td>Automatic</td>\n",
       "      <td>4x4</td>\n",
       "      <td>0.666667</td>\n",
       "      <td>left</td>\n",
       "      <td>Grey</td>\n",
       "      <td>0.50</td>\n",
       "      <td>0.0</td>\n",
       "      <td>-0.349114</td>\n",
       "      <td>1</td>\n",
       "    </tr>\n",
       "  </tbody>\n",
       "</table>\n",
       "</div>"
      ],
      "text/plain": [
       "           levy manufacturer    model      prod category  leather    fuel  \\\n",
       "3964   0.053343    SSANGYONG   REXTON  0.888889     Jeep      1.0  Diesel   \n",
       "6978   0.047578    SSANGYONG   REXTON  0.913580     Jeep      1.0  Diesel   \n",
       "13063  0.047578    SSANGYONG   REXTON  0.913580     Jeep      1.0  Diesel   \n",
       "12680  0.047578    SSANGYONG   REXTON  0.913580     Jeep      1.0  Diesel   \n",
       "3167   0.047492    SSANGYONG   REXTON  0.925926     Jeep      1.0  Diesel   \n",
       "13952  0.047578    SSANGYONG   REXTON  0.913580     Jeep      1.0  Diesel   \n",
       "5583   0.053343    SSANGYONG   REXTON  0.888889     Jeep      1.0  Diesel   \n",
       "18554  0.128968       NISSAN  X-Terra  0.876543     Jeep      0.0  Petrol   \n",
       "\n",
       "       engine   mileage  cylinders       gear  drive     doors wheel  color  \\\n",
       "3964      0.1  0.000025   0.200000  Automatic  Front  0.666667  left  Black   \n",
       "6978      0.1  0.000025   0.200000  Automatic  Front  0.666667  left  Black   \n",
       "13063     0.1  0.000022   0.200000  Automatic  Front  0.666667  left  Black   \n",
       "12680     0.1  0.000025   0.200000  Automatic  Front  0.666667  left  Black   \n",
       "3167      0.1  0.000024   0.200000  Automatic  Front  0.666667  left  Black   \n",
       "13952     0.1  0.000022   0.200000  Automatic  Front  0.666667  left  Black   \n",
       "5583      0.1  0.000025   0.200000  Automatic  Front  0.666667  left  Black   \n",
       "18554     0.2  0.000088   0.333333  Automatic    4x4  0.666667  left   Grey   \n",
       "\n",
       "       airbags  turbo  ifscores  ifinlier  \n",
       "3964      0.25    0.0 -0.349115         1  \n",
       "6978      0.25    0.0 -0.349115         1  \n",
       "13063     0.25    0.0 -0.349115         1  \n",
       "12680     0.25    0.0 -0.349115         1  \n",
       "3167      0.25    0.0 -0.349115         1  \n",
       "13952     0.25    0.0 -0.349115         1  \n",
       "5583      0.25    0.0 -0.349115         1  \n",
       "18554     0.50    0.0 -0.349114         1  "
      ]
     },
     "execution_count": 106,
     "metadata": {},
     "output_type": "execute_result"
    }
   ],
   "source": [
    "df.loc[df['ifinlier'] == 1].sort_values('ifscores')[:8]"
   ]
  },
  {
   "cell_type": "code",
   "execution_count": 119,
   "metadata": {},
   "outputs": [
    {
     "data": {
      "text/plain": [
       "<seaborn.axisgrid.FacetGrid at 0x21f2d12c310>"
      ]
     },
     "execution_count": 119,
     "metadata": {},
     "output_type": "execute_result"
    },
    {
     "data": {
      "image/png": "[encoded data removed]",
      "text/plain": [
       "<Figure size 360x360 with 1 Axes>"
      ]
     },
     "metadata": {
      "needs_background": "light"
     },
     "output_type": "display_data"
    }
   ],
   "source": [
    "sns.displot(x=np.log(dfc.loc[df['isf_inlier'] == -1]['price']))"
   ]
  },
  {
   "cell_type": "code",
   "execution_count": 116,
   "metadata": {},
   "outputs": [
    {
     "data": {
      "text/plain": [
       "<seaborn.axisgrid.FacetGrid at 0x21f2cfa3ee0>"
      ]
     },
     "execution_count": 116,
     "metadata": {},
     "output_type": "execute_result"
    },
    {
     "data": {
      "image/png": "[encoded data removed]",
      "text/plain": [
       "<Figure size 360x360 with 1 Axes>"
      ]
     },
     "metadata": {
      "needs_background": "light"
     },
     "output_type": "display_data"
    }
   ],
   "source": [
    "sns.displot(x=np.log(dfc.loc[df['isf_inlier'] == 1]['price']))"
   ]
  },
  {
   "cell_type": "markdown",
   "metadata": {},
   "source": [
    "### 09-07-2021 -  imputing levy column using RF"
   ]
  },
  {
   "cell_type": "code",
   "execution_count": 3,
   "metadata": {},
   "outputs": [
    {
     "data": {
      "text/plain": [
       "(19237, 18)"
      ]
     },
     "execution_count": 3,
     "metadata": {},
     "output_type": "execute_result"
    }
   ],
   "source": [
    "df = pd.read_csv('train_cleaned.csv')\n",
    "df.shape"
   ]
  },
  {
   "cell_type": "code",
   "execution_count": 4,
   "metadata": {},
   "outputs": [
    {
     "data": {
      "text/html": [
       "<div>\n",
       "<style scoped>\n",
       "    .dataframe tbody tr th:only-of-type {\n",
       "        vertical-align: middle;\n",
       "    }\n",
       "\n",
       "    .dataframe tbody tr th {\n",
       "        vertical-align: top;\n",
       "    }\n",
       "\n",
       "    .dataframe thead th {\n",
       "        text-align: right;\n",
       "    }\n",
       "</style>\n",
       "<table border=\"1\" class=\"dataframe\">\n",
       "  <thead>\n",
       "    <tr style=\"text-align: right;\">\n",
       "      <th></th>\n",
       "      <th>levy</th>\n",
       "      <th>manufacturer</th>\n",
       "      <th>model</th>\n",
       "      <th>prod</th>\n",
       "      <th>category</th>\n",
       "      <th>leather</th>\n",
       "      <th>fuel</th>\n",
       "      <th>engine</th>\n",
       "      <th>mileage</th>\n",
       "      <th>cylinders</th>\n",
       "      <th>gear</th>\n",
       "      <th>drive</th>\n",
       "      <th>doors</th>\n",
       "      <th>wheel</th>\n",
       "      <th>color</th>\n",
       "      <th>airbags</th>\n",
       "      <th>price</th>\n",
       "      <th>turbo</th>\n",
       "    </tr>\n",
       "  </thead>\n",
       "  <tbody>\n",
       "    <tr>\n",
       "      <th>0</th>\n",
       "      <td>1399.0</td>\n",
       "      <td>LEXUS</td>\n",
       "      <td>RX 450</td>\n",
       "      <td>2010</td>\n",
       "      <td>Jeep</td>\n",
       "      <td>1</td>\n",
       "      <td>Hybrid</td>\n",
       "      <td>3.5</td>\n",
       "      <td>186005</td>\n",
       "      <td>6.0</td>\n",
       "      <td>Automatic</td>\n",
       "      <td>4x4</td>\n",
       "      <td>4</td>\n",
       "      <td>left</td>\n",
       "      <td>Silver</td>\n",
       "      <td>12</td>\n",
       "      <td>13328</td>\n",
       "      <td>0</td>\n",
       "    </tr>\n",
       "    <tr>\n",
       "      <th>1</th>\n",
       "      <td>1018.0</td>\n",
       "      <td>CHEVROLET</td>\n",
       "      <td>Equinox</td>\n",
       "      <td>2011</td>\n",
       "      <td>Jeep</td>\n",
       "      <td>0</td>\n",
       "      <td>Petrol</td>\n",
       "      <td>3.0</td>\n",
       "      <td>192000</td>\n",
       "      <td>6.0</td>\n",
       "      <td>Tiptronic</td>\n",
       "      <td>4x4</td>\n",
       "      <td>4</td>\n",
       "      <td>left</td>\n",
       "      <td>Black</td>\n",
       "      <td>8</td>\n",
       "      <td>16621</td>\n",
       "      <td>0</td>\n",
       "    </tr>\n",
       "    <tr>\n",
       "      <th>2</th>\n",
       "      <td>NaN</td>\n",
       "      <td>HONDA</td>\n",
       "      <td>FIT</td>\n",
       "      <td>2006</td>\n",
       "      <td>Hatchback</td>\n",
       "      <td>0</td>\n",
       "      <td>Petrol</td>\n",
       "      <td>1.3</td>\n",
       "      <td>200000</td>\n",
       "      <td>4.0</td>\n",
       "      <td>Variator</td>\n",
       "      <td>Front</td>\n",
       "      <td>4</td>\n",
       "      <td>right</td>\n",
       "      <td>Black</td>\n",
       "      <td>2</td>\n",
       "      <td>8467</td>\n",
       "      <td>0</td>\n",
       "    </tr>\n",
       "    <tr>\n",
       "      <th>3</th>\n",
       "      <td>862.0</td>\n",
       "      <td>FORD</td>\n",
       "      <td>Escape</td>\n",
       "      <td>2011</td>\n",
       "      <td>Jeep</td>\n",
       "      <td>1</td>\n",
       "      <td>Hybrid</td>\n",
       "      <td>2.5</td>\n",
       "      <td>168966</td>\n",
       "      <td>4.0</td>\n",
       "      <td>Automatic</td>\n",
       "      <td>4x4</td>\n",
       "      <td>4</td>\n",
       "      <td>left</td>\n",
       "      <td>White</td>\n",
       "      <td>0</td>\n",
       "      <td>3607</td>\n",
       "      <td>0</td>\n",
       "    </tr>\n",
       "    <tr>\n",
       "      <th>4</th>\n",
       "      <td>446.0</td>\n",
       "      <td>HONDA</td>\n",
       "      <td>FIT</td>\n",
       "      <td>2014</td>\n",
       "      <td>Hatchback</td>\n",
       "      <td>1</td>\n",
       "      <td>Petrol</td>\n",
       "      <td>1.3</td>\n",
       "      <td>91901</td>\n",
       "      <td>4.0</td>\n",
       "      <td>Automatic</td>\n",
       "      <td>Front</td>\n",
       "      <td>4</td>\n",
       "      <td>left</td>\n",
       "      <td>Silver</td>\n",
       "      <td>4</td>\n",
       "      <td>11726</td>\n",
       "      <td>0</td>\n",
       "    </tr>\n",
       "  </tbody>\n",
       "</table>\n",
       "</div>"
      ],
      "text/plain": [
       "     levy manufacturer    model  prod   category  leather    fuel  engine  \\\n",
       "0  1399.0        LEXUS   RX 450  2010       Jeep        1  Hybrid     3.5   \n",
       "1  1018.0    CHEVROLET  Equinox  2011       Jeep        0  Petrol     3.0   \n",
       "2     NaN        HONDA      FIT  2006  Hatchback        0  Petrol     1.3   \n",
       "3   862.0         FORD   Escape  2011       Jeep        1  Hybrid     2.5   \n",
       "4   446.0        HONDA      FIT  2014  Hatchback        1  Petrol     1.3   \n",
       "\n",
       "   mileage  cylinders       gear  drive  doors  wheel   color  airbags  price  \\\n",
       "0   186005        6.0  Automatic    4x4      4   left  Silver       12  13328   \n",
       "1   192000        6.0  Tiptronic    4x4      4   left   Black        8  16621   \n",
       "2   200000        4.0   Variator  Front      4  right   Black        2   8467   \n",
       "3   168966        4.0  Automatic    4x4      4   left   White        0   3607   \n",
       "4    91901        4.0  Automatic  Front      4   left  Silver        4  11726   \n",
       "\n",
       "   turbo  \n",
       "0      0  \n",
       "1      0  \n",
       "2      0  \n",
       "3      0  \n",
       "4      0  "
      ]
     },
     "execution_count": 4,
     "metadata": {},
     "output_type": "execute_result"
    }
   ],
   "source": [
    "df.head()"
   ]
  },
  {
   "cell_type": "markdown",
   "metadata": {},
   "source": [
    "- use logprice instead of price\n",
    "- impute levy with random forest\n",
    "- add 'LEVY_NA' column\n"
   ]
  },
  {
   "cell_type": "code",
   "execution_count": 6,
   "metadata": {},
   "outputs": [
    {
     "data": {
      "text/html": [
       "<div>\n",
       "<style scoped>\n",
       "    .dataframe tbody tr th:only-of-type {\n",
       "        vertical-align: middle;\n",
       "    }\n",
       "\n",
       "    .dataframe tbody tr th {\n",
       "        vertical-align: top;\n",
       "    }\n",
       "\n",
       "    .dataframe thead th {\n",
       "        text-align: right;\n",
       "    }\n",
       "</style>\n",
       "<table border=\"1\" class=\"dataframe\">\n",
       "  <thead>\n",
       "    <tr style=\"text-align: right;\">\n",
       "      <th></th>\n",
       "      <th>levy</th>\n",
       "      <th>manufacturer</th>\n",
       "      <th>model</th>\n",
       "      <th>prod</th>\n",
       "      <th>category</th>\n",
       "      <th>leather</th>\n",
       "      <th>fuel</th>\n",
       "      <th>engine</th>\n",
       "      <th>mileage</th>\n",
       "      <th>cylinders</th>\n",
       "      <th>gear</th>\n",
       "      <th>drive</th>\n",
       "      <th>doors</th>\n",
       "      <th>wheel</th>\n",
       "      <th>color</th>\n",
       "      <th>airbags</th>\n",
       "      <th>price</th>\n",
       "      <th>turbo</th>\n",
       "    </tr>\n",
       "  </thead>\n",
       "  <tbody>\n",
       "    <tr>\n",
       "      <th>16983</th>\n",
       "      <td>NaN</td>\n",
       "      <td>OPEL</td>\n",
       "      <td>Combo</td>\n",
       "      <td>1999</td>\n",
       "      <td>Goods wagon</td>\n",
       "      <td>0</td>\n",
       "      <td>Diesel</td>\n",
       "      <td>1.7</td>\n",
       "      <td>99999</td>\n",
       "      <td>4.0</td>\n",
       "      <td>Manual</td>\n",
       "      <td>Front</td>\n",
       "      <td>2</td>\n",
       "      <td>left</td>\n",
       "      <td>Blue</td>\n",
       "      <td>0</td>\n",
       "      <td>26307500</td>\n",
       "      <td>0</td>\n",
       "    </tr>\n",
       "  </tbody>\n",
       "</table>\n",
       "</div>"
      ],
      "text/plain": [
       "       levy manufacturer  model  prod     category  leather    fuel  engine  \\\n",
       "16983   NaN         OPEL  Combo  1999  Goods wagon        0  Diesel     1.7   \n",
       "\n",
       "       mileage  cylinders    gear  drive  doors wheel color  airbags  \\\n",
       "16983    99999        4.0  Manual  Front      2  left  Blue        0   \n",
       "\n",
       "          price  turbo  \n",
       "16983  26307500      0  "
      ]
     },
     "execution_count": 6,
     "metadata": {},
     "output_type": "execute_result"
    }
   ],
   "source": [
    "df.loc[[16983]]"
   ]
  },
  {
   "cell_type": "code",
   "execution_count": 7,
   "metadata": {},
   "outputs": [],
   "source": [
    "orig_price = df['price']\n",
    "df['price'] = np.log(df['price'])"
   ]
  },
  {
   "cell_type": "code",
   "execution_count": 9,
   "metadata": {},
   "outputs": [
    {
     "data": {
      "text/plain": [
       "levy            5819\n",
       "manufacturer       0\n",
       "model              0\n",
       "prod               0\n",
       "category           0\n",
       "leather            0\n",
       "fuel               0\n",
       "engine             0\n",
       "mileage            0\n",
       "cylinders          0\n",
       "gear               0\n",
       "drive              0\n",
       "doors              0\n",
       "wheel              0\n",
       "color              0\n",
       "airbags            0\n",
       "price              0\n",
       "turbo              0\n",
       "dtype: int64"
      ]
     },
     "execution_count": 9,
     "metadata": {},
     "output_type": "execute_result"
    }
   ],
   "source": [
    "df.isna().sum()"
   ]
  },
  {
   "cell_type": "code",
   "execution_count": 10,
   "metadata": {},
   "outputs": [
    {
     "data": {
      "text/html": [
       "<div>\n",
       "<style scoped>\n",
       "    .dataframe tbody tr th:only-of-type {\n",
       "        vertical-align: middle;\n",
       "    }\n",
       "\n",
       "    .dataframe tbody tr th {\n",
       "        vertical-align: top;\n",
       "    }\n",
       "\n",
       "    .dataframe thead th {\n",
       "        text-align: right;\n",
       "    }\n",
       "</style>\n",
       "<table border=\"1\" class=\"dataframe\">\n",
       "  <thead>\n",
       "    <tr style=\"text-align: right;\">\n",
       "      <th></th>\n",
       "      <th>levy</th>\n",
       "      <th>manufacturer</th>\n",
       "      <th>model</th>\n",
       "      <th>prod</th>\n",
       "      <th>category</th>\n",
       "      <th>leather</th>\n",
       "      <th>fuel</th>\n",
       "      <th>engine</th>\n",
       "      <th>mileage</th>\n",
       "      <th>cylinders</th>\n",
       "      <th>gear</th>\n",
       "      <th>drive</th>\n",
       "      <th>doors</th>\n",
       "      <th>wheel</th>\n",
       "      <th>color</th>\n",
       "      <th>airbags</th>\n",
       "      <th>price</th>\n",
       "      <th>turbo</th>\n",
       "    </tr>\n",
       "  </thead>\n",
       "  <tbody>\n",
       "    <tr>\n",
       "      <th>0</th>\n",
       "      <td>1399.0</td>\n",
       "      <td>LEXUS</td>\n",
       "      <td>RX 450</td>\n",
       "      <td>2010</td>\n",
       "      <td>Jeep</td>\n",
       "      <td>1</td>\n",
       "      <td>Hybrid</td>\n",
       "      <td>3.5</td>\n",
       "      <td>186005</td>\n",
       "      <td>6.0</td>\n",
       "      <td>Automatic</td>\n",
       "      <td>4x4</td>\n",
       "      <td>4</td>\n",
       "      <td>left</td>\n",
       "      <td>Silver</td>\n",
       "      <td>12</td>\n",
       "      <td>9.497622</td>\n",
       "      <td>0</td>\n",
       "    </tr>\n",
       "    <tr>\n",
       "      <th>1</th>\n",
       "      <td>1018.0</td>\n",
       "      <td>CHEVROLET</td>\n",
       "      <td>Equinox</td>\n",
       "      <td>2011</td>\n",
       "      <td>Jeep</td>\n",
       "      <td>0</td>\n",
       "      <td>Petrol</td>\n",
       "      <td>3.0</td>\n",
       "      <td>192000</td>\n",
       "      <td>6.0</td>\n",
       "      <td>Tiptronic</td>\n",
       "      <td>4x4</td>\n",
       "      <td>4</td>\n",
       "      <td>left</td>\n",
       "      <td>Black</td>\n",
       "      <td>8</td>\n",
       "      <td>9.718422</td>\n",
       "      <td>0</td>\n",
       "    </tr>\n",
       "  </tbody>\n",
       "</table>\n",
       "</div>"
      ],
      "text/plain": [
       "     levy manufacturer    model  prod category  leather    fuel  engine  \\\n",
       "0  1399.0        LEXUS   RX 450  2010     Jeep        1  Hybrid     3.5   \n",
       "1  1018.0    CHEVROLET  Equinox  2011     Jeep        0  Petrol     3.0   \n",
       "\n",
       "   mileage  cylinders       gear drive  doors wheel   color  airbags  \\\n",
       "0   186005        6.0  Automatic   4x4      4  left  Silver       12   \n",
       "1   192000        6.0  Tiptronic   4x4      4  left   Black        8   \n",
       "\n",
       "      price  turbo  \n",
       "0  9.497622      0  \n",
       "1  9.718422      0  "
      ]
     },
     "execution_count": 10,
     "metadata": {},
     "output_type": "execute_result"
    }
   ],
   "source": [
    "df.head(2)"
   ]
  },
  {
   "cell_type": "code",
   "execution_count": 13,
   "metadata": {},
   "outputs": [
    {
     "data": {
      "text/plain": [
       "['levy',\n",
       " 'manufacturer',\n",
       " 'model',\n",
       " 'prod',\n",
       " 'category',\n",
       " 'leather',\n",
       " 'fuel',\n",
       " 'engine',\n",
       " 'mileage',\n",
       " 'cylinders',\n",
       " 'gear',\n",
       " 'drive',\n",
       " 'doors',\n",
       " 'wheel',\n",
       " 'color',\n",
       " 'airbags',\n",
       " 'turbo']"
      ]
     },
     "execution_count": 13,
     "metadata": {},
     "output_type": "execute_result"
    }
   ],
   "source": [
    "input_cols = list(df.drop('price', axis=1).columns)\n",
    "input_cols"
   ]
  },
  {
   "cell_type": "code",
   "execution_count": 14,
   "metadata": {},
   "outputs": [],
   "source": [
    "from sklearn.model_selection import train_test_split\n",
    "train_inputs, val_inputs, train_targets, val_targets = train_test_split(\n",
    "    df[input_cols].values,\n",
    "    df['price'].values,\n",
    "    test_size = 0.3\n",
    ")"
   ]
  },
  {
   "cell_type": "code",
   "execution_count": 87,
   "metadata": {},
   "outputs": [
    {
     "data": {
      "text/plain": [
       "((13465, 17), (5772, 17), (13465,), (5772,))"
      ]
     },
     "execution_count": 87,
     "metadata": {},
     "output_type": "execute_result"
    }
   ],
   "source": [
    "train_inputs.shape, val_inputs.shape, train_targets.shape, val_targets.shape"
   ]
  },
  {
   "cell_type": "markdown",
   "metadata": {},
   "source": [
    "### try to impute levy by predicting with RF (using levy column directly, without log transform)"
   ]
  },
  {
   "cell_type": "code",
   "execution_count": 88,
   "metadata": {},
   "outputs": [
    {
     "data": {
      "text/plain": [
       "5819"
      ]
     },
     "execution_count": 88,
     "metadata": {},
     "output_type": "execute_result"
    }
   ],
   "source": [
    "df['levy_na'] = df['levy'].apply(lambda x: pd.isna(x))\n",
    "df['levy_na'].sum()"
   ]
  },
  {
   "cell_type": "code",
   "execution_count": 89,
   "metadata": {},
   "outputs": [
    {
     "data": {
      "text/plain": [
       "((13418, 19), (5819, 19))"
      ]
     },
     "execution_count": 89,
     "metadata": {},
     "output_type": "execute_result"
    }
   ],
   "source": [
    "df.loc[~df['levy_na']].shape, df.loc[df['levy_na']].shape"
   ]
  },
  {
   "cell_type": "code",
   "execution_count": 90,
   "metadata": {},
   "outputs": [
    {
     "data": {
      "text/plain": [
       "((13418, 17), (5819, 16))"
      ]
     },
     "execution_count": 90,
     "metadata": {},
     "output_type": "execute_result"
    }
   ],
   "source": [
    "levy_train = df.drop(['price','levy_na'], axis=1).loc[~df['levy_na']]\n",
    "levy_test = df.drop(['price','levy','levy_na'],axis=1).loc[df['levy_na']]\n",
    "levy_train.shape, levy_test.shape"
   ]
  },
  {
   "cell_type": "code",
   "execution_count": 91,
   "metadata": {},
   "outputs": [
    {
     "data": {
      "text/html": [
       "<div>\n",
       "<style scoped>\n",
       "    .dataframe tbody tr th:only-of-type {\n",
       "        vertical-align: middle;\n",
       "    }\n",
       "\n",
       "    .dataframe tbody tr th {\n",
       "        vertical-align: top;\n",
       "    }\n",
       "\n",
       "    .dataframe thead th {\n",
       "        text-align: right;\n",
       "    }\n",
       "</style>\n",
       "<table border=\"1\" class=\"dataframe\">\n",
       "  <thead>\n",
       "    <tr style=\"text-align: right;\">\n",
       "      <th></th>\n",
       "      <th>levy</th>\n",
       "      <th>manufacturer</th>\n",
       "      <th>model</th>\n",
       "      <th>prod</th>\n",
       "      <th>category</th>\n",
       "      <th>leather</th>\n",
       "      <th>fuel</th>\n",
       "      <th>engine</th>\n",
       "      <th>mileage</th>\n",
       "      <th>cylinders</th>\n",
       "      <th>gear</th>\n",
       "      <th>drive</th>\n",
       "      <th>doors</th>\n",
       "      <th>wheel</th>\n",
       "      <th>color</th>\n",
       "      <th>airbags</th>\n",
       "      <th>turbo</th>\n",
       "    </tr>\n",
       "  </thead>\n",
       "  <tbody>\n",
       "    <tr>\n",
       "      <th>0</th>\n",
       "      <td>1399.0</td>\n",
       "      <td>LEXUS</td>\n",
       "      <td>RX 450</td>\n",
       "      <td>2010</td>\n",
       "      <td>Jeep</td>\n",
       "      <td>1</td>\n",
       "      <td>Hybrid</td>\n",
       "      <td>3.5</td>\n",
       "      <td>186005</td>\n",
       "      <td>6.0</td>\n",
       "      <td>Automatic</td>\n",
       "      <td>4x4</td>\n",
       "      <td>4</td>\n",
       "      <td>left</td>\n",
       "      <td>Silver</td>\n",
       "      <td>12</td>\n",
       "      <td>0</td>\n",
       "    </tr>\n",
       "    <tr>\n",
       "      <th>1</th>\n",
       "      <td>1018.0</td>\n",
       "      <td>CHEVROLET</td>\n",
       "      <td>Equinox</td>\n",
       "      <td>2011</td>\n",
       "      <td>Jeep</td>\n",
       "      <td>0</td>\n",
       "      <td>Petrol</td>\n",
       "      <td>3.0</td>\n",
       "      <td>192000</td>\n",
       "      <td>6.0</td>\n",
       "      <td>Tiptronic</td>\n",
       "      <td>4x4</td>\n",
       "      <td>4</td>\n",
       "      <td>left</td>\n",
       "      <td>Black</td>\n",
       "      <td>8</td>\n",
       "      <td>0</td>\n",
       "    </tr>\n",
       "  </tbody>\n",
       "</table>\n",
       "</div>"
      ],
      "text/plain": [
       "     levy manufacturer    model  prod category  leather    fuel  engine  \\\n",
       "0  1399.0        LEXUS   RX 450  2010     Jeep        1  Hybrid     3.5   \n",
       "1  1018.0    CHEVROLET  Equinox  2011     Jeep        0  Petrol     3.0   \n",
       "\n",
       "   mileage  cylinders       gear drive  doors wheel   color  airbags  turbo  \n",
       "0   186005        6.0  Automatic   4x4      4  left  Silver       12      0  \n",
       "1   192000        6.0  Tiptronic   4x4      4  left   Black        8      0  "
      ]
     },
     "execution_count": 91,
     "metadata": {},
     "output_type": "execute_result"
    }
   ],
   "source": [
    "levy_train.head(2)"
   ]
  },
  {
   "cell_type": "code",
   "execution_count": 92,
   "metadata": {},
   "outputs": [
    {
     "data": {
      "text/html": [
       "<div>\n",
       "<style scoped>\n",
       "    .dataframe tbody tr th:only-of-type {\n",
       "        vertical-align: middle;\n",
       "    }\n",
       "\n",
       "    .dataframe tbody tr th {\n",
       "        vertical-align: top;\n",
       "    }\n",
       "\n",
       "    .dataframe thead th {\n",
       "        text-align: right;\n",
       "    }\n",
       "</style>\n",
       "<table border=\"1\" class=\"dataframe\">\n",
       "  <thead>\n",
       "    <tr style=\"text-align: right;\">\n",
       "      <th></th>\n",
       "      <th>manufacturer</th>\n",
       "      <th>model</th>\n",
       "      <th>prod</th>\n",
       "      <th>category</th>\n",
       "      <th>leather</th>\n",
       "      <th>fuel</th>\n",
       "      <th>engine</th>\n",
       "      <th>mileage</th>\n",
       "      <th>cylinders</th>\n",
       "      <th>gear</th>\n",
       "      <th>drive</th>\n",
       "      <th>doors</th>\n",
       "      <th>wheel</th>\n",
       "      <th>color</th>\n",
       "      <th>airbags</th>\n",
       "      <th>turbo</th>\n",
       "    </tr>\n",
       "  </thead>\n",
       "  <tbody>\n",
       "    <tr>\n",
       "      <th>2</th>\n",
       "      <td>HONDA</td>\n",
       "      <td>FIT</td>\n",
       "      <td>2006</td>\n",
       "      <td>Hatchback</td>\n",
       "      <td>0</td>\n",
       "      <td>Petrol</td>\n",
       "      <td>1.3</td>\n",
       "      <td>200000</td>\n",
       "      <td>4.0</td>\n",
       "      <td>Variator</td>\n",
       "      <td>Front</td>\n",
       "      <td>4</td>\n",
       "      <td>right</td>\n",
       "      <td>Black</td>\n",
       "      <td>2</td>\n",
       "      <td>0</td>\n",
       "    </tr>\n",
       "    <tr>\n",
       "      <th>9</th>\n",
       "      <td>LEXUS</td>\n",
       "      <td>RX 350</td>\n",
       "      <td>2007</td>\n",
       "      <td>Jeep</td>\n",
       "      <td>1</td>\n",
       "      <td>Petrol</td>\n",
       "      <td>3.5</td>\n",
       "      <td>128500</td>\n",
       "      <td>6.0</td>\n",
       "      <td>Automatic</td>\n",
       "      <td>4x4</td>\n",
       "      <td>4</td>\n",
       "      <td>left</td>\n",
       "      <td>Silver</td>\n",
       "      <td>12</td>\n",
       "      <td>0</td>\n",
       "    </tr>\n",
       "  </tbody>\n",
       "</table>\n",
       "</div>"
      ],
      "text/plain": [
       "  manufacturer   model  prod   category  leather    fuel  engine  mileage  \\\n",
       "2        HONDA     FIT  2006  Hatchback        0  Petrol     1.3   200000   \n",
       "9        LEXUS  RX 350  2007       Jeep        1  Petrol     3.5   128500   \n",
       "\n",
       "   cylinders       gear  drive  doors  wheel   color  airbags  turbo  \n",
       "2        4.0   Variator  Front      4  right   Black        2      0  \n",
       "9        6.0  Automatic    4x4      4   left  Silver       12      0  "
      ]
     },
     "execution_count": 92,
     "metadata": {},
     "output_type": "execute_result"
    }
   ],
   "source": [
    "levy_test.head(2)"
   ]
  },
  {
   "cell_type": "markdown",
   "metadata": {},
   "source": [
    "#### transform levy train"
   ]
  },
  {
   "cell_type": "code",
   "execution_count": 93,
   "metadata": {},
   "outputs": [],
   "source": [
    "from sklearn.preprocessing import OneHotEncoder\n",
    "ohlevy = OneHotEncoder(sparse=False, handle_unknown='ignore')"
   ]
  },
  {
   "cell_type": "code",
   "execution_count": 94,
   "metadata": {},
   "outputs": [
    {
     "data": {
      "text/plain": [
       "OneHotEncoder(handle_unknown='ignore', sparse=False)"
      ]
     },
     "execution_count": 94,
     "metadata": {},
     "output_type": "execute_result"
    }
   ],
   "source": [
    "ohlevy.fit(df.select_dtypes('object'))"
   ]
  },
  {
   "cell_type": "code",
   "execution_count": 95,
   "metadata": {},
   "outputs": [
    {
     "name": "stdout",
     "output_type": "stream",
     "text": [
      "1698\n"
     ]
    },
    {
     "data": {
      "text/plain": [
       "['manufacturer_ACURA', 'manufacturer_ALFA ROMEO', 'manufacturer_ASTON MARTIN']"
      ]
     },
     "execution_count": 95,
     "metadata": {},
     "output_type": "execute_result"
    }
   ],
   "source": [
    "encoded_cols = list(ohlevy.get_feature_names(list(df.select_dtypes('object').columns)))\n",
    "print(len(encoded_cols))\n",
    "encoded_cols[:3]"
   ]
  },
  {
   "cell_type": "code",
   "execution_count": 96,
   "metadata": {},
   "outputs": [
    {
     "data": {
      "text/plain": [
       "Index(['manufacturer', 'model', 'category', 'fuel', 'gear', 'drive', 'wheel',\n",
       "       'color'],\n",
       "      dtype='object')"
      ]
     },
     "execution_count": 96,
     "metadata": {},
     "output_type": "execute_result"
    }
   ],
   "source": [
    "categorical_cols = levy_train.select_dtypes('object').columns\n",
    "categorical_cols"
   ]
  },
  {
   "cell_type": "code",
   "execution_count": 97,
   "metadata": {},
   "outputs": [
    {
     "data": {
      "text/html": [
       "<div>\n",
       "<style scoped>\n",
       "    .dataframe tbody tr th:only-of-type {\n",
       "        vertical-align: middle;\n",
       "    }\n",
       "\n",
       "    .dataframe tbody tr th {\n",
       "        vertical-align: top;\n",
       "    }\n",
       "\n",
       "    .dataframe thead th {\n",
       "        text-align: right;\n",
       "    }\n",
       "</style>\n",
       "<table border=\"1\" class=\"dataframe\">\n",
       "  <thead>\n",
       "    <tr style=\"text-align: right;\">\n",
       "      <th></th>\n",
       "      <th>manufacturer</th>\n",
       "      <th>model</th>\n",
       "      <th>category</th>\n",
       "      <th>fuel</th>\n",
       "      <th>gear</th>\n",
       "      <th>drive</th>\n",
       "      <th>wheel</th>\n",
       "      <th>color</th>\n",
       "    </tr>\n",
       "  </thead>\n",
       "  <tbody>\n",
       "    <tr>\n",
       "      <th>0</th>\n",
       "      <td>LEXUS</td>\n",
       "      <td>RX 450</td>\n",
       "      <td>Jeep</td>\n",
       "      <td>Hybrid</td>\n",
       "      <td>Automatic</td>\n",
       "      <td>4x4</td>\n",
       "      <td>left</td>\n",
       "      <td>Silver</td>\n",
       "    </tr>\n",
       "    <tr>\n",
       "      <th>1</th>\n",
       "      <td>CHEVROLET</td>\n",
       "      <td>Equinox</td>\n",
       "      <td>Jeep</td>\n",
       "      <td>Petrol</td>\n",
       "      <td>Tiptronic</td>\n",
       "      <td>4x4</td>\n",
       "      <td>left</td>\n",
       "      <td>Black</td>\n",
       "    </tr>\n",
       "  </tbody>\n",
       "</table>\n",
       "</div>"
      ],
      "text/plain": [
       "  manufacturer    model category    fuel       gear drive wheel   color\n",
       "0        LEXUS   RX 450     Jeep  Hybrid  Automatic   4x4  left  Silver\n",
       "1    CHEVROLET  Equinox     Jeep  Petrol  Tiptronic   4x4  left   Black"
      ]
     },
     "execution_count": 97,
     "metadata": {},
     "output_type": "execute_result"
    }
   ],
   "source": [
    "df.select_dtypes('object').head(2)"
   ]
  },
  {
   "cell_type": "code",
   "execution_count": 158,
   "metadata": {},
   "outputs": [
    {
     "data": {
      "text/html": [
       "<div>\n",
       "<style scoped>\n",
       "    .dataframe tbody tr th:only-of-type {\n",
       "        vertical-align: middle;\n",
       "    }\n",
       "\n",
       "    .dataframe tbody tr th {\n",
       "        vertical-align: top;\n",
       "    }\n",
       "\n",
       "    .dataframe thead th {\n",
       "        text-align: right;\n",
       "    }\n",
       "</style>\n",
       "<table border=\"1\" class=\"dataframe\">\n",
       "  <thead>\n",
       "    <tr style=\"text-align: right;\">\n",
       "      <th></th>\n",
       "      <th>levy</th>\n",
       "      <th>prod</th>\n",
       "      <th>leather</th>\n",
       "      <th>engine</th>\n",
       "      <th>mileage</th>\n",
       "      <th>cylinders</th>\n",
       "      <th>doors</th>\n",
       "      <th>airbags</th>\n",
       "      <th>turbo</th>\n",
       "      <th>manufacturer_ACURA</th>\n",
       "      <th>...</th>\n",
       "      <th>color_Green</th>\n",
       "      <th>color_Grey</th>\n",
       "      <th>color_Orange</th>\n",
       "      <th>color_Pink</th>\n",
       "      <th>color_Purple</th>\n",
       "      <th>color_Red</th>\n",
       "      <th>color_Silver</th>\n",
       "      <th>color_Sky blue</th>\n",
       "      <th>color_White</th>\n",
       "      <th>color_Yellow</th>\n",
       "    </tr>\n",
       "  </thead>\n",
       "  <tbody>\n",
       "    <tr>\n",
       "      <th>0</th>\n",
       "      <td>1399.0</td>\n",
       "      <td>2010</td>\n",
       "      <td>1</td>\n",
       "      <td>3.5</td>\n",
       "      <td>186005</td>\n",
       "      <td>6.0</td>\n",
       "      <td>4</td>\n",
       "      <td>12</td>\n",
       "      <td>0</td>\n",
       "      <td>0.0</td>\n",
       "      <td>...</td>\n",
       "      <td>0.0</td>\n",
       "      <td>0.0</td>\n",
       "      <td>0.0</td>\n",
       "      <td>0.0</td>\n",
       "      <td>0.0</td>\n",
       "      <td>0.0</td>\n",
       "      <td>1.0</td>\n",
       "      <td>0.0</td>\n",
       "      <td>0.0</td>\n",
       "      <td>0.0</td>\n",
       "    </tr>\n",
       "    <tr>\n",
       "      <th>1</th>\n",
       "      <td>1018.0</td>\n",
       "      <td>2011</td>\n",
       "      <td>0</td>\n",
       "      <td>3.0</td>\n",
       "      <td>192000</td>\n",
       "      <td>6.0</td>\n",
       "      <td>4</td>\n",
       "      <td>8</td>\n",
       "      <td>0</td>\n",
       "      <td>0.0</td>\n",
       "      <td>...</td>\n",
       "      <td>0.0</td>\n",
       "      <td>0.0</td>\n",
       "      <td>0.0</td>\n",
       "      <td>0.0</td>\n",
       "      <td>0.0</td>\n",
       "      <td>0.0</td>\n",
       "      <td>0.0</td>\n",
       "      <td>0.0</td>\n",
       "      <td>0.0</td>\n",
       "      <td>0.0</td>\n",
       "    </tr>\n",
       "  </tbody>\n",
       "</table>\n",
       "<p>2 rows × 1707 columns</p>\n",
       "</div>"
      ],
      "text/plain": [
       "     levy  prod  leather  engine  mileage  cylinders  doors  airbags  turbo  \\\n",
       "0  1399.0  2010        1     3.5   186005        6.0      4       12      0   \n",
       "1  1018.0  2011        0     3.0   192000        6.0      4        8      0   \n",
       "\n",
       "   manufacturer_ACURA  ...  color_Green  color_Grey  color_Orange  color_Pink  \\\n",
       "0                 0.0  ...          0.0         0.0           0.0         0.0   \n",
       "1                 0.0  ...          0.0         0.0           0.0         0.0   \n",
       "\n",
       "   color_Purple  color_Red  color_Silver  color_Sky blue  color_White  \\\n",
       "0           0.0        0.0           1.0             0.0          0.0   \n",
       "1           0.0        0.0           0.0             0.0          0.0   \n",
       "\n",
       "   color_Yellow  \n",
       "0           0.0  \n",
       "1           0.0  \n",
       "\n",
       "[2 rows x 1707 columns]"
      ]
     },
     "execution_count": 158,
     "metadata": {},
     "output_type": "execute_result"
    }
   ],
   "source": [
    "levy_train.head(2)"
   ]
  },
  {
   "cell_type": "code",
   "execution_count": 99,
   "metadata": {},
   "outputs": [
    {
     "data": {
      "text/plain": [
       "(13418, 1698)"
      ]
     },
     "execution_count": 99,
     "metadata": {},
     "output_type": "execute_result"
    }
   ],
   "source": [
    "levy_encoded = pd.DataFrame(ohlevy.transform(levy_train.select_dtypes('object')), columns= encoded_cols)\n",
    "levy_encoded.shape"
   ]
  },
  {
   "cell_type": "code",
   "execution_count": 100,
   "metadata": {},
   "outputs": [
    {
     "data": {
      "text/html": [
       "<div>\n",
       "<style scoped>\n",
       "    .dataframe tbody tr th:only-of-type {\n",
       "        vertical-align: middle;\n",
       "    }\n",
       "\n",
       "    .dataframe tbody tr th {\n",
       "        vertical-align: top;\n",
       "    }\n",
       "\n",
       "    .dataframe thead th {\n",
       "        text-align: right;\n",
       "    }\n",
       "</style>\n",
       "<table border=\"1\" class=\"dataframe\">\n",
       "  <thead>\n",
       "    <tr style=\"text-align: right;\">\n",
       "      <th></th>\n",
       "      <th>manufacturer_ACURA</th>\n",
       "      <th>manufacturer_ALFA ROMEO</th>\n",
       "      <th>manufacturer_ASTON MARTIN</th>\n",
       "      <th>manufacturer_AUDI</th>\n",
       "      <th>manufacturer_BENTLEY</th>\n",
       "      <th>manufacturer_BMW</th>\n",
       "      <th>manufacturer_BUICK</th>\n",
       "      <th>manufacturer_CADILLAC</th>\n",
       "      <th>manufacturer_CHEVROLET</th>\n",
       "      <th>manufacturer_CHRYSLER</th>\n",
       "      <th>...</th>\n",
       "      <th>color_Green</th>\n",
       "      <th>color_Grey</th>\n",
       "      <th>color_Orange</th>\n",
       "      <th>color_Pink</th>\n",
       "      <th>color_Purple</th>\n",
       "      <th>color_Red</th>\n",
       "      <th>color_Silver</th>\n",
       "      <th>color_Sky blue</th>\n",
       "      <th>color_White</th>\n",
       "      <th>color_Yellow</th>\n",
       "    </tr>\n",
       "  </thead>\n",
       "  <tbody>\n",
       "    <tr>\n",
       "      <th>0</th>\n",
       "      <td>0.0</td>\n",
       "      <td>0.0</td>\n",
       "      <td>0.0</td>\n",
       "      <td>0.0</td>\n",
       "      <td>0.0</td>\n",
       "      <td>0.0</td>\n",
       "      <td>0.0</td>\n",
       "      <td>0.0</td>\n",
       "      <td>0.0</td>\n",
       "      <td>0.0</td>\n",
       "      <td>...</td>\n",
       "      <td>0.0</td>\n",
       "      <td>0.0</td>\n",
       "      <td>0.0</td>\n",
       "      <td>0.0</td>\n",
       "      <td>0.0</td>\n",
       "      <td>0.0</td>\n",
       "      <td>1.0</td>\n",
       "      <td>0.0</td>\n",
       "      <td>0.0</td>\n",
       "      <td>0.0</td>\n",
       "    </tr>\n",
       "    <tr>\n",
       "      <th>1</th>\n",
       "      <td>0.0</td>\n",
       "      <td>0.0</td>\n",
       "      <td>0.0</td>\n",
       "      <td>0.0</td>\n",
       "      <td>0.0</td>\n",
       "      <td>0.0</td>\n",
       "      <td>0.0</td>\n",
       "      <td>0.0</td>\n",
       "      <td>1.0</td>\n",
       "      <td>0.0</td>\n",
       "      <td>...</td>\n",
       "      <td>0.0</td>\n",
       "      <td>0.0</td>\n",
       "      <td>0.0</td>\n",
       "      <td>0.0</td>\n",
       "      <td>0.0</td>\n",
       "      <td>0.0</td>\n",
       "      <td>0.0</td>\n",
       "      <td>0.0</td>\n",
       "      <td>0.0</td>\n",
       "      <td>0.0</td>\n",
       "    </tr>\n",
       "  </tbody>\n",
       "</table>\n",
       "<p>2 rows × 1698 columns</p>\n",
       "</div>"
      ],
      "text/plain": [
       "   manufacturer_ACURA  manufacturer_ALFA ROMEO  manufacturer_ASTON MARTIN  \\\n",
       "0                 0.0                      0.0                        0.0   \n",
       "1                 0.0                      0.0                        0.0   \n",
       "\n",
       "   manufacturer_AUDI  manufacturer_BENTLEY  manufacturer_BMW  \\\n",
       "0                0.0                   0.0               0.0   \n",
       "1                0.0                   0.0               0.0   \n",
       "\n",
       "   manufacturer_BUICK  manufacturer_CADILLAC  manufacturer_CHEVROLET  \\\n",
       "0                 0.0                    0.0                     0.0   \n",
       "1                 0.0                    0.0                     1.0   \n",
       "\n",
       "   manufacturer_CHRYSLER  ...  color_Green  color_Grey  color_Orange  \\\n",
       "0                    0.0  ...          0.0         0.0           0.0   \n",
       "1                    0.0  ...          0.0         0.0           0.0   \n",
       "\n",
       "   color_Pink  color_Purple  color_Red  color_Silver  color_Sky blue  \\\n",
       "0         0.0           0.0        0.0           1.0             0.0   \n",
       "1         0.0           0.0        0.0           0.0             0.0   \n",
       "\n",
       "   color_White  color_Yellow  \n",
       "0          0.0           0.0  \n",
       "1          0.0           0.0  \n",
       "\n",
       "[2 rows x 1698 columns]"
      ]
     },
     "execution_count": 100,
     "metadata": {},
     "output_type": "execute_result"
    }
   ],
   "source": [
    "levy_encoded.head(2)"
   ]
  },
  {
   "cell_type": "code",
   "execution_count": 101,
   "metadata": {},
   "outputs": [
    {
     "data": {
      "text/plain": [
       "Int64Index([    0,     1,     3,     4,     5,     6,     7,     8,    10,\n",
       "               13,\n",
       "            ...\n",
       "            19222, 19225, 19227, 19228, 19230, 19231, 19233, 19234, 19235,\n",
       "            19236],\n",
       "           dtype='int64', length=13418)"
      ]
     },
     "execution_count": 101,
     "metadata": {},
     "output_type": "execute_result"
    }
   ],
   "source": [
    "levy_train.index"
   ]
  },
  {
   "cell_type": "code",
   "execution_count": 102,
   "metadata": {},
   "outputs": [
    {
     "data": {
      "text/html": [
       "<div>\n",
       "<style scoped>\n",
       "    .dataframe tbody tr th:only-of-type {\n",
       "        vertical-align: middle;\n",
       "    }\n",
       "\n",
       "    .dataframe tbody tr th {\n",
       "        vertical-align: top;\n",
       "    }\n",
       "\n",
       "    .dataframe thead th {\n",
       "        text-align: right;\n",
       "    }\n",
       "</style>\n",
       "<table border=\"1\" class=\"dataframe\">\n",
       "  <thead>\n",
       "    <tr style=\"text-align: right;\">\n",
       "      <th></th>\n",
       "      <th>manufacturer_ACURA</th>\n",
       "      <th>manufacturer_ALFA ROMEO</th>\n",
       "      <th>manufacturer_ASTON MARTIN</th>\n",
       "      <th>manufacturer_AUDI</th>\n",
       "      <th>manufacturer_BENTLEY</th>\n",
       "      <th>manufacturer_BMW</th>\n",
       "      <th>manufacturer_BUICK</th>\n",
       "      <th>manufacturer_CADILLAC</th>\n",
       "      <th>manufacturer_CHEVROLET</th>\n",
       "      <th>manufacturer_CHRYSLER</th>\n",
       "      <th>...</th>\n",
       "      <th>color_Green</th>\n",
       "      <th>color_Grey</th>\n",
       "      <th>color_Orange</th>\n",
       "      <th>color_Pink</th>\n",
       "      <th>color_Purple</th>\n",
       "      <th>color_Red</th>\n",
       "      <th>color_Silver</th>\n",
       "      <th>color_Sky blue</th>\n",
       "      <th>color_White</th>\n",
       "      <th>color_Yellow</th>\n",
       "    </tr>\n",
       "  </thead>\n",
       "  <tbody>\n",
       "    <tr>\n",
       "      <th>0</th>\n",
       "      <td>0.0</td>\n",
       "      <td>0.0</td>\n",
       "      <td>0.0</td>\n",
       "      <td>0.0</td>\n",
       "      <td>0.0</td>\n",
       "      <td>0.0</td>\n",
       "      <td>0.0</td>\n",
       "      <td>0.0</td>\n",
       "      <td>0.0</td>\n",
       "      <td>0.0</td>\n",
       "      <td>...</td>\n",
       "      <td>0.0</td>\n",
       "      <td>0.0</td>\n",
       "      <td>0.0</td>\n",
       "      <td>0.0</td>\n",
       "      <td>0.0</td>\n",
       "      <td>0.0</td>\n",
       "      <td>1.0</td>\n",
       "      <td>0.0</td>\n",
       "      <td>0.0</td>\n",
       "      <td>0.0</td>\n",
       "    </tr>\n",
       "    <tr>\n",
       "      <th>1</th>\n",
       "      <td>0.0</td>\n",
       "      <td>0.0</td>\n",
       "      <td>0.0</td>\n",
       "      <td>0.0</td>\n",
       "      <td>0.0</td>\n",
       "      <td>0.0</td>\n",
       "      <td>0.0</td>\n",
       "      <td>0.0</td>\n",
       "      <td>1.0</td>\n",
       "      <td>0.0</td>\n",
       "      <td>...</td>\n",
       "      <td>0.0</td>\n",
       "      <td>0.0</td>\n",
       "      <td>0.0</td>\n",
       "      <td>0.0</td>\n",
       "      <td>0.0</td>\n",
       "      <td>0.0</td>\n",
       "      <td>0.0</td>\n",
       "      <td>0.0</td>\n",
       "      <td>0.0</td>\n",
       "      <td>0.0</td>\n",
       "    </tr>\n",
       "    <tr>\n",
       "      <th>3</th>\n",
       "      <td>0.0</td>\n",
       "      <td>0.0</td>\n",
       "      <td>0.0</td>\n",
       "      <td>0.0</td>\n",
       "      <td>0.0</td>\n",
       "      <td>0.0</td>\n",
       "      <td>0.0</td>\n",
       "      <td>0.0</td>\n",
       "      <td>0.0</td>\n",
       "      <td>0.0</td>\n",
       "      <td>...</td>\n",
       "      <td>0.0</td>\n",
       "      <td>0.0</td>\n",
       "      <td>0.0</td>\n",
       "      <td>0.0</td>\n",
       "      <td>0.0</td>\n",
       "      <td>0.0</td>\n",
       "      <td>0.0</td>\n",
       "      <td>0.0</td>\n",
       "      <td>1.0</td>\n",
       "      <td>0.0</td>\n",
       "    </tr>\n",
       "    <tr>\n",
       "      <th>4</th>\n",
       "      <td>0.0</td>\n",
       "      <td>0.0</td>\n",
       "      <td>0.0</td>\n",
       "      <td>0.0</td>\n",
       "      <td>0.0</td>\n",
       "      <td>0.0</td>\n",
       "      <td>0.0</td>\n",
       "      <td>0.0</td>\n",
       "      <td>0.0</td>\n",
       "      <td>0.0</td>\n",
       "      <td>...</td>\n",
       "      <td>0.0</td>\n",
       "      <td>0.0</td>\n",
       "      <td>0.0</td>\n",
       "      <td>0.0</td>\n",
       "      <td>0.0</td>\n",
       "      <td>0.0</td>\n",
       "      <td>1.0</td>\n",
       "      <td>0.0</td>\n",
       "      <td>0.0</td>\n",
       "      <td>0.0</td>\n",
       "    </tr>\n",
       "    <tr>\n",
       "      <th>5</th>\n",
       "      <td>0.0</td>\n",
       "      <td>0.0</td>\n",
       "      <td>0.0</td>\n",
       "      <td>0.0</td>\n",
       "      <td>0.0</td>\n",
       "      <td>0.0</td>\n",
       "      <td>0.0</td>\n",
       "      <td>0.0</td>\n",
       "      <td>0.0</td>\n",
       "      <td>0.0</td>\n",
       "      <td>...</td>\n",
       "      <td>0.0</td>\n",
       "      <td>0.0</td>\n",
       "      <td>0.0</td>\n",
       "      <td>0.0</td>\n",
       "      <td>0.0</td>\n",
       "      <td>0.0</td>\n",
       "      <td>0.0</td>\n",
       "      <td>0.0</td>\n",
       "      <td>1.0</td>\n",
       "      <td>0.0</td>\n",
       "    </tr>\n",
       "  </tbody>\n",
       "</table>\n",
       "<p>5 rows × 1698 columns</p>\n",
       "</div>"
      ],
      "text/plain": [
       "   manufacturer_ACURA  manufacturer_ALFA ROMEO  manufacturer_ASTON MARTIN  \\\n",
       "0                 0.0                      0.0                        0.0   \n",
       "1                 0.0                      0.0                        0.0   \n",
       "3                 0.0                      0.0                        0.0   \n",
       "4                 0.0                      0.0                        0.0   \n",
       "5                 0.0                      0.0                        0.0   \n",
       "\n",
       "   manufacturer_AUDI  manufacturer_BENTLEY  manufacturer_BMW  \\\n",
       "0                0.0                   0.0               0.0   \n",
       "1                0.0                   0.0               0.0   \n",
       "3                0.0                   0.0               0.0   \n",
       "4                0.0                   0.0               0.0   \n",
       "5                0.0                   0.0               0.0   \n",
       "\n",
       "   manufacturer_BUICK  manufacturer_CADILLAC  manufacturer_CHEVROLET  \\\n",
       "0                 0.0                    0.0                     0.0   \n",
       "1                 0.0                    0.0                     1.0   \n",
       "3                 0.0                    0.0                     0.0   \n",
       "4                 0.0                    0.0                     0.0   \n",
       "5                 0.0                    0.0                     0.0   \n",
       "\n",
       "   manufacturer_CHRYSLER  ...  color_Green  color_Grey  color_Orange  \\\n",
       "0                    0.0  ...          0.0         0.0           0.0   \n",
       "1                    0.0  ...          0.0         0.0           0.0   \n",
       "3                    0.0  ...          0.0         0.0           0.0   \n",
       "4                    0.0  ...          0.0         0.0           0.0   \n",
       "5                    0.0  ...          0.0         0.0           0.0   \n",
       "\n",
       "   color_Pink  color_Purple  color_Red  color_Silver  color_Sky blue  \\\n",
       "0         0.0           0.0        0.0           1.0             0.0   \n",
       "1         0.0           0.0        0.0           0.0             0.0   \n",
       "3         0.0           0.0        0.0           0.0             0.0   \n",
       "4         0.0           0.0        0.0           1.0             0.0   \n",
       "5         0.0           0.0        0.0           0.0             0.0   \n",
       "\n",
       "   color_White  color_Yellow  \n",
       "0          0.0           0.0  \n",
       "1          0.0           0.0  \n",
       "3          1.0           0.0  \n",
       "4          0.0           0.0  \n",
       "5          1.0           0.0  \n",
       "\n",
       "[5 rows x 1698 columns]"
      ]
     },
     "execution_count": 102,
     "metadata": {},
     "output_type": "execute_result"
    }
   ],
   "source": [
    "levy_encoded = levy_encoded.reset_index(drop=True).set_index(levy_train.index)\n",
    "levy_encoded.head()"
   ]
  },
  {
   "cell_type": "code",
   "execution_count": 103,
   "metadata": {},
   "outputs": [
    {
     "data": {
      "text/plain": [
       "Index(['levy', 'manufacturer', 'model', 'prod', 'category', 'leather', 'fuel',\n",
       "       'engine', 'mileage', 'cylinders', 'gear', 'drive', 'doors', 'wheel',\n",
       "       'color', 'airbags', 'turbo', 'manufacturer_ACURA',\n",
       "       'manufacturer_ALFA ROMEO', 'manufacturer_ASTON MARTIN'],\n",
       "      dtype='object')"
      ]
     },
     "execution_count": 103,
     "metadata": {},
     "output_type": "execute_result"
    }
   ],
   "source": [
    "levy_train.merge(levy_encoded, how='inner', left_index=True, right_index=True).columns[:20]"
   ]
  },
  {
   "cell_type": "code",
   "execution_count": 104,
   "metadata": {},
   "outputs": [],
   "source": [
    "# MERGE GOING ON, RUN WITH CAUTION\n",
    "levy_train = levy_train.merge(levy_encoded, how='inner', left_index=True, right_index=True)"
   ]
  },
  {
   "cell_type": "code",
   "execution_count": 105,
   "metadata": {},
   "outputs": [
    {
     "data": {
      "text/html": [
       "<div>\n",
       "<style scoped>\n",
       "    .dataframe tbody tr th:only-of-type {\n",
       "        vertical-align: middle;\n",
       "    }\n",
       "\n",
       "    .dataframe tbody tr th {\n",
       "        vertical-align: top;\n",
       "    }\n",
       "\n",
       "    .dataframe thead th {\n",
       "        text-align: right;\n",
       "    }\n",
       "</style>\n",
       "<table border=\"1\" class=\"dataframe\">\n",
       "  <thead>\n",
       "    <tr style=\"text-align: right;\">\n",
       "      <th></th>\n",
       "      <th>levy</th>\n",
       "      <th>prod</th>\n",
       "      <th>leather</th>\n",
       "      <th>engine</th>\n",
       "      <th>mileage</th>\n",
       "      <th>cylinders</th>\n",
       "      <th>doors</th>\n",
       "      <th>airbags</th>\n",
       "      <th>turbo</th>\n",
       "      <th>manufacturer_ACURA</th>\n",
       "      <th>...</th>\n",
       "      <th>color_Green</th>\n",
       "      <th>color_Grey</th>\n",
       "      <th>color_Orange</th>\n",
       "      <th>color_Pink</th>\n",
       "      <th>color_Purple</th>\n",
       "      <th>color_Red</th>\n",
       "      <th>color_Silver</th>\n",
       "      <th>color_Sky blue</th>\n",
       "      <th>color_White</th>\n",
       "      <th>color_Yellow</th>\n",
       "    </tr>\n",
       "  </thead>\n",
       "  <tbody>\n",
       "    <tr>\n",
       "      <th>0</th>\n",
       "      <td>1399.0</td>\n",
       "      <td>2010</td>\n",
       "      <td>1</td>\n",
       "      <td>3.5</td>\n",
       "      <td>186005</td>\n",
       "      <td>6.0</td>\n",
       "      <td>4</td>\n",
       "      <td>12</td>\n",
       "      <td>0</td>\n",
       "      <td>0.0</td>\n",
       "      <td>...</td>\n",
       "      <td>0.0</td>\n",
       "      <td>0.0</td>\n",
       "      <td>0.0</td>\n",
       "      <td>0.0</td>\n",
       "      <td>0.0</td>\n",
       "      <td>0.0</td>\n",
       "      <td>1.0</td>\n",
       "      <td>0.0</td>\n",
       "      <td>0.0</td>\n",
       "      <td>0.0</td>\n",
       "    </tr>\n",
       "    <tr>\n",
       "      <th>1</th>\n",
       "      <td>1018.0</td>\n",
       "      <td>2011</td>\n",
       "      <td>0</td>\n",
       "      <td>3.0</td>\n",
       "      <td>192000</td>\n",
       "      <td>6.0</td>\n",
       "      <td>4</td>\n",
       "      <td>8</td>\n",
       "      <td>0</td>\n",
       "      <td>0.0</td>\n",
       "      <td>...</td>\n",
       "      <td>0.0</td>\n",
       "      <td>0.0</td>\n",
       "      <td>0.0</td>\n",
       "      <td>0.0</td>\n",
       "      <td>0.0</td>\n",
       "      <td>0.0</td>\n",
       "      <td>0.0</td>\n",
       "      <td>0.0</td>\n",
       "      <td>0.0</td>\n",
       "      <td>0.0</td>\n",
       "    </tr>\n",
       "    <tr>\n",
       "      <th>3</th>\n",
       "      <td>862.0</td>\n",
       "      <td>2011</td>\n",
       "      <td>1</td>\n",
       "      <td>2.5</td>\n",
       "      <td>168966</td>\n",
       "      <td>4.0</td>\n",
       "      <td>4</td>\n",
       "      <td>0</td>\n",
       "      <td>0</td>\n",
       "      <td>0.0</td>\n",
       "      <td>...</td>\n",
       "      <td>0.0</td>\n",
       "      <td>0.0</td>\n",
       "      <td>0.0</td>\n",
       "      <td>0.0</td>\n",
       "      <td>0.0</td>\n",
       "      <td>0.0</td>\n",
       "      <td>0.0</td>\n",
       "      <td>0.0</td>\n",
       "      <td>1.0</td>\n",
       "      <td>0.0</td>\n",
       "    </tr>\n",
       "  </tbody>\n",
       "</table>\n",
       "<p>3 rows × 1707 columns</p>\n",
       "</div>"
      ],
      "text/plain": [
       "     levy  prod  leather  engine  mileage  cylinders  doors  airbags  turbo  \\\n",
       "0  1399.0  2010        1     3.5   186005        6.0      4       12      0   \n",
       "1  1018.0  2011        0     3.0   192000        6.0      4        8      0   \n",
       "3   862.0  2011        1     2.5   168966        4.0      4        0      0   \n",
       "\n",
       "   manufacturer_ACURA  ...  color_Green  color_Grey  color_Orange  color_Pink  \\\n",
       "0                 0.0  ...          0.0         0.0           0.0         0.0   \n",
       "1                 0.0  ...          0.0         0.0           0.0         0.0   \n",
       "3                 0.0  ...          0.0         0.0           0.0         0.0   \n",
       "\n",
       "   color_Purple  color_Red  color_Silver  color_Sky blue  color_White  \\\n",
       "0           0.0        0.0           1.0             0.0          0.0   \n",
       "1           0.0        0.0           0.0             0.0          0.0   \n",
       "3           0.0        0.0           0.0             0.0          1.0   \n",
       "\n",
       "   color_Yellow  \n",
       "0           0.0  \n",
       "1           0.0  \n",
       "3           0.0  \n",
       "\n",
       "[3 rows x 1707 columns]"
      ]
     },
     "execution_count": 105,
     "metadata": {},
     "output_type": "execute_result"
    }
   ],
   "source": [
    "levy_train = levy_train.drop(categorical_cols, axis=1)\n",
    "levy_train.head(3)"
   ]
  },
  {
   "cell_type": "code",
   "execution_count": 107,
   "metadata": {},
   "outputs": [
    {
     "data": {
      "text/plain": [
       "Index(['levy', 'prod', 'leather', 'engine', 'mileage', 'cylinders', 'doors',\n",
       "       'airbags', 'turbo', 'manufacturer_ACURA', 'manufacturer_ALFA ROMEO',\n",
       "       'manufacturer_ASTON MARTIN'],\n",
       "      dtype='object')"
      ]
     },
     "execution_count": 107,
     "metadata": {},
     "output_type": "execute_result"
    }
   ],
   "source": [
    "levy_train.columns[:12]"
   ]
  },
  {
   "cell_type": "markdown",
   "metadata": {},
   "source": [
    "####  transform levy test"
   ]
  },
  {
   "cell_type": "code",
   "execution_count": 115,
   "metadata": {},
   "outputs": [
    {
     "data": {
      "text/plain": [
       "(5819, 16)"
      ]
     },
     "execution_count": 115,
     "metadata": {},
     "output_type": "execute_result"
    }
   ],
   "source": [
    "levy_test.shape"
   ]
  },
  {
   "cell_type": "code",
   "execution_count": 116,
   "metadata": {},
   "outputs": [
    {
     "data": {
      "text/plain": [
       "(5819, 1698)"
      ]
     },
     "execution_count": 116,
     "metadata": {},
     "output_type": "execute_result"
    }
   ],
   "source": [
    "levy_test_encoded = pd.DataFrame(ohlevy.transform(levy_test.select_dtypes('object')), columns= encoded_cols)\n",
    "levy_test_encoded.shape"
   ]
  },
  {
   "cell_type": "code",
   "execution_count": 118,
   "metadata": {},
   "outputs": [],
   "source": [
    "levy_test_encoded = levy_test_encoded.reset_index(drop=True).set_index(levy_test.index)"
   ]
  },
  {
   "cell_type": "code",
   "execution_count": 121,
   "metadata": {},
   "outputs": [
    {
     "data": {
      "text/html": [
       "<div>\n",
       "<style scoped>\n",
       "    .dataframe tbody tr th:only-of-type {\n",
       "        vertical-align: middle;\n",
       "    }\n",
       "\n",
       "    .dataframe tbody tr th {\n",
       "        vertical-align: top;\n",
       "    }\n",
       "\n",
       "    .dataframe thead th {\n",
       "        text-align: right;\n",
       "    }\n",
       "</style>\n",
       "<table border=\"1\" class=\"dataframe\">\n",
       "  <thead>\n",
       "    <tr style=\"text-align: right;\">\n",
       "      <th></th>\n",
       "      <th>manufacturer_ACURA</th>\n",
       "      <th>manufacturer_ALFA ROMEO</th>\n",
       "      <th>manufacturer_ASTON MARTIN</th>\n",
       "      <th>manufacturer_AUDI</th>\n",
       "      <th>manufacturer_BENTLEY</th>\n",
       "      <th>manufacturer_BMW</th>\n",
       "      <th>manufacturer_BUICK</th>\n",
       "      <th>manufacturer_CADILLAC</th>\n",
       "      <th>manufacturer_CHEVROLET</th>\n",
       "      <th>manufacturer_CHRYSLER</th>\n",
       "      <th>...</th>\n",
       "      <th>color_Green</th>\n",
       "      <th>color_Grey</th>\n",
       "      <th>color_Orange</th>\n",
       "      <th>color_Pink</th>\n",
       "      <th>color_Purple</th>\n",
       "      <th>color_Red</th>\n",
       "      <th>color_Silver</th>\n",
       "      <th>color_Sky blue</th>\n",
       "      <th>color_White</th>\n",
       "      <th>color_Yellow</th>\n",
       "    </tr>\n",
       "  </thead>\n",
       "  <tbody>\n",
       "    <tr>\n",
       "      <th>2</th>\n",
       "      <td>0.0</td>\n",
       "      <td>0.0</td>\n",
       "      <td>0.0</td>\n",
       "      <td>0.0</td>\n",
       "      <td>0.0</td>\n",
       "      <td>0.0</td>\n",
       "      <td>0.0</td>\n",
       "      <td>0.0</td>\n",
       "      <td>0.0</td>\n",
       "      <td>0.0</td>\n",
       "      <td>...</td>\n",
       "      <td>0.0</td>\n",
       "      <td>0.0</td>\n",
       "      <td>0.0</td>\n",
       "      <td>0.0</td>\n",
       "      <td>0.0</td>\n",
       "      <td>0.0</td>\n",
       "      <td>0.0</td>\n",
       "      <td>0.0</td>\n",
       "      <td>0.0</td>\n",
       "      <td>0.0</td>\n",
       "    </tr>\n",
       "    <tr>\n",
       "      <th>9</th>\n",
       "      <td>0.0</td>\n",
       "      <td>0.0</td>\n",
       "      <td>0.0</td>\n",
       "      <td>0.0</td>\n",
       "      <td>0.0</td>\n",
       "      <td>0.0</td>\n",
       "      <td>0.0</td>\n",
       "      <td>0.0</td>\n",
       "      <td>0.0</td>\n",
       "      <td>0.0</td>\n",
       "      <td>...</td>\n",
       "      <td>0.0</td>\n",
       "      <td>0.0</td>\n",
       "      <td>0.0</td>\n",
       "      <td>0.0</td>\n",
       "      <td>0.0</td>\n",
       "      <td>0.0</td>\n",
       "      <td>1.0</td>\n",
       "      <td>0.0</td>\n",
       "      <td>0.0</td>\n",
       "      <td>0.0</td>\n",
       "    </tr>\n",
       "    <tr>\n",
       "      <th>11</th>\n",
       "      <td>0.0</td>\n",
       "      <td>0.0</td>\n",
       "      <td>0.0</td>\n",
       "      <td>0.0</td>\n",
       "      <td>0.0</td>\n",
       "      <td>0.0</td>\n",
       "      <td>0.0</td>\n",
       "      <td>0.0</td>\n",
       "      <td>0.0</td>\n",
       "      <td>0.0</td>\n",
       "      <td>...</td>\n",
       "      <td>0.0</td>\n",
       "      <td>0.0</td>\n",
       "      <td>0.0</td>\n",
       "      <td>0.0</td>\n",
       "      <td>0.0</td>\n",
       "      <td>0.0</td>\n",
       "      <td>0.0</td>\n",
       "      <td>0.0</td>\n",
       "      <td>0.0</td>\n",
       "      <td>0.0</td>\n",
       "    </tr>\n",
       "  </tbody>\n",
       "</table>\n",
       "<p>3 rows × 1698 columns</p>\n",
       "</div>"
      ],
      "text/plain": [
       "    manufacturer_ACURA  manufacturer_ALFA ROMEO  manufacturer_ASTON MARTIN  \\\n",
       "2                  0.0                      0.0                        0.0   \n",
       "9                  0.0                      0.0                        0.0   \n",
       "11                 0.0                      0.0                        0.0   \n",
       "\n",
       "    manufacturer_AUDI  manufacturer_BENTLEY  manufacturer_BMW  \\\n",
       "2                 0.0                   0.0               0.0   \n",
       "9                 0.0                   0.0               0.0   \n",
       "11                0.0                   0.0               0.0   \n",
       "\n",
       "    manufacturer_BUICK  manufacturer_CADILLAC  manufacturer_CHEVROLET  \\\n",
       "2                  0.0                    0.0                     0.0   \n",
       "9                  0.0                    0.0                     0.0   \n",
       "11                 0.0                    0.0                     0.0   \n",
       "\n",
       "    manufacturer_CHRYSLER  ...  color_Green  color_Grey  color_Orange  \\\n",
       "2                     0.0  ...          0.0         0.0           0.0   \n",
       "9                     0.0  ...          0.0         0.0           0.0   \n",
       "11                    0.0  ...          0.0         0.0           0.0   \n",
       "\n",
       "    color_Pink  color_Purple  color_Red  color_Silver  color_Sky blue  \\\n",
       "2          0.0           0.0        0.0           0.0             0.0   \n",
       "9          0.0           0.0        0.0           1.0             0.0   \n",
       "11         0.0           0.0        0.0           0.0             0.0   \n",
       "\n",
       "    color_White  color_Yellow  \n",
       "2           0.0           0.0  \n",
       "9           0.0           0.0  \n",
       "11          0.0           0.0  \n",
       "\n",
       "[3 rows x 1698 columns]"
      ]
     },
     "execution_count": 121,
     "metadata": {},
     "output_type": "execute_result"
    }
   ],
   "source": [
    "levy_test_encoded.head(3)"
   ]
  },
  {
   "cell_type": "code",
   "execution_count": 125,
   "metadata": {},
   "outputs": [
    {
     "data": {
      "text/plain": [
       "(5819, 1714)"
      ]
     },
     "execution_count": 125,
     "metadata": {},
     "output_type": "execute_result"
    }
   ],
   "source": [
    "# MERGE GOING ON, RUN WITH CAUTION\n",
    "levy_test = levy_test.merge(levy_test_encoded, how='inner', left_index=True, right_index=True)\n",
    "levy_test.shape"
   ]
  },
  {
   "cell_type": "code",
   "execution_count": 126,
   "metadata": {},
   "outputs": [
    {
     "data": {
      "text/plain": [
       "(5819, 1706)"
      ]
     },
     "execution_count": 126,
     "metadata": {},
     "output_type": "execute_result"
    }
   ],
   "source": [
    "levy_test = levy_test.drop(categorical_cols, axis=1)\n",
    "levy_test.shape"
   ]
  },
  {
   "cell_type": "code",
   "execution_count": 128,
   "metadata": {},
   "outputs": [
    {
     "data": {
      "text/html": [
       "<div>\n",
       "<style scoped>\n",
       "    .dataframe tbody tr th:only-of-type {\n",
       "        vertical-align: middle;\n",
       "    }\n",
       "\n",
       "    .dataframe tbody tr th {\n",
       "        vertical-align: top;\n",
       "    }\n",
       "\n",
       "    .dataframe thead th {\n",
       "        text-align: right;\n",
       "    }\n",
       "</style>\n",
       "<table border=\"1\" class=\"dataframe\">\n",
       "  <thead>\n",
       "    <tr style=\"text-align: right;\">\n",
       "      <th></th>\n",
       "      <th>prod</th>\n",
       "      <th>leather</th>\n",
       "      <th>engine</th>\n",
       "      <th>mileage</th>\n",
       "      <th>cylinders</th>\n",
       "      <th>doors</th>\n",
       "      <th>airbags</th>\n",
       "      <th>turbo</th>\n",
       "      <th>manufacturer_ACURA</th>\n",
       "      <th>manufacturer_ALFA ROMEO</th>\n",
       "      <th>...</th>\n",
       "      <th>color_Green</th>\n",
       "      <th>color_Grey</th>\n",
       "      <th>color_Orange</th>\n",
       "      <th>color_Pink</th>\n",
       "      <th>color_Purple</th>\n",
       "      <th>color_Red</th>\n",
       "      <th>color_Silver</th>\n",
       "      <th>color_Sky blue</th>\n",
       "      <th>color_White</th>\n",
       "      <th>color_Yellow</th>\n",
       "    </tr>\n",
       "  </thead>\n",
       "  <tbody>\n",
       "    <tr>\n",
       "      <th>2</th>\n",
       "      <td>2006</td>\n",
       "      <td>0</td>\n",
       "      <td>1.3</td>\n",
       "      <td>200000</td>\n",
       "      <td>4.0</td>\n",
       "      <td>4</td>\n",
       "      <td>2</td>\n",
       "      <td>0</td>\n",
       "      <td>0.0</td>\n",
       "      <td>0.0</td>\n",
       "      <td>...</td>\n",
       "      <td>0.0</td>\n",
       "      <td>0.0</td>\n",
       "      <td>0.0</td>\n",
       "      <td>0.0</td>\n",
       "      <td>0.0</td>\n",
       "      <td>0.0</td>\n",
       "      <td>0.0</td>\n",
       "      <td>0.0</td>\n",
       "      <td>0.0</td>\n",
       "      <td>0.0</td>\n",
       "    </tr>\n",
       "    <tr>\n",
       "      <th>9</th>\n",
       "      <td>2007</td>\n",
       "      <td>1</td>\n",
       "      <td>3.5</td>\n",
       "      <td>128500</td>\n",
       "      <td>6.0</td>\n",
       "      <td>4</td>\n",
       "      <td>12</td>\n",
       "      <td>0</td>\n",
       "      <td>0.0</td>\n",
       "      <td>0.0</td>\n",
       "      <td>...</td>\n",
       "      <td>0.0</td>\n",
       "      <td>0.0</td>\n",
       "      <td>0.0</td>\n",
       "      <td>0.0</td>\n",
       "      <td>0.0</td>\n",
       "      <td>0.0</td>\n",
       "      <td>1.0</td>\n",
       "      <td>0.0</td>\n",
       "      <td>0.0</td>\n",
       "      <td>0.0</td>\n",
       "    </tr>\n",
       "  </tbody>\n",
       "</table>\n",
       "<p>2 rows × 1706 columns</p>\n",
       "</div>"
      ],
      "text/plain": [
       "   prod  leather  engine  mileage  cylinders  doors  airbags  turbo  \\\n",
       "2  2006        0     1.3   200000        4.0      4        2      0   \n",
       "9  2007        1     3.5   128500        6.0      4       12      0   \n",
       "\n",
       "   manufacturer_ACURA  manufacturer_ALFA ROMEO  ...  color_Green  color_Grey  \\\n",
       "2                 0.0                      0.0  ...          0.0         0.0   \n",
       "9                 0.0                      0.0  ...          0.0         0.0   \n",
       "\n",
       "   color_Orange  color_Pink  color_Purple  color_Red  color_Silver  \\\n",
       "2           0.0         0.0           0.0        0.0           0.0   \n",
       "9           0.0         0.0           0.0        0.0           1.0   \n",
       "\n",
       "   color_Sky blue  color_White  color_Yellow  \n",
       "2             0.0          0.0           0.0  \n",
       "9             0.0          0.0           0.0  \n",
       "\n",
       "[2 rows x 1706 columns]"
      ]
     },
     "execution_count": 128,
     "metadata": {},
     "output_type": "execute_result"
    }
   ],
   "source": [
    "levy_test.head(2)"
   ]
  },
  {
   "cell_type": "markdown",
   "metadata": {},
   "source": [
    "### fitting RF to predict levy for rows where levy is null (without log transforming levy)"
   ]
  },
  {
   "cell_type": "code",
   "execution_count": null,
   "metadata": {},
   "outputs": [],
   "source": [
    "from sklearn.ensemble import RandomForestRegressor\n",
    "rflevy = RandomForestRegressor(max_depth = 20, n_estimators = 50, max_leaf_nodes = 256)"
   ]
  },
  {
   "cell_type": "code",
   "execution_count": 109,
   "metadata": {},
   "outputs": [
    {
     "data": {
      "text/plain": [
       "RandomForestRegressor(max_depth=20, max_leaf_nodes=256, n_estimators=50)"
      ]
     },
     "execution_count": 109,
     "metadata": {},
     "output_type": "execute_result"
    }
   ],
   "source": [
    "rflevy.fit(levy_train.drop('levy', axis=1).values, levy_train['levy'].values)"
   ]
  },
  {
   "cell_type": "code",
   "execution_count": 148,
   "metadata": {},
   "outputs": [
    {
     "data": {
      "text/plain": [
       "array([1400.01270052, 1018.16867518,  841.27786236, ...,  835.75770736,\n",
       "       1280.93940236,  752.3918122 ])"
      ]
     },
     "execution_count": 148,
     "metadata": {},
     "output_type": "execute_result"
    }
   ],
   "source": [
    "levy_train_preds = rflevy.predict(levy_train.drop('levy', axis=1).values)\n",
    "levy_train_preds"
   ]
  },
  {
   "cell_type": "code",
   "execution_count": 151,
   "metadata": {},
   "outputs": [
    {
     "data": {
      "text/plain": [
       "<matplotlib.axes._subplots.AxesSubplot at 0x1e57ae6b7f0>"
      ]
     },
     "execution_count": 151,
     "metadata": {},
     "output_type": "execute_result"
    },
    {
     "data": {
      "image/png": "[encoded data removed]",
      "text/plain": [
       "<Figure size 432x288 with 1 Axes>"
      ]
     },
     "metadata": {
      "needs_background": "light"
     },
     "output_type": "display_data"
    }
   ],
   "source": [
    "(levy_train_preds - levy_train['levy']).plot()"
   ]
  },
  {
   "cell_type": "code",
   "execution_count": 129,
   "metadata": {},
   "outputs": [],
   "source": [
    "levy_test_preds = rflevy.predict(levy_test.values)"
   ]
  },
  {
   "cell_type": "code",
   "execution_count": 137,
   "metadata": {},
   "outputs": [
    {
     "data": {
      "text/plain": [
       "array([3245.538     , 2164.81870638, 3341.33338095, ..., 6414.568     ,\n",
       "        841.43257887, 1687.01000238])"
      ]
     },
     "execution_count": 137,
     "metadata": {},
     "output_type": "execute_result"
    }
   ],
   "source": [
    "levy_test_preds"
   ]
  },
  {
   "cell_type": "markdown",
   "metadata": {},
   "source": [
    "### inserting predicted levy into original dataframe"
   ]
  },
  {
   "cell_type": "code",
   "execution_count": 133,
   "metadata": {},
   "outputs": [],
   "source": [
    "df['levy_pred'] = np.nan\n",
    "df['levy_log_pred'] = np.nan"
   ]
  },
  {
   "cell_type": "code",
   "execution_count": 144,
   "metadata": {},
   "outputs": [
    {
     "data": {
      "text/plain": [
       "0"
      ]
     },
     "execution_count": 144,
     "metadata": {},
     "output_type": "execute_result"
    }
   ],
   "source": [
    "df.loc[levy_test.index, 'levy_pred'] = levy_test_preds\n",
    "df.loc[levy_train.index, 'levy_pred'] = levy_train['levy']\n",
    "df['levy_pred'].isna().sum()"
   ]
  },
  {
   "cell_type": "code",
   "execution_count": 155,
   "metadata": {},
   "outputs": [
    {
     "data": {
      "text/plain": [
       "<seaborn.axisgrid.FacetGrid at 0x1e57af38e80>"
      ]
     },
     "execution_count": 155,
     "metadata": {},
     "output_type": "execute_result"
    },
    {
     "data": {
      "image/png": "[encoded data removed]",
      "text/plain": [
       "<Figure size 360x360 with 1 Axes>"
      ]
     },
     "metadata": {
      "needs_background": "light"
     },
     "output_type": "display_data"
    }
   ],
   "source": [
    "sns.displot(x= np.log(df['levy']))"
   ]
  },
  {
   "cell_type": "code",
   "execution_count": 145,
   "metadata": {},
   "outputs": [
    {
     "data": {
      "text/plain": [
       "<seaborn.axisgrid.FacetGrid at 0x1e506db48b0>"
      ]
     },
     "execution_count": 145,
     "metadata": {},
     "output_type": "execute_result"
    },
    {
     "data": {
      "image/png": "[encoded data removed]",
      "text/plain": [
       "<Figure size 360x360 with 1 Axes>"
      ]
     },
     "metadata": {
      "needs_background": "light"
     },
     "output_type": "display_data"
    }
   ],
   "source": [
    "sns.displot(x= np.log(df['levy_pred']))"
   ]
  },
  {
   "cell_type": "markdown",
   "metadata": {},
   "source": [
    "### predicting log levy"
   ]
  },
  {
   "cell_type": "code",
   "execution_count": 156,
   "metadata": {},
   "outputs": [],
   "source": [
    "rfloglevy = RandomForestRegressor(max_depth = 20, n_estimators = 50, max_leaf_nodes = 256)"
   ]
  },
  {
   "cell_type": "code",
   "execution_count": 159,
   "metadata": {},
   "outputs": [
    {
     "data": {
      "text/plain": [
       "RandomForestRegressor(max_depth=20, max_leaf_nodes=256, n_estimators=50)"
      ]
     },
     "execution_count": 159,
     "metadata": {},
     "output_type": "execute_result"
    }
   ],
   "source": [
    "rfloglevy.fit(levy_train.drop('levy', axis=1).values, np.log(levy_train['levy'].values))"
   ]
  },
  {
   "cell_type": "code",
   "execution_count": 160,
   "metadata": {},
   "outputs": [
    {
     "data": {
      "text/plain": [
       "array([7.24449752, 6.92598758, 6.7347605 , ..., 6.7283129 , 7.1557021 ,\n",
       "       6.62323813])"
      ]
     },
     "execution_count": 160,
     "metadata": {},
     "output_type": "execute_result"
    }
   ],
   "source": [
    "levy_train_log_preds = rfloglevy.predict(levy_train.drop('levy', axis=1).values)\n",
    "levy_train_log_preds"
   ]
  },
  {
   "cell_type": "code",
   "execution_count": 162,
   "metadata": {},
   "outputs": [
    {
     "data": {
      "text/plain": [
       "array([7.84375871, 7.62627427, 8.09823537, ..., 8.70952652, 6.73614358,\n",
       "       7.44688582])"
      ]
     },
     "execution_count": 162,
     "metadata": {},
     "output_type": "execute_result"
    }
   ],
   "source": [
    "levy_test_log_preds = rfloglevy.predict(levy_test.values)\n",
    "levy_test_log_preds"
   ]
  },
  {
   "cell_type": "code",
   "execution_count": 163,
   "metadata": {},
   "outputs": [
    {
     "data": {
      "text/html": [
       "<div>\n",
       "<style scoped>\n",
       "    .dataframe tbody tr th:only-of-type {\n",
       "        vertical-align: middle;\n",
       "    }\n",
       "\n",
       "    .dataframe tbody tr th {\n",
       "        vertical-align: top;\n",
       "    }\n",
       "\n",
       "    .dataframe thead th {\n",
       "        text-align: right;\n",
       "    }\n",
       "</style>\n",
       "<table border=\"1\" class=\"dataframe\">\n",
       "  <thead>\n",
       "    <tr style=\"text-align: right;\">\n",
       "      <th></th>\n",
       "      <th>levy</th>\n",
       "      <th>manufacturer</th>\n",
       "      <th>model</th>\n",
       "      <th>prod</th>\n",
       "      <th>category</th>\n",
       "      <th>leather</th>\n",
       "      <th>fuel</th>\n",
       "      <th>engine</th>\n",
       "      <th>mileage</th>\n",
       "      <th>cylinders</th>\n",
       "      <th>...</th>\n",
       "      <th>drive</th>\n",
       "      <th>doors</th>\n",
       "      <th>wheel</th>\n",
       "      <th>color</th>\n",
       "      <th>airbags</th>\n",
       "      <th>price</th>\n",
       "      <th>turbo</th>\n",
       "      <th>levy_na</th>\n",
       "      <th>levy_pred</th>\n",
       "      <th>levy_log_pred</th>\n",
       "    </tr>\n",
       "  </thead>\n",
       "  <tbody>\n",
       "    <tr>\n",
       "      <th>0</th>\n",
       "      <td>1399.0</td>\n",
       "      <td>LEXUS</td>\n",
       "      <td>RX 450</td>\n",
       "      <td>2010</td>\n",
       "      <td>Jeep</td>\n",
       "      <td>1</td>\n",
       "      <td>Hybrid</td>\n",
       "      <td>3.5</td>\n",
       "      <td>186005</td>\n",
       "      <td>6.0</td>\n",
       "      <td>...</td>\n",
       "      <td>4x4</td>\n",
       "      <td>4</td>\n",
       "      <td>left</td>\n",
       "      <td>Silver</td>\n",
       "      <td>12</td>\n",
       "      <td>9.497622</td>\n",
       "      <td>0</td>\n",
       "      <td>False</td>\n",
       "      <td>1399.000</td>\n",
       "      <td>NaN</td>\n",
       "    </tr>\n",
       "    <tr>\n",
       "      <th>1</th>\n",
       "      <td>1018.0</td>\n",
       "      <td>CHEVROLET</td>\n",
       "      <td>Equinox</td>\n",
       "      <td>2011</td>\n",
       "      <td>Jeep</td>\n",
       "      <td>0</td>\n",
       "      <td>Petrol</td>\n",
       "      <td>3.0</td>\n",
       "      <td>192000</td>\n",
       "      <td>6.0</td>\n",
       "      <td>...</td>\n",
       "      <td>4x4</td>\n",
       "      <td>4</td>\n",
       "      <td>left</td>\n",
       "      <td>Black</td>\n",
       "      <td>8</td>\n",
       "      <td>9.718422</td>\n",
       "      <td>0</td>\n",
       "      <td>False</td>\n",
       "      <td>1018.000</td>\n",
       "      <td>NaN</td>\n",
       "    </tr>\n",
       "    <tr>\n",
       "      <th>2</th>\n",
       "      <td>NaN</td>\n",
       "      <td>HONDA</td>\n",
       "      <td>FIT</td>\n",
       "      <td>2006</td>\n",
       "      <td>Hatchback</td>\n",
       "      <td>0</td>\n",
       "      <td>Petrol</td>\n",
       "      <td>1.3</td>\n",
       "      <td>200000</td>\n",
       "      <td>4.0</td>\n",
       "      <td>...</td>\n",
       "      <td>Front</td>\n",
       "      <td>4</td>\n",
       "      <td>right</td>\n",
       "      <td>Black</td>\n",
       "      <td>2</td>\n",
       "      <td>9.043932</td>\n",
       "      <td>0</td>\n",
       "      <td>True</td>\n",
       "      <td>3245.538</td>\n",
       "      <td>NaN</td>\n",
       "    </tr>\n",
       "    <tr>\n",
       "      <th>3</th>\n",
       "      <td>862.0</td>\n",
       "      <td>FORD</td>\n",
       "      <td>Escape</td>\n",
       "      <td>2011</td>\n",
       "      <td>Jeep</td>\n",
       "      <td>1</td>\n",
       "      <td>Hybrid</td>\n",
       "      <td>2.5</td>\n",
       "      <td>168966</td>\n",
       "      <td>4.0</td>\n",
       "      <td>...</td>\n",
       "      <td>4x4</td>\n",
       "      <td>4</td>\n",
       "      <td>left</td>\n",
       "      <td>White</td>\n",
       "      <td>0</td>\n",
       "      <td>8.190632</td>\n",
       "      <td>0</td>\n",
       "      <td>False</td>\n",
       "      <td>862.000</td>\n",
       "      <td>NaN</td>\n",
       "    </tr>\n",
       "    <tr>\n",
       "      <th>4</th>\n",
       "      <td>446.0</td>\n",
       "      <td>HONDA</td>\n",
       "      <td>FIT</td>\n",
       "      <td>2014</td>\n",
       "      <td>Hatchback</td>\n",
       "      <td>1</td>\n",
       "      <td>Petrol</td>\n",
       "      <td>1.3</td>\n",
       "      <td>91901</td>\n",
       "      <td>4.0</td>\n",
       "      <td>...</td>\n",
       "      <td>Front</td>\n",
       "      <td>4</td>\n",
       "      <td>left</td>\n",
       "      <td>Silver</td>\n",
       "      <td>4</td>\n",
       "      <td>9.369564</td>\n",
       "      <td>0</td>\n",
       "      <td>False</td>\n",
       "      <td>446.000</td>\n",
       "      <td>NaN</td>\n",
       "    </tr>\n",
       "  </tbody>\n",
       "</table>\n",
       "<p>5 rows × 21 columns</p>\n",
       "</div>"
      ],
      "text/plain": [
       "     levy manufacturer    model  prod   category  leather    fuel  engine  \\\n",
       "0  1399.0        LEXUS   RX 450  2010       Jeep        1  Hybrid     3.5   \n",
       "1  1018.0    CHEVROLET  Equinox  2011       Jeep        0  Petrol     3.0   \n",
       "2     NaN        HONDA      FIT  2006  Hatchback        0  Petrol     1.3   \n",
       "3   862.0         FORD   Escape  2011       Jeep        1  Hybrid     2.5   \n",
       "4   446.0        HONDA      FIT  2014  Hatchback        1  Petrol     1.3   \n",
       "\n",
       "   mileage  cylinders  ...  drive doors  wheel   color airbags     price  \\\n",
       "0   186005        6.0  ...    4x4     4   left  Silver      12  9.497622   \n",
       "1   192000        6.0  ...    4x4     4   left   Black       8  9.718422   \n",
       "2   200000        4.0  ...  Front     4  right   Black       2  9.043932   \n",
       "3   168966        4.0  ...    4x4     4   left   White       0  8.190632   \n",
       "4    91901        4.0  ...  Front     4   left  Silver       4  9.369564   \n",
       "\n",
       "   turbo  levy_na  levy_pred  levy_log_pred  \n",
       "0      0    False   1399.000            NaN  \n",
       "1      0    False   1018.000            NaN  \n",
       "2      0     True   3245.538            NaN  \n",
       "3      0    False    862.000            NaN  \n",
       "4      0    False    446.000            NaN  \n",
       "\n",
       "[5 rows x 21 columns]"
      ]
     },
     "execution_count": 163,
     "metadata": {},
     "output_type": "execute_result"
    }
   ],
   "source": [
    "df.head()"
   ]
  },
  {
   "cell_type": "code",
   "execution_count": 166,
   "metadata": {},
   "outputs": [
    {
     "data": {
      "text/plain": [
       "0        7.243513\n",
       "1        6.925595\n",
       "3        6.759255\n",
       "4        6.100319\n",
       "5        6.792344\n",
       "           ...   \n",
       "19231    6.961296\n",
       "19233    6.722630\n",
       "19234    6.728629\n",
       "19235    7.160846\n",
       "19236    6.624065\n",
       "Name: levy, Length: 13418, dtype: float64"
      ]
     },
     "execution_count": 166,
     "metadata": {},
     "output_type": "execute_result"
    }
   ],
   "source": [
    "np.log(levy_train['levy'])"
   ]
  },
  {
   "cell_type": "code",
   "execution_count": 167,
   "metadata": {},
   "outputs": [],
   "source": [
    "df.loc[levy_test.index, 'levy_log_pred'] = levy_test_log_preds\n",
    "df.loc[levy_train.index, 'levy_log_pred'] = np.log(levy_train['levy'])"
   ]
  },
  {
   "cell_type": "code",
   "execution_count": 168,
   "metadata": {},
   "outputs": [
    {
     "data": {
      "text/html": [
       "<div>\n",
       "<style scoped>\n",
       "    .dataframe tbody tr th:only-of-type {\n",
       "        vertical-align: middle;\n",
       "    }\n",
       "\n",
       "    .dataframe tbody tr th {\n",
       "        vertical-align: top;\n",
       "    }\n",
       "\n",
       "    .dataframe thead th {\n",
       "        text-align: right;\n",
       "    }\n",
       "</style>\n",
       "<table border=\"1\" class=\"dataframe\">\n",
       "  <thead>\n",
       "    <tr style=\"text-align: right;\">\n",
       "      <th></th>\n",
       "      <th>levy</th>\n",
       "      <th>manufacturer</th>\n",
       "      <th>model</th>\n",
       "      <th>prod</th>\n",
       "      <th>category</th>\n",
       "      <th>leather</th>\n",
       "      <th>fuel</th>\n",
       "      <th>engine</th>\n",
       "      <th>mileage</th>\n",
       "      <th>cylinders</th>\n",
       "      <th>...</th>\n",
       "      <th>drive</th>\n",
       "      <th>doors</th>\n",
       "      <th>wheel</th>\n",
       "      <th>color</th>\n",
       "      <th>airbags</th>\n",
       "      <th>price</th>\n",
       "      <th>turbo</th>\n",
       "      <th>levy_na</th>\n",
       "      <th>levy_pred</th>\n",
       "      <th>levy_log_pred</th>\n",
       "    </tr>\n",
       "  </thead>\n",
       "  <tbody>\n",
       "    <tr>\n",
       "      <th>0</th>\n",
       "      <td>1399.0</td>\n",
       "      <td>LEXUS</td>\n",
       "      <td>RX 450</td>\n",
       "      <td>2010</td>\n",
       "      <td>Jeep</td>\n",
       "      <td>1</td>\n",
       "      <td>Hybrid</td>\n",
       "      <td>3.5</td>\n",
       "      <td>186005</td>\n",
       "      <td>6.0</td>\n",
       "      <td>...</td>\n",
       "      <td>4x4</td>\n",
       "      <td>4</td>\n",
       "      <td>left</td>\n",
       "      <td>Silver</td>\n",
       "      <td>12</td>\n",
       "      <td>9.497622</td>\n",
       "      <td>0</td>\n",
       "      <td>False</td>\n",
       "      <td>1399.0</td>\n",
       "      <td>7.243513</td>\n",
       "    </tr>\n",
       "    <tr>\n",
       "      <th>1</th>\n",
       "      <td>1018.0</td>\n",
       "      <td>CHEVROLET</td>\n",
       "      <td>Equinox</td>\n",
       "      <td>2011</td>\n",
       "      <td>Jeep</td>\n",
       "      <td>0</td>\n",
       "      <td>Petrol</td>\n",
       "      <td>3.0</td>\n",
       "      <td>192000</td>\n",
       "      <td>6.0</td>\n",
       "      <td>...</td>\n",
       "      <td>4x4</td>\n",
       "      <td>4</td>\n",
       "      <td>left</td>\n",
       "      <td>Black</td>\n",
       "      <td>8</td>\n",
       "      <td>9.718422</td>\n",
       "      <td>0</td>\n",
       "      <td>False</td>\n",
       "      <td>1018.0</td>\n",
       "      <td>6.925595</td>\n",
       "    </tr>\n",
       "  </tbody>\n",
       "</table>\n",
       "<p>2 rows × 21 columns</p>\n",
       "</div>"
      ],
      "text/plain": [
       "     levy manufacturer    model  prod category  leather    fuel  engine  \\\n",
       "0  1399.0        LEXUS   RX 450  2010     Jeep        1  Hybrid     3.5   \n",
       "1  1018.0    CHEVROLET  Equinox  2011     Jeep        0  Petrol     3.0   \n",
       "\n",
       "   mileage  cylinders  ... drive doors  wheel   color airbags     price  \\\n",
       "0   186005        6.0  ...   4x4     4   left  Silver      12  9.497622   \n",
       "1   192000        6.0  ...   4x4     4   left   Black       8  9.718422   \n",
       "\n",
       "   turbo  levy_na  levy_pred  levy_log_pred  \n",
       "0      0    False     1399.0       7.243513  \n",
       "1      0    False     1018.0       6.925595  \n",
       "\n",
       "[2 rows x 21 columns]"
      ]
     },
     "execution_count": 168,
     "metadata": {},
     "output_type": "execute_result"
    }
   ],
   "source": [
    "df.head(2)"
   ]
  },
  {
   "cell_type": "code",
   "execution_count": 170,
   "metadata": {},
   "outputs": [
    {
     "data": {
      "text/html": [
       "<div>\n",
       "<style scoped>\n",
       "    .dataframe tbody tr th:only-of-type {\n",
       "        vertical-align: middle;\n",
       "    }\n",
       "\n",
       "    .dataframe tbody tr th {\n",
       "        vertical-align: top;\n",
       "    }\n",
       "\n",
       "    .dataframe thead th {\n",
       "        text-align: right;\n",
       "    }\n",
       "</style>\n",
       "<table border=\"1\" class=\"dataframe\">\n",
       "  <thead>\n",
       "    <tr style=\"text-align: right;\">\n",
       "      <th></th>\n",
       "      <th>levy</th>\n",
       "      <th>manufacturer</th>\n",
       "      <th>model</th>\n",
       "      <th>prod</th>\n",
       "      <th>category</th>\n",
       "      <th>leather</th>\n",
       "      <th>fuel</th>\n",
       "      <th>engine</th>\n",
       "      <th>mileage</th>\n",
       "      <th>cylinders</th>\n",
       "      <th>...</th>\n",
       "      <th>doors</th>\n",
       "      <th>wheel</th>\n",
       "      <th>color</th>\n",
       "      <th>airbags</th>\n",
       "      <th>price</th>\n",
       "      <th>turbo</th>\n",
       "      <th>levy_na</th>\n",
       "      <th>levy_pred</th>\n",
       "      <th>levy_log_pred</th>\n",
       "      <th>logprice</th>\n",
       "    </tr>\n",
       "  </thead>\n",
       "  <tbody>\n",
       "    <tr>\n",
       "      <th>0</th>\n",
       "      <td>1399.0</td>\n",
       "      <td>LEXUS</td>\n",
       "      <td>RX 450</td>\n",
       "      <td>2010</td>\n",
       "      <td>Jeep</td>\n",
       "      <td>1</td>\n",
       "      <td>Hybrid</td>\n",
       "      <td>3.5</td>\n",
       "      <td>186005</td>\n",
       "      <td>6.0</td>\n",
       "      <td>...</td>\n",
       "      <td>4</td>\n",
       "      <td>left</td>\n",
       "      <td>Silver</td>\n",
       "      <td>12</td>\n",
       "      <td>13328</td>\n",
       "      <td>0</td>\n",
       "      <td>False</td>\n",
       "      <td>1399.0</td>\n",
       "      <td>7.243513</td>\n",
       "      <td>9.497622</td>\n",
       "    </tr>\n",
       "    <tr>\n",
       "      <th>1</th>\n",
       "      <td>1018.0</td>\n",
       "      <td>CHEVROLET</td>\n",
       "      <td>Equinox</td>\n",
       "      <td>2011</td>\n",
       "      <td>Jeep</td>\n",
       "      <td>0</td>\n",
       "      <td>Petrol</td>\n",
       "      <td>3.0</td>\n",
       "      <td>192000</td>\n",
       "      <td>6.0</td>\n",
       "      <td>...</td>\n",
       "      <td>4</td>\n",
       "      <td>left</td>\n",
       "      <td>Black</td>\n",
       "      <td>8</td>\n",
       "      <td>16621</td>\n",
       "      <td>0</td>\n",
       "      <td>False</td>\n",
       "      <td>1018.0</td>\n",
       "      <td>6.925595</td>\n",
       "      <td>9.718422</td>\n",
       "    </tr>\n",
       "  </tbody>\n",
       "</table>\n",
       "<p>2 rows × 22 columns</p>\n",
       "</div>"
      ],
      "text/plain": [
       "     levy manufacturer    model  prod category  leather    fuel  engine  \\\n",
       "0  1399.0        LEXUS   RX 450  2010     Jeep        1  Hybrid     3.5   \n",
       "1  1018.0    CHEVROLET  Equinox  2011     Jeep        0  Petrol     3.0   \n",
       "\n",
       "   mileage  cylinders  ... doors wheel   color airbags  price  turbo  levy_na  \\\n",
       "0   186005        6.0  ...     4  left  Silver      12  13328      0    False   \n",
       "1   192000        6.0  ...     4  left   Black       8  16621      0    False   \n",
       "\n",
       "   levy_pred  levy_log_pred  logprice  \n",
       "0     1399.0       7.243513  9.497622  \n",
       "1     1018.0       6.925595  9.718422  \n",
       "\n",
       "[2 rows x 22 columns]"
      ]
     },
     "execution_count": 170,
     "metadata": {},
     "output_type": "execute_result"
    }
   ],
   "source": [
    "df['price'] = orig_price\n",
    "df['logprice'] = np.log(orig_price)\n",
    "df.head(2)"
   ]
  },
  {
   "cell_type": "code",
   "execution_count": 171,
   "metadata": {},
   "outputs": [],
   "source": [
    "df.to_excel('train_levy_imputed.xlsx')"
   ]
  },
  {
   "cell_type": "code",
   "execution_count": 175,
   "metadata": {},
   "outputs": [
    {
     "data": {
      "text/plain": [
       "<seaborn.axisgrid.FacetGrid at 0x1e57b2a5be0>"
      ]
     },
     "execution_count": 175,
     "metadata": {},
     "output_type": "execute_result"
    },
    {
     "data": {
      "image/png": "[encoded data removed]",
      "text/plain": [
       "<Figure size 360x360 with 1 Axes>"
      ]
     },
     "metadata": {
      "needs_background": "light"
     },
     "output_type": "display_data"
    }
   ],
   "source": [
    "sns.displot(x= df['levy_log_pred'])"
   ]
  },
  {
   "cell_type": "code",
   "execution_count": 173,
   "metadata": {},
   "outputs": [
    {
     "data": {
      "text/plain": [
       "<seaborn.axisgrid.FacetGrid at 0x1e57b2899a0>"
      ]
     },
     "execution_count": 173,
     "metadata": {},
     "output_type": "execute_result"
    },
    {
     "data": {
      "image/png": "[encoded data removed]",
      "text/plain": [
       "<Figure size 360x360 with 1 Axes>"
      ]
     },
     "metadata": {
      "needs_background": "light"
     },
     "output_type": "display_data"
    }
   ],
   "source": [
    "sns.displot(x= np.log(df['levy']))"
   ]
  },
  {
   "cell_type": "code",
   "execution_count": 177,
   "metadata": {},
   "outputs": [
    {
     "data": {
      "text/plain": [
       "<seaborn.axisgrid.FacetGrid at 0x1e5cbaa2250>"
      ]
     },
     "execution_count": 177,
     "metadata": {},
     "output_type": "execute_result"
    },
    {
     "data": {
      "image/png": "[encoded data removed]",
      "text/plain": [
       "<Figure size 360x360 with 1 Axes>"
      ]
     },
     "metadata": {
      "needs_background": "light"
     },
     "output_type": "display_data"
    }
   ],
   "source": [
    "sns.displot(x= np.log(df['levy_pred']))"
   ]
  },
  {
   "cell_type": "markdown",
   "metadata": {},
   "source": [
    "### prediction final"
   ]
  },
  {
   "cell_type": "code",
   "execution_count": 2,
   "metadata": {},
   "outputs": [
    {
     "data": {
      "text/plain": [
       "(19237, 22)"
      ]
     },
     "execution_count": 2,
     "metadata": {},
     "output_type": "execute_result"
    }
   ],
   "source": [
    "df = pd.read_csv('train_imputed.csv')\n",
    "df.shape"
   ]
  },
  {
   "cell_type": "code",
   "execution_count": 3,
   "metadata": {},
   "outputs": [
    {
     "data": {
      "text/html": [
       "<div>\n",
       "<style scoped>\n",
       "    .dataframe tbody tr th:only-of-type {\n",
       "        vertical-align: middle;\n",
       "    }\n",
       "\n",
       "    .dataframe tbody tr th {\n",
       "        vertical-align: top;\n",
       "    }\n",
       "\n",
       "    .dataframe thead th {\n",
       "        text-align: right;\n",
       "    }\n",
       "</style>\n",
       "<table border=\"1\" class=\"dataframe\">\n",
       "  <thead>\n",
       "    <tr style=\"text-align: right;\">\n",
       "      <th></th>\n",
       "      <th>levy</th>\n",
       "      <th>manufacturer</th>\n",
       "      <th>model</th>\n",
       "      <th>prod</th>\n",
       "      <th>category</th>\n",
       "      <th>leather</th>\n",
       "      <th>fuel</th>\n",
       "      <th>engine</th>\n",
       "      <th>mileage</th>\n",
       "      <th>cylinders</th>\n",
       "      <th>gear</th>\n",
       "      <th>drive</th>\n",
       "      <th>doors</th>\n",
       "      <th>wheel</th>\n",
       "      <th>color</th>\n",
       "      <th>airbags</th>\n",
       "      <th>price</th>\n",
       "      <th>turbo</th>\n",
       "      <th>levy_na</th>\n",
       "      <th>levy_pred</th>\n",
       "      <th>levy_log_pred</th>\n",
       "      <th>logprice</th>\n",
       "    </tr>\n",
       "  </thead>\n",
       "  <tbody>\n",
       "    <tr>\n",
       "      <th>0</th>\n",
       "      <td>1399.0</td>\n",
       "      <td>LEXUS</td>\n",
       "      <td>RX 450</td>\n",
       "      <td>2010</td>\n",
       "      <td>Jeep</td>\n",
       "      <td>1</td>\n",
       "      <td>Hybrid</td>\n",
       "      <td>3.5</td>\n",
       "      <td>186005</td>\n",
       "      <td>6</td>\n",
       "      <td>Automatic</td>\n",
       "      <td>4x4</td>\n",
       "      <td>4</td>\n",
       "      <td>left</td>\n",
       "      <td>Silver</td>\n",
       "      <td>12</td>\n",
       "      <td>13328</td>\n",
       "      <td>0</td>\n",
       "      <td>False</td>\n",
       "      <td>1399.0</td>\n",
       "      <td>7.243513</td>\n",
       "      <td>9.497622</td>\n",
       "    </tr>\n",
       "    <tr>\n",
       "      <th>1</th>\n",
       "      <td>1018.0</td>\n",
       "      <td>CHEVROLET</td>\n",
       "      <td>Equinox</td>\n",
       "      <td>2011</td>\n",
       "      <td>Jeep</td>\n",
       "      <td>0</td>\n",
       "      <td>Petrol</td>\n",
       "      <td>3.0</td>\n",
       "      <td>192000</td>\n",
       "      <td>6</td>\n",
       "      <td>Tiptronic</td>\n",
       "      <td>4x4</td>\n",
       "      <td>4</td>\n",
       "      <td>left</td>\n",
       "      <td>Black</td>\n",
       "      <td>8</td>\n",
       "      <td>16621</td>\n",
       "      <td>0</td>\n",
       "      <td>False</td>\n",
       "      <td>1018.0</td>\n",
       "      <td>6.925595</td>\n",
       "      <td>9.718422</td>\n",
       "    </tr>\n",
       "  </tbody>\n",
       "</table>\n",
       "</div>"
      ],
      "text/plain": [
       "     levy manufacturer    model  prod category  leather    fuel  engine  \\\n",
       "0  1399.0        LEXUS   RX 450  2010     Jeep        1  Hybrid     3.5   \n",
       "1  1018.0    CHEVROLET  Equinox  2011     Jeep        0  Petrol     3.0   \n",
       "\n",
       "   mileage  cylinders       gear drive  doors wheel   color  airbags  price  \\\n",
       "0   186005          6  Automatic   4x4      4  left  Silver       12  13328   \n",
       "1   192000          6  Tiptronic   4x4      4  left   Black        8  16621   \n",
       "\n",
       "   turbo  levy_na  levy_pred  levy_log_pred  logprice  \n",
       "0      0    False     1399.0       7.243513  9.497622  \n",
       "1      0    False     1018.0       6.925595  9.718422  "
      ]
     },
     "execution_count": 3,
     "metadata": {},
     "output_type": "execute_result"
    }
   ],
   "source": [
    "df.head(2)"
   ]
  },
  {
   "cell_type": "code",
   "execution_count": 4,
   "metadata": {},
   "outputs": [
    {
     "data": {
      "text/html": [
       "<div>\n",
       "<style scoped>\n",
       "    .dataframe tbody tr th:only-of-type {\n",
       "        vertical-align: middle;\n",
       "    }\n",
       "\n",
       "    .dataframe tbody tr th {\n",
       "        vertical-align: top;\n",
       "    }\n",
       "\n",
       "    .dataframe thead th {\n",
       "        text-align: right;\n",
       "    }\n",
       "</style>\n",
       "<table border=\"1\" class=\"dataframe\">\n",
       "  <thead>\n",
       "    <tr style=\"text-align: right;\">\n",
       "      <th></th>\n",
       "      <th>levy</th>\n",
       "      <th>manufacturer</th>\n",
       "      <th>model</th>\n",
       "      <th>prod</th>\n",
       "      <th>category</th>\n",
       "      <th>leather</th>\n",
       "      <th>fuel</th>\n",
       "      <th>engine</th>\n",
       "      <th>mileage</th>\n",
       "      <th>cylinders</th>\n",
       "      <th>gear</th>\n",
       "      <th>drive</th>\n",
       "      <th>doors</th>\n",
       "      <th>wheel</th>\n",
       "      <th>color</th>\n",
       "      <th>airbags</th>\n",
       "      <th>price</th>\n",
       "      <th>turbo</th>\n",
       "      <th>levy_na</th>\n",
       "    </tr>\n",
       "  </thead>\n",
       "  <tbody>\n",
       "    <tr>\n",
       "      <th>0</th>\n",
       "      <td>1399.0</td>\n",
       "      <td>LEXUS</td>\n",
       "      <td>RX 450</td>\n",
       "      <td>2010</td>\n",
       "      <td>Jeep</td>\n",
       "      <td>1</td>\n",
       "      <td>Hybrid</td>\n",
       "      <td>3.5</td>\n",
       "      <td>186005</td>\n",
       "      <td>6</td>\n",
       "      <td>Automatic</td>\n",
       "      <td>4x4</td>\n",
       "      <td>4</td>\n",
       "      <td>left</td>\n",
       "      <td>Silver</td>\n",
       "      <td>12</td>\n",
       "      <td>9.497622</td>\n",
       "      <td>0</td>\n",
       "      <td>False</td>\n",
       "    </tr>\n",
       "    <tr>\n",
       "      <th>1</th>\n",
       "      <td>1018.0</td>\n",
       "      <td>CHEVROLET</td>\n",
       "      <td>Equinox</td>\n",
       "      <td>2011</td>\n",
       "      <td>Jeep</td>\n",
       "      <td>0</td>\n",
       "      <td>Petrol</td>\n",
       "      <td>3.0</td>\n",
       "      <td>192000</td>\n",
       "      <td>6</td>\n",
       "      <td>Tiptronic</td>\n",
       "      <td>4x4</td>\n",
       "      <td>4</td>\n",
       "      <td>left</td>\n",
       "      <td>Black</td>\n",
       "      <td>8</td>\n",
       "      <td>9.718422</td>\n",
       "      <td>0</td>\n",
       "      <td>False</td>\n",
       "    </tr>\n",
       "  </tbody>\n",
       "</table>\n",
       "</div>"
      ],
      "text/plain": [
       "     levy manufacturer    model  prod category  leather    fuel  engine  \\\n",
       "0  1399.0        LEXUS   RX 450  2010     Jeep        1  Hybrid     3.5   \n",
       "1  1018.0    CHEVROLET  Equinox  2011     Jeep        0  Petrol     3.0   \n",
       "\n",
       "   mileage  cylinders       gear drive  doors wheel   color  airbags  \\\n",
       "0   186005          6  Automatic   4x4      4  left  Silver       12   \n",
       "1   192000          6  Tiptronic   4x4      4  left   Black        8   \n",
       "\n",
       "      price  turbo  levy_na  \n",
       "0  9.497622      0    False  \n",
       "1  9.718422      0    False  "
      ]
     },
     "execution_count": 4,
     "metadata": {},
     "output_type": "execute_result"
    }
   ],
   "source": [
    "# df['levy'] = df['levy_pred']\n",
    "df['price'] = df['logprice']\n",
    "df = df.drop(['levy_pred','levy_log_pred','logprice'], axis=1)\n",
    "df.head(2)"
   ]
  },
  {
   "cell_type": "code",
   "execution_count": 5,
   "metadata": {},
   "outputs": [
    {
     "data": {
      "text/plain": [
       "5819"
      ]
     },
     "execution_count": 5,
     "metadata": {},
     "output_type": "execute_result"
    }
   ],
   "source": [
    "df.isna().sum().sum()"
   ]
  },
  {
   "cell_type": "code",
   "execution_count": 61,
   "metadata": {},
   "outputs": [],
   "source": [
    "df.to_csv('train_levy_median.csv')"
   ]
  },
  {
   "cell_type": "code",
   "execution_count": 6,
   "metadata": {},
   "outputs": [],
   "source": [
    "# df = pd.read_csv('train_levy_median.csv')"
   ]
  },
  {
   "cell_type": "code",
   "execution_count": 6,
   "metadata": {},
   "outputs": [
    {
     "data": {
      "text/plain": [
       "5819"
      ]
     },
     "execution_count": 6,
     "metadata": {},
     "output_type": "execute_result"
    }
   ],
   "source": [
    "df.isna().sum().sum()"
   ]
  },
  {
   "cell_type": "markdown",
   "metadata": {},
   "source": [
    "#### scaling numeric columns"
   ]
  },
  {
   "cell_type": "code",
   "execution_count": 10,
   "metadata": {},
   "outputs": [
    {
     "data": {
      "text/plain": [
       "18"
      ]
     },
     "execution_count": 10,
     "metadata": {},
     "output_type": "execute_result"
    }
   ],
   "source": [
    "# input_cols = list(df.drop('price', axis=1).columns)\n",
    "# len(input_cols)"
   ]
  },
  {
   "cell_type": "code",
   "execution_count": 11,
   "metadata": {},
   "outputs": [],
   "source": [
    "# numeric_cols = list(df[input_cols].select_dtypes(np.number).columns)\n",
    "# categorical_cols = list(df[input_cols].select_dtypes('object').columns)"
   ]
  },
  {
   "cell_type": "code",
   "execution_count": 12,
   "metadata": {},
   "outputs": [],
   "source": [
    "# from sklearn.preprocessing import MinMaxScaler\n",
    "# minmax = MinMaxScaler()\n",
    "# df[numeric_cols] = minmax.fit_transform(df[numeric_cols])"
   ]
  },
  {
   "cell_type": "code",
   "execution_count": 13,
   "metadata": {},
   "outputs": [],
   "source": [
    "# from sklearn.model_selection import train_test_split\n",
    "# train_inputs, val_inputs, train_targets, val_targets = train_test_split(df[input_cols],\n",
    "#                                                                        df['price'],\n",
    "#                                                                        test_size=0.3)"
   ]
  },
  {
   "cell_type": "code",
   "execution_count": 14,
   "metadata": {},
   "outputs": [
    {
     "data": {
      "text/plain": [
       "((13465, 18), (5772, 18), (13465,), (5772,))"
      ]
     },
     "execution_count": 14,
     "metadata": {},
     "output_type": "execute_result"
    }
   ],
   "source": [
    "train_inputs.shape, val_inputs.shape, train_targets.shape, val_targets.shape"
   ]
  },
  {
   "cell_type": "code",
   "execution_count": 15,
   "metadata": {},
   "outputs": [
    {
     "data": {
      "text/plain": [
       "(9, 8)"
      ]
     },
     "execution_count": 15,
     "metadata": {},
     "output_type": "execute_result"
    }
   ],
   "source": [
    "len(numeric_cols), len(categorical_cols)"
   ]
  },
  {
   "cell_type": "code",
   "execution_count": 46,
   "metadata": {},
   "outputs": [
    {
     "data": {
      "text/plain": [
       "Index(['09-Mar', '100', '100 NX', '1000', '1111', '114', '116', '118',\n",
       "       '118 2,0', '118 M-sport LCI',\n",
       "       ...\n",
       "       'Zafira B', 'i20', 'i3', 'i40', 'iA isti', 'kona', 'macan', 'macan S',\n",
       "       'tC', 'xD'],\n",
       "      dtype='object', length=1590)"
      ]
     },
     "execution_count": 46,
     "metadata": {},
     "output_type": "execute_result"
    }
   ],
   "source": [
    "df['model'].astype('category').cat.categories"
   ]
  },
  {
   "cell_type": "markdown",
   "metadata": {},
   "source": [
    "#### scaling"
   ]
  },
  {
   "cell_type": "code",
   "execution_count": null,
   "metadata": {},
   "outputs": [],
   "source": [
    "input_cols = list(df.drop('price', axis=1).columns)\n",
    "len(input_cols)"
   ]
  },
  {
   "cell_type": "code",
   "execution_count": null,
   "metadata": {},
   "outputs": [],
   "source": [
    "numeric_cols = list(df[input_cols].select_dtypes(np.number).columns)\n",
    "categorical_cols = list(df[input_cols].select_dtypes('object').columns)"
   ]
  },
  {
   "cell_type": "code",
   "execution_count": null,
   "metadata": {},
   "outputs": [],
   "source": [
    "from sklearn.preprocessing import MinMaxScaler\n",
    "minmax = MinMaxScaler()\n",
    "df[numeric_cols] = minmax.fit_transform(df[numeric_cols])"
   ]
  },
  {
   "cell_type": "code",
   "execution_count": null,
   "metadata": {},
   "outputs": [],
   "source": [
    "from sklearn.model_selection import train_test_split\n",
    "train_inputs, val_inputs, train_targets, val_targets = train_test_split(df[input_cols],\n",
    "                                                                       df['price'],\n",
    "                                                                       test_size=0.3)"
   ]
  },
  {
   "cell_type": "markdown",
   "metadata": {},
   "source": [
    "#### imputing median"
   ]
  },
  {
   "cell_type": "code",
   "execution_count": 18,
   "metadata": {},
   "outputs": [],
   "source": [
    "from sklearn.impute import SimpleImputer\n",
    "imputer_med = SimpleImputer(strategy='median')\n",
    "imputer_med.fit(train_inputs[numeric_cols])\n",
    "train_inputs[numeric_cols] = imputer_med.transform(train_inputs[numeric_cols])\n",
    "val_inputs[numeric_cols] = imputer_med.transform(val_inputs[numeric_cols])"
   ]
  },
  {
   "cell_type": "markdown",
   "metadata": {},
   "source": [
    "#### one-hot encoding train categorical data"
   ]
  },
  {
   "cell_type": "code",
   "execution_count": 21,
   "metadata": {},
   "outputs": [],
   "source": [
    "from sklearn.preprocessing import OneHotEncoder\n",
    "oh = OneHotEncoder(sparse=False, handle_unknown = 'ignore')\n",
    "oh.fit(df[categorical_cols])\n",
    "encoded_cols = list(oh.get_feature_names(categorical_cols))\n",
    "\n",
    "train_inputs[encoded_cols] = oh.transform(train_inputs[categorical_cols])\n",
    "val_inputs[encoded_cols] = oh.transform(val_inputs[categorical_cols])"
   ]
  },
  {
   "cell_type": "markdown",
   "metadata": {},
   "source": [
    "#### getting final x_train, x_val"
   ]
  },
  {
   "cell_type": "code",
   "execution_count": null,
   "metadata": {},
   "outputs": [],
   "source": [
    "x_train = train_inputs[numeric_cols+encoded_cols]\n",
    "x_val = val_inputs[numeric_cols+encoded_cols]\n",
    "\n",
    "x_train.shape, x_val.shape, train_targets.shape, val_targets.shape"
   ]
  },
  {
   "cell_type": "code",
   "execution_count": 22,
   "metadata": {},
   "outputs": [
    {
     "data": {
      "text/plain": [
       "1698"
      ]
     },
     "execution_count": 22,
     "metadata": {},
     "output_type": "execute_result"
    }
   ],
   "source": [
    "# oh.fit(df[categorical_cols])\n",
    "# encoded_cols = list(oh.get_feature_names(categorical_cols))\n",
    "# len(encoded_cols)"
   ]
  },
  {
   "cell_type": "code",
   "execution_count": 23,
   "metadata": {},
   "outputs": [
    {
     "data": {
      "text/plain": [
       "['manufacturer_ACURA',\n",
       " 'manufacturer_ALFA ROMEO',\n",
       " 'manufacturer_ASTON MARTIN',\n",
       " 'manufacturer_AUDI']"
      ]
     },
     "execution_count": 23,
     "metadata": {},
     "output_type": "execute_result"
    }
   ],
   "source": [
    "encoded_cols[:4]"
   ]
  },
  {
   "cell_type": "code",
   "execution_count": 24,
   "metadata": {},
   "outputs": [],
   "source": [
    "# train_inputs[encoded_cols] = oh.transform(train_inputs[categorical_cols])\n",
    "# val_inputs[encoded_cols] = oh.transform(val_inputs[categorical_cols])"
   ]
  },
  {
   "cell_type": "code",
   "execution_count": 25,
   "metadata": {},
   "outputs": [
    {
     "data": {
      "text/html": [
       "<div>\n",
       "<style scoped>\n",
       "    .dataframe tbody tr th:only-of-type {\n",
       "        vertical-align: middle;\n",
       "    }\n",
       "\n",
       "    .dataframe tbody tr th {\n",
       "        vertical-align: top;\n",
       "    }\n",
       "\n",
       "    .dataframe thead th {\n",
       "        text-align: right;\n",
       "    }\n",
       "</style>\n",
       "<table border=\"1\" class=\"dataframe\">\n",
       "  <thead>\n",
       "    <tr style=\"text-align: right;\">\n",
       "      <th></th>\n",
       "      <th>levy</th>\n",
       "      <th>prod</th>\n",
       "      <th>leather</th>\n",
       "      <th>engine</th>\n",
       "      <th>mileage</th>\n",
       "      <th>cylinders</th>\n",
       "      <th>doors</th>\n",
       "      <th>airbags</th>\n",
       "      <th>turbo</th>\n",
       "      <th>manufacturer_ACURA</th>\n",
       "      <th>manufacturer_ALFA ROMEO</th>\n",
       "      <th>manufacturer_ASTON MARTIN</th>\n",
       "      <th>manufacturer_AUDI</th>\n",
       "      <th>manufacturer_BENTLEY</th>\n",
       "      <th>manufacturer_BMW</th>\n",
       "      <th>manufacturer_BUICK</th>\n",
       "      <th>manufacturer_CADILLAC</th>\n",
       "      <th>manufacturer_CHEVROLET</th>\n",
       "      <th>manufacturer_CHRYSLER</th>\n",
       "      <th>manufacturer_CITROEN</th>\n",
       "      <th>manufacturer_DAEWOO</th>\n",
       "      <th>manufacturer_DAIHATSU</th>\n",
       "      <th>manufacturer_DODGE</th>\n",
       "      <th>manufacturer_FERRARI</th>\n",
       "      <th>manufacturer_FIAT</th>\n",
       "      <th>manufacturer_FORD</th>\n",
       "      <th>manufacturer_GAZ</th>\n",
       "      <th>manufacturer_GMC</th>\n",
       "      <th>manufacturer_GREATWALL</th>\n",
       "      <th>manufacturer_HAVAL</th>\n",
       "      <th>manufacturer_HONDA</th>\n",
       "      <th>manufacturer_HUMMER</th>\n",
       "      <th>manufacturer_HYUNDAI</th>\n",
       "      <th>manufacturer_INFINITI</th>\n",
       "      <th>manufacturer_ISUZU</th>\n",
       "      <th>manufacturer_JAGUAR</th>\n",
       "      <th>manufacturer_JEEP</th>\n",
       "      <th>manufacturer_KIA</th>\n",
       "      <th>manufacturer_LAMBORGHINI</th>\n",
       "      <th>manufacturer_LANCIA</th>\n",
       "      <th>manufacturer_LAND ROVER</th>\n",
       "      <th>manufacturer_LEXUS</th>\n",
       "      <th>manufacturer_LINCOLN</th>\n",
       "      <th>manufacturer_MASERATI</th>\n",
       "      <th>manufacturer_MAZDA</th>\n",
       "      <th>manufacturer_MERCEDES-BENZ</th>\n",
       "      <th>manufacturer_MERCURY</th>\n",
       "      <th>manufacturer_MINI</th>\n",
       "      <th>manufacturer_MITSUBISHI</th>\n",
       "      <th>manufacturer_MOSKVICH</th>\n",
       "      <th>manufacturer_NISSAN</th>\n",
       "      <th>manufacturer_OPEL</th>\n",
       "      <th>manufacturer_PEUGEOT</th>\n",
       "      <th>manufacturer_PONTIAC</th>\n",
       "      <th>manufacturer_PORSCHE</th>\n",
       "      <th>manufacturer_RENAULT</th>\n",
       "      <th>manufacturer_ROLLS-ROYCE</th>\n",
       "      <th>manufacturer_ROVER</th>\n",
       "      <th>manufacturer_SAAB</th>\n",
       "      <th>manufacturer_SATURN</th>\n",
       "      <th>manufacturer_SCION</th>\n",
       "      <th>manufacturer_SEAT</th>\n",
       "      <th>manufacturer_SKODA</th>\n",
       "      <th>manufacturer_SSANGYONG</th>\n",
       "      <th>manufacturer_SUBARU</th>\n",
       "      <th>manufacturer_SUZUKI</th>\n",
       "      <th>manufacturer_TESLA</th>\n",
       "      <th>manufacturer_TOYOTA</th>\n",
       "      <th>manufacturer_UAZ</th>\n",
       "      <th>manufacturer_VAZ</th>\n",
       "      <th>manufacturer_VOLKSWAGEN</th>\n",
       "      <th>manufacturer_VOLVO</th>\n",
       "      <th>manufacturer_ZAZ</th>\n",
       "      <th>manufacturer_სხვა</th>\n",
       "      <th>model_09-Mar</th>\n",
       "      <th>model_100</th>\n",
       "      <th>model_100 NX</th>\n",
       "      <th>model_1000</th>\n",
       "      <th>model_1111</th>\n",
       "      <th>model_114</th>\n",
       "      <th>model_116</th>\n",
       "      <th>model_118</th>\n",
       "      <th>model_118 2,0</th>\n",
       "      <th>model_118 M-sport LCI</th>\n",
       "      <th>model_120</th>\n",
       "      <th>model_128</th>\n",
       "      <th>model_128 M tech</th>\n",
       "      <th>model_130</th>\n",
       "      <th>model_1300</th>\n",
       "      <th>model_135</th>\n",
       "      <th>model_147</th>\n",
       "      <th>model_1500</th>\n",
       "      <th>model_1500,1600 Schtufenheck</th>\n",
       "      <th>model_159</th>\n",
       "      <th>model_166</th>\n",
       "      <th>model_190</th>\n",
       "      <th>model_20</th>\n",
       "      <th>model_200</th>\n",
       "      <th>model_206</th>\n",
       "      <th>model_206 CC</th>\n",
       "      <th>...</th>\n",
       "      <th>model_X5</th>\n",
       "      <th>model_X5 3.0</th>\n",
       "      <th>model_X5 3.0i</th>\n",
       "      <th>model_X5 3.5</th>\n",
       "      <th>model_X5 35d</th>\n",
       "      <th>model_X5 4,4i</th>\n",
       "      <th>model_X5 4.8is</th>\n",
       "      <th>model_X5 DIESEL</th>\n",
       "      <th>model_X5 E70</th>\n",
       "      <th>model_X5 Japan</th>\n",
       "      <th>model_X5 M</th>\n",
       "      <th>model_X5 M packet</th>\n",
       "      <th>model_X5 Sport</th>\n",
       "      <th>model_X5 X-Drive</th>\n",
       "      <th>model_X5 XDRIVE</th>\n",
       "      <th>model_X5 XDRIVE 35D</th>\n",
       "      <th>model_X5 e53</th>\n",
       "      <th>model_X5 rest</th>\n",
       "      <th>model_X5 restilling</th>\n",
       "      <th>model_X5 x5</th>\n",
       "      <th>model_X6</th>\n",
       "      <th>model_X6 40D</th>\n",
       "      <th>model_X6 GERMANY</th>\n",
       "      <th>model_X6 Limited</th>\n",
       "      <th>model_X6 M</th>\n",
       "      <th>model_XC90</th>\n",
       "      <th>model_XC90 2.5turbo</th>\n",
       "      <th>model_XC90 3.2 AWD</th>\n",
       "      <th>model_XE</th>\n",
       "      <th>model_XF</th>\n",
       "      <th>model_XJ</th>\n",
       "      <th>model_XK</th>\n",
       "      <th>model_XL7</th>\n",
       "      <th>model_XL7 limited</th>\n",
       "      <th>model_XV</th>\n",
       "      <th>model_XV HYBRID</th>\n",
       "      <th>model_XV LIMITED</th>\n",
       "      <th>model_YRV</th>\n",
       "      <th>model_Yaris</th>\n",
       "      <th>model_Yaris IA</th>\n",
       "      <th>model_Yaris RS</th>\n",
       "      <th>model_Yaris SE</th>\n",
       "      <th>model_Yaris iA</th>\n",
       "      <th>model_Yukon</th>\n",
       "      <th>model_Z4</th>\n",
       "      <th>model_Z4 3,0 SI</th>\n",
       "      <th>model_Zafira</th>\n",
       "      <th>model_Zafira B</th>\n",
       "      <th>model_i20</th>\n",
       "      <th>model_i3</th>\n",
       "      <th>model_i40</th>\n",
       "      <th>model_iA isti</th>\n",
       "      <th>model_kona</th>\n",
       "      <th>model_macan</th>\n",
       "      <th>model_macan S</th>\n",
       "      <th>model_tC</th>\n",
       "      <th>model_xD</th>\n",
       "      <th>category_Cabriolet</th>\n",
       "      <th>category_Coupe</th>\n",
       "      <th>category_Goods wagon</th>\n",
       "      <th>category_Hatchback</th>\n",
       "      <th>category_Jeep</th>\n",
       "      <th>category_Limousine</th>\n",
       "      <th>category_Microbus</th>\n",
       "      <th>category_Minivan</th>\n",
       "      <th>category_Pickup</th>\n",
       "      <th>category_Sedan</th>\n",
       "      <th>category_Universal</th>\n",
       "      <th>fuel_CNG</th>\n",
       "      <th>fuel_Diesel</th>\n",
       "      <th>fuel_Hybrid</th>\n",
       "      <th>fuel_Hydrogen</th>\n",
       "      <th>fuel_LPG</th>\n",
       "      <th>fuel_Petrol</th>\n",
       "      <th>fuel_Plug-in Hybrid</th>\n",
       "      <th>gear_Automatic</th>\n",
       "      <th>gear_Manual</th>\n",
       "      <th>gear_Tiptronic</th>\n",
       "      <th>gear_Variator</th>\n",
       "      <th>drive_4x4</th>\n",
       "      <th>drive_Front</th>\n",
       "      <th>drive_Rear</th>\n",
       "      <th>wheel_left</th>\n",
       "      <th>wheel_right</th>\n",
       "      <th>color_Beige</th>\n",
       "      <th>color_Black</th>\n",
       "      <th>color_Blue</th>\n",
       "      <th>color_Brown</th>\n",
       "      <th>color_Carnelian red</th>\n",
       "      <th>color_Golden</th>\n",
       "      <th>color_Green</th>\n",
       "      <th>color_Grey</th>\n",
       "      <th>color_Orange</th>\n",
       "      <th>color_Pink</th>\n",
       "      <th>color_Purple</th>\n",
       "      <th>color_Red</th>\n",
       "      <th>color_Silver</th>\n",
       "      <th>color_Sky blue</th>\n",
       "      <th>color_White</th>\n",
       "      <th>color_Yellow</th>\n",
       "    </tr>\n",
       "  </thead>\n",
       "  <tbody>\n",
       "    <tr>\n",
       "      <th>8254</th>\n",
       "      <td>0.096705</td>\n",
       "      <td>0.876543</td>\n",
       "      <td>1.0</td>\n",
       "      <td>0.150</td>\n",
       "      <td>0.000101</td>\n",
       "      <td>0.333333</td>\n",
       "      <td>0.666667</td>\n",
       "      <td>0.75</td>\n",
       "      <td>0.0</td>\n",
       "      <td>0.0</td>\n",
       "      <td>0.0</td>\n",
       "      <td>0.0</td>\n",
       "      <td>0.0</td>\n",
       "      <td>0.0</td>\n",
       "      <td>0.0</td>\n",
       "      <td>0.0</td>\n",
       "      <td>1.0</td>\n",
       "      <td>0.0</td>\n",
       "      <td>0.0</td>\n",
       "      <td>0.0</td>\n",
       "      <td>0.0</td>\n",
       "      <td>0.0</td>\n",
       "      <td>0.0</td>\n",
       "      <td>0.0</td>\n",
       "      <td>0.0</td>\n",
       "      <td>0.0</td>\n",
       "      <td>0.0</td>\n",
       "      <td>0.0</td>\n",
       "      <td>0.0</td>\n",
       "      <td>0.0</td>\n",
       "      <td>0.0</td>\n",
       "      <td>0.0</td>\n",
       "      <td>0.0</td>\n",
       "      <td>0.0</td>\n",
       "      <td>0.0</td>\n",
       "      <td>0.0</td>\n",
       "      <td>0.0</td>\n",
       "      <td>0.0</td>\n",
       "      <td>0.0</td>\n",
       "      <td>0.0</td>\n",
       "      <td>0.0</td>\n",
       "      <td>0.0</td>\n",
       "      <td>0.0</td>\n",
       "      <td>0.0</td>\n",
       "      <td>0.0</td>\n",
       "      <td>0.0</td>\n",
       "      <td>0.0</td>\n",
       "      <td>0.0</td>\n",
       "      <td>0.0</td>\n",
       "      <td>0.0</td>\n",
       "      <td>0.0</td>\n",
       "      <td>0.0</td>\n",
       "      <td>0.0</td>\n",
       "      <td>0.0</td>\n",
       "      <td>0.0</td>\n",
       "      <td>0.0</td>\n",
       "      <td>0.0</td>\n",
       "      <td>0.0</td>\n",
       "      <td>0.0</td>\n",
       "      <td>0.0</td>\n",
       "      <td>0.0</td>\n",
       "      <td>0.0</td>\n",
       "      <td>0.0</td>\n",
       "      <td>0.0</td>\n",
       "      <td>0.0</td>\n",
       "      <td>0.0</td>\n",
       "      <td>0.0</td>\n",
       "      <td>0.0</td>\n",
       "      <td>0.0</td>\n",
       "      <td>0.0</td>\n",
       "      <td>0.0</td>\n",
       "      <td>0.0</td>\n",
       "      <td>0.0</td>\n",
       "      <td>0.0</td>\n",
       "      <td>0.0</td>\n",
       "      <td>0.0</td>\n",
       "      <td>0.0</td>\n",
       "      <td>0.0</td>\n",
       "      <td>0.0</td>\n",
       "      <td>0.0</td>\n",
       "      <td>0.0</td>\n",
       "      <td>0.0</td>\n",
       "      <td>0.0</td>\n",
       "      <td>0.0</td>\n",
       "      <td>0.0</td>\n",
       "      <td>0.0</td>\n",
       "      <td>0.0</td>\n",
       "      <td>0.0</td>\n",
       "      <td>0.0</td>\n",
       "      <td>0.0</td>\n",
       "      <td>0.0</td>\n",
       "      <td>0.0</td>\n",
       "      <td>0.0</td>\n",
       "      <td>0.0</td>\n",
       "      <td>0.0</td>\n",
       "      <td>0.0</td>\n",
       "      <td>0.0</td>\n",
       "      <td>0.0</td>\n",
       "      <td>0.0</td>\n",
       "      <td>0.0</td>\n",
       "      <td>...</td>\n",
       "      <td>0.0</td>\n",
       "      <td>0.0</td>\n",
       "      <td>0.0</td>\n",
       "      <td>0.0</td>\n",
       "      <td>0.0</td>\n",
       "      <td>0.0</td>\n",
       "      <td>0.0</td>\n",
       "      <td>0.0</td>\n",
       "      <td>0.0</td>\n",
       "      <td>0.0</td>\n",
       "      <td>0.0</td>\n",
       "      <td>0.0</td>\n",
       "      <td>0.0</td>\n",
       "      <td>0.0</td>\n",
       "      <td>0.0</td>\n",
       "      <td>0.0</td>\n",
       "      <td>0.0</td>\n",
       "      <td>0.0</td>\n",
       "      <td>0.0</td>\n",
       "      <td>0.0</td>\n",
       "      <td>0.0</td>\n",
       "      <td>0.0</td>\n",
       "      <td>0.0</td>\n",
       "      <td>0.0</td>\n",
       "      <td>0.0</td>\n",
       "      <td>0.0</td>\n",
       "      <td>0.0</td>\n",
       "      <td>0.0</td>\n",
       "      <td>0.0</td>\n",
       "      <td>0.0</td>\n",
       "      <td>0.0</td>\n",
       "      <td>0.0</td>\n",
       "      <td>0.0</td>\n",
       "      <td>0.0</td>\n",
       "      <td>0.0</td>\n",
       "      <td>0.0</td>\n",
       "      <td>0.0</td>\n",
       "      <td>0.0</td>\n",
       "      <td>0.0</td>\n",
       "      <td>0.0</td>\n",
       "      <td>0.0</td>\n",
       "      <td>0.0</td>\n",
       "      <td>0.0</td>\n",
       "      <td>0.0</td>\n",
       "      <td>0.0</td>\n",
       "      <td>0.0</td>\n",
       "      <td>0.0</td>\n",
       "      <td>0.0</td>\n",
       "      <td>0.0</td>\n",
       "      <td>0.0</td>\n",
       "      <td>0.0</td>\n",
       "      <td>0.0</td>\n",
       "      <td>0.0</td>\n",
       "      <td>0.0</td>\n",
       "      <td>0.0</td>\n",
       "      <td>0.0</td>\n",
       "      <td>0.0</td>\n",
       "      <td>0.0</td>\n",
       "      <td>0.0</td>\n",
       "      <td>0.0</td>\n",
       "      <td>0.0</td>\n",
       "      <td>0.0</td>\n",
       "      <td>0.0</td>\n",
       "      <td>0.0</td>\n",
       "      <td>0.0</td>\n",
       "      <td>0.0</td>\n",
       "      <td>1.0</td>\n",
       "      <td>0.0</td>\n",
       "      <td>0.0</td>\n",
       "      <td>0.0</td>\n",
       "      <td>0.0</td>\n",
       "      <td>0.0</td>\n",
       "      <td>0.0</td>\n",
       "      <td>1.0</td>\n",
       "      <td>0.0</td>\n",
       "      <td>1.0</td>\n",
       "      <td>0.0</td>\n",
       "      <td>0.0</td>\n",
       "      <td>0.0</td>\n",
       "      <td>0.0</td>\n",
       "      <td>1.0</td>\n",
       "      <td>0.0</td>\n",
       "      <td>1.0</td>\n",
       "      <td>0.0</td>\n",
       "      <td>0.0</td>\n",
       "      <td>0.0</td>\n",
       "      <td>0.0</td>\n",
       "      <td>0.0</td>\n",
       "      <td>0.0</td>\n",
       "      <td>0.0</td>\n",
       "      <td>0.0</td>\n",
       "      <td>0.0</td>\n",
       "      <td>0.0</td>\n",
       "      <td>1.0</td>\n",
       "      <td>0.0</td>\n",
       "      <td>0.0</td>\n",
       "      <td>0.0</td>\n",
       "      <td>0.0</td>\n",
       "      <td>0.0</td>\n",
       "      <td>0.0</td>\n",
       "    </tr>\n",
       "    <tr>\n",
       "      <th>16233</th>\n",
       "      <td>0.112880</td>\n",
       "      <td>0.876543</td>\n",
       "      <td>1.0</td>\n",
       "      <td>0.175</td>\n",
       "      <td>0.000088</td>\n",
       "      <td>0.333333</td>\n",
       "      <td>0.666667</td>\n",
       "      <td>0.75</td>\n",
       "      <td>0.0</td>\n",
       "      <td>0.0</td>\n",
       "      <td>0.0</td>\n",
       "      <td>0.0</td>\n",
       "      <td>0.0</td>\n",
       "      <td>0.0</td>\n",
       "      <td>0.0</td>\n",
       "      <td>0.0</td>\n",
       "      <td>0.0</td>\n",
       "      <td>0.0</td>\n",
       "      <td>0.0</td>\n",
       "      <td>0.0</td>\n",
       "      <td>0.0</td>\n",
       "      <td>0.0</td>\n",
       "      <td>0.0</td>\n",
       "      <td>0.0</td>\n",
       "      <td>0.0</td>\n",
       "      <td>0.0</td>\n",
       "      <td>0.0</td>\n",
       "      <td>0.0</td>\n",
       "      <td>0.0</td>\n",
       "      <td>0.0</td>\n",
       "      <td>0.0</td>\n",
       "      <td>0.0</td>\n",
       "      <td>0.0</td>\n",
       "      <td>0.0</td>\n",
       "      <td>0.0</td>\n",
       "      <td>0.0</td>\n",
       "      <td>0.0</td>\n",
       "      <td>0.0</td>\n",
       "      <td>0.0</td>\n",
       "      <td>0.0</td>\n",
       "      <td>0.0</td>\n",
       "      <td>0.0</td>\n",
       "      <td>0.0</td>\n",
       "      <td>0.0</td>\n",
       "      <td>0.0</td>\n",
       "      <td>1.0</td>\n",
       "      <td>0.0</td>\n",
       "      <td>0.0</td>\n",
       "      <td>0.0</td>\n",
       "      <td>0.0</td>\n",
       "      <td>0.0</td>\n",
       "      <td>0.0</td>\n",
       "      <td>0.0</td>\n",
       "      <td>0.0</td>\n",
       "      <td>0.0</td>\n",
       "      <td>0.0</td>\n",
       "      <td>0.0</td>\n",
       "      <td>0.0</td>\n",
       "      <td>0.0</td>\n",
       "      <td>0.0</td>\n",
       "      <td>0.0</td>\n",
       "      <td>0.0</td>\n",
       "      <td>0.0</td>\n",
       "      <td>0.0</td>\n",
       "      <td>0.0</td>\n",
       "      <td>0.0</td>\n",
       "      <td>0.0</td>\n",
       "      <td>0.0</td>\n",
       "      <td>0.0</td>\n",
       "      <td>0.0</td>\n",
       "      <td>0.0</td>\n",
       "      <td>0.0</td>\n",
       "      <td>0.0</td>\n",
       "      <td>0.0</td>\n",
       "      <td>0.0</td>\n",
       "      <td>0.0</td>\n",
       "      <td>0.0</td>\n",
       "      <td>0.0</td>\n",
       "      <td>0.0</td>\n",
       "      <td>0.0</td>\n",
       "      <td>0.0</td>\n",
       "      <td>0.0</td>\n",
       "      <td>0.0</td>\n",
       "      <td>0.0</td>\n",
       "      <td>0.0</td>\n",
       "      <td>0.0</td>\n",
       "      <td>0.0</td>\n",
       "      <td>0.0</td>\n",
       "      <td>0.0</td>\n",
       "      <td>0.0</td>\n",
       "      <td>0.0</td>\n",
       "      <td>0.0</td>\n",
       "      <td>0.0</td>\n",
       "      <td>0.0</td>\n",
       "      <td>0.0</td>\n",
       "      <td>0.0</td>\n",
       "      <td>0.0</td>\n",
       "      <td>0.0</td>\n",
       "      <td>0.0</td>\n",
       "      <td>0.0</td>\n",
       "      <td>...</td>\n",
       "      <td>0.0</td>\n",
       "      <td>0.0</td>\n",
       "      <td>0.0</td>\n",
       "      <td>0.0</td>\n",
       "      <td>0.0</td>\n",
       "      <td>0.0</td>\n",
       "      <td>0.0</td>\n",
       "      <td>0.0</td>\n",
       "      <td>0.0</td>\n",
       "      <td>0.0</td>\n",
       "      <td>0.0</td>\n",
       "      <td>0.0</td>\n",
       "      <td>0.0</td>\n",
       "      <td>0.0</td>\n",
       "      <td>0.0</td>\n",
       "      <td>0.0</td>\n",
       "      <td>0.0</td>\n",
       "      <td>0.0</td>\n",
       "      <td>0.0</td>\n",
       "      <td>0.0</td>\n",
       "      <td>0.0</td>\n",
       "      <td>0.0</td>\n",
       "      <td>0.0</td>\n",
       "      <td>0.0</td>\n",
       "      <td>0.0</td>\n",
       "      <td>0.0</td>\n",
       "      <td>0.0</td>\n",
       "      <td>0.0</td>\n",
       "      <td>0.0</td>\n",
       "      <td>0.0</td>\n",
       "      <td>0.0</td>\n",
       "      <td>0.0</td>\n",
       "      <td>0.0</td>\n",
       "      <td>0.0</td>\n",
       "      <td>0.0</td>\n",
       "      <td>0.0</td>\n",
       "      <td>0.0</td>\n",
       "      <td>0.0</td>\n",
       "      <td>0.0</td>\n",
       "      <td>0.0</td>\n",
       "      <td>0.0</td>\n",
       "      <td>0.0</td>\n",
       "      <td>0.0</td>\n",
       "      <td>0.0</td>\n",
       "      <td>0.0</td>\n",
       "      <td>0.0</td>\n",
       "      <td>0.0</td>\n",
       "      <td>0.0</td>\n",
       "      <td>0.0</td>\n",
       "      <td>0.0</td>\n",
       "      <td>0.0</td>\n",
       "      <td>0.0</td>\n",
       "      <td>0.0</td>\n",
       "      <td>0.0</td>\n",
       "      <td>0.0</td>\n",
       "      <td>0.0</td>\n",
       "      <td>0.0</td>\n",
       "      <td>0.0</td>\n",
       "      <td>0.0</td>\n",
       "      <td>0.0</td>\n",
       "      <td>0.0</td>\n",
       "      <td>0.0</td>\n",
       "      <td>0.0</td>\n",
       "      <td>0.0</td>\n",
       "      <td>0.0</td>\n",
       "      <td>0.0</td>\n",
       "      <td>1.0</td>\n",
       "      <td>0.0</td>\n",
       "      <td>0.0</td>\n",
       "      <td>1.0</td>\n",
       "      <td>0.0</td>\n",
       "      <td>0.0</td>\n",
       "      <td>0.0</td>\n",
       "      <td>0.0</td>\n",
       "      <td>0.0</td>\n",
       "      <td>1.0</td>\n",
       "      <td>0.0</td>\n",
       "      <td>0.0</td>\n",
       "      <td>0.0</td>\n",
       "      <td>1.0</td>\n",
       "      <td>0.0</td>\n",
       "      <td>0.0</td>\n",
       "      <td>1.0</td>\n",
       "      <td>0.0</td>\n",
       "      <td>0.0</td>\n",
       "      <td>1.0</td>\n",
       "      <td>0.0</td>\n",
       "      <td>0.0</td>\n",
       "      <td>0.0</td>\n",
       "      <td>0.0</td>\n",
       "      <td>0.0</td>\n",
       "      <td>0.0</td>\n",
       "      <td>0.0</td>\n",
       "      <td>0.0</td>\n",
       "      <td>0.0</td>\n",
       "      <td>0.0</td>\n",
       "      <td>0.0</td>\n",
       "      <td>0.0</td>\n",
       "      <td>0.0</td>\n",
       "      <td>0.0</td>\n",
       "    </tr>\n",
       "  </tbody>\n",
       "</table>\n",
       "<p>2 rows × 1707 columns</p>\n",
       "</div>"
      ],
      "text/plain": [
       "           levy      prod  leather  engine   mileage  cylinders     doors  \\\n",
       "8254   0.096705  0.876543      1.0   0.150  0.000101   0.333333  0.666667   \n",
       "16233  0.112880  0.876543      1.0   0.175  0.000088   0.333333  0.666667   \n",
       "\n",
       "       airbags  turbo  manufacturer_ACURA  manufacturer_ALFA ROMEO  \\\n",
       "8254      0.75    0.0                 0.0                      0.0   \n",
       "16233     0.75    0.0                 0.0                      0.0   \n",
       "\n",
       "       manufacturer_ASTON MARTIN  manufacturer_AUDI  manufacturer_BENTLEY  \\\n",
       "8254                         0.0                0.0                   0.0   \n",
       "16233                        0.0                0.0                   0.0   \n",
       "\n",
       "       manufacturer_BMW  manufacturer_BUICK  manufacturer_CADILLAC  \\\n",
       "8254                0.0                 0.0                    1.0   \n",
       "16233               0.0                 0.0                    0.0   \n",
       "\n",
       "       manufacturer_CHEVROLET  manufacturer_CHRYSLER  manufacturer_CITROEN  \\\n",
       "8254                      0.0                    0.0                   0.0   \n",
       "16233                     0.0                    0.0                   0.0   \n",
       "\n",
       "       manufacturer_DAEWOO  manufacturer_DAIHATSU  manufacturer_DODGE  \\\n",
       "8254                   0.0                    0.0                 0.0   \n",
       "16233                  0.0                    0.0                 0.0   \n",
       "\n",
       "       manufacturer_FERRARI  manufacturer_FIAT  manufacturer_FORD  \\\n",
       "8254                    0.0                0.0                0.0   \n",
       "16233                   0.0                0.0                0.0   \n",
       "\n",
       "       manufacturer_GAZ  manufacturer_GMC  manufacturer_GREATWALL  \\\n",
       "8254                0.0               0.0                     0.0   \n",
       "16233               0.0               0.0                     0.0   \n",
       "\n",
       "       manufacturer_HAVAL  manufacturer_HONDA  manufacturer_HUMMER  \\\n",
       "8254                  0.0                 0.0                  0.0   \n",
       "16233                 0.0                 0.0                  0.0   \n",
       "\n",
       "       manufacturer_HYUNDAI  manufacturer_INFINITI  manufacturer_ISUZU  \\\n",
       "8254                    0.0                    0.0                 0.0   \n",
       "16233                   0.0                    0.0                 0.0   \n",
       "\n",
       "       manufacturer_JAGUAR  manufacturer_JEEP  manufacturer_KIA  \\\n",
       "8254                   0.0                0.0               0.0   \n",
       "16233                  0.0                0.0               0.0   \n",
       "\n",
       "       manufacturer_LAMBORGHINI  manufacturer_LANCIA  manufacturer_LAND ROVER  \\\n",
       "8254                        0.0                  0.0                      0.0   \n",
       "16233                       0.0                  0.0                      0.0   \n",
       "\n",
       "       manufacturer_LEXUS  manufacturer_LINCOLN  manufacturer_MASERATI  \\\n",
       "8254                  0.0                   0.0                    0.0   \n",
       "16233                 0.0                   0.0                    0.0   \n",
       "\n",
       "       manufacturer_MAZDA  manufacturer_MERCEDES-BENZ  manufacturer_MERCURY  \\\n",
       "8254                  0.0                         0.0                   0.0   \n",
       "16233                 0.0                         1.0                   0.0   \n",
       "\n",
       "       manufacturer_MINI  manufacturer_MITSUBISHI  manufacturer_MOSKVICH  \\\n",
       "8254                 0.0                      0.0                    0.0   \n",
       "16233                0.0                      0.0                    0.0   \n",
       "\n",
       "       manufacturer_NISSAN  manufacturer_OPEL  manufacturer_PEUGEOT  \\\n",
       "8254                   0.0                0.0                   0.0   \n",
       "16233                  0.0                0.0                   0.0   \n",
       "\n",
       "       manufacturer_PONTIAC  manufacturer_PORSCHE  manufacturer_RENAULT  \\\n",
       "8254                    0.0                   0.0                   0.0   \n",
       "16233                   0.0                   0.0                   0.0   \n",
       "\n",
       "       manufacturer_ROLLS-ROYCE  manufacturer_ROVER  manufacturer_SAAB  \\\n",
       "8254                        0.0                 0.0                0.0   \n",
       "16233                       0.0                 0.0                0.0   \n",
       "\n",
       "       manufacturer_SATURN  manufacturer_SCION  manufacturer_SEAT  \\\n",
       "8254                   0.0                 0.0                0.0   \n",
       "16233                  0.0                 0.0                0.0   \n",
       "\n",
       "       manufacturer_SKODA  manufacturer_SSANGYONG  manufacturer_SUBARU  \\\n",
       "8254                  0.0                     0.0                  0.0   \n",
       "16233                 0.0                     0.0                  0.0   \n",
       "\n",
       "       manufacturer_SUZUKI  manufacturer_TESLA  manufacturer_TOYOTA  \\\n",
       "8254                   0.0                 0.0                  0.0   \n",
       "16233                  0.0                 0.0                  0.0   \n",
       "\n",
       "       manufacturer_UAZ  manufacturer_VAZ  manufacturer_VOLKSWAGEN  \\\n",
       "8254                0.0               0.0                      0.0   \n",
       "16233               0.0               0.0                      0.0   \n",
       "\n",
       "       manufacturer_VOLVO  manufacturer_ZAZ  manufacturer_სხვა  model_09-Mar  \\\n",
       "8254                  0.0               0.0                0.0           0.0   \n",
       "16233                 0.0               0.0                0.0           0.0   \n",
       "\n",
       "       model_100  model_100 NX  model_1000  model_1111  model_114  model_116  \\\n",
       "8254         0.0           0.0         0.0         0.0        0.0        0.0   \n",
       "16233        0.0           0.0         0.0         0.0        0.0        0.0   \n",
       "\n",
       "       model_118  model_118 2,0  model_118 M-sport LCI  model_120  model_128  \\\n",
       "8254         0.0            0.0                    0.0        0.0        0.0   \n",
       "16233        0.0            0.0                    0.0        0.0        0.0   \n",
       "\n",
       "       model_128 M tech  model_130  model_1300  model_135  model_147  \\\n",
       "8254                0.0        0.0         0.0        0.0        0.0   \n",
       "16233               0.0        0.0         0.0        0.0        0.0   \n",
       "\n",
       "       model_1500  model_1500,1600 Schtufenheck  model_159  model_166  \\\n",
       "8254          0.0                           0.0        0.0        0.0   \n",
       "16233         0.0                           0.0        0.0        0.0   \n",
       "\n",
       "       model_190  model_20  model_200  model_206  model_206 CC  ...  model_X5  \\\n",
       "8254         0.0       0.0        0.0        0.0           0.0  ...       0.0   \n",
       "16233        0.0       0.0        0.0        0.0           0.0  ...       0.0   \n",
       "\n",
       "       model_X5 3.0  model_X5 3.0i  model_X5 3.5  model_X5 35d  model_X5 4,4i  \\\n",
       "8254            0.0            0.0           0.0           0.0            0.0   \n",
       "16233           0.0            0.0           0.0           0.0            0.0   \n",
       "\n",
       "       model_X5 4.8is  model_X5 DIESEL  model_X5 E70  model_X5 Japan  \\\n",
       "8254              0.0              0.0           0.0             0.0   \n",
       "16233             0.0              0.0           0.0             0.0   \n",
       "\n",
       "       model_X5 M  model_X5 M packet  model_X5 Sport  model_X5 X-Drive  \\\n",
       "8254          0.0                0.0             0.0               0.0   \n",
       "16233         0.0                0.0             0.0               0.0   \n",
       "\n",
       "       model_X5 XDRIVE  model_X5 XDRIVE 35D  model_X5 e53  model_X5 rest  \\\n",
       "8254               0.0                  0.0           0.0            0.0   \n",
       "16233              0.0                  0.0           0.0            0.0   \n",
       "\n",
       "       model_X5 restilling  model_X5 x5  model_X6  model_X6 40D  \\\n",
       "8254                   0.0          0.0       0.0           0.0   \n",
       "16233                  0.0          0.0       0.0           0.0   \n",
       "\n",
       "       model_X6 GERMANY  model_X6 Limited  model_X6 M  model_XC90  \\\n",
       "8254                0.0               0.0         0.0         0.0   \n",
       "16233               0.0               0.0         0.0         0.0   \n",
       "\n",
       "       model_XC90 2.5turbo  model_XC90 3.2 AWD  model_XE  model_XF  model_XJ  \\\n",
       "8254                   0.0                 0.0       0.0       0.0       0.0   \n",
       "16233                  0.0                 0.0       0.0       0.0       0.0   \n",
       "\n",
       "       model_XK  model_XL7  model_XL7 limited  model_XV  model_XV HYBRID  \\\n",
       "8254        0.0        0.0                0.0       0.0              0.0   \n",
       "16233       0.0        0.0                0.0       0.0              0.0   \n",
       "\n",
       "       model_XV LIMITED  model_YRV  model_Yaris  model_Yaris IA  \\\n",
       "8254                0.0        0.0          0.0             0.0   \n",
       "16233               0.0        0.0          0.0             0.0   \n",
       "\n",
       "       model_Yaris RS  model_Yaris SE  model_Yaris iA  model_Yukon  model_Z4  \\\n",
       "8254              0.0             0.0             0.0          0.0       0.0   \n",
       "16233             0.0             0.0             0.0          0.0       0.0   \n",
       "\n",
       "       model_Z4 3,0 SI  model_Zafira  model_Zafira B  model_i20  model_i3  \\\n",
       "8254               0.0           0.0             0.0        0.0       0.0   \n",
       "16233              0.0           0.0             0.0        0.0       0.0   \n",
       "\n",
       "       model_i40  model_iA isti  model_kona  model_macan  model_macan S  \\\n",
       "8254         0.0            0.0         0.0          0.0            0.0   \n",
       "16233        0.0            0.0         0.0          0.0            0.0   \n",
       "\n",
       "       model_tC  model_xD  category_Cabriolet  category_Coupe  \\\n",
       "8254        0.0       0.0                 0.0             0.0   \n",
       "16233       0.0       0.0                 0.0             0.0   \n",
       "\n",
       "       category_Goods wagon  category_Hatchback  category_Jeep  \\\n",
       "8254                    0.0                 0.0            0.0   \n",
       "16233                   0.0                 0.0            0.0   \n",
       "\n",
       "       category_Limousine  category_Microbus  category_Minivan  \\\n",
       "8254                  0.0                0.0               0.0   \n",
       "16233                 0.0                0.0               0.0   \n",
       "\n",
       "       category_Pickup  category_Sedan  category_Universal  fuel_CNG  \\\n",
       "8254               0.0             1.0                 0.0       0.0   \n",
       "16233              0.0             1.0                 0.0       0.0   \n",
       "\n",
       "       fuel_Diesel  fuel_Hybrid  fuel_Hydrogen  fuel_LPG  fuel_Petrol  \\\n",
       "8254           0.0          0.0            0.0       0.0          1.0   \n",
       "16233          1.0          0.0            0.0       0.0          0.0   \n",
       "\n",
       "       fuel_Plug-in Hybrid  gear_Automatic  gear_Manual  gear_Tiptronic  \\\n",
       "8254                   0.0             1.0          0.0             0.0   \n",
       "16233                  0.0             1.0          0.0             0.0   \n",
       "\n",
       "       gear_Variator  drive_4x4  drive_Front  drive_Rear  wheel_left  \\\n",
       "8254             0.0        0.0          1.0         0.0         1.0   \n",
       "16233            0.0        1.0          0.0         0.0         1.0   \n",
       "\n",
       "       wheel_right  color_Beige  color_Black  color_Blue  color_Brown  \\\n",
       "8254           0.0          0.0          0.0         0.0          0.0   \n",
       "16233          0.0          0.0          1.0         0.0          0.0   \n",
       "\n",
       "       color_Carnelian red  color_Golden  color_Green  color_Grey  \\\n",
       "8254                   0.0           0.0          0.0         0.0   \n",
       "16233                  0.0           0.0          0.0         0.0   \n",
       "\n",
       "       color_Orange  color_Pink  color_Purple  color_Red  color_Silver  \\\n",
       "8254            0.0         1.0           0.0        0.0           0.0   \n",
       "16233           0.0         0.0           0.0        0.0           0.0   \n",
       "\n",
       "       color_Sky blue  color_White  color_Yellow  \n",
       "8254              0.0          0.0           0.0  \n",
       "16233             0.0          0.0           0.0  \n",
       "\n",
       "[2 rows x 1707 columns]"
      ]
     },
     "execution_count": 25,
     "metadata": {},
     "output_type": "execute_result"
    }
   ],
   "source": [
    "train_inputs[numeric_cols+encoded_cols].head(2)"
   ]
  },
  {
   "cell_type": "markdown",
   "metadata": {},
   "source": [
    "#### getting final x_train, x_val"
   ]
  },
  {
   "cell_type": "code",
   "execution_count": 49,
   "metadata": {},
   "outputs": [
    {
     "data": {
      "text/plain": [
       "1707"
      ]
     },
     "execution_count": 49,
     "metadata": {},
     "output_type": "execute_result"
    }
   ],
   "source": [
    "training_cols = numeric_cols+encoded_cols\n",
    "len(training_cols)"
   ]
  },
  {
   "cell_type": "code",
   "execution_count": 32,
   "metadata": {},
   "outputs": [],
   "source": [
    "# x_train = train_inputs[numeric_cols+encoded_cols]\n",
    "# x_val = val_inputs[numeric_cols+encoded_cols]"
   ]
  },
  {
   "cell_type": "code",
   "execution_count": 33,
   "metadata": {},
   "outputs": [
    {
     "data": {
      "text/plain": [
       "((13465, 1707), (5772, 1707), (13465,), (5772,))"
      ]
     },
     "execution_count": 33,
     "metadata": {},
     "output_type": "execute_result"
    }
   ],
   "source": [
    "x_train.shape, x_val.shape, train_targets.shape, val_targets.shape"
   ]
  },
  {
   "cell_type": "markdown",
   "metadata": {},
   "source": [
    "### fitting with regularised decision tree"
   ]
  },
  {
   "cell_type": "code",
   "execution_count": 80,
   "metadata": {},
   "outputs": [
    {
     "data": {
      "text/html": [
       "<div>\n",
       "<style scoped>\n",
       "    .dataframe tbody tr th:only-of-type {\n",
       "        vertical-align: middle;\n",
       "    }\n",
       "\n",
       "    .dataframe tbody tr th {\n",
       "        vertical-align: top;\n",
       "    }\n",
       "\n",
       "    .dataframe thead th {\n",
       "        text-align: right;\n",
       "    }\n",
       "</style>\n",
       "<table border=\"1\" class=\"dataframe\">\n",
       "  <thead>\n",
       "    <tr style=\"text-align: right;\">\n",
       "      <th></th>\n",
       "      <th>0</th>\n",
       "      <th>hyperparams</th>\n",
       "      <th>model</th>\n",
       "      <th>time</th>\n",
       "      <th>train_error</th>\n",
       "      <th>val_error</th>\n",
       "    </tr>\n",
       "  </thead>\n",
       "  <tbody>\n",
       "    <tr>\n",
       "      <th>100</th>\n",
       "      <td>NaN</td>\n",
       "      <td>3</td>\n",
       "      <td>2</td>\n",
       "      <td>1</td>\n",
       "      <td>4</td>\n",
       "      <td>5</td>\n",
       "    </tr>\n",
       "    <tr>\n",
       "      <th>0</th>\n",
       "      <td>2.0</td>\n",
       "      <td>NaN</td>\n",
       "      <td>NaN</td>\n",
       "      <td>NaN</td>\n",
       "      <td>NaN</td>\n",
       "      <td>NaN</td>\n",
       "    </tr>\n",
       "    <tr>\n",
       "      <th>1</th>\n",
       "      <td>3.0</td>\n",
       "      <td>NaN</td>\n",
       "      <td>NaN</td>\n",
       "      <td>NaN</td>\n",
       "      <td>NaN</td>\n",
       "      <td>NaN</td>\n",
       "    </tr>\n",
       "    <tr>\n",
       "      <th>2</th>\n",
       "      <td>4.0</td>\n",
       "      <td>NaN</td>\n",
       "      <td>NaN</td>\n",
       "      <td>NaN</td>\n",
       "      <td>NaN</td>\n",
       "      <td>NaN</td>\n",
       "    </tr>\n",
       "    <tr>\n",
       "      <th>3</th>\n",
       "      <td>5.0</td>\n",
       "      <td>NaN</td>\n",
       "      <td>NaN</td>\n",
       "      <td>NaN</td>\n",
       "      <td>NaN</td>\n",
       "      <td>NaN</td>\n",
       "    </tr>\n",
       "    <tr>\n",
       "      <th>4</th>\n",
       "      <td>6.0</td>\n",
       "      <td>NaN</td>\n",
       "      <td>NaN</td>\n",
       "      <td>NaN</td>\n",
       "      <td>NaN</td>\n",
       "      <td>NaN</td>\n",
       "    </tr>\n",
       "  </tbody>\n",
       "</table>\n",
       "</div>"
      ],
      "text/plain": [
       "       0 hyperparams model time train_error val_error\n",
       "100  NaN           3     2    1           4         5\n",
       "0    2.0         NaN   NaN  NaN         NaN       NaN\n",
       "1    3.0         NaN   NaN  NaN         NaN       NaN\n",
       "2    4.0         NaN   NaN  NaN         NaN       NaN\n",
       "3    5.0         NaN   NaN  NaN         NaN       NaN\n",
       "4    6.0         NaN   NaN  NaN         NaN       NaN"
      ]
     },
     "execution_count": 80,
     "metadata": {},
     "output_type": "execute_result"
    }
   ],
   "source": []
  },
  {
   "cell_type": "code",
   "execution_count": 94,
   "metadata": {},
   "outputs": [
    {
     "data": {
      "text/html": [
       "<div>\n",
       "<style scoped>\n",
       "    .dataframe tbody tr th:only-of-type {\n",
       "        vertical-align: middle;\n",
       "    }\n",
       "\n",
       "    .dataframe tbody tr th {\n",
       "        vertical-align: top;\n",
       "    }\n",
       "\n",
       "    .dataframe thead th {\n",
       "        text-align: right;\n",
       "    }\n",
       "</style>\n",
       "<table border=\"1\" class=\"dataframe\">\n",
       "  <thead>\n",
       "    <tr style=\"text-align: right;\">\n",
       "      <th></th>\n",
       "      <th>Date</th>\n",
       "      <th>Outlier rows dropped</th>\n",
       "      <th>Outlier technique</th>\n",
       "      <th>Levy or log levy</th>\n",
       "      <th>Train-duplicates dropped</th>\n",
       "      <th>Col for prediction (price/logprice)</th>\n",
       "      <th>Numeric Imputation</th>\n",
       "      <th>Categorical Imputation</th>\n",
       "      <th>Split ratio</th>\n",
       "      <th>machicnehack test set used for categorical imputaton</th>\n",
       "      <th>estimator</th>\n",
       "      <th>hyperparams</th>\n",
       "      <th>train_RMSLE</th>\n",
       "      <th>val_RMSLE</th>\n",
       "    </tr>\n",
       "  </thead>\n",
       "  <tbody>\n",
       "    <tr>\n",
       "      <th>9</th>\n",
       "      <td>2021-07-09 23:46:49.473958</td>\n",
       "      <td>NaN</td>\n",
       "      <td>NaN</td>\n",
       "      <td>NaN</td>\n",
       "      <td>NaN</td>\n",
       "      <td>NaN</td>\n",
       "      <td>NaN</td>\n",
       "      <td>NaN</td>\n",
       "      <td>NaN</td>\n",
       "      <td>NaN</td>\n",
       "      <td>RandomForestRegressor(max_depth=20, min_sample...</td>\n",
       "      <td>'bootstrap': True, 'ccp_alpha': 0.0, 'criterio...</td>\n",
       "      <td>0.709734</td>\n",
       "      <td>0.984271</td>\n",
       "    </tr>\n",
       "    <tr>\n",
       "      <th>10</th>\n",
       "      <td>2021-07-09 23:48:57.225552</td>\n",
       "      <td>NaN</td>\n",
       "      <td>NaN</td>\n",
       "      <td>NaN</td>\n",
       "      <td>NaN</td>\n",
       "      <td>NaN</td>\n",
       "      <td>NaN</td>\n",
       "      <td>NaN</td>\n",
       "      <td>NaN</td>\n",
       "      <td>NaN</td>\n",
       "      <td>RandomForestRegressor(max_depth=17, min_sample...</td>\n",
       "      <td>'bootstrap': True, 'ccp_alpha': 0.0, 'criterio...</td>\n",
       "      <td>0.792199</td>\n",
       "      <td>1.007534</td>\n",
       "    </tr>\n",
       "    <tr>\n",
       "      <th>11</th>\n",
       "      <td>2021-07-09 23:52:11.173612</td>\n",
       "      <td>NaN</td>\n",
       "      <td>NaN</td>\n",
       "      <td>NaN</td>\n",
       "      <td>NaN</td>\n",
       "      <td>NaN</td>\n",
       "      <td>NaN</td>\n",
       "      <td>NaN</td>\n",
       "      <td>NaN</td>\n",
       "      <td>NaN</td>\n",
       "      <td>RandomForestRegressor(max_depth=13, random_sta...</td>\n",
       "      <td>'bootstrap': True, 'ccp_alpha': 0.0, 'criterio...</td>\n",
       "      <td>0.795357</td>\n",
       "      <td>1.037197</td>\n",
       "    </tr>\n",
       "    <tr>\n",
       "      <th>12</th>\n",
       "      <td>2021-07-10 10:58:00.765145</td>\n",
       "      <td>NaN</td>\n",
       "      <td>NaN</td>\n",
       "      <td>NaN</td>\n",
       "      <td>NaN</td>\n",
       "      <td>NaN</td>\n",
       "      <td>NaN</td>\n",
       "      <td>NaN</td>\n",
       "      <td>NaN</td>\n",
       "      <td>NaN</td>\n",
       "      <td>DecisionTreeRegressor(random_state=21)</td>\n",
       "      <td>'ccp_alpha': 0.0, 'criterion': 'mse', 'max_dep...</td>\n",
       "      <td>0.177977</td>\n",
       "      <td>1.256361</td>\n",
       "    </tr>\n",
       "    <tr>\n",
       "      <th>13</th>\n",
       "      <td>2021-07-10 10:59:20.615528</td>\n",
       "      <td>NaN</td>\n",
       "      <td>NaN</td>\n",
       "      <td>NaN</td>\n",
       "      <td>NaN</td>\n",
       "      <td>NaN</td>\n",
       "      <td>NaN</td>\n",
       "      <td>NaN</td>\n",
       "      <td>NaN</td>\n",
       "      <td>NaN</td>\n",
       "      <td>DecisionTreeRegressor(max_leaf_nodes=512, rand...</td>\n",
       "      <td>'ccp_alpha': 0.0, 'criterion': 'mse', 'max_dep...</td>\n",
       "      <td>0.717742</td>\n",
       "      <td>1.154423</td>\n",
       "    </tr>\n",
       "  </tbody>\n",
       "</table>\n",
       "</div>"
      ],
      "text/plain": [
       "                         Date  Outlier rows dropped Outlier technique  \\\n",
       "9  2021-07-09 23:46:49.473958                   NaN               NaN   \n",
       "10 2021-07-09 23:48:57.225552                   NaN               NaN   \n",
       "11 2021-07-09 23:52:11.173612                   NaN               NaN   \n",
       "12 2021-07-10 10:58:00.765145                   NaN               NaN   \n",
       "13 2021-07-10 10:59:20.615528                   NaN               NaN   \n",
       "\n",
       "   Levy or log levy  Train-duplicates dropped  \\\n",
       "9               NaN                       NaN   \n",
       "10              NaN                       NaN   \n",
       "11              NaN                       NaN   \n",
       "12              NaN                       NaN   \n",
       "13              NaN                       NaN   \n",
       "\n",
       "   Col for prediction (price/logprice) Numeric Imputation  \\\n",
       "9                                  NaN                NaN   \n",
       "10                                 NaN                NaN   \n",
       "11                                 NaN                NaN   \n",
       "12                                 NaN                NaN   \n",
       "13                                 NaN                NaN   \n",
       "\n",
       "   Categorical Imputation Split ratio  \\\n",
       "9                     NaN         NaN   \n",
       "10                    NaN         NaN   \n",
       "11                    NaN         NaN   \n",
       "12                    NaN         NaN   \n",
       "13                    NaN         NaN   \n",
       "\n",
       "   machicnehack test set used for categorical imputaton  \\\n",
       "9                                                 NaN     \n",
       "10                                                NaN     \n",
       "11                                                NaN     \n",
       "12                                                NaN     \n",
       "13                                                NaN     \n",
       "\n",
       "                                            estimator  \\\n",
       "9   RandomForestRegressor(max_depth=20, min_sample...   \n",
       "10  RandomForestRegressor(max_depth=17, min_sample...   \n",
       "11  RandomForestRegressor(max_depth=13, random_sta...   \n",
       "12             DecisionTreeRegressor(random_state=21)   \n",
       "13  DecisionTreeRegressor(max_leaf_nodes=512, rand...   \n",
       "\n",
       "                                          hyperparams  train_RMSLE  val_RMSLE  \n",
       "9   'bootstrap': True, 'ccp_alpha': 0.0, 'criterio...     0.709734   0.984271  \n",
       "10  'bootstrap': True, 'ccp_alpha': 0.0, 'criterio...     0.792199   1.007534  \n",
       "11  'bootstrap': True, 'ccp_alpha': 0.0, 'criterio...     0.795357   1.037197  \n",
       "12  'ccp_alpha': 0.0, 'criterion': 'mse', 'max_dep...     0.177977   1.256361  \n",
       "13  'ccp_alpha': 0.0, 'criterion': 'mse', 'max_dep...     0.717742   1.154423  "
      ]
     },
     "execution_count": 94,
     "metadata": {},
     "output_type": "execute_result"
    }
   ],
   "source": [
    "log.tail()"
   ]
  },
  {
   "cell_type": "code",
   "execution_count": 28,
   "metadata": {},
   "outputs": [],
   "source": [
    "from sklearn.tree import DecisionTreeRegressor\n",
    "from sklearn.ensemble import RandomForestRegressor"
   ]
  },
  {
   "cell_type": "code",
   "execution_count": 55,
   "metadata": {},
   "outputs": [
    {
     "name": "stdout",
     "output_type": "stream",
     "text": [
      "Train RMSLE: 0.3317602971372327\n",
      "Val RMSLE: 1.2628326715575295\n"
     ]
    }
   ],
   "source": [
    "model = DecisionTreeRegressor(random_state=21, max_depth=25)\n",
    "fit_predict(estimator=model)"
   ]
  },
  {
   "cell_type": "code",
   "execution_count": 56,
   "metadata": {},
   "outputs": [
    {
     "name": "stdout",
     "output_type": "stream",
     "text": [
      "Train RMSLE: 0.765591183394641\n",
      "Val RMSLE: 1.1035667120882957\n"
     ]
    }
   ],
   "source": [
    "model = DecisionTreeRegressor(random_state=21, max_depth=35, min_samples_leaf=5)\n",
    "fit_predict(estimator=model)"
   ]
  },
  {
   "cell_type": "code",
   "execution_count": 57,
   "metadata": {},
   "outputs": [],
   "source": [
    "import pickle\n",
    "# save the model to disk\n",
    "filename = 'finalized_model.sav'\n",
    "pickle.dump(model, open(filename, 'wb'))\n",
    " \n",
    "# some time later...\n",
    " \n",
    "# load the model from disk\n",
    "loaded_model = pickle.load(open(filename, 'rb'))"
   ]
  },
  {
   "cell_type": "markdown",
   "metadata": {},
   "source": [
    "### RF"
   ]
  },
  {
   "cell_type": "code",
   "execution_count": 60,
   "metadata": {},
   "outputs": [
    {
     "name": "stdout",
     "output_type": "stream",
     "text": [
      "Train RMSLE: 0.3944736654672964\n",
      "Val RMSLE: 0.9651959068257472\n"
     ]
    }
   ],
   "source": [
    "model = RandomForestRegressor(random_state=21, max_depth = 35)\n",
    "fit_predict(model)"
   ]
  },
  {
   "cell_type": "code",
   "execution_count": 72,
   "metadata": {},
   "outputs": [
    {
     "name": "stdout",
     "output_type": "stream",
     "text": [
      "Train RMSLE: 0.71852651505647\n",
      "Val RMSLE: 0.9850246691666769\n"
     ]
    }
   ],
   "source": [
    "model = RandomForestRegressor(random_state=21, max_depth = 25, min_samples_split=20)\n",
    "fit_predict(model)"
   ]
  },
  {
   "cell_type": "code",
   "execution_count": 194,
   "metadata": {},
   "outputs": [
    {
     "name": "stdout",
     "output_type": "stream",
     "text": [
      "Train RMSLE: 0.795356668456494\n",
      "Val RMSLE: 1.037196686823185\n"
     ]
    }
   ],
   "source": [
    "model = RandomForestRegressor(random_state=21, max_depth = 13)\n",
    "fit_predict(model)"
   ]
  },
  {
   "cell_type": "code",
   "execution_count": 192,
   "metadata": {},
   "outputs": [
    {
     "data": {
      "text/html": [
       "<div>\n",
       "<style scoped>\n",
       "    .dataframe tbody tr th:only-of-type {\n",
       "        vertical-align: middle;\n",
       "    }\n",
       "\n",
       "    .dataframe tbody tr th {\n",
       "        vertical-align: top;\n",
       "    }\n",
       "\n",
       "    .dataframe thead th {\n",
       "        text-align: right;\n",
       "    }\n",
       "</style>\n",
       "<table border=\"1\" class=\"dataframe\">\n",
       "  <thead>\n",
       "    <tr style=\"text-align: right;\">\n",
       "      <th></th>\n",
       "      <th>Date</th>\n",
       "      <th>Outlier rows dropped</th>\n",
       "      <th>Outlier technique</th>\n",
       "      <th>Levy or log levy</th>\n",
       "      <th>Train-duplicates dropped</th>\n",
       "      <th>Col for prediction (price/logprice)</th>\n",
       "      <th>Numeric Imputation</th>\n",
       "      <th>Categorical Imputation</th>\n",
       "      <th>Split ratio</th>\n",
       "      <th>machicnehack test set used for categorical imputaton</th>\n",
       "      <th>estimator</th>\n",
       "      <th>hyperparams</th>\n",
       "      <th>train_RMSLE</th>\n",
       "      <th>val_RMSLE</th>\n",
       "    </tr>\n",
       "  </thead>\n",
       "  <tbody>\n",
       "    <tr>\n",
       "      <th>6</th>\n",
       "      <td>NaT</td>\n",
       "      <td>NaN</td>\n",
       "      <td>NaN</td>\n",
       "      <td>NaN</td>\n",
       "      <td>NaN</td>\n",
       "      <td>NaN</td>\n",
       "      <td>NaN</td>\n",
       "      <td>NaN</td>\n",
       "      <td>NaN</td>\n",
       "      <td>NaN</td>\n",
       "      <td>RFRegressor</td>\n",
       "      <td>random_state=21, max_depth=60</td>\n",
       "      <td>0.390</td>\n",
       "      <td>0.964</td>\n",
       "    </tr>\n",
       "    <tr>\n",
       "      <th>7</th>\n",
       "      <td>NaT</td>\n",
       "      <td>NaN</td>\n",
       "      <td>NaN</td>\n",
       "      <td>NaN</td>\n",
       "      <td>NaN</td>\n",
       "      <td>NaN</td>\n",
       "      <td>NaN</td>\n",
       "      <td>NaN</td>\n",
       "      <td>NaN</td>\n",
       "      <td>NaN</td>\n",
       "      <td>RFRegressor</td>\n",
       "      <td>random_state=21, max_depth = 25, min_samples_s...</td>\n",
       "      <td>0.718</td>\n",
       "      <td>0.985</td>\n",
       "    </tr>\n",
       "    <tr>\n",
       "      <th>8</th>\n",
       "      <td>2021-07-09 23:38:52.862457</td>\n",
       "      <td>NaN</td>\n",
       "      <td>NaN</td>\n",
       "      <td>NaN</td>\n",
       "      <td>NaN</td>\n",
       "      <td>NaN</td>\n",
       "      <td>NaN</td>\n",
       "      <td>NaN</td>\n",
       "      <td>NaN</td>\n",
       "      <td>NaN</td>\n",
       "      <td>NaN</td>\n",
       "      <td>NaN</td>\n",
       "      <td>NaN</td>\n",
       "      <td>NaN</td>\n",
       "    </tr>\n",
       "    <tr>\n",
       "      <th>9</th>\n",
       "      <td>2021-07-09 23:39:07.094816</td>\n",
       "      <td>NaN</td>\n",
       "      <td>NaN</td>\n",
       "      <td>NaN</td>\n",
       "      <td>NaN</td>\n",
       "      <td>NaN</td>\n",
       "      <td>NaN</td>\n",
       "      <td>NaN</td>\n",
       "      <td>NaN</td>\n",
       "      <td>NaN</td>\n",
       "      <td>DecisionTreeRegressor(max_depth=28, min_sample...</td>\n",
       "      <td>NaN</td>\n",
       "      <td>NaN</td>\n",
       "      <td>NaN</td>\n",
       "    </tr>\n",
       "    <tr>\n",
       "      <th>10</th>\n",
       "      <td>2021-07-09 23:40:09.443746</td>\n",
       "      <td>NaN</td>\n",
       "      <td>NaN</td>\n",
       "      <td>NaN</td>\n",
       "      <td>NaN</td>\n",
       "      <td>NaN</td>\n",
       "      <td>NaN</td>\n",
       "      <td>NaN</td>\n",
       "      <td>NaN</td>\n",
       "      <td>NaN</td>\n",
       "      <td>DecisionTreeRegressor(max_depth=28, min_sample...</td>\n",
       "      <td>'ccp_alpha': 0.0, 'criterion': 'mse', 'max_dep...</td>\n",
       "      <td>NaN</td>\n",
       "      <td>NaN</td>\n",
       "    </tr>\n",
       "  </tbody>\n",
       "</table>\n",
       "</div>"
      ],
      "text/plain": [
       "                         Date  Outlier rows dropped Outlier technique  \\\n",
       "6                         NaT                   NaN               NaN   \n",
       "7                         NaT                   NaN               NaN   \n",
       "8  2021-07-09 23:38:52.862457                   NaN               NaN   \n",
       "9  2021-07-09 23:39:07.094816                   NaN               NaN   \n",
       "10 2021-07-09 23:40:09.443746                   NaN               NaN   \n",
       "\n",
       "   Levy or log levy  Train-duplicates dropped  \\\n",
       "6               NaN                       NaN   \n",
       "7               NaN                       NaN   \n",
       "8               NaN                       NaN   \n",
       "9               NaN                       NaN   \n",
       "10              NaN                       NaN   \n",
       "\n",
       "   Col for prediction (price/logprice) Numeric Imputation  \\\n",
       "6                                  NaN                NaN   \n",
       "7                                  NaN                NaN   \n",
       "8                                  NaN                NaN   \n",
       "9                                  NaN                NaN   \n",
       "10                                 NaN                NaN   \n",
       "\n",
       "   Categorical Imputation Split ratio  \\\n",
       "6                     NaN         NaN   \n",
       "7                     NaN         NaN   \n",
       "8                     NaN         NaN   \n",
       "9                     NaN         NaN   \n",
       "10                    NaN         NaN   \n",
       "\n",
       "   machicnehack test set used for categorical imputaton  \\\n",
       "6                                                 NaN     \n",
       "7                                                 NaN     \n",
       "8                                                 NaN     \n",
       "9                                                 NaN     \n",
       "10                                                NaN     \n",
       "\n",
       "                                            estimator  \\\n",
       "6                                         RFRegressor   \n",
       "7                                         RFRegressor   \n",
       "8                                                 NaN   \n",
       "9   DecisionTreeRegressor(max_depth=28, min_sample...   \n",
       "10  DecisionTreeRegressor(max_depth=28, min_sample...   \n",
       "\n",
       "                                          hyperparams  train_RMSLE  val_RMSLE  \n",
       "6                       random_state=21, max_depth=60        0.390      0.964  \n",
       "7   random_state=21, max_depth = 25, min_samples_s...        0.718      0.985  \n",
       "8                                                 NaN          NaN        NaN  \n",
       "9                                                 NaN          NaN        NaN  \n",
       "10  'ccp_alpha': 0.0, 'criterion': 'mse', 'max_dep...          NaN        NaN  "
      ]
     },
     "execution_count": 192,
     "metadata": {},
     "output_type": "execute_result"
    }
   ],
   "source": [
    "log.tail()"
   ]
  },
  {
   "cell_type": "code",
   "execution_count": 83,
   "metadata": {},
   "outputs": [],
   "source": [
    "filename = 'rf_md25_mss20.sav'\n",
    "pickle.dump(model, open(filename, 'wb'))"
   ]
  },
  {
   "cell_type": "code",
   "execution_count": 86,
   "metadata": {},
   "outputs": [
    {
     "data": {
      "application/javascript": [
       "window.require && require([\"base/js/namespace\"],function(Jupyter){Jupyter.notebook.save_checkpoint()})"
      ],
      "text/plain": [
       "<IPython.core.display.Javascript object>"
      ]
     },
     "metadata": {},
     "output_type": "display_data"
    },
    {
     "name": "stdout",
     "output_type": "stream",
     "text": [
      "[jovian] Updating notebook \"antariksh0094/carprice\" on https://jovian.ai/\n",
      "[jovian] Committed successfully! https://jovian.ai/antariksh0094/carprice\n"
     ]
    },
    {
     "data": {
      "text/plain": [
       "'https://jovian.ai/antariksh0094/carprice'"
      ]
     },
     "execution_count": 86,
     "metadata": {},
     "output_type": "execute_result"
    }
   ],
   "source": [
    "jovian.commit(project=project_name, privacy='private')"
   ]
  },
  {
   "cell_type": "code",
   "execution_count": 88,
   "metadata": {},
   "outputs": [
    {
     "name": "stdout",
     "output_type": "stream",
     "text": [
      "[jovian] Hyperparams logged.\r\n"
     ]
    }
   ],
   "source": [
    "jovian.log_hyperparams({\n",
    "    'max_depth':25,\n",
    "    'min_samples_split':20\n",
    "})"
   ]
  },
  {
   "cell_type": "code",
   "execution_count": 89,
   "metadata": {},
   "outputs": [
    {
     "name": "stdout",
     "output_type": "stream",
     "text": [
      "[jovian] Metrics logged.\r\n"
     ]
    }
   ],
   "source": [
    "jovian.log_metrics({\n",
    "    'train_loss':0.718,\n",
    "    'val_loss':0.985\n",
    "})"
   ]
  },
  {
   "cell_type": "code",
   "execution_count": 193,
   "metadata": {},
   "outputs": [],
   "source": []
  },
  {
   "cell_type": "code",
   "execution_count": null,
   "metadata": {},
   "outputs": [],
   "source": []
  },
  {
   "cell_type": "code",
   "execution_count": 186,
   "metadata": {},
   "outputs": [
    {
     "name": "stdout",
     "output_type": "stream",
     "text": [
      "inside fit\n",
      "['time' 'model' 'hyperparams' 'train_error' 'val_error']\n",
      "Train RMSLE: 0.9602792094198195\n",
      "Val RMSLE: 1.0941183996660795\n"
     ]
    }
   ],
   "source": [
    "model = DecisionTreeRegressor(random_state=21, max_depth=28, min_samples_leaf=15)\n",
    "fit_predict(estimator=model)"
   ]
  },
  {
   "cell_type": "code",
   "execution_count": 195,
   "metadata": {},
   "outputs": [
    {
     "data": {
      "application/javascript": [
       "window.require && require([\"base/js/namespace\"],function(Jupyter){Jupyter.notebook.save_checkpoint()})"
      ],
      "text/plain": [
       "<IPython.core.display.Javascript object>"
      ]
     },
     "metadata": {},
     "output_type": "display_data"
    },
    {
     "name": "stdout",
     "output_type": "stream",
     "text": [
      "[jovian] Updating notebook \"antariksh0094/carprice\" on https://jovian.ai/\n",
      "[jovian] Attaching records (metrics, hyperparameters, dataset etc.)\n",
      "[jovian] Committed successfully! https://jovian.ai/antariksh0094/carprice\n"
     ]
    },
    {
     "data": {
      "text/plain": [
       "'https://jovian.ai/antariksh0094/carprice'"
      ]
     },
     "execution_count": 195,
     "metadata": {},
     "output_type": "execute_result"
    }
   ],
   "source": [
    "jovian.commit(project=project_name)"
   ]
  },
  {
   "cell_type": "markdown",
   "metadata": {},
   "source": [
    "### 10-07-2021"
   ]
  },
  {
   "cell_type": "code",
   "execution_count": 99,
   "metadata": {},
   "outputs": [
    {
     "data": {
      "text/plain": [
       "'C:\\\\Users\\\\Anshu\\\\Data Science\\\\TheMathCompany-hackathon'"
      ]
     },
     "execution_count": 99,
     "metadata": {},
     "output_type": "execute_result"
    }
   ],
   "source": [
    "os.getcwd()\n",
    "os.chdir('C:\\\\Users\\\\Anshu\\\\Data Science\\\\TheMathCompany-hackathon')\n",
    "os.getcwd()"
   ]
  },
  {
   "cell_type": "code",
   "execution_count": 101,
   "metadata": {},
   "outputs": [
    {
     "name": "stdout",
     "output_type": "stream",
     "text": [
      "Train RMSLE: 0.9514189905706221\n",
      "Val RMSLE: 1.1537580661829472\n"
     ]
    },
    {
     "data": {
      "text/html": [
       "<div>\n",
       "<style scoped>\n",
       "    .dataframe tbody tr th:only-of-type {\n",
       "        vertical-align: middle;\n",
       "    }\n",
       "\n",
       "    .dataframe tbody tr th {\n",
       "        vertical-align: top;\n",
       "    }\n",
       "\n",
       "    .dataframe thead th {\n",
       "        text-align: right;\n",
       "    }\n",
       "</style>\n",
       "<table border=\"1\" class=\"dataframe\">\n",
       "  <thead>\n",
       "    <tr style=\"text-align: right;\">\n",
       "      <th></th>\n",
       "      <th>Date</th>\n",
       "      <th>Outlier rows dropped</th>\n",
       "      <th>Outlier technique</th>\n",
       "      <th>Levy or log levy</th>\n",
       "      <th>Train-duplicates dropped</th>\n",
       "      <th>Col for prediction (price/logprice)</th>\n",
       "      <th>Numeric Imputation</th>\n",
       "      <th>Categorical Imputation</th>\n",
       "      <th>Split ratio</th>\n",
       "      <th>machicnehack test set used for categorical imputaton</th>\n",
       "      <th>estimator</th>\n",
       "      <th>hyperparams</th>\n",
       "      <th>train_RMSLE</th>\n",
       "      <th>val_RMSLE</th>\n",
       "      <th>test_RMSLE</th>\n",
       "    </tr>\n",
       "  </thead>\n",
       "  <tbody>\n",
       "    <tr>\n",
       "      <th>13</th>\n",
       "      <td>2021-07-10 10:59:20.615528</td>\n",
       "      <td>NaN</td>\n",
       "      <td>NaN</td>\n",
       "      <td>NaN</td>\n",
       "      <td>NaN</td>\n",
       "      <td>NaN</td>\n",
       "      <td>NaN</td>\n",
       "      <td>NaN</td>\n",
       "      <td>NaN</td>\n",
       "      <td>NaN</td>\n",
       "      <td>DecisionTreeRegressor(max_leaf_nodes=512, rand...</td>\n",
       "      <td>'ccp_alpha': 0.0, 'criterion': 'mse', 'max_dep...</td>\n",
       "      <td>0.717742</td>\n",
       "      <td>1.154423</td>\n",
       "      <td>NaN</td>\n",
       "    </tr>\n",
       "    <tr>\n",
       "      <th>14</th>\n",
       "      <td>2021-07-10 11:46:15.169460</td>\n",
       "      <td>NaN</td>\n",
       "      <td>NaN</td>\n",
       "      <td>NaN</td>\n",
       "      <td>NaN</td>\n",
       "      <td>NaN</td>\n",
       "      <td>NaN</td>\n",
       "      <td>NaN</td>\n",
       "      <td>NaN</td>\n",
       "      <td>NaN</td>\n",
       "      <td>DecisionTreeRegressor(max_leaf_nodes=300, rand...</td>\n",
       "      <td>'ccp_alpha': 0.0, 'criterion': 'mse', 'max_dep...</td>\n",
       "      <td>0.860650</td>\n",
       "      <td>1.143619</td>\n",
       "      <td>NaN</td>\n",
       "    </tr>\n",
       "    <tr>\n",
       "      <th>15</th>\n",
       "      <td>2021-07-10 11:46:33.970165</td>\n",
       "      <td>NaN</td>\n",
       "      <td>NaN</td>\n",
       "      <td>NaN</td>\n",
       "      <td>NaN</td>\n",
       "      <td>NaN</td>\n",
       "      <td>NaN</td>\n",
       "      <td>NaN</td>\n",
       "      <td>NaN</td>\n",
       "      <td>NaN</td>\n",
       "      <td>DecisionTreeRegressor(max_leaf_nodes=200, rand...</td>\n",
       "      <td>'ccp_alpha': 0.0, 'criterion': 'mse', 'max_dep...</td>\n",
       "      <td>0.951419</td>\n",
       "      <td>1.153758</td>\n",
       "      <td>NaN</td>\n",
       "    </tr>\n",
       "  </tbody>\n",
       "</table>\n",
       "</div>"
      ],
      "text/plain": [
       "                         Date  Outlier rows dropped Outlier technique  \\\n",
       "13 2021-07-10 10:59:20.615528                   NaN               NaN   \n",
       "14 2021-07-10 11:46:15.169460                   NaN               NaN   \n",
       "15 2021-07-10 11:46:33.970165                   NaN               NaN   \n",
       "\n",
       "   Levy or log levy  Train-duplicates dropped  \\\n",
       "13              NaN                       NaN   \n",
       "14              NaN                       NaN   \n",
       "15              NaN                       NaN   \n",
       "\n",
       "   Col for prediction (price/logprice) Numeric Imputation  \\\n",
       "13                                 NaN                NaN   \n",
       "14                                 NaN                NaN   \n",
       "15                                 NaN                NaN   \n",
       "\n",
       "   Categorical Imputation Split ratio  \\\n",
       "13                    NaN         NaN   \n",
       "14                    NaN         NaN   \n",
       "15                    NaN         NaN   \n",
       "\n",
       "   machicnehack test set used for categorical imputaton  \\\n",
       "13                                                NaN     \n",
       "14                                                NaN     \n",
       "15                                                NaN     \n",
       "\n",
       "                                            estimator  \\\n",
       "13  DecisionTreeRegressor(max_leaf_nodes=512, rand...   \n",
       "14  DecisionTreeRegressor(max_leaf_nodes=300, rand...   \n",
       "15  DecisionTreeRegressor(max_leaf_nodes=200, rand...   \n",
       "\n",
       "                                          hyperparams  train_RMSLE  val_RMSLE  \\\n",
       "13  'ccp_alpha': 0.0, 'criterion': 'mse', 'max_dep...     0.717742   1.154423   \n",
       "14  'ccp_alpha': 0.0, 'criterion': 'mse', 'max_dep...     0.860650   1.143619   \n",
       "15  'ccp_alpha': 0.0, 'criterion': 'mse', 'max_dep...     0.951419   1.153758   \n",
       "\n",
       "    test_RMSLE  \n",
       "13         NaN  \n",
       "14         NaN  \n",
       "15         NaN  "
      ]
     },
     "execution_count": 101,
     "metadata": {},
     "output_type": "execute_result"
    }
   ],
   "source": [
    "model = DecisionTreeRegressor(random_state=21, max_leaf_nodes=200)\n",
    "fit_predict(model)\n",
    "log = pd.read_excel('model_params_metrics.xlsx')\n",
    "log.tail(3)"
   ]
  },
  {
   "cell_type": "markdown",
   "metadata": {},
   "source": [
    "#### transforming test data"
   ]
  },
  {
   "cell_type": "code",
   "execution_count": 36,
   "metadata": {},
   "outputs": [
    {
     "data": {
      "text/html": [
       "<div>\n",
       "<style scoped>\n",
       "    .dataframe tbody tr th:only-of-type {\n",
       "        vertical-align: middle;\n",
       "    }\n",
       "\n",
       "    .dataframe tbody tr th {\n",
       "        vertical-align: top;\n",
       "    }\n",
       "\n",
       "    .dataframe thead th {\n",
       "        text-align: right;\n",
       "    }\n",
       "</style>\n",
       "<table border=\"1\" class=\"dataframe\">\n",
       "  <thead>\n",
       "    <tr style=\"text-align: right;\">\n",
       "      <th></th>\n",
       "      <th>levy</th>\n",
       "      <th>manufacturer</th>\n",
       "      <th>model</th>\n",
       "      <th>prod</th>\n",
       "      <th>category</th>\n",
       "      <th>leather</th>\n",
       "      <th>fuel</th>\n",
       "      <th>engine</th>\n",
       "      <th>mileage</th>\n",
       "      <th>cylinders</th>\n",
       "      <th>gear</th>\n",
       "      <th>drive</th>\n",
       "      <th>doors</th>\n",
       "      <th>wheel</th>\n",
       "      <th>color</th>\n",
       "      <th>airbags</th>\n",
       "      <th>price</th>\n",
       "      <th>turbo</th>\n",
       "    </tr>\n",
       "  </thead>\n",
       "  <tbody>\n",
       "    <tr>\n",
       "      <th>0</th>\n",
       "      <td>NaN</td>\n",
       "      <td>VOLKSWAGEN</td>\n",
       "      <td>Golf</td>\n",
       "      <td>2012</td>\n",
       "      <td>Hatchback</td>\n",
       "      <td>0</td>\n",
       "      <td>Diesel</td>\n",
       "      <td>2.0</td>\n",
       "      <td>0</td>\n",
       "      <td>4</td>\n",
       "      <td>Manual</td>\n",
       "      <td>Front</td>\n",
       "      <td>2</td>\n",
       "      <td>left</td>\n",
       "      <td>Grey</td>\n",
       "      <td>10</td>\n",
       "      <td>NaN</td>\n",
       "      <td>1</td>\n",
       "    </tr>\n",
       "    <tr>\n",
       "      <th>1</th>\n",
       "      <td>NaN</td>\n",
       "      <td>HYUNDAI</td>\n",
       "      <td>Sonata</td>\n",
       "      <td>2012</td>\n",
       "      <td>Sedan</td>\n",
       "      <td>1</td>\n",
       "      <td>Petrol</td>\n",
       "      <td>2.4</td>\n",
       "      <td>26000</td>\n",
       "      <td>4</td>\n",
       "      <td>Tiptronic</td>\n",
       "      <td>Front</td>\n",
       "      <td>4</td>\n",
       "      <td>left</td>\n",
       "      <td>Grey</td>\n",
       "      <td>10</td>\n",
       "      <td>NaN</td>\n",
       "      <td>0</td>\n",
       "    </tr>\n",
       "  </tbody>\n",
       "</table>\n",
       "</div>"
      ],
      "text/plain": [
       "   levy manufacturer   model  prod   category  leather    fuel  engine  \\\n",
       "0   NaN   VOLKSWAGEN    Golf  2012  Hatchback        0  Diesel     2.0   \n",
       "1   NaN      HYUNDAI  Sonata  2012      Sedan        1  Petrol     2.4   \n",
       "\n",
       "   mileage  cylinders       gear  drive  doors wheel color  airbags  price  \\\n",
       "0        0          4     Manual  Front      2  left  Grey       10    NaN   \n",
       "1    26000          4  Tiptronic  Front      4  left  Grey       10    NaN   \n",
       "\n",
       "   turbo  \n",
       "0      1  \n",
       "1      0  "
      ]
     },
     "execution_count": 36,
     "metadata": {},
     "output_type": "execute_result"
    }
   ],
   "source": [
    "dftest = pd.read_csv('test_cleaned.csv')\n",
    "dftest.head(2)"
   ]
  },
  {
   "cell_type": "code",
   "execution_count": 37,
   "metadata": {},
   "outputs": [
    {
     "data": {
      "text/plain": [
       "levy            2454\n",
       "manufacturer       0\n",
       "model              0\n",
       "prod               0\n",
       "category           0\n",
       "leather            0\n",
       "fuel               0\n",
       "engine             0\n",
       "mileage            0\n",
       "cylinders          0\n",
       "gear               0\n",
       "drive              0\n",
       "doors              0\n",
       "wheel              0\n",
       "color              0\n",
       "airbags            0\n",
       "price           8245\n",
       "turbo              0\n",
       "dtype: int64"
      ]
     },
     "execution_count": 37,
     "metadata": {},
     "output_type": "execute_result"
    }
   ],
   "source": [
    "dftest.isna().sum()"
   ]
  },
  {
   "cell_type": "code",
   "execution_count": 44,
   "metadata": {},
   "outputs": [
    {
     "data": {
      "text/plain": [
       "(8245, 17)"
      ]
     },
     "execution_count": 44,
     "metadata": {},
     "output_type": "execute_result"
    }
   ],
   "source": [
    "test_inputs = dftest.drop('price', axis=1)\n",
    "test_inputs.shape"
   ]
  },
  {
   "cell_type": "code",
   "execution_count": 41,
   "metadata": {},
   "outputs": [],
   "source": [
    "test_inputs[numeric_cols] = imputer_med.transform(test_inputs[numeric_cols])"
   ]
  },
  {
   "cell_type": "code",
   "execution_count": 45,
   "metadata": {},
   "outputs": [],
   "source": [
    "test_inputs[numeric_cols] = minmax.transform(test_inputs[numeric_cols])"
   ]
  },
  {
   "cell_type": "code",
   "execution_count": 46,
   "metadata": {},
   "outputs": [],
   "source": [
    "test_inputs[encoded_cols] = oh.transform(test_inputs[categorical_cols])"
   ]
  },
  {
   "cell_type": "code",
   "execution_count": 51,
   "metadata": {},
   "outputs": [
    {
     "data": {
      "text/plain": [
       "(8245, 1707)"
      ]
     },
     "execution_count": 51,
     "metadata": {},
     "output_type": "execute_result"
    }
   ],
   "source": [
    "test_inputs = test_inputs[training_cols]\n",
    "test_inputs.shape"
   ]
  },
  {
   "cell_type": "code",
   "execution_count": 102,
   "metadata": {},
   "outputs": [
    {
     "name": "stdout",
     "output_type": "stream",
     "text": [
      "2021-07-10_11_47_49.csv\n"
     ]
    }
   ],
   "source": [
    "test_preds = model.predict(test_inputs.values)\n",
    "test_preds = np.exp(test_preds)\n",
    "dfsubmit = pd.DataFrame(test_preds, columns = ['Price'])\n",
    "submit_file = str(datetime.now().strftime(\"%Y-%m-%d %H:%M:%S\")).replace(' ','_') + '.csv'\n",
    "submit_file = submit_file.replace(':','_')\n",
    "print(submit_file)\n",
    "root_path= 'C:\\\\Users\\\\Anshu\\\\Data Science\\\\TheMathCompany-hackathon\\\\submissions\\\\'\n",
    "dfsubmit.to_csv(root_path + submit_file, index=False)"
   ]
  },
  {
   "cell_type": "code",
   "execution_count": 110,
   "metadata": {},
   "outputs": [
    {
     "data": {
      "application/javascript": [
       "window.require && require([\"base/js/namespace\"],function(Jupyter){Jupyter.notebook.save_checkpoint()})"
      ],
      "text/plain": [
       "<IPython.core.display.Javascript object>"
      ]
     },
     "metadata": {},
     "output_type": "display_data"
    },
    {
     "name": "stdout",
     "output_type": "stream",
     "text": [
      "[jovian] Updating notebook \"antariksh0094/carprice\" on https://jovian.ai/\n",
      "[jovian] Committed successfully! https://jovian.ai/antariksh0094/carprice\n"
     ]
    },
    {
     "data": {
      "text/plain": [
       "'https://jovian.ai/antariksh0094/carprice'"
      ]
     },
     "execution_count": 110,
     "metadata": {},
     "output_type": "execute_result"
    }
   ],
   "source": [
    "jovian.commit(project=project_name)"
   ]
  },
  {
   "cell_type": "code",
   "execution_count": 120,
   "metadata": {},
   "outputs": [
    {
     "data": {
      "text/plain": [
       "(19236, 18)"
      ]
     },
     "execution_count": 120,
     "metadata": {},
     "output_type": "execute_result"
    }
   ],
   "source": [
    "df = pd.read_csv('train_cleaned_base.csv')\n",
    "df['price'] = np.log(df['price'])\n",
    "df = df.drop(16983)\n",
    "df.shape"
   ]
  },
  {
   "cell_type": "code",
   "execution_count": 9,
   "metadata": {},
   "outputs": [],
   "source": [
    "# df.to_csv('train_cleaned_base.csv', index=False) # base cleaned train file"
   ]
  },
  {
   "cell_type": "code",
   "execution_count": 19,
   "metadata": {},
   "outputs": [
    {
     "data": {
      "text/html": [
       "<div>\n",
       "<style scoped>\n",
       "    .dataframe tbody tr th:only-of-type {\n",
       "        vertical-align: middle;\n",
       "    }\n",
       "\n",
       "    .dataframe tbody tr th {\n",
       "        vertical-align: top;\n",
       "    }\n",
       "\n",
       "    .dataframe thead th {\n",
       "        text-align: right;\n",
       "    }\n",
       "</style>\n",
       "<table border=\"1\" class=\"dataframe\">\n",
       "  <thead>\n",
       "    <tr style=\"text-align: right;\">\n",
       "      <th></th>\n",
       "      <th>levy</th>\n",
       "      <th>manufacturer</th>\n",
       "      <th>model</th>\n",
       "      <th>prod</th>\n",
       "      <th>category</th>\n",
       "      <th>leather</th>\n",
       "      <th>fuel</th>\n",
       "      <th>engine</th>\n",
       "      <th>mileage</th>\n",
       "      <th>cylinders</th>\n",
       "      <th>gear</th>\n",
       "      <th>drive</th>\n",
       "      <th>doors</th>\n",
       "      <th>wheel</th>\n",
       "      <th>color</th>\n",
       "      <th>airbags</th>\n",
       "      <th>turbo</th>\n",
       "      <th>price</th>\n",
       "      <th>logprice</th>\n",
       "    </tr>\n",
       "  </thead>\n",
       "  <tbody>\n",
       "    <tr>\n",
       "      <th>16983</th>\n",
       "      <td>NaN</td>\n",
       "      <td>OPEL</td>\n",
       "      <td>Combo</td>\n",
       "      <td>1999</td>\n",
       "      <td>Goods wagon</td>\n",
       "      <td>0</td>\n",
       "      <td>Diesel</td>\n",
       "      <td>1.7</td>\n",
       "      <td>99999</td>\n",
       "      <td>4.0</td>\n",
       "      <td>Manual</td>\n",
       "      <td>Front</td>\n",
       "      <td>2</td>\n",
       "      <td>left</td>\n",
       "      <td>Blue</td>\n",
       "      <td>0</td>\n",
       "      <td>0</td>\n",
       "      <td>26307500</td>\n",
       "      <td>17.085365</td>\n",
       "    </tr>\n",
       "    <tr>\n",
       "      <th>8541</th>\n",
       "      <td>2068.0</td>\n",
       "      <td>LAMBORGHINI</td>\n",
       "      <td>Urus</td>\n",
       "      <td>2019</td>\n",
       "      <td>Universal</td>\n",
       "      <td>1</td>\n",
       "      <td>Petrol</td>\n",
       "      <td>4.0</td>\n",
       "      <td>2531</td>\n",
       "      <td>8.0</td>\n",
       "      <td>Tiptronic</td>\n",
       "      <td>4x4</td>\n",
       "      <td>4</td>\n",
       "      <td>left</td>\n",
       "      <td>Black</td>\n",
       "      <td>0</td>\n",
       "      <td>0</td>\n",
       "      <td>872946</td>\n",
       "      <td>13.679629</td>\n",
       "    </tr>\n",
       "    <tr>\n",
       "      <th>1225</th>\n",
       "      <td>NaN</td>\n",
       "      <td>MERCEDES-BENZ</td>\n",
       "      <td>G 65 AMG 63AMG</td>\n",
       "      <td>2020</td>\n",
       "      <td>Jeep</td>\n",
       "      <td>1</td>\n",
       "      <td>Petrol</td>\n",
       "      <td>6.3</td>\n",
       "      <td>0</td>\n",
       "      <td>8.0</td>\n",
       "      <td>Tiptronic</td>\n",
       "      <td>4x4</td>\n",
       "      <td>4</td>\n",
       "      <td>left</td>\n",
       "      <td>Black</td>\n",
       "      <td>12</td>\n",
       "      <td>1</td>\n",
       "      <td>627220</td>\n",
       "      <td>13.349053</td>\n",
       "    </tr>\n",
       "    <tr>\n",
       "      <th>5008</th>\n",
       "      <td>1694.0</td>\n",
       "      <td>PORSCHE</td>\n",
       "      <td>911</td>\n",
       "      <td>2016</td>\n",
       "      <td>Coupe</td>\n",
       "      <td>1</td>\n",
       "      <td>Petrol</td>\n",
       "      <td>4.0</td>\n",
       "      <td>8690</td>\n",
       "      <td>6.0</td>\n",
       "      <td>Automatic</td>\n",
       "      <td>Rear</td>\n",
       "      <td>2</td>\n",
       "      <td>left</td>\n",
       "      <td>Black</td>\n",
       "      <td>12</td>\n",
       "      <td>0</td>\n",
       "      <td>308906</td>\n",
       "      <td>12.640792</td>\n",
       "    </tr>\n",
       "    <tr>\n",
       "      <th>14839</th>\n",
       "      <td>NaN</td>\n",
       "      <td>LAND ROVER</td>\n",
       "      <td>Range Rover Vogue</td>\n",
       "      <td>2019</td>\n",
       "      <td>Jeep</td>\n",
       "      <td>1</td>\n",
       "      <td>Diesel</td>\n",
       "      <td>3.0</td>\n",
       "      <td>4500</td>\n",
       "      <td>8.0</td>\n",
       "      <td>Tiptronic</td>\n",
       "      <td>4x4</td>\n",
       "      <td>4</td>\n",
       "      <td>left</td>\n",
       "      <td>Black</td>\n",
       "      <td>12</td>\n",
       "      <td>1</td>\n",
       "      <td>297930</td>\n",
       "      <td>12.604614</td>\n",
       "    </tr>\n",
       "    <tr>\n",
       "      <th>...</th>\n",
       "      <td>...</td>\n",
       "      <td>...</td>\n",
       "      <td>...</td>\n",
       "      <td>...</td>\n",
       "      <td>...</td>\n",
       "      <td>...</td>\n",
       "      <td>...</td>\n",
       "      <td>...</td>\n",
       "      <td>...</td>\n",
       "      <td>...</td>\n",
       "      <td>...</td>\n",
       "      <td>...</td>\n",
       "      <td>...</td>\n",
       "      <td>...</td>\n",
       "      <td>...</td>\n",
       "      <td>...</td>\n",
       "      <td>...</td>\n",
       "      <td>...</td>\n",
       "      <td>...</td>\n",
       "    </tr>\n",
       "    <tr>\n",
       "      <th>11636</th>\n",
       "      <td>NaN</td>\n",
       "      <td>MERCEDES-BENZ</td>\n",
       "      <td>C 220</td>\n",
       "      <td>1998</td>\n",
       "      <td>Sedan</td>\n",
       "      <td>0</td>\n",
       "      <td>Diesel</td>\n",
       "      <td>2.2</td>\n",
       "      <td>20600</td>\n",
       "      <td>4.0</td>\n",
       "      <td>Manual</td>\n",
       "      <td>Rear</td>\n",
       "      <td>4</td>\n",
       "      <td>left</td>\n",
       "      <td>Black</td>\n",
       "      <td>2</td>\n",
       "      <td>0</td>\n",
       "      <td>3</td>\n",
       "      <td>1.098612</td>\n",
       "    </tr>\n",
       "    <tr>\n",
       "      <th>221</th>\n",
       "      <td>NaN</td>\n",
       "      <td>HYUNDAI</td>\n",
       "      <td>Elantra</td>\n",
       "      <td>2011</td>\n",
       "      <td>Sedan</td>\n",
       "      <td>1</td>\n",
       "      <td>Petrol</td>\n",
       "      <td>1.8</td>\n",
       "      <td>80000</td>\n",
       "      <td>4.0</td>\n",
       "      <td>Tiptronic</td>\n",
       "      <td>Front</td>\n",
       "      <td>4</td>\n",
       "      <td>left</td>\n",
       "      <td>Grey</td>\n",
       "      <td>6</td>\n",
       "      <td>0</td>\n",
       "      <td>3</td>\n",
       "      <td>1.098612</td>\n",
       "    </tr>\n",
       "    <tr>\n",
       "      <th>4958</th>\n",
       "      <td>1502.0</td>\n",
       "      <td>VOLKSWAGEN</td>\n",
       "      <td>Jetta</td>\n",
       "      <td>2014</td>\n",
       "      <td>Sedan</td>\n",
       "      <td>1</td>\n",
       "      <td>Petrol</td>\n",
       "      <td>1.8</td>\n",
       "      <td>134400</td>\n",
       "      <td>4.0</td>\n",
       "      <td>Tiptronic</td>\n",
       "      <td>Front</td>\n",
       "      <td>4</td>\n",
       "      <td>right</td>\n",
       "      <td>Black</td>\n",
       "      <td>6</td>\n",
       "      <td>1</td>\n",
       "      <td>3</td>\n",
       "      <td>1.098612</td>\n",
       "    </tr>\n",
       "    <tr>\n",
       "      <th>16992</th>\n",
       "      <td>1202.0</td>\n",
       "      <td>CHEVROLET</td>\n",
       "      <td>Lacetti</td>\n",
       "      <td>2006</td>\n",
       "      <td>Hatchback</td>\n",
       "      <td>0</td>\n",
       "      <td>Petrol</td>\n",
       "      <td>1.6</td>\n",
       "      <td>200000</td>\n",
       "      <td>4.0</td>\n",
       "      <td>Manual</td>\n",
       "      <td>Front</td>\n",
       "      <td>4</td>\n",
       "      <td>left</td>\n",
       "      <td>Black</td>\n",
       "      <td>2</td>\n",
       "      <td>0</td>\n",
       "      <td>1</td>\n",
       "      <td>0.000000</td>\n",
       "    </tr>\n",
       "    <tr>\n",
       "      <th>7815</th>\n",
       "      <td>NaN</td>\n",
       "      <td>OPEL</td>\n",
       "      <td>Astra</td>\n",
       "      <td>1999</td>\n",
       "      <td>Sedan</td>\n",
       "      <td>1</td>\n",
       "      <td>Petrol</td>\n",
       "      <td>1.6</td>\n",
       "      <td>122231</td>\n",
       "      <td>4.0</td>\n",
       "      <td>Manual</td>\n",
       "      <td>Front</td>\n",
       "      <td>4</td>\n",
       "      <td>left</td>\n",
       "      <td>Silver</td>\n",
       "      <td>4</td>\n",
       "      <td>0</td>\n",
       "      <td>1</td>\n",
       "      <td>0.000000</td>\n",
       "    </tr>\n",
       "  </tbody>\n",
       "</table>\n",
       "<p>19237 rows × 19 columns</p>\n",
       "</div>"
      ],
      "text/plain": [
       "         levy   manufacturer              model  prod     category  leather  \\\n",
       "16983     NaN           OPEL              Combo  1999  Goods wagon        0   \n",
       "8541   2068.0    LAMBORGHINI               Urus  2019    Universal        1   \n",
       "1225      NaN  MERCEDES-BENZ     G 65 AMG 63AMG  2020         Jeep        1   \n",
       "5008   1694.0        PORSCHE                911  2016        Coupe        1   \n",
       "14839     NaN     LAND ROVER  Range Rover Vogue  2019         Jeep        1   \n",
       "...       ...            ...                ...   ...          ...      ...   \n",
       "11636     NaN  MERCEDES-BENZ              C 220  1998        Sedan        0   \n",
       "221       NaN        HYUNDAI            Elantra  2011        Sedan        1   \n",
       "4958   1502.0     VOLKSWAGEN              Jetta  2014        Sedan        1   \n",
       "16992  1202.0      CHEVROLET            Lacetti  2006    Hatchback        0   \n",
       "7815      NaN           OPEL              Astra  1999        Sedan        1   \n",
       "\n",
       "         fuel  engine  mileage  cylinders       gear  drive  doors  wheel  \\\n",
       "16983  Diesel     1.7    99999        4.0     Manual  Front      2   left   \n",
       "8541   Petrol     4.0     2531        8.0  Tiptronic    4x4      4   left   \n",
       "1225   Petrol     6.3        0        8.0  Tiptronic    4x4      4   left   \n",
       "5008   Petrol     4.0     8690        6.0  Automatic   Rear      2   left   \n",
       "14839  Diesel     3.0     4500        8.0  Tiptronic    4x4      4   left   \n",
       "...       ...     ...      ...        ...        ...    ...    ...    ...   \n",
       "11636  Diesel     2.2    20600        4.0     Manual   Rear      4   left   \n",
       "221    Petrol     1.8    80000        4.0  Tiptronic  Front      4   left   \n",
       "4958   Petrol     1.8   134400        4.0  Tiptronic  Front      4  right   \n",
       "16992  Petrol     1.6   200000        4.0     Manual  Front      4   left   \n",
       "7815   Petrol     1.6   122231        4.0     Manual  Front      4   left   \n",
       "\n",
       "        color  airbags  turbo     price   logprice  \n",
       "16983    Blue        0      0  26307500  17.085365  \n",
       "8541    Black        0      0    872946  13.679629  \n",
       "1225    Black       12      1    627220  13.349053  \n",
       "5008    Black       12      0    308906  12.640792  \n",
       "14839   Black       12      1    297930  12.604614  \n",
       "...       ...      ...    ...       ...        ...  \n",
       "11636   Black        2      0         3   1.098612  \n",
       "221      Grey        6      0         3   1.098612  \n",
       "4958    Black        6      1         3   1.098612  \n",
       "16992   Black        2      0         1   0.000000  \n",
       "7815   Silver        4      0         1   0.000000  \n",
       "\n",
       "[19237 rows x 19 columns]"
      ]
     },
     "execution_count": 19,
     "metadata": {},
     "output_type": "execute_result"
    }
   ],
   "source": [
    "df.sort_values('price', ascending=False)"
   ]
  },
  {
   "cell_type": "markdown",
   "metadata": {},
   "source": [
    "### trying to identify outliers"
   ]
  },
  {
   "cell_type": "code",
   "execution_count": 21,
   "metadata": {},
   "outputs": [],
   "source": [
    "from sklearn.ensemble import IsolationForest\n",
    "from sklearn.preprocessing import LabelEncoder\n",
    "iforest = IsolationForest()"
   ]
  },
  {
   "cell_type": "code",
   "execution_count": 27,
   "metadata": {},
   "outputs": [
    {
     "data": {
      "text/plain": [
       "LabelEncoder()"
      ]
     },
     "execution_count": 27,
     "metadata": {},
     "output_type": "execute_result"
    }
   ],
   "source": [
    "le = LabelEncoder()\n",
    "le.fit(df['model'].values)"
   ]
  },
  {
   "cell_type": "code",
   "execution_count": 30,
   "metadata": {},
   "outputs": [
    {
     "data": {
      "text/plain": [
       "1590"
      ]
     },
     "execution_count": 30,
     "metadata": {},
     "output_type": "execute_result"
    }
   ],
   "source": [
    "df['model'].nunique()"
   ]
  },
  {
   "cell_type": "code",
   "execution_count": 29,
   "metadata": {},
   "outputs": [
    {
     "data": {
      "text/plain": [
       "1590"
      ]
     },
     "execution_count": 29,
     "metadata": {},
     "output_type": "execute_result"
    }
   ],
   "source": [
    "len(le.classes_)"
   ]
  },
  {
   "cell_type": "code",
   "execution_count": 34,
   "metadata": {},
   "outputs": [
    {
     "data": {
      "text/html": [
       "<div>\n",
       "<style scoped>\n",
       "    .dataframe tbody tr th:only-of-type {\n",
       "        vertical-align: middle;\n",
       "    }\n",
       "\n",
       "    .dataframe tbody tr th {\n",
       "        vertical-align: top;\n",
       "    }\n",
       "\n",
       "    .dataframe thead th {\n",
       "        text-align: right;\n",
       "    }\n",
       "</style>\n",
       "<table border=\"1\" class=\"dataframe\">\n",
       "  <thead>\n",
       "    <tr style=\"text-align: right;\">\n",
       "      <th></th>\n",
       "      <th>levy</th>\n",
       "      <th>manufacturer</th>\n",
       "      <th>model</th>\n",
       "      <th>prod</th>\n",
       "      <th>category</th>\n",
       "      <th>leather</th>\n",
       "      <th>fuel</th>\n",
       "      <th>engine</th>\n",
       "      <th>mileage</th>\n",
       "      <th>cylinders</th>\n",
       "      <th>gear</th>\n",
       "      <th>drive</th>\n",
       "      <th>doors</th>\n",
       "      <th>wheel</th>\n",
       "      <th>color</th>\n",
       "      <th>airbags</th>\n",
       "      <th>turbo</th>\n",
       "      <th>price</th>\n",
       "      <th>logprice</th>\n",
       "    </tr>\n",
       "  </thead>\n",
       "  <tbody>\n",
       "    <tr>\n",
       "      <th>0</th>\n",
       "      <td>1399.0</td>\n",
       "      <td>LEXUS</td>\n",
       "      <td>RX 450</td>\n",
       "      <td>2010</td>\n",
       "      <td>Jeep</td>\n",
       "      <td>1</td>\n",
       "      <td>Hybrid</td>\n",
       "      <td>3.5</td>\n",
       "      <td>186005</td>\n",
       "      <td>6.0</td>\n",
       "      <td>Automatic</td>\n",
       "      <td>4x4</td>\n",
       "      <td>4</td>\n",
       "      <td>left</td>\n",
       "      <td>Silver</td>\n",
       "      <td>12</td>\n",
       "      <td>0</td>\n",
       "      <td>13328</td>\n",
       "      <td>9.497622</td>\n",
       "    </tr>\n",
       "    <tr>\n",
       "      <th>1</th>\n",
       "      <td>1018.0</td>\n",
       "      <td>CHEVROLET</td>\n",
       "      <td>Equinox</td>\n",
       "      <td>2011</td>\n",
       "      <td>Jeep</td>\n",
       "      <td>0</td>\n",
       "      <td>Petrol</td>\n",
       "      <td>3.0</td>\n",
       "      <td>192000</td>\n",
       "      <td>6.0</td>\n",
       "      <td>Tiptronic</td>\n",
       "      <td>4x4</td>\n",
       "      <td>4</td>\n",
       "      <td>left</td>\n",
       "      <td>Black</td>\n",
       "      <td>8</td>\n",
       "      <td>0</td>\n",
       "      <td>16621</td>\n",
       "      <td>9.718422</td>\n",
       "    </tr>\n",
       "    <tr>\n",
       "      <th>2</th>\n",
       "      <td>NaN</td>\n",
       "      <td>HONDA</td>\n",
       "      <td>FIT</td>\n",
       "      <td>2006</td>\n",
       "      <td>Hatchback</td>\n",
       "      <td>0</td>\n",
       "      <td>Petrol</td>\n",
       "      <td>1.3</td>\n",
       "      <td>200000</td>\n",
       "      <td>4.0</td>\n",
       "      <td>Variator</td>\n",
       "      <td>Front</td>\n",
       "      <td>4</td>\n",
       "      <td>right</td>\n",
       "      <td>Black</td>\n",
       "      <td>2</td>\n",
       "      <td>0</td>\n",
       "      <td>8467</td>\n",
       "      <td>9.043932</td>\n",
       "    </tr>\n",
       "    <tr>\n",
       "      <th>3</th>\n",
       "      <td>862.0</td>\n",
       "      <td>FORD</td>\n",
       "      <td>Escape</td>\n",
       "      <td>2011</td>\n",
       "      <td>Jeep</td>\n",
       "      <td>1</td>\n",
       "      <td>Hybrid</td>\n",
       "      <td>2.5</td>\n",
       "      <td>168966</td>\n",
       "      <td>4.0</td>\n",
       "      <td>Automatic</td>\n",
       "      <td>4x4</td>\n",
       "      <td>4</td>\n",
       "      <td>left</td>\n",
       "      <td>White</td>\n",
       "      <td>0</td>\n",
       "      <td>0</td>\n",
       "      <td>3607</td>\n",
       "      <td>8.190632</td>\n",
       "    </tr>\n",
       "    <tr>\n",
       "      <th>4</th>\n",
       "      <td>446.0</td>\n",
       "      <td>HONDA</td>\n",
       "      <td>FIT</td>\n",
       "      <td>2014</td>\n",
       "      <td>Hatchback</td>\n",
       "      <td>1</td>\n",
       "      <td>Petrol</td>\n",
       "      <td>1.3</td>\n",
       "      <td>91901</td>\n",
       "      <td>4.0</td>\n",
       "      <td>Automatic</td>\n",
       "      <td>Front</td>\n",
       "      <td>4</td>\n",
       "      <td>left</td>\n",
       "      <td>Silver</td>\n",
       "      <td>4</td>\n",
       "      <td>0</td>\n",
       "      <td>11726</td>\n",
       "      <td>9.369564</td>\n",
       "    </tr>\n",
       "  </tbody>\n",
       "</table>\n",
       "</div>"
      ],
      "text/plain": [
       "     levy manufacturer    model  prod   category  leather    fuel  engine  \\\n",
       "0  1399.0        LEXUS   RX 450  2010       Jeep        1  Hybrid     3.5   \n",
       "1  1018.0    CHEVROLET  Equinox  2011       Jeep        0  Petrol     3.0   \n",
       "2     NaN        HONDA      FIT  2006  Hatchback        0  Petrol     1.3   \n",
       "3   862.0         FORD   Escape  2011       Jeep        1  Hybrid     2.5   \n",
       "4   446.0        HONDA      FIT  2014  Hatchback        1  Petrol     1.3   \n",
       "\n",
       "   mileage  cylinders       gear  drive  doors  wheel   color  airbags  turbo  \\\n",
       "0   186005        6.0  Automatic    4x4      4   left  Silver       12      0   \n",
       "1   192000        6.0  Tiptronic    4x4      4   left   Black        8      0   \n",
       "2   200000        4.0   Variator  Front      4  right   Black        2      0   \n",
       "3   168966        4.0  Automatic    4x4      4   left   White        0      0   \n",
       "4    91901        4.0  Automatic  Front      4   left  Silver        4      0   \n",
       "\n",
       "   price  logprice  \n",
       "0  13328  9.497622  \n",
       "1  16621  9.718422  \n",
       "2   8467  9.043932  \n",
       "3   3607  8.190632  \n",
       "4  11726  9.369564  "
      ]
     },
     "execution_count": 34,
     "metadata": {},
     "output_type": "execute_result"
    }
   ],
   "source": [
    "df.head()"
   ]
  },
  {
   "cell_type": "code",
   "execution_count": 145,
   "metadata": {},
   "outputs": [],
   "source": [
    "start = datetime.now()\n",
    "inlier_index = isolation_forest_outliers(df, 0.15)"
   ]
  },
  {
   "cell_type": "code",
   "execution_count": 147,
   "metadata": {},
   "outputs": [
    {
     "data": {
      "text/plain": [
       "16350"
      ]
     },
     "execution_count": 147,
     "metadata": {},
     "output_type": "execute_result"
    }
   ],
   "source": [
    "inlier_index.sum()"
   ]
  },
  {
   "cell_type": "code",
   "execution_count": 148,
   "metadata": {},
   "outputs": [
    {
     "data": {
      "text/html": [
       "<div>\n",
       "<style scoped>\n",
       "    .dataframe tbody tr th:only-of-type {\n",
       "        vertical-align: middle;\n",
       "    }\n",
       "\n",
       "    .dataframe tbody tr th {\n",
       "        vertical-align: top;\n",
       "    }\n",
       "\n",
       "    .dataframe thead th {\n",
       "        text-align: right;\n",
       "    }\n",
       "</style>\n",
       "<table border=\"1\" class=\"dataframe\">\n",
       "  <thead>\n",
       "    <tr style=\"text-align: right;\">\n",
       "      <th></th>\n",
       "      <th>levy</th>\n",
       "      <th>manufacturer</th>\n",
       "      <th>model</th>\n",
       "      <th>prod</th>\n",
       "      <th>category</th>\n",
       "      <th>leather</th>\n",
       "      <th>fuel</th>\n",
       "      <th>engine</th>\n",
       "      <th>mileage</th>\n",
       "      <th>cylinders</th>\n",
       "      <th>gear</th>\n",
       "      <th>drive</th>\n",
       "      <th>doors</th>\n",
       "      <th>wheel</th>\n",
       "      <th>color</th>\n",
       "      <th>airbags</th>\n",
       "      <th>price</th>\n",
       "      <th>turbo</th>\n",
       "    </tr>\n",
       "  </thead>\n",
       "  <tbody>\n",
       "    <tr>\n",
       "      <th>1</th>\n",
       "      <td>0.080100</td>\n",
       "      <td>CHEVROLET</td>\n",
       "      <td>Equinox</td>\n",
       "      <td>0.888889</td>\n",
       "      <td>Jeep</td>\n",
       "      <td>0.0</td>\n",
       "      <td>Petrol</td>\n",
       "      <td>0.150</td>\n",
       "      <td>0.000089</td>\n",
       "      <td>0.333333</td>\n",
       "      <td>Tiptronic</td>\n",
       "      <td>4x4</td>\n",
       "      <td>0.666667</td>\n",
       "      <td>left</td>\n",
       "      <td>Black</td>\n",
       "      <td>0.50</td>\n",
       "      <td>9.718422</td>\n",
       "      <td>0.0</td>\n",
       "    </tr>\n",
       "    <tr>\n",
       "      <th>3</th>\n",
       "      <td>0.066678</td>\n",
       "      <td>FORD</td>\n",
       "      <td>Escape</td>\n",
       "      <td>0.888889</td>\n",
       "      <td>Jeep</td>\n",
       "      <td>1.0</td>\n",
       "      <td>Hybrid</td>\n",
       "      <td>0.125</td>\n",
       "      <td>0.000079</td>\n",
       "      <td>0.200000</td>\n",
       "      <td>Automatic</td>\n",
       "      <td>4x4</td>\n",
       "      <td>0.666667</td>\n",
       "      <td>left</td>\n",
       "      <td>White</td>\n",
       "      <td>0.00</td>\n",
       "      <td>8.190632</td>\n",
       "      <td>0.0</td>\n",
       "    </tr>\n",
       "    <tr>\n",
       "      <th>4</th>\n",
       "      <td>0.030887</td>\n",
       "      <td>HONDA</td>\n",
       "      <td>FIT</td>\n",
       "      <td>0.925926</td>\n",
       "      <td>Hatchback</td>\n",
       "      <td>1.0</td>\n",
       "      <td>Petrol</td>\n",
       "      <td>0.065</td>\n",
       "      <td>0.000043</td>\n",
       "      <td>0.200000</td>\n",
       "      <td>Automatic</td>\n",
       "      <td>Front</td>\n",
       "      <td>0.666667</td>\n",
       "      <td>left</td>\n",
       "      <td>Silver</td>\n",
       "      <td>0.25</td>\n",
       "      <td>9.369564</td>\n",
       "      <td>0.0</td>\n",
       "    </tr>\n",
       "    <tr>\n",
       "      <th>5</th>\n",
       "      <td>0.069173</td>\n",
       "      <td>HYUNDAI</td>\n",
       "      <td>Santa FE</td>\n",
       "      <td>0.950617</td>\n",
       "      <td>Jeep</td>\n",
       "      <td>1.0</td>\n",
       "      <td>Diesel</td>\n",
       "      <td>0.100</td>\n",
       "      <td>0.000075</td>\n",
       "      <td>0.200000</td>\n",
       "      <td>Automatic</td>\n",
       "      <td>Front</td>\n",
       "      <td>0.666667</td>\n",
       "      <td>left</td>\n",
       "      <td>White</td>\n",
       "      <td>0.25</td>\n",
       "      <td>10.583879</td>\n",
       "      <td>0.0</td>\n",
       "    </tr>\n",
       "    <tr>\n",
       "      <th>6</th>\n",
       "      <td>0.057988</td>\n",
       "      <td>TOYOTA</td>\n",
       "      <td>Prius</td>\n",
       "      <td>0.876543</td>\n",
       "      <td>Hatchback</td>\n",
       "      <td>1.0</td>\n",
       "      <td>Hybrid</td>\n",
       "      <td>0.090</td>\n",
       "      <td>0.000121</td>\n",
       "      <td>0.200000</td>\n",
       "      <td>Automatic</td>\n",
       "      <td>Front</td>\n",
       "      <td>0.666667</td>\n",
       "      <td>left</td>\n",
       "      <td>White</td>\n",
       "      <td>0.75</td>\n",
       "      <td>7.497207</td>\n",
       "      <td>0.0</td>\n",
       "    </tr>\n",
       "    <tr>\n",
       "      <th>...</th>\n",
       "      <td>...</td>\n",
       "      <td>...</td>\n",
       "      <td>...</td>\n",
       "      <td>...</td>\n",
       "      <td>...</td>\n",
       "      <td>...</td>\n",
       "      <td>...</td>\n",
       "      <td>...</td>\n",
       "      <td>...</td>\n",
       "      <td>...</td>\n",
       "      <td>...</td>\n",
       "      <td>...</td>\n",
       "      <td>...</td>\n",
       "      <td>...</td>\n",
       "      <td>...</td>\n",
       "      <td>...</td>\n",
       "      <td>...</td>\n",
       "      <td>...</td>\n",
       "    </tr>\n",
       "    <tr>\n",
       "      <th>19231</th>\n",
       "      <td>0.083283</td>\n",
       "      <td>MERCEDES-BENZ</td>\n",
       "      <td>E 350</td>\n",
       "      <td>0.913580</td>\n",
       "      <td>Sedan</td>\n",
       "      <td>1.0</td>\n",
       "      <td>Diesel</td>\n",
       "      <td>0.175</td>\n",
       "      <td>0.000050</td>\n",
       "      <td>0.333333</td>\n",
       "      <td>Automatic</td>\n",
       "      <td>Rear</td>\n",
       "      <td>0.666667</td>\n",
       "      <td>left</td>\n",
       "      <td>Grey</td>\n",
       "      <td>0.75</td>\n",
       "      <td>8.665958</td>\n",
       "      <td>0.0</td>\n",
       "    </tr>\n",
       "    <tr>\n",
       "      <th>19233</th>\n",
       "      <td>0.064011</td>\n",
       "      <td>HYUNDAI</td>\n",
       "      <td>Sonata</td>\n",
       "      <td>0.888889</td>\n",
       "      <td>Sedan</td>\n",
       "      <td>1.0</td>\n",
       "      <td>Petrol</td>\n",
       "      <td>0.120</td>\n",
       "      <td>0.000075</td>\n",
       "      <td>0.200000</td>\n",
       "      <td>Tiptronic</td>\n",
       "      <td>Front</td>\n",
       "      <td>0.666667</td>\n",
       "      <td>left</td>\n",
       "      <td>Red</td>\n",
       "      <td>0.50</td>\n",
       "      <td>9.660205</td>\n",
       "      <td>0.0</td>\n",
       "    </tr>\n",
       "    <tr>\n",
       "      <th>19234</th>\n",
       "      <td>0.064441</td>\n",
       "      <td>HYUNDAI</td>\n",
       "      <td>Tucson</td>\n",
       "      <td>0.876543</td>\n",
       "      <td>Jeep</td>\n",
       "      <td>1.0</td>\n",
       "      <td>Diesel</td>\n",
       "      <td>0.100</td>\n",
       "      <td>0.000054</td>\n",
       "      <td>0.200000</td>\n",
       "      <td>Automatic</td>\n",
       "      <td>Front</td>\n",
       "      <td>0.666667</td>\n",
       "      <td>left</td>\n",
       "      <td>Grey</td>\n",
       "      <td>0.25</td>\n",
       "      <td>10.169997</td>\n",
       "      <td>0.0</td>\n",
       "    </tr>\n",
       "    <tr>\n",
       "      <th>19235</th>\n",
       "      <td>0.103330</td>\n",
       "      <td>CHEVROLET</td>\n",
       "      <td>Captiva</td>\n",
       "      <td>0.839506</td>\n",
       "      <td>Jeep</td>\n",
       "      <td>1.0</td>\n",
       "      <td>Diesel</td>\n",
       "      <td>0.100</td>\n",
       "      <td>0.000024</td>\n",
       "      <td>0.200000</td>\n",
       "      <td>Automatic</td>\n",
       "      <td>Front</td>\n",
       "      <td>0.666667</td>\n",
       "      <td>left</td>\n",
       "      <td>Black</td>\n",
       "      <td>0.25</td>\n",
       "      <td>8.581294</td>\n",
       "      <td>0.0</td>\n",
       "    </tr>\n",
       "    <tr>\n",
       "      <th>19236</th>\n",
       "      <td>0.057300</td>\n",
       "      <td>HYUNDAI</td>\n",
       "      <td>Sonata</td>\n",
       "      <td>0.901235</td>\n",
       "      <td>Sedan</td>\n",
       "      <td>1.0</td>\n",
       "      <td>Hybrid</td>\n",
       "      <td>0.120</td>\n",
       "      <td>0.000087</td>\n",
       "      <td>0.200000</td>\n",
       "      <td>Automatic</td>\n",
       "      <td>Front</td>\n",
       "      <td>0.666667</td>\n",
       "      <td>left</td>\n",
       "      <td>White</td>\n",
       "      <td>0.75</td>\n",
       "      <td>6.152733</td>\n",
       "      <td>0.0</td>\n",
       "    </tr>\n",
       "  </tbody>\n",
       "</table>\n",
       "<p>16350 rows × 18 columns</p>\n",
       "</div>"
      ],
      "text/plain": [
       "           levy   manufacturer     model      prod   category  leather  \\\n",
       "1      0.080100      CHEVROLET   Equinox  0.888889       Jeep      0.0   \n",
       "3      0.066678           FORD    Escape  0.888889       Jeep      1.0   \n",
       "4      0.030887          HONDA       FIT  0.925926  Hatchback      1.0   \n",
       "5      0.069173        HYUNDAI  Santa FE  0.950617       Jeep      1.0   \n",
       "6      0.057988         TOYOTA     Prius  0.876543  Hatchback      1.0   \n",
       "...         ...            ...       ...       ...        ...      ...   \n",
       "19231  0.083283  MERCEDES-BENZ     E 350  0.913580      Sedan      1.0   \n",
       "19233  0.064011        HYUNDAI    Sonata  0.888889      Sedan      1.0   \n",
       "19234  0.064441        HYUNDAI    Tucson  0.876543       Jeep      1.0   \n",
       "19235  0.103330      CHEVROLET   Captiva  0.839506       Jeep      1.0   \n",
       "19236  0.057300        HYUNDAI    Sonata  0.901235      Sedan      1.0   \n",
       "\n",
       "         fuel  engine   mileage  cylinders       gear  drive     doors wheel  \\\n",
       "1      Petrol   0.150  0.000089   0.333333  Tiptronic    4x4  0.666667  left   \n",
       "3      Hybrid   0.125  0.000079   0.200000  Automatic    4x4  0.666667  left   \n",
       "4      Petrol   0.065  0.000043   0.200000  Automatic  Front  0.666667  left   \n",
       "5      Diesel   0.100  0.000075   0.200000  Automatic  Front  0.666667  left   \n",
       "6      Hybrid   0.090  0.000121   0.200000  Automatic  Front  0.666667  left   \n",
       "...       ...     ...       ...        ...        ...    ...       ...   ...   \n",
       "19231  Diesel   0.175  0.000050   0.333333  Automatic   Rear  0.666667  left   \n",
       "19233  Petrol   0.120  0.000075   0.200000  Tiptronic  Front  0.666667  left   \n",
       "19234  Diesel   0.100  0.000054   0.200000  Automatic  Front  0.666667  left   \n",
       "19235  Diesel   0.100  0.000024   0.200000  Automatic  Front  0.666667  left   \n",
       "19236  Hybrid   0.120  0.000087   0.200000  Automatic  Front  0.666667  left   \n",
       "\n",
       "        color  airbags      price  turbo  \n",
       "1       Black     0.50   9.718422    0.0  \n",
       "3       White     0.00   8.190632    0.0  \n",
       "4      Silver     0.25   9.369564    0.0  \n",
       "5       White     0.25  10.583879    0.0  \n",
       "6       White     0.75   7.497207    0.0  \n",
       "...       ...      ...        ...    ...  \n",
       "19231    Grey     0.75   8.665958    0.0  \n",
       "19233     Red     0.50   9.660205    0.0  \n",
       "19234    Grey     0.25  10.169997    0.0  \n",
       "19235   Black     0.25   8.581294    0.0  \n",
       "19236   White     0.75   6.152733    0.0  \n",
       "\n",
       "[16350 rows x 18 columns]"
      ]
     },
     "execution_count": 148,
     "metadata": {},
     "output_type": "execute_result"
    }
   ],
   "source": [
    "df.loc[inlier_index]"
   ]
  }
 ],
 "metadata": {
  "kernelspec": {
   "display_name": "Python 3",
   "language": "python",
   "name": "python3"
  },
  "language_info": {
   "codemirror_mode": {
    "name": "ipython",
    "version": 3
   },
   "file_extension": ".py",
   "mimetype": "text/x-python",
   "name": "python",
   "nbconvert_exporter": "python",
   "pygments_lexer": "ipython3",
   "version": "3.7.6"
  }
 },
 "nbformat": 4,
 "nbformat_minor": 4
}

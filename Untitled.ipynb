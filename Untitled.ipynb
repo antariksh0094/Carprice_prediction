{
 "cells": [
  {
   "cell_type": "code",
   "execution_count": 121,
   "metadata": {},
   "outputs": [],
   "source": [
    "import numpy as np\n",
    "import pandas as pd\n",
    "import matplotlib.pyplot as plt\n",
    "import seaborn as sns\n",
    "from datetime import datetime\n",
    "import jovian\n",
    "project_name = 'carprice'\n",
    "from sklearn.tree import DecisionTreeRegressor\n",
    "from sklearn.ensemble import RandomForestRegressor\n",
    "\n",
    "from sklearn.preprocessing import OneHotEncoder, LabelEncoder\n",
    "from sklearn.preprocessing import MinMaxScaler\n",
    "from sklearn.model_selection import train_test_split\n",
    "from sklearn.impute import SimpleImputer\n",
    "from sklearn.ensemble import IsolationForest\n",
    "\n",
    "pd.set_option('display.max_rows', 200)\n",
    "pd.set_option('display.max_columns', 200)\n",
    "plt.rcParams[\"figure.figsize\"] = (8, 6)\n",
    "\n",
    "def fit_predict(estimator, x_train=x_train, train_targets=train_targets, x_val=x_val, \n",
    "                val_targets=val_targets):\n",
    "    estimator.fit(x_train, train_targets)\n",
    "    train_preds = estimator.predict(x_train)\n",
    "    val_preds = estimator.predict(x_val)\n",
    "\n",
    "    from sklearn.metrics import mean_squared_error\n",
    "    \n",
    "    train_error = np.sqrt(mean_squared_error(train_targets, train_preds))\n",
    "    val_error = np.sqrt(mean_squared_error(val_targets, val_preds))\n",
    "    \n",
    "    \n",
    "    print('Train RMSLE:', train_error)\n",
    "    print('Val RMSLE:', val_error)\n",
    "    \n",
    "    # LOGGING MODELLING PARAMS\n",
    "    \n",
    "    log = pd.read_excel('model_params_metrics.xlsx')\n",
    "    \n",
    "    size= len(log.index)\n",
    "    log.loc[size] = np.nan\n",
    "    log.loc[size, 'Date'] = datetime.now()\n",
    "    log.loc[size,'estimator'] = str(estimator)\n",
    "    log.loc[size,'hyperparams'] = str(estimator.get_params())[1:-1]\n",
    "    log.loc[size, 'train_RMSLE'] = train_error\n",
    "    log.loc[size, 'val_RMSLE'] = val_error\n",
    "    \n",
    "    dfimp = pd.DataFrame({'Column':x_train.columns, 'Imp': model.feature_importances_}).reset_index(\n",
    "        drop=True).set_index('Column').sort_values('Imp',ascending=False)\n",
    "    \n",
    "    \n",
    "    log.loc[size, '20 mostimp cols'] = str(dict(zip(dfimp.index[:20], dfimp['Imp'][:20].values)))\n",
    "    \n",
    "    log.to_excel('model_params_metrics.xlsx', index=False)\n",
    "    log.tail()\n",
    "    \n",
    "# def log_model_metrics(estimator):\n",
    "#     dflog = dflogfinal.values.flatten()\n",
    "#     dflog = np.append(dflog, [time, str(estimator), params, train_error, val_error])\n",
    "#     dflogfinal = dflog.reshape(-1, 5)\n",
    "#     print(pd.DataFrame(dflogfinal, columns = ['time', 'model', 'hyperparams','train_error','val_error']))"
   ]
  },
  {
   "cell_type": "code",
   "execution_count": 123,
   "metadata": {},
   "outputs": [
    {
     "name": "stdout",
     "output_type": "stream",
     "text": [
      "(19237, 18)\n"
     ]
    },
    {
     "data": {
      "text/plain": [
       "(8245, 18)"
      ]
     },
     "execution_count": 123,
     "metadata": {},
     "output_type": "execute_result"
    }
   ],
   "source": [
    "df = pd.read_csv('train_cleaned_base.csv')\n",
    "df = df.drop(16983)\n",
    "print(df.shape)\n",
    "dftest = pd.read_csv('test_cleaned.csv')\n",
    "dftest.shape"
   ]
  },
  {
   "cell_type": "code",
   "execution_count": 124,
   "metadata": {},
   "outputs": [
    {
     "data": {
      "text/plain": [
       "(19236, 18)"
      ]
     },
     "execution_count": 124,
     "metadata": {},
     "output_type": "execute_result"
    }
   ],
   "source": [
    "\n",
    "df.shape"
   ]
  },
  {
   "cell_type": "markdown",
   "metadata": {},
   "source": [
    "### PREPARING. FITTING, PREDICTING"
   ]
  },
  {
   "cell_type": "code",
   "execution_count": 125,
   "metadata": {},
   "outputs": [
    {
     "data": {
      "text/plain": [
       "((13465, 1707), (5771, 1707), (13465,), (5771,))"
      ]
     },
     "execution_count": 125,
     "metadata": {},
     "output_type": "execute_result"
    }
   ],
   "source": [
    "# PREPARE TRAIN DATA\n",
    "\n",
    "target_col = 'price'\n",
    "df['price'] = np.log(df['price'])\n",
    "\n",
    "df['prod'] = 2021 - df['prod']\n",
    "\n",
    "imputer_strategy = 'mean'\n",
    "encoder_strategy = 'onehot'\n",
    "\n",
    "# USING LOGPRICE for training\n",
    "input_cols = list(df.drop(target_col , axis=1).columns)\n",
    "len(input_cols)\n",
    "\n",
    "numeric_cols = list(df[input_cols].select_dtypes(np.number).columns)\n",
    "categorical_cols = list(df[input_cols].select_dtypes('object').columns)\n",
    "\n",
    "\n",
    "minmax = MinMaxScaler()\n",
    "df[numeric_cols] = minmax.fit_transform(df[numeric_cols])\n",
    "\n",
    "\n",
    "train_inputs, val_inputs, train_targets, val_targets = train_test_split(df[input_cols],\n",
    "                                                                       df[target_col],\n",
    "                                                                       test_size=0.3)\n",
    "\n",
    "if encoder_strategy == 'onehot':\n",
    "    encoder = OneHotEncoder(sparse=False, handle_unknown = 'ignore')\n",
    "elif encoder_strategy == 'label':\n",
    "    encoder = LabelEncoder()\n",
    "    \n",
    "encoder.fit(df[categorical_cols])\n",
    "encoded_cols = list(encoder.get_feature_names(categorical_cols))\n",
    "\n",
    "# Imputing with MEDIAN\n",
    "\n",
    "imputer = SimpleImputer(strategy=imputer_strategy)\n",
    "imputer.fit(train_inputs[numeric_cols])\n",
    "train_inputs[numeric_cols] = imputer.transform(train_inputs[numeric_cols])\n",
    "val_inputs[numeric_cols] = imputer.transform(val_inputs[numeric_cols])\n",
    "\n",
    "\n",
    "\n",
    "train_inputs[encoded_cols] = encoder.transform(train_inputs[categorical_cols])\n",
    "val_inputs[encoded_cols] = encoder.transform(val_inputs[categorical_cols])\n",
    "\n",
    "\n",
    "training_cols = numeric_cols+encoded_cols\n",
    "\n",
    "x_train = train_inputs[numeric_cols+encoded_cols]\n",
    "x_val = val_inputs[numeric_cols+encoded_cols]\n",
    "\n",
    "x_train.shape, x_val.shape, train_targets.shape, val_targets.shape"
   ]
  },
  {
   "cell_type": "code",
   "execution_count": 135,
   "metadata": {},
   "outputs": [
    {
     "data": {
      "text/plain": [
       "(19236, 1707)"
      ]
     },
     "execution_count": 135,
     "metadata": {},
     "output_type": "execute_result"
    }
   ],
   "source": [
    "pd.concat([x_train, x_val], ignore_index=True).shape"
   ]
  },
  {
   "cell_type": "code",
   "execution_count": 104,
   "metadata": {},
   "outputs": [
    {
     "name": "stdout",
     "output_type": "stream",
     "text": [
      "Train RMSLE: 0.8099760729149814\n",
      "Val RMSLE: 1.0452004133256145\n"
     ]
    }
   ],
   "source": [
    "model = RandomForestRegressor(random_state=21, max_leaf_nodes=250, n_estimators = 50)\n",
    "fit_predict(model)"
   ]
  },
  {
   "cell_type": "code",
   "execution_count": 126,
   "metadata": {},
   "outputs": [
    {
     "name": "stdout",
     "output_type": "stream",
     "text": [
      "Train RMSLE: 0.8099760729149814\n",
      "Val RMSLE: 1.0452004133256145\n"
     ]
    }
   ],
   "source": [
    "# PROD = 2021-PROD\n",
    "model = RandomForestRegressor(random_state=21, max_leaf_nodes=250, n_estimators = 50)\n",
    "fit_predict(model)"
   ]
  },
  {
   "cell_type": "code",
   "execution_count": 105,
   "metadata": {},
   "outputs": [
    {
     "data": {
      "text/html": [
       "<div>\n",
       "<style scoped>\n",
       "    .dataframe tbody tr th:only-of-type {\n",
       "        vertical-align: middle;\n",
       "    }\n",
       "\n",
       "    .dataframe tbody tr th {\n",
       "        vertical-align: top;\n",
       "    }\n",
       "\n",
       "    .dataframe thead th {\n",
       "        text-align: right;\n",
       "    }\n",
       "</style>\n",
       "<table border=\"1\" class=\"dataframe\">\n",
       "  <thead>\n",
       "    <tr style=\"text-align: right;\">\n",
       "      <th></th>\n",
       "      <th>Date</th>\n",
       "      <th>Outlier rows dropped</th>\n",
       "      <th>Outlier technique</th>\n",
       "      <th>Levy or log levy</th>\n",
       "      <th>Train-duplicates dropped</th>\n",
       "      <th>Col for prediction (price/logprice)</th>\n",
       "      <th>Numeric Imputation</th>\n",
       "      <th>Categorical Imputation</th>\n",
       "      <th>Split ratio</th>\n",
       "      <th>machicnehack test set used for categorical imputaton</th>\n",
       "      <th>estimator</th>\n",
       "      <th>hyperparams</th>\n",
       "      <th>train_RMSLE</th>\n",
       "      <th>val_RMSLE</th>\n",
       "      <th>test_RMSLE</th>\n",
       "      <th>20 mostimp cols</th>\n",
       "    </tr>\n",
       "  </thead>\n",
       "  <tbody>\n",
       "    <tr>\n",
       "      <th>20</th>\n",
       "      <td>2021-07-10 21:12:15.226776</td>\n",
       "      <td>NaN</td>\n",
       "      <td>NaN</td>\n",
       "      <td>NaN</td>\n",
       "      <td>NaN</td>\n",
       "      <td>NaN</td>\n",
       "      <td>NaN</td>\n",
       "      <td>NaN</td>\n",
       "      <td>NaN</td>\n",
       "      <td>NaN</td>\n",
       "      <td>DecisionTreeRegressor(max_leaf_nodes=300, rand...</td>\n",
       "      <td>'ccp_alpha': 0.0, 'criterion': 'mse', 'max_dep...</td>\n",
       "      <td>0.849849</td>\n",
       "      <td>1.154271</td>\n",
       "      <td>NaN</td>\n",
       "      <td>NaN</td>\n",
       "    </tr>\n",
       "    <tr>\n",
       "      <th>21</th>\n",
       "      <td>2021-07-10 21:15:43.329688</td>\n",
       "      <td>NaN</td>\n",
       "      <td>NaN</td>\n",
       "      <td>NaN</td>\n",
       "      <td>NaN</td>\n",
       "      <td>NaN</td>\n",
       "      <td>NaN</td>\n",
       "      <td>NaN</td>\n",
       "      <td>NaN</td>\n",
       "      <td>NaN</td>\n",
       "      <td>RandomForestRegressor(max_leaf_nodes=300, n_es...</td>\n",
       "      <td>'bootstrap': True, 'ccp_alpha': 0.0, 'criterio...</td>\n",
       "      <td>0.763347</td>\n",
       "      <td>1.014235</td>\n",
       "      <td>NaN</td>\n",
       "      <td>['airbags',\\n 'gear_Automatic',\\n 'prod',\\n 'm...</td>\n",
       "    </tr>\n",
       "    <tr>\n",
       "      <th>22</th>\n",
       "      <td>2021-07-10 21:26:55.258336</td>\n",
       "      <td>NaN</td>\n",
       "      <td>NaN</td>\n",
       "      <td>NaN</td>\n",
       "      <td>NaN</td>\n",
       "      <td>NaN</td>\n",
       "      <td>NaN</td>\n",
       "      <td>NaN</td>\n",
       "      <td>NaN</td>\n",
       "      <td>NaN</td>\n",
       "      <td>RandomForestRegressor(max_leaf_nodes=250, n_es...</td>\n",
       "      <td>'bootstrap': True, 'ccp_alpha': 0.0, 'criterio...</td>\n",
       "      <td>0.809976</td>\n",
       "      <td>1.045200</td>\n",
       "      <td>NaN</td>\n",
       "      <td>Index(['airbags', 'gear_Automatic', 'prod', 'm...</td>\n",
       "    </tr>\n",
       "  </tbody>\n",
       "</table>\n",
       "</div>"
      ],
      "text/plain": [
       "                         Date Outlier rows dropped Outlier technique  \\\n",
       "20 2021-07-10 21:12:15.226776                  NaN               NaN   \n",
       "21 2021-07-10 21:15:43.329688                  NaN               NaN   \n",
       "22 2021-07-10 21:26:55.258336                  NaN               NaN   \n",
       "\n",
       "   Levy or log levy Train-duplicates dropped  \\\n",
       "20              NaN                      NaN   \n",
       "21              NaN                      NaN   \n",
       "22              NaN                      NaN   \n",
       "\n",
       "   Col for prediction (price/logprice) Numeric Imputation  \\\n",
       "20                                 NaN                NaN   \n",
       "21                                 NaN                NaN   \n",
       "22                                 NaN                NaN   \n",
       "\n",
       "   Categorical Imputation Split ratio  \\\n",
       "20                    NaN         NaN   \n",
       "21                    NaN         NaN   \n",
       "22                    NaN         NaN   \n",
       "\n",
       "   machicnehack test set used for categorical imputaton  \\\n",
       "20                                                NaN     \n",
       "21                                                NaN     \n",
       "22                                                NaN     \n",
       "\n",
       "                                            estimator  \\\n",
       "20  DecisionTreeRegressor(max_leaf_nodes=300, rand...   \n",
       "21  RandomForestRegressor(max_leaf_nodes=300, n_es...   \n",
       "22  RandomForestRegressor(max_leaf_nodes=250, n_es...   \n",
       "\n",
       "                                          hyperparams  train_RMSLE  val_RMSLE  \\\n",
       "20  'ccp_alpha': 0.0, 'criterion': 'mse', 'max_dep...     0.849849   1.154271   \n",
       "21  'bootstrap': True, 'ccp_alpha': 0.0, 'criterio...     0.763347   1.014235   \n",
       "22  'bootstrap': True, 'ccp_alpha': 0.0, 'criterio...     0.809976   1.045200   \n",
       "\n",
       "    test_RMSLE                                    20 mostimp cols  \n",
       "20         NaN                                                NaN  \n",
       "21         NaN  ['airbags',\\n 'gear_Automatic',\\n 'prod',\\n 'm...  \n",
       "22         NaN  Index(['airbags', 'gear_Automatic', 'prod', 'm...  "
      ]
     },
     "execution_count": 105,
     "metadata": {},
     "output_type": "execute_result"
    }
   ],
   "source": [
    "log = pd.read_excel('model_params_metrics.xlsx')\n",
    "log.tail(3)"
   ]
  },
  {
   "cell_type": "code",
   "execution_count": 106,
   "metadata": {},
   "outputs": [],
   "source": [
    "dfimp = pd.DataFrame({'Column':x_train.columns, 'Imp': model.feature_importances_}).reset_index(\n",
    "    drop=True).set_index('Column').sort_values('Imp',ascending=False)\n",
    "\n",
    "# str(dict(zip(dfimp.index[:20], dfimp['Imp'][:20].values)))"
   ]
  },
  {
   "cell_type": "code",
   "execution_count": 120,
   "metadata": {},
   "outputs": [
    {
     "data": {
      "text/plain": [
       "\"{'airbags': 0.1949041188573274, 'gear_Automatic': 0.14350804681685492, 'prod': 0.12299522994771968, 'mileage': 0.1056192044101632, 'levy': 0.05671497878812097, 'engine': 0.03224138309797717, 'leather': 0.030899926947717794, 'model_FIT': 0.02745994207177556, 'turbo': 0.025959545361072398, 'fuel_Hybrid': 0.025610224027285695, 'category_Jeep': 0.013447598363283943, 'model_Note': 0.009416726664655335, 'cylinders': 0.00910985671325388, 'color_White': 0.008939525616806747, 'color_Black': 0.006969606722638271, 'gear_Tiptronic': 0.006823329909828852, 'category_Sedan': 0.0062871074147813335, 'manufacturer_LEXUS': 0.006280050280829237, 'drive_Front': 0.005456454470588985, 'drive_Rear': 0.005452150339207565}\""
      ]
     },
     "execution_count": 120,
     "metadata": {},
     "output_type": "execute_result"
    }
   ],
   "source": [
    "str(dict(zip(dfimp.index[:20], dfimp['Imp'][:20].values)))"
   ]
  },
  {
   "cell_type": "code",
   "execution_count": 116,
   "metadata": {},
   "outputs": [
    {
     "data": {
      "text/plain": [
       "\"Index(['airbags', 'gear_Automatic', 'prod', 'mileage', 'levy', 'engine',\\n       'leather', 'model_FIT', 'turbo', 'fuel_Hybrid', 'category_Jeep',\\n       'model_Note', 'cylinders', 'color_White', 'color_Black',\\n       'gear_Tiptronic', 'category_Sedan', 'manufacturer_LEXUS', 'drive_Front',\\n       'drive_Rear'],\\n      dtype='object', name='Column')\""
      ]
     },
     "execution_count": 116,
     "metadata": {},
     "output_type": "execute_result"
    }
   ],
   "source": [
    "str(dfimp[:20].index)"
   ]
  },
  {
   "cell_type": "code",
   "execution_count": 117,
   "metadata": {},
   "outputs": [
    {
     "data": {
      "text/html": [
       "<div>\n",
       "<style scoped>\n",
       "    .dataframe tbody tr th:only-of-type {\n",
       "        vertical-align: middle;\n",
       "    }\n",
       "\n",
       "    .dataframe tbody tr th {\n",
       "        vertical-align: top;\n",
       "    }\n",
       "\n",
       "    .dataframe thead th {\n",
       "        text-align: right;\n",
       "    }\n",
       "</style>\n",
       "<table border=\"1\" class=\"dataframe\">\n",
       "  <thead>\n",
       "    <tr style=\"text-align: right;\">\n",
       "      <th></th>\n",
       "      <th>Imp</th>\n",
       "    </tr>\n",
       "    <tr>\n",
       "      <th>Column</th>\n",
       "      <th></th>\n",
       "    </tr>\n",
       "  </thead>\n",
       "  <tbody>\n",
       "    <tr>\n",
       "      <th>airbags</th>\n",
       "      <td>0.194904</td>\n",
       "    </tr>\n",
       "    <tr>\n",
       "      <th>gear_Automatic</th>\n",
       "      <td>0.143508</td>\n",
       "    </tr>\n",
       "    <tr>\n",
       "      <th>prod</th>\n",
       "      <td>0.122995</td>\n",
       "    </tr>\n",
       "    <tr>\n",
       "      <th>mileage</th>\n",
       "      <td>0.105619</td>\n",
       "    </tr>\n",
       "    <tr>\n",
       "      <th>levy</th>\n",
       "      <td>0.056715</td>\n",
       "    </tr>\n",
       "    <tr>\n",
       "      <th>...</th>\n",
       "      <td>...</td>\n",
       "    </tr>\n",
       "    <tr>\n",
       "      <th>model_2103 03</th>\n",
       "      <td>0.000000</td>\n",
       "    </tr>\n",
       "    <tr>\n",
       "      <th>model_E 290</th>\n",
       "      <td>0.000000</td>\n",
       "    </tr>\n",
       "    <tr>\n",
       "      <th>model_E 280 CDI</th>\n",
       "      <td>0.000000</td>\n",
       "    </tr>\n",
       "    <tr>\n",
       "      <th>model_E 280 3.0</th>\n",
       "      <td>0.000000</td>\n",
       "    </tr>\n",
       "    <tr>\n",
       "      <th>model_GL 63 AMG</th>\n",
       "      <td>0.000000</td>\n",
       "    </tr>\n",
       "  </tbody>\n",
       "</table>\n",
       "<p>1707 rows × 1 columns</p>\n",
       "</div>"
      ],
      "text/plain": [
       "                      Imp\n",
       "Column                   \n",
       "airbags          0.194904\n",
       "gear_Automatic   0.143508\n",
       "prod             0.122995\n",
       "mileage          0.105619\n",
       "levy             0.056715\n",
       "...                   ...\n",
       "model_2103 03    0.000000\n",
       "model_E 290      0.000000\n",
       "model_E 280 CDI  0.000000\n",
       "model_E 280 3.0  0.000000\n",
       "model_GL 63 AMG  0.000000\n",
       "\n",
       "[1707 rows x 1 columns]"
      ]
     },
     "execution_count": 117,
     "metadata": {},
     "output_type": "execute_result"
    }
   ],
   "source": [
    "dfimp"
   ]
  },
  {
   "cell_type": "code",
   "execution_count": 108,
   "metadata": {},
   "outputs": [
    {
     "data": {
      "text/plain": [
       "<AxesSubplot:ylabel='Column'>"
      ]
     },
     "execution_count": 108,
     "metadata": {},
     "output_type": "execute_result"
    },
    {
     "data": {
      "image/png": "[encoded data removed]",
      "text/plain": [
       "<Figure size 576x432 with 1 Axes>"
      ]
     },
     "metadata": {
      "needs_background": "light"
     },
     "output_type": "display_data"
    }
   ],
   "source": [
    "dfimp[:20].plot(kind='barh')"
   ]
  },
  {
   "cell_type": "code",
   "execution_count": 102,
   "metadata": {},
   "outputs": [
    {
     "data": {
      "text/plain": [
       "<AxesSubplot:ylabel='Column'>"
      ]
     },
     "execution_count": 102,
     "metadata": {},
     "output_type": "execute_result"
    },
    {
     "data": {
      "image/png": "[encoded data removed]",
      "text/plain": [
       "<Figure size 576x432 with 1 Axes>"
      ]
     },
     "metadata": {
      "needs_background": "light"
     },
     "output_type": "display_data"
    }
   ],
   "source": [
    "# RF good fit 1.014 val_RMSLE important columns\n",
    "dfimp[:20].plot(kind='barh')"
   ]
  },
  {
   "cell_type": "code",
   "execution_count": 133,
   "metadata": {},
   "outputs": [
    {
     "data": {
      "text/plain": [
       "<AxesSubplot:ylabel='Column'>"
      ]
     },
     "execution_count": 133,
     "metadata": {},
     "output_type": "execute_result"
    },
    {
     "data": {
      "text/plain": [
       "<Figure size 648x1224 with 0 Axes>"
      ]
     },
     "metadata": {},
     "output_type": "display_data"
    },
    {
     "data": {
      "image/png": "[encoded data removed]",
      "text/plain": [
       "<Figure size 576x432 with 1 Axes>"
      ]
     },
     "metadata": {
      "needs_background": "light"
     },
     "output_type": "display_data"
    }
   ],
   "source": [
    "dfimp = pd.DataFrame({'Column':x_train.columns, 'Imp': model.feature_importances_}).reset_index(\n",
    "    drop=True).set_index('Column').sort_values('Imp',ascending=False)\n",
    "plt.figure(figsize=(9,17))\n",
    "dfimp[:25].plot(kind='barh')"
   ]
  },
  {
   "cell_type": "code",
   "execution_count": 122,
   "metadata": {},
   "outputs": [
    {
     "name": "stdout",
     "output_type": "stream",
     "text": [
      "2021-07-10_21_55_26.csv\n"
     ]
    }
   ],
   "source": [
    "# PREPARE TEST DATA\n",
    "test_inputs = dftest.drop('price', axis=1)\n",
    "test_inputs[numeric_cols] = imputer.transform(test_inputs[numeric_cols])\n",
    "test_inputs[numeric_cols] = minmax.transform(test_inputs[numeric_cols])\n",
    "test_inputs[encoded_cols] = encoder.transform(test_inputs[categorical_cols])\n",
    "test_inputs = test_inputs[training_cols]\n",
    "\n",
    "# SUBMISSION FILE\n",
    "test_preds = model.predict(test_inputs.values)\n",
    "test_preds = np.exp(test_preds)\n",
    "dfsubmit = pd.DataFrame(test_preds, columns = ['Price'])\n",
    "submit_file = str(datetime.now().strftime(\"%Y-%m-%d %H:%M:%S\")).replace(' ','_') + '.csv'\n",
    "submit_file = submit_file.replace(':','_')\n",
    "print(submit_file)\n",
    "root_path= 'C:\\\\Users\\\\Anshu\\\\Data Science\\\\TheMathCompany-hackathon\\\\submissions\\\\'\n",
    "dfsubmit.to_csv(root_path + submit_file, index=False)"
   ]
  },
  {
   "cell_type": "code",
   "execution_count": null,
   "metadata": {},
   "outputs": [],
   "source": []
  }
 ],
 "metadata": {
  "kernelspec": {
   "display_name": "Python 3",
   "language": "python",
   "name": "python3"
  },
  "language_info": {
   "codemirror_mode": {
    "name": "ipython",
    "version": 3
   },
   "file_extension": ".py",
   "mimetype": "text/x-python",
   "name": "python",
   "nbconvert_exporter": "python",
   "pygments_lexer": "ipython3",
   "version": "3.7.6"
  }
 },
 "nbformat": 4,
 "nbformat_minor": 4
}

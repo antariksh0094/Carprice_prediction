{
  "nbformat": 4,
  "nbformat_minor": 0,
  "metadata": {
    "kernelspec": {
      "display_name": "Python 3",
      "language": "python",
      "name": "python3"
    },
    "language_info": {
      "codemirror_mode": {
        "name": "ipython",
        "version": 3
      },
      "file_extension": ".py",
      "mimetype": "text/x-python",
      "name": "python",
      "nbconvert_exporter": "python",
      "pygments_lexer": "ipython3",
      "version": "3.7.6"
    },
    "colab": {
      "name": "final_carprice_submit.ipynb",
      "provenance": [],
      "collapsed_sections": []
    }
  },
  "cells": [
    {
      "cell_type": "code",
      "metadata": {
        "id": "q7rZZSlz-ukJ",
        "colab": {
          "base_uri": "https://localhost:8080/"
        },
        "outputId": "a8e2cdb6-1d61-4456-e6cc-4ca5856a9747"
      },
      "source": [
        "import numpy as np\n",
        "import pandas as pd\n",
        "import matplotlib.pyplot as plt\n",
        "import seaborn as sns\n",
        "from datetime import datetime\n",
        "\n",
        "from sklearn.preprocessing import OneHotEncoder\n",
        "from sklearn.preprocessing import MinMaxScaler\n",
        "from sklearn.model_selection import train_test_split\n",
        "from sklearn.impute import SimpleImputer\n",
        "from sklearn.ensemble import RandomForestRegressor\n",
        "from sklearn.metrics import mean_squared_error\n",
        "from xgboost.sklearn import XGBRegressor\n",
        "\n",
        "pd.set_option('display.max_rows', 200)\n",
        "pd.set_option('display.max_columns', 200)\n",
        "plt.rcParams[\"figure.figsize\"] = (8, 6)\n",
        "\n",
        "root_path = '/content/drive/MyDrive/Colab Notebooks/TheMathCompany-hackathon/'\n",
        "\n",
        "from google.colab import drive\n",
        "drive.mount('/content/drive')"
      ],
      "execution_count": null,
      "outputs": [
        {
          "output_type": "stream",
          "text": [
            "Drive already mounted at /content/drive; to attempt to forcibly remount, call drive.mount(\"/content/drive\", force_remount=True).\n"
          ],
          "name": "stdout"
        }
      ]
    },
    {
      "cell_type": "markdown",
      "metadata": {
        "id": "ag5buWVMMiST"
      },
      "source": [
        "PLAN OF ACTION\n",
        "\n",
        "basic cleaning\n",
        "- bring data into correct format (remove 'Turbo', km, '-', etc)\n",
        "- study the relationship of each variable with target (visualise)\n",
        "- apply log transformation to price\n",
        "\n",
        "Studying and imputing outliers\n",
        "- replace the price of outliers by average price of that car in dataset\n",
        "- replace feature values that are absurdly high, with those of similar cars\n",
        "- do manual imputation if necessary\n",
        "\n",
        "feature engineering\n",
        "- convert prod to 'current year - prod'\n",
        "\n",
        "target transformation\n",
        "- take log of price (since we are predicting RMSLE)\n",
        "\n",
        "encoding and imputing\n",
        "- mean/median for numeric \n",
        "- onehot for categorical\n",
        "\n",
        "model fitting\n",
        "- split into train and val randomly (70:30)\n",
        "- try with tree ensembles (randomforest) and xgb\n",
        "- log model hyperparams and metrics for each run\n",
        "\n",
        "test prediction and submission\n",
        "- load and transform test data\n",
        "- predict and save for submission"
      ]
    },
    {
      "cell_type": "code",
      "metadata": {
        "id": "ZXY85M4v-ukZ",
        "colab": {
          "base_uri": "https://localhost:8080/"
        },
        "outputId": "656f3daa-d9c8-4f47-d86e-2e7c36ba3e3a"
      },
      "source": [
        "df = pd.read_csv(root_path+'train.csv')\n",
        "dfc = df.copy()\n",
        "df.shape"
      ],
      "execution_count": null,
      "outputs": [
        {
          "output_type": "execute_result",
          "data": {
            "text/plain": [
              "(19237, 17)"
            ]
          },
          "metadata": {
            "tags": []
          },
          "execution_count": 4
        }
      ]
    },
    {
      "cell_type": "code",
      "metadata": {
        "id": "jKwMp5ng-ukb",
        "colab": {
          "base_uri": "https://localhost:8080/",
          "height": 182
        },
        "outputId": "f9784e5c-e2c6-4279-9ab0-c03a2ff89db2"
      },
      "source": [
        "df.head(2)"
      ],
      "execution_count": null,
      "outputs": [
        {
          "output_type": "execute_result",
          "data": {
            "text/html": [
              "<div>\n",
              "<style scoped>\n",
              "    .dataframe tbody tr th:only-of-type {\n",
              "        vertical-align: middle;\n",
              "    }\n",
              "\n",
              "    .dataframe tbody tr th {\n",
              "        vertical-align: top;\n",
              "    }\n",
              "\n",
              "    .dataframe thead th {\n",
              "        text-align: right;\n",
              "    }\n",
              "</style>\n",
              "<table border=\"1\" class=\"dataframe\">\n",
              "  <thead>\n",
              "    <tr style=\"text-align: right;\">\n",
              "      <th></th>\n",
              "      <th>Price</th>\n",
              "      <th>Levy</th>\n",
              "      <th>Manufacturer</th>\n",
              "      <th>Model</th>\n",
              "      <th>Prod. year</th>\n",
              "      <th>Category</th>\n",
              "      <th>Leather interior</th>\n",
              "      <th>Fuel type</th>\n",
              "      <th>Engine volume</th>\n",
              "      <th>Mileage</th>\n",
              "      <th>Cylinders</th>\n",
              "      <th>Gear box type</th>\n",
              "      <th>Drive wheels</th>\n",
              "      <th>Doors</th>\n",
              "      <th>Wheel</th>\n",
              "      <th>Color</th>\n",
              "      <th>Airbags</th>\n",
              "    </tr>\n",
              "  </thead>\n",
              "  <tbody>\n",
              "    <tr>\n",
              "      <th>0</th>\n",
              "      <td>13328</td>\n",
              "      <td>1399</td>\n",
              "      <td>LEXUS</td>\n",
              "      <td>RX 450</td>\n",
              "      <td>2010</td>\n",
              "      <td>Jeep</td>\n",
              "      <td>Yes</td>\n",
              "      <td>Hybrid</td>\n",
              "      <td>3.5</td>\n",
              "      <td>186005 km</td>\n",
              "      <td>6.0</td>\n",
              "      <td>Automatic</td>\n",
              "      <td>4x4</td>\n",
              "      <td>04-May</td>\n",
              "      <td>Left wheel</td>\n",
              "      <td>Silver</td>\n",
              "      <td>12</td>\n",
              "    </tr>\n",
              "    <tr>\n",
              "      <th>1</th>\n",
              "      <td>16621</td>\n",
              "      <td>1018</td>\n",
              "      <td>CHEVROLET</td>\n",
              "      <td>Equinox</td>\n",
              "      <td>2011</td>\n",
              "      <td>Jeep</td>\n",
              "      <td>No</td>\n",
              "      <td>Petrol</td>\n",
              "      <td>3</td>\n",
              "      <td>192000 km</td>\n",
              "      <td>6.0</td>\n",
              "      <td>Tiptronic</td>\n",
              "      <td>4x4</td>\n",
              "      <td>04-May</td>\n",
              "      <td>Left wheel</td>\n",
              "      <td>Black</td>\n",
              "      <td>8</td>\n",
              "    </tr>\n",
              "  </tbody>\n",
              "</table>\n",
              "</div>"
            ],
            "text/plain": [
              "   Price  Levy Manufacturer    Model  Prod. year Category Leather interior  \\\n",
              "0  13328  1399        LEXUS   RX 450        2010     Jeep              Yes   \n",
              "1  16621  1018    CHEVROLET  Equinox        2011     Jeep               No   \n",
              "\n",
              "  Fuel type Engine volume    Mileage  Cylinders Gear box type Drive wheels  \\\n",
              "0    Hybrid           3.5  186005 km        6.0     Automatic          4x4   \n",
              "1    Petrol             3  192000 km        6.0     Tiptronic          4x4   \n",
              "\n",
              "    Doors       Wheel   Color  Airbags  \n",
              "0  04-May  Left wheel  Silver       12  \n",
              "1  04-May  Left wheel   Black        8  "
            ]
          },
          "metadata": {
            "tags": []
          },
          "execution_count": 30
        }
      ]
    },
    {
      "cell_type": "code",
      "metadata": {
        "id": "Hvvg1SK1-ukg",
        "colab": {
          "base_uri": "https://localhost:8080/"
        },
        "outputId": "278ebecc-76cc-461a-df3a-a62a73d300e9"
      },
      "source": [
        "df.isnull().sum().sum()"
      ],
      "execution_count": null,
      "outputs": [
        {
          "output_type": "execute_result",
          "data": {
            "text/plain": [
              "0"
            ]
          },
          "metadata": {
            "tags": []
          },
          "execution_count": 5
        }
      ]
    },
    {
      "cell_type": "markdown",
      "metadata": {
        "id": "2YjELJWI-ukk"
      },
      "source": [
        "###  Let us take a look at each the features, and do cleaning, wherever needed."
      ]
    },
    {
      "cell_type": "markdown",
      "metadata": {
        "id": "o0FTISdcFAc7"
      },
      "source": [
        "Let us first modify the column names to single-word, lowercase names for convenience."
      ]
    },
    {
      "cell_type": "code",
      "metadata": {
        "id": "cqQABdooS056"
      },
      "source": [
        "# FUNCTION TO DO INITIAL FORMAT CORRECTION AND CLEANING\n",
        "\n",
        "def carprice_preprocess(df, istest=False):\n",
        "    \n",
        "    df = df.drop('ID', axis=1)\n",
        "\n",
        "    # shortening column names\n",
        "    for col in df.columns:\n",
        "      new_col = col.lower().split()[0].replace('.','')\n",
        "      df[new_col] = df[col]\n",
        "      df = df.drop(col, axis=1)\n",
        "\n",
        "\n",
        "    # LEVY COLUMN - replacing '-' with NaN\n",
        "    df['levy'] = df['levy'].replace('-', np.nan)\n",
        "    df['levy'] = df['levy'].astype('float16')\n",
        "\n",
        "    # LEATHER -  converting Yes/No to 1 and 0\n",
        "    df['leather'] = df['leather'].map({'Yes':1, 'No':0})\n",
        "\n",
        "    # Engine-TURBO - some engines are 'Turbo'; we are making a separate column to represent this \n",
        "    df['turbo'] = df['engine'].apply( lambda x: 0 if x.find('Turbo') == -1 else 1)\n",
        "    df['engine'] = df['engine'].apply(lambda x: str(x).split()[0])\n",
        "    df['engine'] = df['engine'].apply(lambda x: round(float(x), 3))\n",
        "\n",
        "    # MILEAGE - it contains \"km\", removing this and taking only numeric value\n",
        "    df['mileage'] = df['mileage'].apply(lambda x: x.split()[0])\n",
        "    df['mileage'] = df['mileage'].astype(int)\n",
        "\n",
        "    # DOORS - 2nd character always contains the number of doors\n",
        "    df['doors'] = df['doors'].apply(lambda x: x[1:2])\n",
        "    df['doors'] = df['doors'].astype('uint8')\n",
        "\n",
        "    # WHEEL\n",
        "    df['wheel'] = df['wheel'].map({'Left wheel':'left', 'Right-hand drive':'right'})\n",
        "    \n",
        "    # LOG-TRANSFORM PRICE, as final metric is RMSLE (only for TRAIN)\n",
        "    \n",
        "    if istest == False:\n",
        "        df['price'] = np.log(df['price'])\n",
        "        \n",
        "    return df"
      ],
      "execution_count": null,
      "outputs": []
    },
    {
      "cell_type": "code",
      "metadata": {
        "colab": {
          "base_uri": "https://localhost:8080/",
          "height": 162
        },
        "id": "JTKa7PzITkXT",
        "outputId": "73046a4d-23db-43e3-87a9-ae6d79ba9097"
      },
      "source": [
        "df = carprice_preprocess(df)\n",
        "df.head(3)"
      ],
      "execution_count": null,
      "outputs": [
        {
          "output_type": "execute_result",
          "data": {
            "text/html": [
              "<div>\n",
              "<style scoped>\n",
              "    .dataframe tbody tr th:only-of-type {\n",
              "        vertical-align: middle;\n",
              "    }\n",
              "\n",
              "    .dataframe tbody tr th {\n",
              "        vertical-align: top;\n",
              "    }\n",
              "\n",
              "    .dataframe thead th {\n",
              "        text-align: right;\n",
              "    }\n",
              "</style>\n",
              "<table border=\"1\" class=\"dataframe\">\n",
              "  <thead>\n",
              "    <tr style=\"text-align: right;\">\n",
              "      <th></th>\n",
              "      <th>price</th>\n",
              "      <th>levy</th>\n",
              "      <th>manufacturer</th>\n",
              "      <th>model</th>\n",
              "      <th>prod</th>\n",
              "      <th>category</th>\n",
              "      <th>leather</th>\n",
              "      <th>fuel</th>\n",
              "      <th>engine</th>\n",
              "      <th>mileage</th>\n",
              "      <th>cylinders</th>\n",
              "      <th>gear</th>\n",
              "      <th>drive</th>\n",
              "      <th>doors</th>\n",
              "      <th>wheel</th>\n",
              "      <th>color</th>\n",
              "      <th>airbags</th>\n",
              "      <th>turbo</th>\n",
              "    </tr>\n",
              "  </thead>\n",
              "  <tbody>\n",
              "    <tr>\n",
              "      <th>0</th>\n",
              "      <td>9.497622</td>\n",
              "      <td>1399.0</td>\n",
              "      <td>LEXUS</td>\n",
              "      <td>RX 450</td>\n",
              "      <td>2010</td>\n",
              "      <td>Jeep</td>\n",
              "      <td>1</td>\n",
              "      <td>Hybrid</td>\n",
              "      <td>3.5</td>\n",
              "      <td>186005</td>\n",
              "      <td>6.0</td>\n",
              "      <td>Automatic</td>\n",
              "      <td>4x4</td>\n",
              "      <td>4</td>\n",
              "      <td>left</td>\n",
              "      <td>Silver</td>\n",
              "      <td>12</td>\n",
              "      <td>0</td>\n",
              "    </tr>\n",
              "    <tr>\n",
              "      <th>1</th>\n",
              "      <td>9.718422</td>\n",
              "      <td>1018.0</td>\n",
              "      <td>CHEVROLET</td>\n",
              "      <td>Equinox</td>\n",
              "      <td>2011</td>\n",
              "      <td>Jeep</td>\n",
              "      <td>0</td>\n",
              "      <td>Petrol</td>\n",
              "      <td>3.0</td>\n",
              "      <td>192000</td>\n",
              "      <td>6.0</td>\n",
              "      <td>Tiptronic</td>\n",
              "      <td>4x4</td>\n",
              "      <td>4</td>\n",
              "      <td>left</td>\n",
              "      <td>Black</td>\n",
              "      <td>8</td>\n",
              "      <td>0</td>\n",
              "    </tr>\n",
              "    <tr>\n",
              "      <th>2</th>\n",
              "      <td>9.043932</td>\n",
              "      <td>NaN</td>\n",
              "      <td>HONDA</td>\n",
              "      <td>FIT</td>\n",
              "      <td>2006</td>\n",
              "      <td>Hatchback</td>\n",
              "      <td>0</td>\n",
              "      <td>Petrol</td>\n",
              "      <td>1.3</td>\n",
              "      <td>200000</td>\n",
              "      <td>4.0</td>\n",
              "      <td>Variator</td>\n",
              "      <td>Front</td>\n",
              "      <td>4</td>\n",
              "      <td>right</td>\n",
              "      <td>Black</td>\n",
              "      <td>2</td>\n",
              "      <td>0</td>\n",
              "    </tr>\n",
              "  </tbody>\n",
              "</table>\n",
              "</div>"
            ],
            "text/plain": [
              "      price    levy manufacturer    model  prod   category  leather    fuel  \\\n",
              "0  9.497622  1399.0        LEXUS   RX 450  2010       Jeep        1  Hybrid   \n",
              "1  9.718422  1018.0    CHEVROLET  Equinox  2011       Jeep        0  Petrol   \n",
              "2  9.043932     NaN        HONDA      FIT  2006  Hatchback        0  Petrol   \n",
              "\n",
              "   engine  mileage  cylinders       gear  drive  doors  wheel   color  \\\n",
              "0     3.5   186005        6.0  Automatic    4x4      4   left  Silver   \n",
              "1     3.0   192000        6.0  Tiptronic    4x4      4   left   Black   \n",
              "2     1.3   200000        4.0   Variator  Front      4  right   Black   \n",
              "\n",
              "   airbags  turbo  \n",
              "0       12      0  \n",
              "1        8      0  \n",
              "2        2      0  "
            ]
          },
          "metadata": {
            "tags": []
          },
          "execution_count": 6
        }
      ]
    },
    {
      "cell_type": "markdown",
      "metadata": {
        "id": "9RQ85-JD-uly"
      },
      "source": [
        "### Lest us now see relation between target and features"
      ]
    },
    {
      "cell_type": "code",
      "metadata": {
        "id": "xQowHIOJ-ul0",
        "colab": {
          "base_uri": "https://localhost:8080/",
          "height": 311
        },
        "outputId": "068c6d9b-70aa-487b-81d4-09bbc2c0da1b"
      },
      "source": [
        "df.sort_values('price', ascending=False)[:5]"
      ],
      "execution_count": null,
      "outputs": [
        {
          "output_type": "execute_result",
          "data": {
            "text/html": [
              "<div>\n",
              "<style scoped>\n",
              "    .dataframe tbody tr th:only-of-type {\n",
              "        vertical-align: middle;\n",
              "    }\n",
              "\n",
              "    .dataframe tbody tr th {\n",
              "        vertical-align: top;\n",
              "    }\n",
              "\n",
              "    .dataframe thead th {\n",
              "        text-align: right;\n",
              "    }\n",
              "</style>\n",
              "<table border=\"1\" class=\"dataframe\">\n",
              "  <thead>\n",
              "    <tr style=\"text-align: right;\">\n",
              "      <th></th>\n",
              "      <th>price</th>\n",
              "      <th>levy</th>\n",
              "      <th>manufacturer</th>\n",
              "      <th>model</th>\n",
              "      <th>prod</th>\n",
              "      <th>category</th>\n",
              "      <th>leather</th>\n",
              "      <th>fuel</th>\n",
              "      <th>engine</th>\n",
              "      <th>mileage</th>\n",
              "      <th>cylinders</th>\n",
              "      <th>gear</th>\n",
              "      <th>drive</th>\n",
              "      <th>doors</th>\n",
              "      <th>wheel</th>\n",
              "      <th>color</th>\n",
              "      <th>airbags</th>\n",
              "      <th>turbo</th>\n",
              "    </tr>\n",
              "  </thead>\n",
              "  <tbody>\n",
              "    <tr>\n",
              "      <th>16983</th>\n",
              "      <td>17.085365</td>\n",
              "      <td>NaN</td>\n",
              "      <td>OPEL</td>\n",
              "      <td>Combo</td>\n",
              "      <td>1999</td>\n",
              "      <td>Goods wagon</td>\n",
              "      <td>0</td>\n",
              "      <td>Diesel</td>\n",
              "      <td>1.7</td>\n",
              "      <td>99999</td>\n",
              "      <td>4.0</td>\n",
              "      <td>Manual</td>\n",
              "      <td>Front</td>\n",
              "      <td>2</td>\n",
              "      <td>left</td>\n",
              "      <td>Blue</td>\n",
              "      <td>0</td>\n",
              "      <td>0</td>\n",
              "    </tr>\n",
              "    <tr>\n",
              "      <th>8541</th>\n",
              "      <td>13.679629</td>\n",
              "      <td>2068.0</td>\n",
              "      <td>LAMBORGHINI</td>\n",
              "      <td>Urus</td>\n",
              "      <td>2019</td>\n",
              "      <td>Universal</td>\n",
              "      <td>1</td>\n",
              "      <td>Petrol</td>\n",
              "      <td>4.0</td>\n",
              "      <td>2531</td>\n",
              "      <td>8.0</td>\n",
              "      <td>Tiptronic</td>\n",
              "      <td>4x4</td>\n",
              "      <td>4</td>\n",
              "      <td>left</td>\n",
              "      <td>Black</td>\n",
              "      <td>0</td>\n",
              "      <td>0</td>\n",
              "    </tr>\n",
              "    <tr>\n",
              "      <th>1225</th>\n",
              "      <td>13.349053</td>\n",
              "      <td>NaN</td>\n",
              "      <td>MERCEDES-BENZ</td>\n",
              "      <td>G 65 AMG 63AMG</td>\n",
              "      <td>2020</td>\n",
              "      <td>Jeep</td>\n",
              "      <td>1</td>\n",
              "      <td>Petrol</td>\n",
              "      <td>6.3</td>\n",
              "      <td>0</td>\n",
              "      <td>8.0</td>\n",
              "      <td>Tiptronic</td>\n",
              "      <td>4x4</td>\n",
              "      <td>4</td>\n",
              "      <td>left</td>\n",
              "      <td>Black</td>\n",
              "      <td>12</td>\n",
              "      <td>1</td>\n",
              "    </tr>\n",
              "    <tr>\n",
              "      <th>5008</th>\n",
              "      <td>12.640792</td>\n",
              "      <td>1694.0</td>\n",
              "      <td>PORSCHE</td>\n",
              "      <td>911</td>\n",
              "      <td>2016</td>\n",
              "      <td>Coupe</td>\n",
              "      <td>1</td>\n",
              "      <td>Petrol</td>\n",
              "      <td>4.0</td>\n",
              "      <td>8690</td>\n",
              "      <td>6.0</td>\n",
              "      <td>Automatic</td>\n",
              "      <td>Rear</td>\n",
              "      <td>2</td>\n",
              "      <td>left</td>\n",
              "      <td>Black</td>\n",
              "      <td>12</td>\n",
              "      <td>0</td>\n",
              "    </tr>\n",
              "    <tr>\n",
              "      <th>14839</th>\n",
              "      <td>12.604614</td>\n",
              "      <td>NaN</td>\n",
              "      <td>LAND ROVER</td>\n",
              "      <td>Range Rover Vogue</td>\n",
              "      <td>2019</td>\n",
              "      <td>Jeep</td>\n",
              "      <td>1</td>\n",
              "      <td>Diesel</td>\n",
              "      <td>3.0</td>\n",
              "      <td>4500</td>\n",
              "      <td>8.0</td>\n",
              "      <td>Tiptronic</td>\n",
              "      <td>4x4</td>\n",
              "      <td>4</td>\n",
              "      <td>left</td>\n",
              "      <td>Black</td>\n",
              "      <td>12</td>\n",
              "      <td>1</td>\n",
              "    </tr>\n",
              "  </tbody>\n",
              "</table>\n",
              "</div>"
            ],
            "text/plain": [
              "           price    levy   manufacturer              model  prod     category  \\\n",
              "16983  17.085365     NaN           OPEL              Combo  1999  Goods wagon   \n",
              "8541   13.679629  2068.0    LAMBORGHINI               Urus  2019    Universal   \n",
              "1225   13.349053     NaN  MERCEDES-BENZ     G 65 AMG 63AMG  2020         Jeep   \n",
              "5008   12.640792  1694.0        PORSCHE                911  2016        Coupe   \n",
              "14839  12.604614     NaN     LAND ROVER  Range Rover Vogue  2019         Jeep   \n",
              "\n",
              "       leather    fuel  engine  mileage  cylinders       gear  drive  doors  \\\n",
              "16983        0  Diesel     1.7    99999        4.0     Manual  Front      2   \n",
              "8541         1  Petrol     4.0     2531        8.0  Tiptronic    4x4      4   \n",
              "1225         1  Petrol     6.3        0        8.0  Tiptronic    4x4      4   \n",
              "5008         1  Petrol     4.0     8690        6.0  Automatic   Rear      2   \n",
              "14839        1  Diesel     3.0     4500        8.0  Tiptronic    4x4      4   \n",
              "\n",
              "      wheel  color  airbags  turbo  \n",
              "16983  left   Blue        0      0  \n",
              "8541   left  Black        0      0  \n",
              "1225   left  Black       12      1  \n",
              "5008   left  Black       12      0  \n",
              "14839  left  Black       12      1  "
            ]
          },
          "metadata": {
            "tags": []
          },
          "execution_count": 7
        }
      ]
    },
    {
      "cell_type": "markdown",
      "metadata": {
        "id": "fsAJRHme-ul1"
      },
      "source": [
        "#### Let us drop column number 16983 because its clearly an outlier."
      ]
    },
    {
      "cell_type": "code",
      "metadata": {
        "id": "S6cJesUK-ul2",
        "colab": {
          "base_uri": "https://localhost:8080/"
        },
        "outputId": "c8653e62-afd1-4b3c-9726-2dd5e1a5da8b"
      },
      "source": [
        "df = df.drop(16983)\n",
        "df.shape"
      ],
      "execution_count": null,
      "outputs": [
        {
          "output_type": "execute_result",
          "data": {
            "text/plain": [
              "(19236, 18)"
            ]
          },
          "metadata": {
            "tags": []
          },
          "execution_count": 8
        }
      ]
    },
    {
      "cell_type": "markdown",
      "metadata": {
        "id": "E86QBoU3Xo6i"
      },
      "source": [
        "#### Manufacturer"
      ]
    },
    {
      "cell_type": "code",
      "metadata": {
        "id": "hQGmLR1z-ul2",
        "colab": {
          "base_uri": "https://localhost:8080/",
          "height": 769
        },
        "outputId": "a6137f23-dee9-4bb7-e283-79b8907d00ea"
      },
      "source": [
        "# MANUFACTURER vs PRICE\n",
        "plt.figure(figsize=(7,13))\n",
        "sns.stripplot(data=df, y='manufacturer', x='price');"
      ],
      "execution_count": null,
      "outputs": [
        {
          "output_type": "display_data",
          "data": {
            "image/png": "[encoded data removed]",
            "text/plain": [
              "<Figure size 504x936 with 1 Axes>"
            ]
          },
          "metadata": {
            "tags": [],
            "needs_background": "light"
          }
        }
      ]
    },
    {
      "cell_type": "markdown",
      "metadata": {
        "id": "j4ciNQ86XCXc"
      },
      "source": [
        "Manufacturers at the top of the figure (Lexus, Chevrolet, Hyundai, etc.) seem to have cheap as well as costly cars. On the other hand, Ferrari, Lamborghini, Astin-Martin and others (towards the bottom) seem to have mostly expensive cars."
      ]
    },
    {
      "cell_type": "markdown",
      "metadata": {
        "id": "25u_OMV21Qio"
      },
      "source": [
        "As there are too many different models, it is difficult to show their relatinoship with price visually. We will look at other features."
      ]
    },
    {
      "cell_type": "markdown",
      "metadata": {
        "id": "SmEWz8_-1bjL"
      },
      "source": [
        "#### PROD"
      ]
    },
    {
      "cell_type": "code",
      "metadata": {
        "colab": {
          "base_uri": "https://localhost:8080/",
          "height": 406
        },
        "id": "SuCOtFQ91Y6S",
        "outputId": "d29846f9-d938-4975-f2aa-e945ddc8af7b"
      },
      "source": [
        "sns.scatterplot(data=df, x='prod', y='price')"
      ],
      "execution_count": null,
      "outputs": [
        {
          "output_type": "execute_result",
          "data": {
            "text/plain": [
              "<matplotlib.axes._subplots.AxesSubplot at 0x7f49b6b26b50>"
            ]
          },
          "metadata": {
            "tags": []
          },
          "execution_count": 14
        },
        {
          "output_type": "display_data",
          "data": {
            "image/png": "[encoded data removed]",
            "text/plain": [
              "<Figure size 576x432 with 1 Axes>"
            ]
          },
          "metadata": {
            "tags": [],
            "needs_background": "light"
          }
        }
      ]
    },
    {
      "cell_type": "markdown",
      "metadata": {
        "id": "-SkWoyE11gQ1"
      },
      "source": [
        "It appears that their is a large variety in the prices of comparatively new cars. Also, most of the cheap cars are relatively new."
      ]
    },
    {
      "cell_type": "markdown",
      "metadata": {
        "id": "CfJKEsDB2CkO"
      },
      "source": [
        "#### CATEGORY"
      ]
    },
    {
      "cell_type": "code",
      "metadata": {
        "colab": {
          "base_uri": "https://localhost:8080/",
          "height": 406
        },
        "id": "esWcahpc2CV4",
        "outputId": "e19e3b74-e31e-4391-9d75-3a88b0c5ced7"
      },
      "source": [
        "sns.stripplot(data=df, y='category', x='price')"
      ],
      "execution_count": null,
      "outputs": [
        {
          "output_type": "execute_result",
          "data": {
            "text/plain": [
              "<matplotlib.axes._subplots.AxesSubplot at 0x7f49b6a73390>"
            ]
          },
          "metadata": {
            "tags": []
          },
          "execution_count": 16
        },
        {
          "output_type": "display_data",
          "data": {
            "image/png": "[encoded data removed]",
            "text/plain": [
              "<Figure size 576x432 with 1 Axes>"
            ]
          },
          "metadata": {
            "tags": [],
            "needs_background": "light"
          }
        }
      ]
    },
    {
      "cell_type": "markdown",
      "metadata": {
        "id": "kk7asTPA2K2s"
      },
      "source": [
        "Minivans, Cabriolets and Pickups seem to costlier in general. There is large variety among Jeeps, Sedans and Hatchbacks, which is expected, because there are very common types of househol cars compared to Limousines and Pickup-trucks."
      ]
    },
    {
      "cell_type": "markdown",
      "metadata": {
        "id": "MrSBwOtl3IGE"
      },
      "source": [
        "#### LEATHER"
      ]
    },
    {
      "cell_type": "code",
      "metadata": {
        "colab": {
          "base_uri": "https://localhost:8080/",
          "height": 388
        },
        "id": "1Vc8i6RT2CK8",
        "outputId": "e8bc2c00-1c24-460d-b426-02e1d4e41769"
      },
      "source": [
        "sns.stripplot(data=df, x='leather', y='price');"
      ],
      "execution_count": null,
      "outputs": [
        {
          "output_type": "display_data",
          "data": {
            "image/png": "[encoded data removed]",
            "text/plain": [
              "<Figure size 576x432 with 1 Axes>"
            ]
          },
          "metadata": {
            "tags": [],
            "needs_background": "light"
          }
        }
      ]
    },
    {
      "cell_type": "markdown",
      "metadata": {
        "id": "tiqFVrwl2v3O"
      },
      "source": [
        "There seems to be 2 separate price clusters in cars without leather interiors. Cars with leather interiors are spread across the entire price band."
      ]
    },
    {
      "cell_type": "markdown",
      "metadata": {
        "id": "0oxFdAnu31ch"
      },
      "source": [
        "#### FUEL"
      ]
    },
    {
      "cell_type": "code",
      "metadata": {
        "colab": {
          "base_uri": "https://localhost:8080/",
          "height": 406
        },
        "id": "19_eFV5x326k",
        "outputId": "e284a95a-f50a-4619-9f7d-a86a83b86b24"
      },
      "source": [
        "plt.figure(figsize=(8,6))\n",
        "sns.stripplot(data=df, y='fuel', x='price')"
      ],
      "execution_count": null,
      "outputs": [
        {
          "output_type": "execute_result",
          "data": {
            "text/plain": [
              "<matplotlib.axes._subplots.AxesSubplot at 0x7f49b68d8390>"
            ]
          },
          "metadata": {
            "tags": []
          },
          "execution_count": 21
        },
        {
          "output_type": "display_data",
          "data": {
            "image/png": "[encoded data removed]",
            "text/plain": [
              "<Figure size 576x432 with 1 Axes>"
            ]
          },
          "metadata": {
            "tags": [],
            "needs_background": "light"
          }
        }
      ]
    },
    {
      "cell_type": "markdown",
      "metadata": {
        "id": "KGWmtJCI4KWI"
      },
      "source": [
        "Petrol, Diesel and Hybrid cars in the dataset are cheaper in general. Plug-in hybrid cars are predominantly expensive."
      ]
    },
    {
      "cell_type": "markdown",
      "metadata": {
        "id": "q05v0UYy4q51"
      },
      "source": [
        "#### ENGINE"
      ]
    },
    {
      "cell_type": "code",
      "metadata": {
        "colab": {
          "base_uri": "https://localhost:8080/",
          "height": 406
        },
        "id": "9EnY7YY94sgj",
        "outputId": "c87933f2-e7a4-46aa-83c6-6e4153e14acf"
      },
      "source": [
        "sns.scatterplot(data=df, x='engine', y='price')"
      ],
      "execution_count": null,
      "outputs": [
        {
          "output_type": "execute_result",
          "data": {
            "text/plain": [
              "<matplotlib.axes._subplots.AxesSubplot at 0x7f49b685ffd0>"
            ]
          },
          "metadata": {
            "tags": []
          },
          "execution_count": 22
        },
        {
          "output_type": "display_data",
          "data": {
            "image/png": "[encoded data removed]",
            "text/plain": [
              "<Figure size 576x432 with 1 Axes>"
            ]
          },
          "metadata": {
            "tags": [],
            "needs_background": "light"
          }
        }
      ]
    },
    {
      "cell_type": "markdown",
      "metadata": {
        "id": "D7t-F5II4uYX"
      },
      "source": [
        "There appears to be cars with 20.0 L engine capacity! Let us investigate."
      ]
    },
    {
      "cell_type": "code",
      "metadata": {
        "id": "GXE4skhY-ul6",
        "colab": {
          "base_uri": "https://localhost:8080/",
          "height": 210
        },
        "outputId": "a72853bc-456c-456c-9857-2cc40d666df1"
      },
      "source": [
        "df.sort_values('engine', ascending=False)[:4]"
      ],
      "execution_count": null,
      "outputs": [
        {
          "output_type": "execute_result",
          "data": {
            "text/html": [
              "<div>\n",
              "<style scoped>\n",
              "    .dataframe tbody tr th:only-of-type {\n",
              "        vertical-align: middle;\n",
              "    }\n",
              "\n",
              "    .dataframe tbody tr th {\n",
              "        vertical-align: top;\n",
              "    }\n",
              "\n",
              "    .dataframe thead th {\n",
              "        text-align: right;\n",
              "    }\n",
              "</style>\n",
              "<table border=\"1\" class=\"dataframe\">\n",
              "  <thead>\n",
              "    <tr style=\"text-align: right;\">\n",
              "      <th></th>\n",
              "      <th>price</th>\n",
              "      <th>levy</th>\n",
              "      <th>manufacturer</th>\n",
              "      <th>model</th>\n",
              "      <th>prod</th>\n",
              "      <th>category</th>\n",
              "      <th>leather</th>\n",
              "      <th>fuel</th>\n",
              "      <th>engine</th>\n",
              "      <th>mileage</th>\n",
              "      <th>cylinders</th>\n",
              "      <th>gear</th>\n",
              "      <th>drive</th>\n",
              "      <th>doors</th>\n",
              "      <th>wheel</th>\n",
              "      <th>color</th>\n",
              "      <th>airbags</th>\n",
              "      <th>turbo</th>\n",
              "    </tr>\n",
              "  </thead>\n",
              "  <tbody>\n",
              "    <tr>\n",
              "      <th>17777</th>\n",
              "      <td>9.213934</td>\n",
              "      <td>5604.0</td>\n",
              "      <td>HYUNDAI</td>\n",
              "      <td>Sonata</td>\n",
              "      <td>2014</td>\n",
              "      <td>Sedan</td>\n",
              "      <td>1</td>\n",
              "      <td>LPG</td>\n",
              "      <td>20.0</td>\n",
              "      <td>333686</td>\n",
              "      <td>4.0</td>\n",
              "      <td>Automatic</td>\n",
              "      <td>Front</td>\n",
              "      <td>4</td>\n",
              "      <td>left</td>\n",
              "      <td>Silver</td>\n",
              "      <td>4</td>\n",
              "      <td>0</td>\n",
              "    </tr>\n",
              "    <tr>\n",
              "      <th>2357</th>\n",
              "      <td>9.213934</td>\n",
              "      <td>5604.0</td>\n",
              "      <td>HYUNDAI</td>\n",
              "      <td>Sonata</td>\n",
              "      <td>2014</td>\n",
              "      <td>Sedan</td>\n",
              "      <td>1</td>\n",
              "      <td>LPG</td>\n",
              "      <td>20.0</td>\n",
              "      <td>333686</td>\n",
              "      <td>4.0</td>\n",
              "      <td>Automatic</td>\n",
              "      <td>Front</td>\n",
              "      <td>4</td>\n",
              "      <td>left</td>\n",
              "      <td>Silver</td>\n",
              "      <td>4</td>\n",
              "      <td>0</td>\n",
              "    </tr>\n",
              "    <tr>\n",
              "      <th>5367</th>\n",
              "      <td>8.966994</td>\n",
              "      <td>5876.0</td>\n",
              "      <td>MERCEDES-BENZ</td>\n",
              "      <td>CLK 430</td>\n",
              "      <td>2005</td>\n",
              "      <td>Cabriolet</td>\n",
              "      <td>0</td>\n",
              "      <td>Petrol</td>\n",
              "      <td>7.3</td>\n",
              "      <td>156470</td>\n",
              "      <td>12.0</td>\n",
              "      <td>Automatic</td>\n",
              "      <td>Rear</td>\n",
              "      <td>4</td>\n",
              "      <td>left</td>\n",
              "      <td>Black</td>\n",
              "      <td>12</td>\n",
              "      <td>0</td>\n",
              "    </tr>\n",
              "    <tr>\n",
              "      <th>4722</th>\n",
              "      <td>12.076089</td>\n",
              "      <td>2820.0</td>\n",
              "      <td>BENTLEY</td>\n",
              "      <td>Mulsanne</td>\n",
              "      <td>2016</td>\n",
              "      <td>Sedan</td>\n",
              "      <td>1</td>\n",
              "      <td>Petrol</td>\n",
              "      <td>6.8</td>\n",
              "      <td>6189</td>\n",
              "      <td>8.0</td>\n",
              "      <td>Automatic</td>\n",
              "      <td>Rear</td>\n",
              "      <td>4</td>\n",
              "      <td>left</td>\n",
              "      <td>Black</td>\n",
              "      <td>12</td>\n",
              "      <td>0</td>\n",
              "    </tr>\n",
              "  </tbody>\n",
              "</table>\n",
              "</div>"
            ],
            "text/plain": [
              "           price    levy   manufacturer     model  prod   category  leather  \\\n",
              "17777   9.213934  5604.0        HYUNDAI    Sonata  2014      Sedan        1   \n",
              "2357    9.213934  5604.0        HYUNDAI    Sonata  2014      Sedan        1   \n",
              "5367    8.966994  5876.0  MERCEDES-BENZ   CLK 430  2005  Cabriolet        0   \n",
              "4722   12.076089  2820.0        BENTLEY  Mulsanne  2016      Sedan        1   \n",
              "\n",
              "         fuel  engine  mileage  cylinders       gear  drive  doors wheel  \\\n",
              "17777     LPG    20.0   333686        4.0  Automatic  Front      4  left   \n",
              "2357      LPG    20.0   333686        4.0  Automatic  Front      4  left   \n",
              "5367   Petrol     7.3   156470       12.0  Automatic   Rear      4  left   \n",
              "4722   Petrol     6.8     6189        8.0  Automatic   Rear      4  left   \n",
              "\n",
              "        color  airbags  turbo  \n",
              "17777  Silver        4      0  \n",
              "2357   Silver        4      0  \n",
              "5367    Black       12      0  \n",
              "4722    Black       12      0  "
            ]
          },
          "metadata": {
            "tags": []
          },
          "execution_count": 24
        }
      ]
    },
    {
      "cell_type": "markdown",
      "metadata": {
        "id": "J9g490bE-ul5"
      },
      "source": [
        "20L engine for a Hyundai Sonata sedan of 2014 seems to absurdly high. It has 4 cylinders, so each cyliner will have to be of 500cc capacity, which is insane! Let us take a look at other cars of the same model and production year."
      ]
    },
    {
      "cell_type": "code",
      "metadata": {
        "id": "dne4t3f9-ul8",
        "colab": {
          "base_uri": "https://localhost:8080/",
          "height": 1000
        },
        "outputId": "cf477167-f1d3-4349-ac99-7c455fb7fd9c"
      },
      "source": [
        "df.loc[(df['manufacturer'] == 'HYUNDAI')\n",
        "      & (df['model'] == 'Sonata')\n",
        "      & (df['prod'] == 2014)\n",
        "      & (df['leather'] == 1)\n",
        "      & (df['cylinders'] == 4)\n",
        "      & (df['turbo'] == 0)\n",
        "      & (df['gear'] == 'Automatic')\n",
        "      & (df['fuel'] == 'LPG')\n",
        "      & (df['color'] == 'Silver')].sort_values('engine', ascending=False)"
      ],
      "execution_count": null,
      "outputs": [
        {
          "output_type": "execute_result",
          "data": {
            "text/html": [
              "<div>\n",
              "<style scoped>\n",
              "    .dataframe tbody tr th:only-of-type {\n",
              "        vertical-align: middle;\n",
              "    }\n",
              "\n",
              "    .dataframe tbody tr th {\n",
              "        vertical-align: top;\n",
              "    }\n",
              "\n",
              "    .dataframe thead th {\n",
              "        text-align: right;\n",
              "    }\n",
              "</style>\n",
              "<table border=\"1\" class=\"dataframe\">\n",
              "  <thead>\n",
              "    <tr style=\"text-align: right;\">\n",
              "      <th></th>\n",
              "      <th>price</th>\n",
              "      <th>levy</th>\n",
              "      <th>manufacturer</th>\n",
              "      <th>model</th>\n",
              "      <th>prod</th>\n",
              "      <th>category</th>\n",
              "      <th>leather</th>\n",
              "      <th>fuel</th>\n",
              "      <th>engine</th>\n",
              "      <th>mileage</th>\n",
              "      <th>cylinders</th>\n",
              "      <th>gear</th>\n",
              "      <th>drive</th>\n",
              "      <th>doors</th>\n",
              "      <th>wheel</th>\n",
              "      <th>color</th>\n",
              "      <th>airbags</th>\n",
              "      <th>turbo</th>\n",
              "    </tr>\n",
              "  </thead>\n",
              "  <tbody>\n",
              "    <tr>\n",
              "      <th>17777</th>\n",
              "      <td>9.213934</td>\n",
              "      <td>5604.0</td>\n",
              "      <td>HYUNDAI</td>\n",
              "      <td>Sonata</td>\n",
              "      <td>2014</td>\n",
              "      <td>Sedan</td>\n",
              "      <td>1</td>\n",
              "      <td>LPG</td>\n",
              "      <td>20.0</td>\n",
              "      <td>333686</td>\n",
              "      <td>4.0</td>\n",
              "      <td>Automatic</td>\n",
              "      <td>Front</td>\n",
              "      <td>4</td>\n",
              "      <td>left</td>\n",
              "      <td>Silver</td>\n",
              "      <td>4</td>\n",
              "      <td>0</td>\n",
              "    </tr>\n",
              "    <tr>\n",
              "      <th>2357</th>\n",
              "      <td>9.213934</td>\n",
              "      <td>5604.0</td>\n",
              "      <td>HYUNDAI</td>\n",
              "      <td>Sonata</td>\n",
              "      <td>2014</td>\n",
              "      <td>Sedan</td>\n",
              "      <td>1</td>\n",
              "      <td>LPG</td>\n",
              "      <td>20.0</td>\n",
              "      <td>333686</td>\n",
              "      <td>4.0</td>\n",
              "      <td>Automatic</td>\n",
              "      <td>Front</td>\n",
              "      <td>4</td>\n",
              "      <td>left</td>\n",
              "      <td>Silver</td>\n",
              "      <td>4</td>\n",
              "      <td>0</td>\n",
              "    </tr>\n",
              "    <tr>\n",
              "      <th>12207</th>\n",
              "      <td>9.359105</td>\n",
              "      <td>639.0</td>\n",
              "      <td>HYUNDAI</td>\n",
              "      <td>Sonata</td>\n",
              "      <td>2014</td>\n",
              "      <td>Sedan</td>\n",
              "      <td>1</td>\n",
              "      <td>LPG</td>\n",
              "      <td>2.0</td>\n",
              "      <td>336971</td>\n",
              "      <td>4.0</td>\n",
              "      <td>Automatic</td>\n",
              "      <td>Front</td>\n",
              "      <td>4</td>\n",
              "      <td>left</td>\n",
              "      <td>Silver</td>\n",
              "      <td>4</td>\n",
              "      <td>0</td>\n",
              "    </tr>\n",
              "    <tr>\n",
              "      <th>13732</th>\n",
              "      <td>9.213934</td>\n",
              "      <td>639.0</td>\n",
              "      <td>HYUNDAI</td>\n",
              "      <td>Sonata</td>\n",
              "      <td>2014</td>\n",
              "      <td>Sedan</td>\n",
              "      <td>1</td>\n",
              "      <td>LPG</td>\n",
              "      <td>2.0</td>\n",
              "      <td>335782</td>\n",
              "      <td>4.0</td>\n",
              "      <td>Automatic</td>\n",
              "      <td>Front</td>\n",
              "      <td>4</td>\n",
              "      <td>left</td>\n",
              "      <td>Silver</td>\n",
              "      <td>4</td>\n",
              "      <td>0</td>\n",
              "    </tr>\n",
              "    <tr>\n",
              "      <th>13396</th>\n",
              "      <td>9.359105</td>\n",
              "      <td>639.0</td>\n",
              "      <td>HYUNDAI</td>\n",
              "      <td>Sonata</td>\n",
              "      <td>2014</td>\n",
              "      <td>Sedan</td>\n",
              "      <td>1</td>\n",
              "      <td>LPG</td>\n",
              "      <td>2.0</td>\n",
              "      <td>386544</td>\n",
              "      <td>4.0</td>\n",
              "      <td>Automatic</td>\n",
              "      <td>Front</td>\n",
              "      <td>4</td>\n",
              "      <td>left</td>\n",
              "      <td>Silver</td>\n",
              "      <td>4</td>\n",
              "      <td>0</td>\n",
              "    </tr>\n",
              "    <tr>\n",
              "      <th>13352</th>\n",
              "      <td>9.213934</td>\n",
              "      <td>639.0</td>\n",
              "      <td>HYUNDAI</td>\n",
              "      <td>Sonata</td>\n",
              "      <td>2014</td>\n",
              "      <td>Sedan</td>\n",
              "      <td>1</td>\n",
              "      <td>LPG</td>\n",
              "      <td>2.0</td>\n",
              "      <td>377942</td>\n",
              "      <td>4.0</td>\n",
              "      <td>Automatic</td>\n",
              "      <td>Front</td>\n",
              "      <td>4</td>\n",
              "      <td>left</td>\n",
              "      <td>Silver</td>\n",
              "      <td>4</td>\n",
              "      <td>0</td>\n",
              "    </tr>\n",
              "    <tr>\n",
              "      <th>13024</th>\n",
              "      <td>9.359105</td>\n",
              "      <td>639.0</td>\n",
              "      <td>HYUNDAI</td>\n",
              "      <td>Sonata</td>\n",
              "      <td>2014</td>\n",
              "      <td>Sedan</td>\n",
              "      <td>1</td>\n",
              "      <td>LPG</td>\n",
              "      <td>2.0</td>\n",
              "      <td>496592</td>\n",
              "      <td>4.0</td>\n",
              "      <td>Automatic</td>\n",
              "      <td>Front</td>\n",
              "      <td>4</td>\n",
              "      <td>left</td>\n",
              "      <td>Silver</td>\n",
              "      <td>4</td>\n",
              "      <td>0</td>\n",
              "    </tr>\n",
              "    <tr>\n",
              "      <th>12799</th>\n",
              "      <td>9.213934</td>\n",
              "      <td>639.0</td>\n",
              "      <td>HYUNDAI</td>\n",
              "      <td>Sonata</td>\n",
              "      <td>2014</td>\n",
              "      <td>Sedan</td>\n",
              "      <td>1</td>\n",
              "      <td>LPG</td>\n",
              "      <td>2.0</td>\n",
              "      <td>421703</td>\n",
              "      <td>4.0</td>\n",
              "      <td>Automatic</td>\n",
              "      <td>Front</td>\n",
              "      <td>4</td>\n",
              "      <td>left</td>\n",
              "      <td>Silver</td>\n",
              "      <td>4</td>\n",
              "      <td>0</td>\n",
              "    </tr>\n",
              "    <tr>\n",
              "      <th>12615</th>\n",
              "      <td>9.213934</td>\n",
              "      <td>639.0</td>\n",
              "      <td>HYUNDAI</td>\n",
              "      <td>Sonata</td>\n",
              "      <td>2014</td>\n",
              "      <td>Sedan</td>\n",
              "      <td>1</td>\n",
              "      <td>LPG</td>\n",
              "      <td>2.0</td>\n",
              "      <td>402468</td>\n",
              "      <td>4.0</td>\n",
              "      <td>Automatic</td>\n",
              "      <td>Front</td>\n",
              "      <td>4</td>\n",
              "      <td>left</td>\n",
              "      <td>Silver</td>\n",
              "      <td>4</td>\n",
              "      <td>0</td>\n",
              "    </tr>\n",
              "    <tr>\n",
              "      <th>12603</th>\n",
              "      <td>9.359105</td>\n",
              "      <td>639.0</td>\n",
              "      <td>HYUNDAI</td>\n",
              "      <td>Sonata</td>\n",
              "      <td>2014</td>\n",
              "      <td>Sedan</td>\n",
              "      <td>1</td>\n",
              "      <td>LPG</td>\n",
              "      <td>2.0</td>\n",
              "      <td>352590</td>\n",
              "      <td>4.0</td>\n",
              "      <td>Automatic</td>\n",
              "      <td>Front</td>\n",
              "      <td>4</td>\n",
              "      <td>left</td>\n",
              "      <td>Silver</td>\n",
              "      <td>4</td>\n",
              "      <td>0</td>\n",
              "    </tr>\n",
              "    <tr>\n",
              "      <th>126</th>\n",
              "      <td>9.359105</td>\n",
              "      <td>639.0</td>\n",
              "      <td>HYUNDAI</td>\n",
              "      <td>Sonata</td>\n",
              "      <td>2014</td>\n",
              "      <td>Sedan</td>\n",
              "      <td>1</td>\n",
              "      <td>LPG</td>\n",
              "      <td>2.0</td>\n",
              "      <td>346470</td>\n",
              "      <td>4.0</td>\n",
              "      <td>Automatic</td>\n",
              "      <td>Front</td>\n",
              "      <td>4</td>\n",
              "      <td>left</td>\n",
              "      <td>Silver</td>\n",
              "      <td>4</td>\n",
              "      <td>0</td>\n",
              "    </tr>\n",
              "    <tr>\n",
              "      <th>14030</th>\n",
              "      <td>9.213934</td>\n",
              "      <td>639.0</td>\n",
              "      <td>HYUNDAI</td>\n",
              "      <td>Sonata</td>\n",
              "      <td>2014</td>\n",
              "      <td>Sedan</td>\n",
              "      <td>1</td>\n",
              "      <td>LPG</td>\n",
              "      <td>2.0</td>\n",
              "      <td>353049</td>\n",
              "      <td>4.0</td>\n",
              "      <td>Automatic</td>\n",
              "      <td>Front</td>\n",
              "      <td>4</td>\n",
              "      <td>left</td>\n",
              "      <td>Silver</td>\n",
              "      <td>4</td>\n",
              "      <td>0</td>\n",
              "    </tr>\n",
              "    <tr>\n",
              "      <th>11709</th>\n",
              "      <td>9.359105</td>\n",
              "      <td>639.0</td>\n",
              "      <td>HYUNDAI</td>\n",
              "      <td>Sonata</td>\n",
              "      <td>2014</td>\n",
              "      <td>Sedan</td>\n",
              "      <td>1</td>\n",
              "      <td>LPG</td>\n",
              "      <td>2.0</td>\n",
              "      <td>401021</td>\n",
              "      <td>4.0</td>\n",
              "      <td>Automatic</td>\n",
              "      <td>Front</td>\n",
              "      <td>4</td>\n",
              "      <td>left</td>\n",
              "      <td>Silver</td>\n",
              "      <td>4</td>\n",
              "      <td>0</td>\n",
              "    </tr>\n",
              "    <tr>\n",
              "      <th>11513</th>\n",
              "      <td>9.359105</td>\n",
              "      <td>639.0</td>\n",
              "      <td>HYUNDAI</td>\n",
              "      <td>Sonata</td>\n",
              "      <td>2014</td>\n",
              "      <td>Sedan</td>\n",
              "      <td>1</td>\n",
              "      <td>LPG</td>\n",
              "      <td>2.0</td>\n",
              "      <td>432435</td>\n",
              "      <td>4.0</td>\n",
              "      <td>Automatic</td>\n",
              "      <td>Front</td>\n",
              "      <td>4</td>\n",
              "      <td>left</td>\n",
              "      <td>Silver</td>\n",
              "      <td>4</td>\n",
              "      <td>0</td>\n",
              "    </tr>\n",
              "    <tr>\n",
              "      <th>10776</th>\n",
              "      <td>9.213934</td>\n",
              "      <td>639.0</td>\n",
              "      <td>HYUNDAI</td>\n",
              "      <td>Sonata</td>\n",
              "      <td>2014</td>\n",
              "      <td>Sedan</td>\n",
              "      <td>1</td>\n",
              "      <td>LPG</td>\n",
              "      <td>2.0</td>\n",
              "      <td>486631</td>\n",
              "      <td>4.0</td>\n",
              "      <td>Automatic</td>\n",
              "      <td>Front</td>\n",
              "      <td>4</td>\n",
              "      <td>left</td>\n",
              "      <td>Silver</td>\n",
              "      <td>4</td>\n",
              "      <td>0</td>\n",
              "    </tr>\n",
              "    <tr>\n",
              "      <th>10752</th>\n",
              "      <td>9.213934</td>\n",
              "      <td>639.0</td>\n",
              "      <td>HYUNDAI</td>\n",
              "      <td>Sonata</td>\n",
              "      <td>2014</td>\n",
              "      <td>Sedan</td>\n",
              "      <td>1</td>\n",
              "      <td>LPG</td>\n",
              "      <td>2.0</td>\n",
              "      <td>362454</td>\n",
              "      <td>4.0</td>\n",
              "      <td>Automatic</td>\n",
              "      <td>Front</td>\n",
              "      <td>4</td>\n",
              "      <td>left</td>\n",
              "      <td>Silver</td>\n",
              "      <td>4</td>\n",
              "      <td>0</td>\n",
              "    </tr>\n",
              "    <tr>\n",
              "      <th>10716</th>\n",
              "      <td>9.359105</td>\n",
              "      <td>639.0</td>\n",
              "      <td>HYUNDAI</td>\n",
              "      <td>Sonata</td>\n",
              "      <td>2014</td>\n",
              "      <td>Sedan</td>\n",
              "      <td>1</td>\n",
              "      <td>LPG</td>\n",
              "      <td>2.0</td>\n",
              "      <td>312690</td>\n",
              "      <td>4.0</td>\n",
              "      <td>Automatic</td>\n",
              "      <td>Front</td>\n",
              "      <td>4</td>\n",
              "      <td>left</td>\n",
              "      <td>Silver</td>\n",
              "      <td>4</td>\n",
              "      <td>0</td>\n",
              "    </tr>\n",
              "    <tr>\n",
              "      <th>10188</th>\n",
              "      <td>9.213934</td>\n",
              "      <td>639.0</td>\n",
              "      <td>HYUNDAI</td>\n",
              "      <td>Sonata</td>\n",
              "      <td>2014</td>\n",
              "      <td>Sedan</td>\n",
              "      <td>1</td>\n",
              "      <td>LPG</td>\n",
              "      <td>2.0</td>\n",
              "      <td>493905</td>\n",
              "      <td>4.0</td>\n",
              "      <td>Automatic</td>\n",
              "      <td>Front</td>\n",
              "      <td>4</td>\n",
              "      <td>left</td>\n",
              "      <td>Silver</td>\n",
              "      <td>4</td>\n",
              "      <td>0</td>\n",
              "    </tr>\n",
              "    <tr>\n",
              "      <th>9355</th>\n",
              "      <td>9.359105</td>\n",
              "      <td>639.0</td>\n",
              "      <td>HYUNDAI</td>\n",
              "      <td>Sonata</td>\n",
              "      <td>2014</td>\n",
              "      <td>Sedan</td>\n",
              "      <td>1</td>\n",
              "      <td>LPG</td>\n",
              "      <td>2.0</td>\n",
              "      <td>275877</td>\n",
              "      <td>4.0</td>\n",
              "      <td>Automatic</td>\n",
              "      <td>Front</td>\n",
              "      <td>4</td>\n",
              "      <td>left</td>\n",
              "      <td>Silver</td>\n",
              "      <td>4</td>\n",
              "      <td>0</td>\n",
              "    </tr>\n",
              "    <tr>\n",
              "      <th>9087</th>\n",
              "      <td>9.204121</td>\n",
              "      <td>639.0</td>\n",
              "      <td>HYUNDAI</td>\n",
              "      <td>Sonata</td>\n",
              "      <td>2014</td>\n",
              "      <td>Sedan</td>\n",
              "      <td>1</td>\n",
              "      <td>LPG</td>\n",
              "      <td>2.0</td>\n",
              "      <td>493905</td>\n",
              "      <td>4.0</td>\n",
              "      <td>Automatic</td>\n",
              "      <td>Front</td>\n",
              "      <td>4</td>\n",
              "      <td>left</td>\n",
              "      <td>Silver</td>\n",
              "      <td>4</td>\n",
              "      <td>0</td>\n",
              "    </tr>\n",
              "    <tr>\n",
              "      <th>13919</th>\n",
              "      <td>9.213934</td>\n",
              "      <td>639.0</td>\n",
              "      <td>HYUNDAI</td>\n",
              "      <td>Sonata</td>\n",
              "      <td>2014</td>\n",
              "      <td>Sedan</td>\n",
              "      <td>1</td>\n",
              "      <td>LPG</td>\n",
              "      <td>2.0</td>\n",
              "      <td>735970</td>\n",
              "      <td>4.0</td>\n",
              "      <td>Automatic</td>\n",
              "      <td>Front</td>\n",
              "      <td>4</td>\n",
              "      <td>left</td>\n",
              "      <td>Silver</td>\n",
              "      <td>4</td>\n",
              "      <td>0</td>\n",
              "    </tr>\n",
              "    <tr>\n",
              "      <th>14387</th>\n",
              "      <td>9.359105</td>\n",
              "      <td>639.0</td>\n",
              "      <td>HYUNDAI</td>\n",
              "      <td>Sonata</td>\n",
              "      <td>2014</td>\n",
              "      <td>Sedan</td>\n",
              "      <td>1</td>\n",
              "      <td>LPG</td>\n",
              "      <td>2.0</td>\n",
              "      <td>401021</td>\n",
              "      <td>4.0</td>\n",
              "      <td>Automatic</td>\n",
              "      <td>Front</td>\n",
              "      <td>4</td>\n",
              "      <td>left</td>\n",
              "      <td>Silver</td>\n",
              "      <td>4</td>\n",
              "      <td>0</td>\n",
              "    </tr>\n",
              "    <tr>\n",
              "      <th>8384</th>\n",
              "      <td>9.385721</td>\n",
              "      <td>639.0</td>\n",
              "      <td>HYUNDAI</td>\n",
              "      <td>Sonata</td>\n",
              "      <td>2014</td>\n",
              "      <td>Sedan</td>\n",
              "      <td>1</td>\n",
              "      <td>LPG</td>\n",
              "      <td>2.0</td>\n",
              "      <td>354648</td>\n",
              "      <td>4.0</td>\n",
              "      <td>Automatic</td>\n",
              "      <td>Front</td>\n",
              "      <td>4</td>\n",
              "      <td>left</td>\n",
              "      <td>Silver</td>\n",
              "      <td>4</td>\n",
              "      <td>0</td>\n",
              "    </tr>\n",
              "    <tr>\n",
              "      <th>14439</th>\n",
              "      <td>9.359105</td>\n",
              "      <td>639.0</td>\n",
              "      <td>HYUNDAI</td>\n",
              "      <td>Sonata</td>\n",
              "      <td>2014</td>\n",
              "      <td>Sedan</td>\n",
              "      <td>1</td>\n",
              "      <td>LPG</td>\n",
              "      <td>2.0</td>\n",
              "      <td>346470</td>\n",
              "      <td>4.0</td>\n",
              "      <td>Automatic</td>\n",
              "      <td>Front</td>\n",
              "      <td>4</td>\n",
              "      <td>left</td>\n",
              "      <td>Silver</td>\n",
              "      <td>4</td>\n",
              "      <td>0</td>\n",
              "    </tr>\n",
              "    <tr>\n",
              "      <th>19057</th>\n",
              "      <td>9.229358</td>\n",
              "      <td>639.0</td>\n",
              "      <td>HYUNDAI</td>\n",
              "      <td>Sonata</td>\n",
              "      <td>2014</td>\n",
              "      <td>Sedan</td>\n",
              "      <td>1</td>\n",
              "      <td>LPG</td>\n",
              "      <td>2.0</td>\n",
              "      <td>63600</td>\n",
              "      <td>4.0</td>\n",
              "      <td>Automatic</td>\n",
              "      <td>Front</td>\n",
              "      <td>4</td>\n",
              "      <td>left</td>\n",
              "      <td>Silver</td>\n",
              "      <td>4</td>\n",
              "      <td>0</td>\n",
              "    </tr>\n",
              "    <tr>\n",
              "      <th>18895</th>\n",
              "      <td>9.213934</td>\n",
              "      <td>639.0</td>\n",
              "      <td>HYUNDAI</td>\n",
              "      <td>Sonata</td>\n",
              "      <td>2014</td>\n",
              "      <td>Sedan</td>\n",
              "      <td>1</td>\n",
              "      <td>LPG</td>\n",
              "      <td>2.0</td>\n",
              "      <td>325829</td>\n",
              "      <td>4.0</td>\n",
              "      <td>Automatic</td>\n",
              "      <td>Front</td>\n",
              "      <td>4</td>\n",
              "      <td>left</td>\n",
              "      <td>Silver</td>\n",
              "      <td>4</td>\n",
              "      <td>0</td>\n",
              "    </tr>\n",
              "    <tr>\n",
              "      <th>18616</th>\n",
              "      <td>9.213934</td>\n",
              "      <td>639.0</td>\n",
              "      <td>HYUNDAI</td>\n",
              "      <td>Sonata</td>\n",
              "      <td>2014</td>\n",
              "      <td>Sedan</td>\n",
              "      <td>1</td>\n",
              "      <td>LPG</td>\n",
              "      <td>2.0</td>\n",
              "      <td>417661</td>\n",
              "      <td>4.0</td>\n",
              "      <td>Automatic</td>\n",
              "      <td>Front</td>\n",
              "      <td>4</td>\n",
              "      <td>left</td>\n",
              "      <td>Silver</td>\n",
              "      <td>4</td>\n",
              "      <td>0</td>\n",
              "    </tr>\n",
              "    <tr>\n",
              "      <th>18445</th>\n",
              "      <td>9.359105</td>\n",
              "      <td>639.0</td>\n",
              "      <td>HYUNDAI</td>\n",
              "      <td>Sonata</td>\n",
              "      <td>2014</td>\n",
              "      <td>Sedan</td>\n",
              "      <td>1</td>\n",
              "      <td>LPG</td>\n",
              "      <td>2.0</td>\n",
              "      <td>496592</td>\n",
              "      <td>4.0</td>\n",
              "      <td>Automatic</td>\n",
              "      <td>Front</td>\n",
              "      <td>4</td>\n",
              "      <td>left</td>\n",
              "      <td>Silver</td>\n",
              "      <td>4</td>\n",
              "      <td>0</td>\n",
              "    </tr>\n",
              "    <tr>\n",
              "      <th>18249</th>\n",
              "      <td>9.359105</td>\n",
              "      <td>639.0</td>\n",
              "      <td>HYUNDAI</td>\n",
              "      <td>Sonata</td>\n",
              "      <td>2014</td>\n",
              "      <td>Sedan</td>\n",
              "      <td>1</td>\n",
              "      <td>LPG</td>\n",
              "      <td>2.0</td>\n",
              "      <td>384418</td>\n",
              "      <td>4.0</td>\n",
              "      <td>Automatic</td>\n",
              "      <td>Front</td>\n",
              "      <td>4</td>\n",
              "      <td>left</td>\n",
              "      <td>Silver</td>\n",
              "      <td>4</td>\n",
              "      <td>0</td>\n",
              "    </tr>\n",
              "    <tr>\n",
              "      <th>18171</th>\n",
              "      <td>9.213934</td>\n",
              "      <td>639.0</td>\n",
              "      <td>HYUNDAI</td>\n",
              "      <td>Sonata</td>\n",
              "      <td>2014</td>\n",
              "      <td>Sedan</td>\n",
              "      <td>1</td>\n",
              "      <td>LPG</td>\n",
              "      <td>2.0</td>\n",
              "      <td>746740</td>\n",
              "      <td>4.0</td>\n",
              "      <td>Automatic</td>\n",
              "      <td>Front</td>\n",
              "      <td>4</td>\n",
              "      <td>left</td>\n",
              "      <td>Silver</td>\n",
              "      <td>4</td>\n",
              "      <td>0</td>\n",
              "    </tr>\n",
              "    <tr>\n",
              "      <th>18030</th>\n",
              "      <td>9.213934</td>\n",
              "      <td>639.0</td>\n",
              "      <td>HYUNDAI</td>\n",
              "      <td>Sonata</td>\n",
              "      <td>2014</td>\n",
              "      <td>Sedan</td>\n",
              "      <td>1</td>\n",
              "      <td>LPG</td>\n",
              "      <td>2.0</td>\n",
              "      <td>389854</td>\n",
              "      <td>4.0</td>\n",
              "      <td>Automatic</td>\n",
              "      <td>Front</td>\n",
              "      <td>4</td>\n",
              "      <td>left</td>\n",
              "      <td>Silver</td>\n",
              "      <td>4</td>\n",
              "      <td>0</td>\n",
              "    </tr>\n",
              "    <tr>\n",
              "      <th>17945</th>\n",
              "      <td>9.331673</td>\n",
              "      <td>639.0</td>\n",
              "      <td>HYUNDAI</td>\n",
              "      <td>Sonata</td>\n",
              "      <td>2014</td>\n",
              "      <td>Sedan</td>\n",
              "      <td>1</td>\n",
              "      <td>LPG</td>\n",
              "      <td>2.0</td>\n",
              "      <td>520393</td>\n",
              "      <td>4.0</td>\n",
              "      <td>Automatic</td>\n",
              "      <td>Front</td>\n",
              "      <td>4</td>\n",
              "      <td>left</td>\n",
              "      <td>Silver</td>\n",
              "      <td>4</td>\n",
              "      <td>0</td>\n",
              "    </tr>\n",
              "    <tr>\n",
              "      <th>17628</th>\n",
              "      <td>9.359105</td>\n",
              "      <td>639.0</td>\n",
              "      <td>HYUNDAI</td>\n",
              "      <td>Sonata</td>\n",
              "      <td>2014</td>\n",
              "      <td>Sedan</td>\n",
              "      <td>1</td>\n",
              "      <td>LPG</td>\n",
              "      <td>2.0</td>\n",
              "      <td>432435</td>\n",
              "      <td>4.0</td>\n",
              "      <td>Automatic</td>\n",
              "      <td>Front</td>\n",
              "      <td>4</td>\n",
              "      <td>left</td>\n",
              "      <td>Silver</td>\n",
              "      <td>4</td>\n",
              "      <td>0</td>\n",
              "    </tr>\n",
              "    <tr>\n",
              "      <th>16711</th>\n",
              "      <td>9.213934</td>\n",
              "      <td>639.0</td>\n",
              "      <td>HYUNDAI</td>\n",
              "      <td>Sonata</td>\n",
              "      <td>2014</td>\n",
              "      <td>Sedan</td>\n",
              "      <td>1</td>\n",
              "      <td>LPG</td>\n",
              "      <td>2.0</td>\n",
              "      <td>319850</td>\n",
              "      <td>4.0</td>\n",
              "      <td>Automatic</td>\n",
              "      <td>Front</td>\n",
              "      <td>4</td>\n",
              "      <td>left</td>\n",
              "      <td>Silver</td>\n",
              "      <td>4</td>\n",
              "      <td>0</td>\n",
              "    </tr>\n",
              "    <tr>\n",
              "      <th>16532</th>\n",
              "      <td>9.213934</td>\n",
              "      <td>639.0</td>\n",
              "      <td>HYUNDAI</td>\n",
              "      <td>Sonata</td>\n",
              "      <td>2014</td>\n",
              "      <td>Sedan</td>\n",
              "      <td>1</td>\n",
              "      <td>LPG</td>\n",
              "      <td>2.0</td>\n",
              "      <td>404507</td>\n",
              "      <td>4.0</td>\n",
              "      <td>Automatic</td>\n",
              "      <td>Front</td>\n",
              "      <td>4</td>\n",
              "      <td>left</td>\n",
              "      <td>Silver</td>\n",
              "      <td>4</td>\n",
              "      <td>0</td>\n",
              "    </tr>\n",
              "    <tr>\n",
              "      <th>15383</th>\n",
              "      <td>9.213934</td>\n",
              "      <td>639.0</td>\n",
              "      <td>HYUNDAI</td>\n",
              "      <td>Sonata</td>\n",
              "      <td>2014</td>\n",
              "      <td>Sedan</td>\n",
              "      <td>1</td>\n",
              "      <td>LPG</td>\n",
              "      <td>2.0</td>\n",
              "      <td>720227</td>\n",
              "      <td>4.0</td>\n",
              "      <td>Automatic</td>\n",
              "      <td>Front</td>\n",
              "      <td>4</td>\n",
              "      <td>left</td>\n",
              "      <td>Silver</td>\n",
              "      <td>4</td>\n",
              "      <td>0</td>\n",
              "    </tr>\n",
              "    <tr>\n",
              "      <th>15265</th>\n",
              "      <td>9.359105</td>\n",
              "      <td>639.0</td>\n",
              "      <td>HYUNDAI</td>\n",
              "      <td>Sonata</td>\n",
              "      <td>2014</td>\n",
              "      <td>Sedan</td>\n",
              "      <td>1</td>\n",
              "      <td>LPG</td>\n",
              "      <td>2.0</td>\n",
              "      <td>291437</td>\n",
              "      <td>4.0</td>\n",
              "      <td>Automatic</td>\n",
              "      <td>Front</td>\n",
              "      <td>4</td>\n",
              "      <td>left</td>\n",
              "      <td>Silver</td>\n",
              "      <td>4</td>\n",
              "      <td>0</td>\n",
              "    </tr>\n",
              "    <tr>\n",
              "      <th>14779</th>\n",
              "      <td>9.359105</td>\n",
              "      <td>639.0</td>\n",
              "      <td>HYUNDAI</td>\n",
              "      <td>Sonata</td>\n",
              "      <td>2014</td>\n",
              "      <td>Sedan</td>\n",
              "      <td>1</td>\n",
              "      <td>LPG</td>\n",
              "      <td>2.0</td>\n",
              "      <td>330659</td>\n",
              "      <td>4.0</td>\n",
              "      <td>Automatic</td>\n",
              "      <td>Front</td>\n",
              "      <td>4</td>\n",
              "      <td>left</td>\n",
              "      <td>Silver</td>\n",
              "      <td>4</td>\n",
              "      <td>0</td>\n",
              "    </tr>\n",
              "    <tr>\n",
              "      <th>14583</th>\n",
              "      <td>9.244645</td>\n",
              "      <td>639.0</td>\n",
              "      <td>HYUNDAI</td>\n",
              "      <td>Sonata</td>\n",
              "      <td>2014</td>\n",
              "      <td>Sedan</td>\n",
              "      <td>1</td>\n",
              "      <td>LPG</td>\n",
              "      <td>2.0</td>\n",
              "      <td>509460</td>\n",
              "      <td>4.0</td>\n",
              "      <td>Automatic</td>\n",
              "      <td>Front</td>\n",
              "      <td>4</td>\n",
              "      <td>left</td>\n",
              "      <td>Silver</td>\n",
              "      <td>4</td>\n",
              "      <td>0</td>\n",
              "    </tr>\n",
              "    <tr>\n",
              "      <th>8698</th>\n",
              "      <td>9.359105</td>\n",
              "      <td>639.0</td>\n",
              "      <td>HYUNDAI</td>\n",
              "      <td>Sonata</td>\n",
              "      <td>2014</td>\n",
              "      <td>Sedan</td>\n",
              "      <td>1</td>\n",
              "      <td>LPG</td>\n",
              "      <td>2.0</td>\n",
              "      <td>336971</td>\n",
              "      <td>4.0</td>\n",
              "      <td>Automatic</td>\n",
              "      <td>Front</td>\n",
              "      <td>4</td>\n",
              "      <td>left</td>\n",
              "      <td>Silver</td>\n",
              "      <td>4</td>\n",
              "      <td>0</td>\n",
              "    </tr>\n",
              "    <tr>\n",
              "      <th>8195</th>\n",
              "      <td>9.213934</td>\n",
              "      <td>639.0</td>\n",
              "      <td>HYUNDAI</td>\n",
              "      <td>Sonata</td>\n",
              "      <td>2014</td>\n",
              "      <td>Sedan</td>\n",
              "      <td>1</td>\n",
              "      <td>LPG</td>\n",
              "      <td>2.0</td>\n",
              "      <td>347600</td>\n",
              "      <td>4.0</td>\n",
              "      <td>Automatic</td>\n",
              "      <td>Front</td>\n",
              "      <td>4</td>\n",
              "      <td>left</td>\n",
              "      <td>Silver</td>\n",
              "      <td>4</td>\n",
              "      <td>0</td>\n",
              "    </tr>\n",
              "    <tr>\n",
              "      <th>141</th>\n",
              "      <td>9.359105</td>\n",
              "      <td>639.0</td>\n",
              "      <td>HYUNDAI</td>\n",
              "      <td>Sonata</td>\n",
              "      <td>2014</td>\n",
              "      <td>Sedan</td>\n",
              "      <td>1</td>\n",
              "      <td>LPG</td>\n",
              "      <td>2.0</td>\n",
              "      <td>264872</td>\n",
              "      <td>4.0</td>\n",
              "      <td>Automatic</td>\n",
              "      <td>Front</td>\n",
              "      <td>4</td>\n",
              "      <td>left</td>\n",
              "      <td>Silver</td>\n",
              "      <td>4</td>\n",
              "      <td>0</td>\n",
              "    </tr>\n",
              "    <tr>\n",
              "      <th>1550</th>\n",
              "      <td>9.332470</td>\n",
              "      <td>639.0</td>\n",
              "      <td>HYUNDAI</td>\n",
              "      <td>Sonata</td>\n",
              "      <td>2014</td>\n",
              "      <td>Sedan</td>\n",
              "      <td>1</td>\n",
              "      <td>LPG</td>\n",
              "      <td>2.0</td>\n",
              "      <td>54546</td>\n",
              "      <td>4.0</td>\n",
              "      <td>Automatic</td>\n",
              "      <td>Front</td>\n",
              "      <td>4</td>\n",
              "      <td>left</td>\n",
              "      <td>Silver</td>\n",
              "      <td>4</td>\n",
              "      <td>0</td>\n",
              "    </tr>\n",
              "    <tr>\n",
              "      <th>3692</th>\n",
              "      <td>9.213934</td>\n",
              "      <td>639.0</td>\n",
              "      <td>HYUNDAI</td>\n",
              "      <td>Sonata</td>\n",
              "      <td>2014</td>\n",
              "      <td>Sedan</td>\n",
              "      <td>1</td>\n",
              "      <td>LPG</td>\n",
              "      <td>2.0</td>\n",
              "      <td>362454</td>\n",
              "      <td>4.0</td>\n",
              "      <td>Automatic</td>\n",
              "      <td>Front</td>\n",
              "      <td>4</td>\n",
              "      <td>left</td>\n",
              "      <td>Silver</td>\n",
              "      <td>4</td>\n",
              "      <td>0</td>\n",
              "    </tr>\n",
              "    <tr>\n",
              "      <th>3193</th>\n",
              "      <td>9.260558</td>\n",
              "      <td>639.0</td>\n",
              "      <td>HYUNDAI</td>\n",
              "      <td>Sonata</td>\n",
              "      <td>2014</td>\n",
              "      <td>Sedan</td>\n",
              "      <td>1</td>\n",
              "      <td>LPG</td>\n",
              "      <td>2.0</td>\n",
              "      <td>55210</td>\n",
              "      <td>4.0</td>\n",
              "      <td>Automatic</td>\n",
              "      <td>Front</td>\n",
              "      <td>4</td>\n",
              "      <td>left</td>\n",
              "      <td>Silver</td>\n",
              "      <td>4</td>\n",
              "      <td>0</td>\n",
              "    </tr>\n",
              "    <tr>\n",
              "      <th>3043</th>\n",
              "      <td>9.204121</td>\n",
              "      <td>639.0</td>\n",
              "      <td>HYUNDAI</td>\n",
              "      <td>Sonata</td>\n",
              "      <td>2014</td>\n",
              "      <td>Sedan</td>\n",
              "      <td>1</td>\n",
              "      <td>LPG</td>\n",
              "      <td>2.0</td>\n",
              "      <td>377942</td>\n",
              "      <td>4.0</td>\n",
              "      <td>Automatic</td>\n",
              "      <td>Front</td>\n",
              "      <td>4</td>\n",
              "      <td>left</td>\n",
              "      <td>Silver</td>\n",
              "      <td>4</td>\n",
              "      <td>0</td>\n",
              "    </tr>\n",
              "    <tr>\n",
              "      <th>2274</th>\n",
              "      <td>9.213934</td>\n",
              "      <td>639.0</td>\n",
              "      <td>HYUNDAI</td>\n",
              "      <td>Sonata</td>\n",
              "      <td>2014</td>\n",
              "      <td>Sedan</td>\n",
              "      <td>1</td>\n",
              "      <td>LPG</td>\n",
              "      <td>2.0</td>\n",
              "      <td>746740</td>\n",
              "      <td>4.0</td>\n",
              "      <td>Automatic</td>\n",
              "      <td>Front</td>\n",
              "      <td>4</td>\n",
              "      <td>left</td>\n",
              "      <td>Silver</td>\n",
              "      <td>4</td>\n",
              "      <td>0</td>\n",
              "    </tr>\n",
              "    <tr>\n",
              "      <th>2005</th>\n",
              "      <td>9.213934</td>\n",
              "      <td>639.0</td>\n",
              "      <td>HYUNDAI</td>\n",
              "      <td>Sonata</td>\n",
              "      <td>2014</td>\n",
              "      <td>Sedan</td>\n",
              "      <td>1</td>\n",
              "      <td>LPG</td>\n",
              "      <td>2.0</td>\n",
              "      <td>319850</td>\n",
              "      <td>4.0</td>\n",
              "      <td>Automatic</td>\n",
              "      <td>Front</td>\n",
              "      <td>4</td>\n",
              "      <td>left</td>\n",
              "      <td>Silver</td>\n",
              "      <td>4</td>\n",
              "      <td>0</td>\n",
              "    </tr>\n",
              "    <tr>\n",
              "      <th>1995</th>\n",
              "      <td>9.359105</td>\n",
              "      <td>639.0</td>\n",
              "      <td>HYUNDAI</td>\n",
              "      <td>Sonata</td>\n",
              "      <td>2014</td>\n",
              "      <td>Sedan</td>\n",
              "      <td>1</td>\n",
              "      <td>LPG</td>\n",
              "      <td>2.0</td>\n",
              "      <td>357150</td>\n",
              "      <td>4.0</td>\n",
              "      <td>Automatic</td>\n",
              "      <td>Front</td>\n",
              "      <td>4</td>\n",
              "      <td>left</td>\n",
              "      <td>Silver</td>\n",
              "      <td>4</td>\n",
              "      <td>0</td>\n",
              "    </tr>\n",
              "    <tr>\n",
              "      <th>1703</th>\n",
              "      <td>9.260558</td>\n",
              "      <td>639.0</td>\n",
              "      <td>HYUNDAI</td>\n",
              "      <td>Sonata</td>\n",
              "      <td>2014</td>\n",
              "      <td>Sedan</td>\n",
              "      <td>1</td>\n",
              "      <td>LPG</td>\n",
              "      <td>2.0</td>\n",
              "      <td>60850</td>\n",
              "      <td>4.0</td>\n",
              "      <td>Automatic</td>\n",
              "      <td>Front</td>\n",
              "      <td>4</td>\n",
              "      <td>left</td>\n",
              "      <td>Silver</td>\n",
              "      <td>4</td>\n",
              "      <td>0</td>\n",
              "    </tr>\n",
              "    <tr>\n",
              "      <th>1473</th>\n",
              "      <td>9.359105</td>\n",
              "      <td>639.0</td>\n",
              "      <td>HYUNDAI</td>\n",
              "      <td>Sonata</td>\n",
              "      <td>2014</td>\n",
              "      <td>Sedan</td>\n",
              "      <td>1</td>\n",
              "      <td>LPG</td>\n",
              "      <td>2.0</td>\n",
              "      <td>312690</td>\n",
              "      <td>4.0</td>\n",
              "      <td>Automatic</td>\n",
              "      <td>Front</td>\n",
              "      <td>4</td>\n",
              "      <td>left</td>\n",
              "      <td>Silver</td>\n",
              "      <td>4</td>\n",
              "      <td>0</td>\n",
              "    </tr>\n",
              "    <tr>\n",
              "      <th>3888</th>\n",
              "      <td>9.359105</td>\n",
              "      <td>639.0</td>\n",
              "      <td>HYUNDAI</td>\n",
              "      <td>Sonata</td>\n",
              "      <td>2014</td>\n",
              "      <td>Sedan</td>\n",
              "      <td>1</td>\n",
              "      <td>LPG</td>\n",
              "      <td>2.0</td>\n",
              "      <td>264872</td>\n",
              "      <td>4.0</td>\n",
              "      <td>Automatic</td>\n",
              "      <td>Front</td>\n",
              "      <td>4</td>\n",
              "      <td>left</td>\n",
              "      <td>Silver</td>\n",
              "      <td>4</td>\n",
              "      <td>0</td>\n",
              "    </tr>\n",
              "    <tr>\n",
              "      <th>1212</th>\n",
              "      <td>9.260558</td>\n",
              "      <td>639.0</td>\n",
              "      <td>HYUNDAI</td>\n",
              "      <td>Sonata</td>\n",
              "      <td>2014</td>\n",
              "      <td>Sedan</td>\n",
              "      <td>1</td>\n",
              "      <td>LPG</td>\n",
              "      <td>2.0</td>\n",
              "      <td>60850</td>\n",
              "      <td>4.0</td>\n",
              "      <td>Automatic</td>\n",
              "      <td>Front</td>\n",
              "      <td>4</td>\n",
              "      <td>left</td>\n",
              "      <td>Silver</td>\n",
              "      <td>4</td>\n",
              "      <td>0</td>\n",
              "    </tr>\n",
              "    <tr>\n",
              "      <th>1093</th>\n",
              "      <td>9.213934</td>\n",
              "      <td>639.0</td>\n",
              "      <td>HYUNDAI</td>\n",
              "      <td>Sonata</td>\n",
              "      <td>2014</td>\n",
              "      <td>Sedan</td>\n",
              "      <td>1</td>\n",
              "      <td>LPG</td>\n",
              "      <td>2.0</td>\n",
              "      <td>374141</td>\n",
              "      <td>4.0</td>\n",
              "      <td>Automatic</td>\n",
              "      <td>Front</td>\n",
              "      <td>4</td>\n",
              "      <td>left</td>\n",
              "      <td>Silver</td>\n",
              "      <td>4</td>\n",
              "      <td>0</td>\n",
              "    </tr>\n",
              "    <tr>\n",
              "      <th>1053</th>\n",
              "      <td>9.213934</td>\n",
              "      <td>639.0</td>\n",
              "      <td>HYUNDAI</td>\n",
              "      <td>Sonata</td>\n",
              "      <td>2014</td>\n",
              "      <td>Sedan</td>\n",
              "      <td>1</td>\n",
              "      <td>LPG</td>\n",
              "      <td>2.0</td>\n",
              "      <td>793967</td>\n",
              "      <td>4.0</td>\n",
              "      <td>Automatic</td>\n",
              "      <td>Front</td>\n",
              "      <td>4</td>\n",
              "      <td>left</td>\n",
              "      <td>Silver</td>\n",
              "      <td>4</td>\n",
              "      <td>0</td>\n",
              "    </tr>\n",
              "    <tr>\n",
              "      <th>1001</th>\n",
              "      <td>9.213934</td>\n",
              "      <td>639.0</td>\n",
              "      <td>HYUNDAI</td>\n",
              "      <td>Sonata</td>\n",
              "      <td>2014</td>\n",
              "      <td>Sedan</td>\n",
              "      <td>1</td>\n",
              "      <td>LPG</td>\n",
              "      <td>2.0</td>\n",
              "      <td>325829</td>\n",
              "      <td>4.0</td>\n",
              "      <td>Automatic</td>\n",
              "      <td>Front</td>\n",
              "      <td>4</td>\n",
              "      <td>left</td>\n",
              "      <td>Silver</td>\n",
              "      <td>4</td>\n",
              "      <td>0</td>\n",
              "    </tr>\n",
              "    <tr>\n",
              "      <th>966</th>\n",
              "      <td>9.213934</td>\n",
              "      <td>639.0</td>\n",
              "      <td>HYUNDAI</td>\n",
              "      <td>Sonata</td>\n",
              "      <td>2014</td>\n",
              "      <td>Sedan</td>\n",
              "      <td>1</td>\n",
              "      <td>LPG</td>\n",
              "      <td>2.0</td>\n",
              "      <td>430076</td>\n",
              "      <td>4.0</td>\n",
              "      <td>Automatic</td>\n",
              "      <td>Front</td>\n",
              "      <td>4</td>\n",
              "      <td>left</td>\n",
              "      <td>Silver</td>\n",
              "      <td>4</td>\n",
              "      <td>0</td>\n",
              "    </tr>\n",
              "    <tr>\n",
              "      <th>625</th>\n",
              "      <td>9.359105</td>\n",
              "      <td>639.0</td>\n",
              "      <td>HYUNDAI</td>\n",
              "      <td>Sonata</td>\n",
              "      <td>2014</td>\n",
              "      <td>Sedan</td>\n",
              "      <td>1</td>\n",
              "      <td>LPG</td>\n",
              "      <td>2.0</td>\n",
              "      <td>418369</td>\n",
              "      <td>4.0</td>\n",
              "      <td>Automatic</td>\n",
              "      <td>Front</td>\n",
              "      <td>4</td>\n",
              "      <td>left</td>\n",
              "      <td>Silver</td>\n",
              "      <td>4</td>\n",
              "      <td>0</td>\n",
              "    </tr>\n",
              "    <tr>\n",
              "      <th>365</th>\n",
              "      <td>9.213934</td>\n",
              "      <td>639.0</td>\n",
              "      <td>HYUNDAI</td>\n",
              "      <td>Sonata</td>\n",
              "      <td>2014</td>\n",
              "      <td>Sedan</td>\n",
              "      <td>1</td>\n",
              "      <td>LPG</td>\n",
              "      <td>2.0</td>\n",
              "      <td>362868</td>\n",
              "      <td>4.0</td>\n",
              "      <td>Automatic</td>\n",
              "      <td>Front</td>\n",
              "      <td>4</td>\n",
              "      <td>left</td>\n",
              "      <td>Silver</td>\n",
              "      <td>4</td>\n",
              "      <td>0</td>\n",
              "    </tr>\n",
              "    <tr>\n",
              "      <th>3788</th>\n",
              "      <td>9.213934</td>\n",
              "      <td>639.0</td>\n",
              "      <td>HYUNDAI</td>\n",
              "      <td>Sonata</td>\n",
              "      <td>2014</td>\n",
              "      <td>Sedan</td>\n",
              "      <td>1</td>\n",
              "      <td>LPG</td>\n",
              "      <td>2.0</td>\n",
              "      <td>347600</td>\n",
              "      <td>4.0</td>\n",
              "      <td>Automatic</td>\n",
              "      <td>Front</td>\n",
              "      <td>4</td>\n",
              "      <td>left</td>\n",
              "      <td>Silver</td>\n",
              "      <td>4</td>\n",
              "      <td>0</td>\n",
              "    </tr>\n",
              "    <tr>\n",
              "      <th>3893</th>\n",
              "      <td>9.213934</td>\n",
              "      <td>639.0</td>\n",
              "      <td>HYUNDAI</td>\n",
              "      <td>Sonata</td>\n",
              "      <td>2014</td>\n",
              "      <td>Sedan</td>\n",
              "      <td>1</td>\n",
              "      <td>LPG</td>\n",
              "      <td>2.0</td>\n",
              "      <td>268046</td>\n",
              "      <td>4.0</td>\n",
              "      <td>Automatic</td>\n",
              "      <td>Front</td>\n",
              "      <td>4</td>\n",
              "      <td>left</td>\n",
              "      <td>Silver</td>\n",
              "      <td>4</td>\n",
              "      <td>0</td>\n",
              "    </tr>\n",
              "    <tr>\n",
              "      <th>8017</th>\n",
              "      <td>9.359105</td>\n",
              "      <td>639.0</td>\n",
              "      <td>HYUNDAI</td>\n",
              "      <td>Sonata</td>\n",
              "      <td>2014</td>\n",
              "      <td>Sedan</td>\n",
              "      <td>1</td>\n",
              "      <td>LPG</td>\n",
              "      <td>2.0</td>\n",
              "      <td>418369</td>\n",
              "      <td>4.0</td>\n",
              "      <td>Automatic</td>\n",
              "      <td>Front</td>\n",
              "      <td>4</td>\n",
              "      <td>left</td>\n",
              "      <td>Silver</td>\n",
              "      <td>4</td>\n",
              "      <td>0</td>\n",
              "    </tr>\n",
              "    <tr>\n",
              "      <th>6181</th>\n",
              "      <td>9.385721</td>\n",
              "      <td>639.0</td>\n",
              "      <td>HYUNDAI</td>\n",
              "      <td>Sonata</td>\n",
              "      <td>2014</td>\n",
              "      <td>Sedan</td>\n",
              "      <td>1</td>\n",
              "      <td>LPG</td>\n",
              "      <td>2.0</td>\n",
              "      <td>354648</td>\n",
              "      <td>4.0</td>\n",
              "      <td>Automatic</td>\n",
              "      <td>Front</td>\n",
              "      <td>4</td>\n",
              "      <td>left</td>\n",
              "      <td>Silver</td>\n",
              "      <td>4</td>\n",
              "      <td>0</td>\n",
              "    </tr>\n",
              "    <tr>\n",
              "      <th>7864</th>\n",
              "      <td>9.213934</td>\n",
              "      <td>639.0</td>\n",
              "      <td>HYUNDAI</td>\n",
              "      <td>Sonata</td>\n",
              "      <td>2014</td>\n",
              "      <td>Sedan</td>\n",
              "      <td>1</td>\n",
              "      <td>LPG</td>\n",
              "      <td>2.0</td>\n",
              "      <td>335782</td>\n",
              "      <td>4.0</td>\n",
              "      <td>Automatic</td>\n",
              "      <td>Front</td>\n",
              "      <td>4</td>\n",
              "      <td>left</td>\n",
              "      <td>Silver</td>\n",
              "      <td>4</td>\n",
              "      <td>0</td>\n",
              "    </tr>\n",
              "    <tr>\n",
              "      <th>7459</th>\n",
              "      <td>9.213934</td>\n",
              "      <td>639.0</td>\n",
              "      <td>HYUNDAI</td>\n",
              "      <td>Sonata</td>\n",
              "      <td>2014</td>\n",
              "      <td>Sedan</td>\n",
              "      <td>1</td>\n",
              "      <td>LPG</td>\n",
              "      <td>2.0</td>\n",
              "      <td>349773</td>\n",
              "      <td>4.0</td>\n",
              "      <td>Automatic</td>\n",
              "      <td>Front</td>\n",
              "      <td>4</td>\n",
              "      <td>left</td>\n",
              "      <td>Silver</td>\n",
              "      <td>4</td>\n",
              "      <td>0</td>\n",
              "    </tr>\n",
              "    <tr>\n",
              "      <th>6983</th>\n",
              "      <td>9.359105</td>\n",
              "      <td>639.0</td>\n",
              "      <td>HYUNDAI</td>\n",
              "      <td>Sonata</td>\n",
              "      <td>2014</td>\n",
              "      <td>Sedan</td>\n",
              "      <td>1</td>\n",
              "      <td>LPG</td>\n",
              "      <td>2.0</td>\n",
              "      <td>352050</td>\n",
              "      <td>4.0</td>\n",
              "      <td>Automatic</td>\n",
              "      <td>Front</td>\n",
              "      <td>4</td>\n",
              "      <td>left</td>\n",
              "      <td>Silver</td>\n",
              "      <td>4</td>\n",
              "      <td>0</td>\n",
              "    </tr>\n",
              "    <tr>\n",
              "      <th>6753</th>\n",
              "      <td>9.359105</td>\n",
              "      <td>639.0</td>\n",
              "      <td>HYUNDAI</td>\n",
              "      <td>Sonata</td>\n",
              "      <td>2014</td>\n",
              "      <td>Sedan</td>\n",
              "      <td>1</td>\n",
              "      <td>LPG</td>\n",
              "      <td>2.0</td>\n",
              "      <td>386544</td>\n",
              "      <td>4.0</td>\n",
              "      <td>Automatic</td>\n",
              "      <td>Front</td>\n",
              "      <td>4</td>\n",
              "      <td>left</td>\n",
              "      <td>Silver</td>\n",
              "      <td>4</td>\n",
              "      <td>0</td>\n",
              "    </tr>\n",
              "    <tr>\n",
              "      <th>6664</th>\n",
              "      <td>9.359105</td>\n",
              "      <td>639.0</td>\n",
              "      <td>HYUNDAI</td>\n",
              "      <td>Sonata</td>\n",
              "      <td>2014</td>\n",
              "      <td>Sedan</td>\n",
              "      <td>1</td>\n",
              "      <td>LPG</td>\n",
              "      <td>2.0</td>\n",
              "      <td>384418</td>\n",
              "      <td>4.0</td>\n",
              "      <td>Automatic</td>\n",
              "      <td>Front</td>\n",
              "      <td>4</td>\n",
              "      <td>left</td>\n",
              "      <td>Silver</td>\n",
              "      <td>4</td>\n",
              "      <td>0</td>\n",
              "    </tr>\n",
              "    <tr>\n",
              "      <th>6314</th>\n",
              "      <td>9.359105</td>\n",
              "      <td>639.0</td>\n",
              "      <td>HYUNDAI</td>\n",
              "      <td>Sonata</td>\n",
              "      <td>2014</td>\n",
              "      <td>Sedan</td>\n",
              "      <td>1</td>\n",
              "      <td>LPG</td>\n",
              "      <td>2.0</td>\n",
              "      <td>402881</td>\n",
              "      <td>4.0</td>\n",
              "      <td>Automatic</td>\n",
              "      <td>Front</td>\n",
              "      <td>4</td>\n",
              "      <td>left</td>\n",
              "      <td>Silver</td>\n",
              "      <td>4</td>\n",
              "      <td>0</td>\n",
              "    </tr>\n",
              "    <tr>\n",
              "      <th>6190</th>\n",
              "      <td>9.359105</td>\n",
              "      <td>639.0</td>\n",
              "      <td>HYUNDAI</td>\n",
              "      <td>Sonata</td>\n",
              "      <td>2014</td>\n",
              "      <td>Sedan</td>\n",
              "      <td>1</td>\n",
              "      <td>LPG</td>\n",
              "      <td>2.0</td>\n",
              "      <td>291437</td>\n",
              "      <td>4.0</td>\n",
              "      <td>Automatic</td>\n",
              "      <td>Front</td>\n",
              "      <td>4</td>\n",
              "      <td>left</td>\n",
              "      <td>Silver</td>\n",
              "      <td>4</td>\n",
              "      <td>0</td>\n",
              "    </tr>\n",
              "    <tr>\n",
              "      <th>6159</th>\n",
              "      <td>9.213934</td>\n",
              "      <td>639.0</td>\n",
              "      <td>HYUNDAI</td>\n",
              "      <td>Sonata</td>\n",
              "      <td>2014</td>\n",
              "      <td>Sedan</td>\n",
              "      <td>1</td>\n",
              "      <td>LPG</td>\n",
              "      <td>2.0</td>\n",
              "      <td>389854</td>\n",
              "      <td>4.0</td>\n",
              "      <td>Automatic</td>\n",
              "      <td>Front</td>\n",
              "      <td>4</td>\n",
              "      <td>left</td>\n",
              "      <td>Silver</td>\n",
              "      <td>4</td>\n",
              "      <td>0</td>\n",
              "    </tr>\n",
              "    <tr>\n",
              "      <th>4170</th>\n",
              "      <td>9.213934</td>\n",
              "      <td>639.0</td>\n",
              "      <td>HYUNDAI</td>\n",
              "      <td>Sonata</td>\n",
              "      <td>2014</td>\n",
              "      <td>Sedan</td>\n",
              "      <td>1</td>\n",
              "      <td>LPG</td>\n",
              "      <td>2.0</td>\n",
              "      <td>417661</td>\n",
              "      <td>4.0</td>\n",
              "      <td>Automatic</td>\n",
              "      <td>Front</td>\n",
              "      <td>4</td>\n",
              "      <td>left</td>\n",
              "      <td>Silver</td>\n",
              "      <td>4</td>\n",
              "      <td>0</td>\n",
              "    </tr>\n",
              "    <tr>\n",
              "      <th>6143</th>\n",
              "      <td>9.213934</td>\n",
              "      <td>639.0</td>\n",
              "      <td>HYUNDAI</td>\n",
              "      <td>Sonata</td>\n",
              "      <td>2014</td>\n",
              "      <td>Sedan</td>\n",
              "      <td>1</td>\n",
              "      <td>LPG</td>\n",
              "      <td>2.0</td>\n",
              "      <td>421703</td>\n",
              "      <td>4.0</td>\n",
              "      <td>Automatic</td>\n",
              "      <td>Front</td>\n",
              "      <td>4</td>\n",
              "      <td>left</td>\n",
              "      <td>Silver</td>\n",
              "      <td>4</td>\n",
              "      <td>0</td>\n",
              "    </tr>\n",
              "    <tr>\n",
              "      <th>5834</th>\n",
              "      <td>9.359105</td>\n",
              "      <td>639.0</td>\n",
              "      <td>HYUNDAI</td>\n",
              "      <td>Sonata</td>\n",
              "      <td>2014</td>\n",
              "      <td>Sedan</td>\n",
              "      <td>1</td>\n",
              "      <td>LPG</td>\n",
              "      <td>2.0</td>\n",
              "      <td>402881</td>\n",
              "      <td>4.0</td>\n",
              "      <td>Automatic</td>\n",
              "      <td>Front</td>\n",
              "      <td>4</td>\n",
              "      <td>left</td>\n",
              "      <td>Silver</td>\n",
              "      <td>4</td>\n",
              "      <td>0</td>\n",
              "    </tr>\n",
              "    <tr>\n",
              "      <th>5522</th>\n",
              "      <td>9.213934</td>\n",
              "      <td>639.0</td>\n",
              "      <td>HYUNDAI</td>\n",
              "      <td>Sonata</td>\n",
              "      <td>2014</td>\n",
              "      <td>Sedan</td>\n",
              "      <td>1</td>\n",
              "      <td>LPG</td>\n",
              "      <td>2.0</td>\n",
              "      <td>353049</td>\n",
              "      <td>4.0</td>\n",
              "      <td>Automatic</td>\n",
              "      <td>Front</td>\n",
              "      <td>4</td>\n",
              "      <td>left</td>\n",
              "      <td>Silver</td>\n",
              "      <td>4</td>\n",
              "      <td>0</td>\n",
              "    </tr>\n",
              "    <tr>\n",
              "      <th>4996</th>\n",
              "      <td>9.461721</td>\n",
              "      <td>639.0</td>\n",
              "      <td>HYUNDAI</td>\n",
              "      <td>Sonata</td>\n",
              "      <td>2014</td>\n",
              "      <td>Sedan</td>\n",
              "      <td>1</td>\n",
              "      <td>LPG</td>\n",
              "      <td>2.0</td>\n",
              "      <td>392894</td>\n",
              "      <td>4.0</td>\n",
              "      <td>Automatic</td>\n",
              "      <td>Front</td>\n",
              "      <td>4</td>\n",
              "      <td>left</td>\n",
              "      <td>Silver</td>\n",
              "      <td>4</td>\n",
              "      <td>0</td>\n",
              "    </tr>\n",
              "    <tr>\n",
              "      <th>4907</th>\n",
              "      <td>9.359105</td>\n",
              "      <td>639.0</td>\n",
              "      <td>HYUNDAI</td>\n",
              "      <td>Sonata</td>\n",
              "      <td>2014</td>\n",
              "      <td>Sedan</td>\n",
              "      <td>1</td>\n",
              "      <td>LPG</td>\n",
              "      <td>2.0</td>\n",
              "      <td>477316</td>\n",
              "      <td>4.0</td>\n",
              "      <td>Automatic</td>\n",
              "      <td>Front</td>\n",
              "      <td>4</td>\n",
              "      <td>left</td>\n",
              "      <td>Silver</td>\n",
              "      <td>4</td>\n",
              "      <td>0</td>\n",
              "    </tr>\n",
              "    <tr>\n",
              "      <th>4623</th>\n",
              "      <td>9.213934</td>\n",
              "      <td>639.0</td>\n",
              "      <td>HYUNDAI</td>\n",
              "      <td>Sonata</td>\n",
              "      <td>2014</td>\n",
              "      <td>Sedan</td>\n",
              "      <td>1</td>\n",
              "      <td>LPG</td>\n",
              "      <td>2.0</td>\n",
              "      <td>255784</td>\n",
              "      <td>4.0</td>\n",
              "      <td>Automatic</td>\n",
              "      <td>Front</td>\n",
              "      <td>4</td>\n",
              "      <td>left</td>\n",
              "      <td>Silver</td>\n",
              "      <td>4</td>\n",
              "      <td>0</td>\n",
              "    </tr>\n",
              "    <tr>\n",
              "      <th>4340</th>\n",
              "      <td>9.213934</td>\n",
              "      <td>639.0</td>\n",
              "      <td>HYUNDAI</td>\n",
              "      <td>Sonata</td>\n",
              "      <td>2014</td>\n",
              "      <td>Sedan</td>\n",
              "      <td>1</td>\n",
              "      <td>LPG</td>\n",
              "      <td>2.0</td>\n",
              "      <td>268046</td>\n",
              "      <td>4.0</td>\n",
              "      <td>Automatic</td>\n",
              "      <td>Front</td>\n",
              "      <td>4</td>\n",
              "      <td>left</td>\n",
              "      <td>Silver</td>\n",
              "      <td>4</td>\n",
              "      <td>0</td>\n",
              "    </tr>\n",
              "    <tr>\n",
              "      <th>19222</th>\n",
              "      <td>9.213934</td>\n",
              "      <td>639.0</td>\n",
              "      <td>HYUNDAI</td>\n",
              "      <td>Sonata</td>\n",
              "      <td>2014</td>\n",
              "      <td>Sedan</td>\n",
              "      <td>1</td>\n",
              "      <td>LPG</td>\n",
              "      <td>2.0</td>\n",
              "      <td>735970</td>\n",
              "      <td>4.0</td>\n",
              "      <td>Automatic</td>\n",
              "      <td>Front</td>\n",
              "      <td>4</td>\n",
              "      <td>left</td>\n",
              "      <td>Silver</td>\n",
              "      <td>4</td>\n",
              "      <td>0</td>\n",
              "    </tr>\n",
              "  </tbody>\n",
              "</table>\n",
              "</div>"
            ],
            "text/plain": [
              "          price    levy manufacturer   model  prod category  leather fuel  \\\n",
              "17777  9.213934  5604.0      HYUNDAI  Sonata  2014    Sedan        1  LPG   \n",
              "2357   9.213934  5604.0      HYUNDAI  Sonata  2014    Sedan        1  LPG   \n",
              "12207  9.359105   639.0      HYUNDAI  Sonata  2014    Sedan        1  LPG   \n",
              "13732  9.213934   639.0      HYUNDAI  Sonata  2014    Sedan        1  LPG   \n",
              "13396  9.359105   639.0      HYUNDAI  Sonata  2014    Sedan        1  LPG   \n",
              "13352  9.213934   639.0      HYUNDAI  Sonata  2014    Sedan        1  LPG   \n",
              "13024  9.359105   639.0      HYUNDAI  Sonata  2014    Sedan        1  LPG   \n",
              "12799  9.213934   639.0      HYUNDAI  Sonata  2014    Sedan        1  LPG   \n",
              "12615  9.213934   639.0      HYUNDAI  Sonata  2014    Sedan        1  LPG   \n",
              "12603  9.359105   639.0      HYUNDAI  Sonata  2014    Sedan        1  LPG   \n",
              "126    9.359105   639.0      HYUNDAI  Sonata  2014    Sedan        1  LPG   \n",
              "14030  9.213934   639.0      HYUNDAI  Sonata  2014    Sedan        1  LPG   \n",
              "11709  9.359105   639.0      HYUNDAI  Sonata  2014    Sedan        1  LPG   \n",
              "11513  9.359105   639.0      HYUNDAI  Sonata  2014    Sedan        1  LPG   \n",
              "10776  9.213934   639.0      HYUNDAI  Sonata  2014    Sedan        1  LPG   \n",
              "10752  9.213934   639.0      HYUNDAI  Sonata  2014    Sedan        1  LPG   \n",
              "10716  9.359105   639.0      HYUNDAI  Sonata  2014    Sedan        1  LPG   \n",
              "10188  9.213934   639.0      HYUNDAI  Sonata  2014    Sedan        1  LPG   \n",
              "9355   9.359105   639.0      HYUNDAI  Sonata  2014    Sedan        1  LPG   \n",
              "9087   9.204121   639.0      HYUNDAI  Sonata  2014    Sedan        1  LPG   \n",
              "13919  9.213934   639.0      HYUNDAI  Sonata  2014    Sedan        1  LPG   \n",
              "14387  9.359105   639.0      HYUNDAI  Sonata  2014    Sedan        1  LPG   \n",
              "8384   9.385721   639.0      HYUNDAI  Sonata  2014    Sedan        1  LPG   \n",
              "14439  9.359105   639.0      HYUNDAI  Sonata  2014    Sedan        1  LPG   \n",
              "19057  9.229358   639.0      HYUNDAI  Sonata  2014    Sedan        1  LPG   \n",
              "18895  9.213934   639.0      HYUNDAI  Sonata  2014    Sedan        1  LPG   \n",
              "18616  9.213934   639.0      HYUNDAI  Sonata  2014    Sedan        1  LPG   \n",
              "18445  9.359105   639.0      HYUNDAI  Sonata  2014    Sedan        1  LPG   \n",
              "18249  9.359105   639.0      HYUNDAI  Sonata  2014    Sedan        1  LPG   \n",
              "18171  9.213934   639.0      HYUNDAI  Sonata  2014    Sedan        1  LPG   \n",
              "18030  9.213934   639.0      HYUNDAI  Sonata  2014    Sedan        1  LPG   \n",
              "17945  9.331673   639.0      HYUNDAI  Sonata  2014    Sedan        1  LPG   \n",
              "17628  9.359105   639.0      HYUNDAI  Sonata  2014    Sedan        1  LPG   \n",
              "16711  9.213934   639.0      HYUNDAI  Sonata  2014    Sedan        1  LPG   \n",
              "16532  9.213934   639.0      HYUNDAI  Sonata  2014    Sedan        1  LPG   \n",
              "15383  9.213934   639.0      HYUNDAI  Sonata  2014    Sedan        1  LPG   \n",
              "15265  9.359105   639.0      HYUNDAI  Sonata  2014    Sedan        1  LPG   \n",
              "14779  9.359105   639.0      HYUNDAI  Sonata  2014    Sedan        1  LPG   \n",
              "14583  9.244645   639.0      HYUNDAI  Sonata  2014    Sedan        1  LPG   \n",
              "8698   9.359105   639.0      HYUNDAI  Sonata  2014    Sedan        1  LPG   \n",
              "8195   9.213934   639.0      HYUNDAI  Sonata  2014    Sedan        1  LPG   \n",
              "141    9.359105   639.0      HYUNDAI  Sonata  2014    Sedan        1  LPG   \n",
              "1550   9.332470   639.0      HYUNDAI  Sonata  2014    Sedan        1  LPG   \n",
              "3692   9.213934   639.0      HYUNDAI  Sonata  2014    Sedan        1  LPG   \n",
              "3193   9.260558   639.0      HYUNDAI  Sonata  2014    Sedan        1  LPG   \n",
              "3043   9.204121   639.0      HYUNDAI  Sonata  2014    Sedan        1  LPG   \n",
              "2274   9.213934   639.0      HYUNDAI  Sonata  2014    Sedan        1  LPG   \n",
              "2005   9.213934   639.0      HYUNDAI  Sonata  2014    Sedan        1  LPG   \n",
              "1995   9.359105   639.0      HYUNDAI  Sonata  2014    Sedan        1  LPG   \n",
              "1703   9.260558   639.0      HYUNDAI  Sonata  2014    Sedan        1  LPG   \n",
              "1473   9.359105   639.0      HYUNDAI  Sonata  2014    Sedan        1  LPG   \n",
              "3888   9.359105   639.0      HYUNDAI  Sonata  2014    Sedan        1  LPG   \n",
              "1212   9.260558   639.0      HYUNDAI  Sonata  2014    Sedan        1  LPG   \n",
              "1093   9.213934   639.0      HYUNDAI  Sonata  2014    Sedan        1  LPG   \n",
              "1053   9.213934   639.0      HYUNDAI  Sonata  2014    Sedan        1  LPG   \n",
              "1001   9.213934   639.0      HYUNDAI  Sonata  2014    Sedan        1  LPG   \n",
              "966    9.213934   639.0      HYUNDAI  Sonata  2014    Sedan        1  LPG   \n",
              "625    9.359105   639.0      HYUNDAI  Sonata  2014    Sedan        1  LPG   \n",
              "365    9.213934   639.0      HYUNDAI  Sonata  2014    Sedan        1  LPG   \n",
              "3788   9.213934   639.0      HYUNDAI  Sonata  2014    Sedan        1  LPG   \n",
              "3893   9.213934   639.0      HYUNDAI  Sonata  2014    Sedan        1  LPG   \n",
              "8017   9.359105   639.0      HYUNDAI  Sonata  2014    Sedan        1  LPG   \n",
              "6181   9.385721   639.0      HYUNDAI  Sonata  2014    Sedan        1  LPG   \n",
              "7864   9.213934   639.0      HYUNDAI  Sonata  2014    Sedan        1  LPG   \n",
              "7459   9.213934   639.0      HYUNDAI  Sonata  2014    Sedan        1  LPG   \n",
              "6983   9.359105   639.0      HYUNDAI  Sonata  2014    Sedan        1  LPG   \n",
              "6753   9.359105   639.0      HYUNDAI  Sonata  2014    Sedan        1  LPG   \n",
              "6664   9.359105   639.0      HYUNDAI  Sonata  2014    Sedan        1  LPG   \n",
              "6314   9.359105   639.0      HYUNDAI  Sonata  2014    Sedan        1  LPG   \n",
              "6190   9.359105   639.0      HYUNDAI  Sonata  2014    Sedan        1  LPG   \n",
              "6159   9.213934   639.0      HYUNDAI  Sonata  2014    Sedan        1  LPG   \n",
              "4170   9.213934   639.0      HYUNDAI  Sonata  2014    Sedan        1  LPG   \n",
              "6143   9.213934   639.0      HYUNDAI  Sonata  2014    Sedan        1  LPG   \n",
              "5834   9.359105   639.0      HYUNDAI  Sonata  2014    Sedan        1  LPG   \n",
              "5522   9.213934   639.0      HYUNDAI  Sonata  2014    Sedan        1  LPG   \n",
              "4996   9.461721   639.0      HYUNDAI  Sonata  2014    Sedan        1  LPG   \n",
              "4907   9.359105   639.0      HYUNDAI  Sonata  2014    Sedan        1  LPG   \n",
              "4623   9.213934   639.0      HYUNDAI  Sonata  2014    Sedan        1  LPG   \n",
              "4340   9.213934   639.0      HYUNDAI  Sonata  2014    Sedan        1  LPG   \n",
              "19222  9.213934   639.0      HYUNDAI  Sonata  2014    Sedan        1  LPG   \n",
              "\n",
              "       engine  mileage  cylinders       gear  drive  doors wheel   color  \\\n",
              "17777    20.0   333686        4.0  Automatic  Front      4  left  Silver   \n",
              "2357     20.0   333686        4.0  Automatic  Front      4  left  Silver   \n",
              "12207     2.0   336971        4.0  Automatic  Front      4  left  Silver   \n",
              "13732     2.0   335782        4.0  Automatic  Front      4  left  Silver   \n",
              "13396     2.0   386544        4.0  Automatic  Front      4  left  Silver   \n",
              "13352     2.0   377942        4.0  Automatic  Front      4  left  Silver   \n",
              "13024     2.0   496592        4.0  Automatic  Front      4  left  Silver   \n",
              "12799     2.0   421703        4.0  Automatic  Front      4  left  Silver   \n",
              "12615     2.0   402468        4.0  Automatic  Front      4  left  Silver   \n",
              "12603     2.0   352590        4.0  Automatic  Front      4  left  Silver   \n",
              "126       2.0   346470        4.0  Automatic  Front      4  left  Silver   \n",
              "14030     2.0   353049        4.0  Automatic  Front      4  left  Silver   \n",
              "11709     2.0   401021        4.0  Automatic  Front      4  left  Silver   \n",
              "11513     2.0   432435        4.0  Automatic  Front      4  left  Silver   \n",
              "10776     2.0   486631        4.0  Automatic  Front      4  left  Silver   \n",
              "10752     2.0   362454        4.0  Automatic  Front      4  left  Silver   \n",
              "10716     2.0   312690        4.0  Automatic  Front      4  left  Silver   \n",
              "10188     2.0   493905        4.0  Automatic  Front      4  left  Silver   \n",
              "9355      2.0   275877        4.0  Automatic  Front      4  left  Silver   \n",
              "9087      2.0   493905        4.0  Automatic  Front      4  left  Silver   \n",
              "13919     2.0   735970        4.0  Automatic  Front      4  left  Silver   \n",
              "14387     2.0   401021        4.0  Automatic  Front      4  left  Silver   \n",
              "8384      2.0   354648        4.0  Automatic  Front      4  left  Silver   \n",
              "14439     2.0   346470        4.0  Automatic  Front      4  left  Silver   \n",
              "19057     2.0    63600        4.0  Automatic  Front      4  left  Silver   \n",
              "18895     2.0   325829        4.0  Automatic  Front      4  left  Silver   \n",
              "18616     2.0   417661        4.0  Automatic  Front      4  left  Silver   \n",
              "18445     2.0   496592        4.0  Automatic  Front      4  left  Silver   \n",
              "18249     2.0   384418        4.0  Automatic  Front      4  left  Silver   \n",
              "18171     2.0   746740        4.0  Automatic  Front      4  left  Silver   \n",
              "18030     2.0   389854        4.0  Automatic  Front      4  left  Silver   \n",
              "17945     2.0   520393        4.0  Automatic  Front      4  left  Silver   \n",
              "17628     2.0   432435        4.0  Automatic  Front      4  left  Silver   \n",
              "16711     2.0   319850        4.0  Automatic  Front      4  left  Silver   \n",
              "16532     2.0   404507        4.0  Automatic  Front      4  left  Silver   \n",
              "15383     2.0   720227        4.0  Automatic  Front      4  left  Silver   \n",
              "15265     2.0   291437        4.0  Automatic  Front      4  left  Silver   \n",
              "14779     2.0   330659        4.0  Automatic  Front      4  left  Silver   \n",
              "14583     2.0   509460        4.0  Automatic  Front      4  left  Silver   \n",
              "8698      2.0   336971        4.0  Automatic  Front      4  left  Silver   \n",
              "8195      2.0   347600        4.0  Automatic  Front      4  left  Silver   \n",
              "141       2.0   264872        4.0  Automatic  Front      4  left  Silver   \n",
              "1550      2.0    54546        4.0  Automatic  Front      4  left  Silver   \n",
              "3692      2.0   362454        4.0  Automatic  Front      4  left  Silver   \n",
              "3193      2.0    55210        4.0  Automatic  Front      4  left  Silver   \n",
              "3043      2.0   377942        4.0  Automatic  Front      4  left  Silver   \n",
              "2274      2.0   746740        4.0  Automatic  Front      4  left  Silver   \n",
              "2005      2.0   319850        4.0  Automatic  Front      4  left  Silver   \n",
              "1995      2.0   357150        4.0  Automatic  Front      4  left  Silver   \n",
              "1703      2.0    60850        4.0  Automatic  Front      4  left  Silver   \n",
              "1473      2.0   312690        4.0  Automatic  Front      4  left  Silver   \n",
              "3888      2.0   264872        4.0  Automatic  Front      4  left  Silver   \n",
              "1212      2.0    60850        4.0  Automatic  Front      4  left  Silver   \n",
              "1093      2.0   374141        4.0  Automatic  Front      4  left  Silver   \n",
              "1053      2.0   793967        4.0  Automatic  Front      4  left  Silver   \n",
              "1001      2.0   325829        4.0  Automatic  Front      4  left  Silver   \n",
              "966       2.0   430076        4.0  Automatic  Front      4  left  Silver   \n",
              "625       2.0   418369        4.0  Automatic  Front      4  left  Silver   \n",
              "365       2.0   362868        4.0  Automatic  Front      4  left  Silver   \n",
              "3788      2.0   347600        4.0  Automatic  Front      4  left  Silver   \n",
              "3893      2.0   268046        4.0  Automatic  Front      4  left  Silver   \n",
              "8017      2.0   418369        4.0  Automatic  Front      4  left  Silver   \n",
              "6181      2.0   354648        4.0  Automatic  Front      4  left  Silver   \n",
              "7864      2.0   335782        4.0  Automatic  Front      4  left  Silver   \n",
              "7459      2.0   349773        4.0  Automatic  Front      4  left  Silver   \n",
              "6983      2.0   352050        4.0  Automatic  Front      4  left  Silver   \n",
              "6753      2.0   386544        4.0  Automatic  Front      4  left  Silver   \n",
              "6664      2.0   384418        4.0  Automatic  Front      4  left  Silver   \n",
              "6314      2.0   402881        4.0  Automatic  Front      4  left  Silver   \n",
              "6190      2.0   291437        4.0  Automatic  Front      4  left  Silver   \n",
              "6159      2.0   389854        4.0  Automatic  Front      4  left  Silver   \n",
              "4170      2.0   417661        4.0  Automatic  Front      4  left  Silver   \n",
              "6143      2.0   421703        4.0  Automatic  Front      4  left  Silver   \n",
              "5834      2.0   402881        4.0  Automatic  Front      4  left  Silver   \n",
              "5522      2.0   353049        4.0  Automatic  Front      4  left  Silver   \n",
              "4996      2.0   392894        4.0  Automatic  Front      4  left  Silver   \n",
              "4907      2.0   477316        4.0  Automatic  Front      4  left  Silver   \n",
              "4623      2.0   255784        4.0  Automatic  Front      4  left  Silver   \n",
              "4340      2.0   268046        4.0  Automatic  Front      4  left  Silver   \n",
              "19222     2.0   735970        4.0  Automatic  Front      4  left  Silver   \n",
              "\n",
              "       airbags  turbo  \n",
              "17777        4      0  \n",
              "2357         4      0  \n",
              "12207        4      0  \n",
              "13732        4      0  \n",
              "13396        4      0  \n",
              "13352        4      0  \n",
              "13024        4      0  \n",
              "12799        4      0  \n",
              "12615        4      0  \n",
              "12603        4      0  \n",
              "126          4      0  \n",
              "14030        4      0  \n",
              "11709        4      0  \n",
              "11513        4      0  \n",
              "10776        4      0  \n",
              "10752        4      0  \n",
              "10716        4      0  \n",
              "10188        4      0  \n",
              "9355         4      0  \n",
              "9087         4      0  \n",
              "13919        4      0  \n",
              "14387        4      0  \n",
              "8384         4      0  \n",
              "14439        4      0  \n",
              "19057        4      0  \n",
              "18895        4      0  \n",
              "18616        4      0  \n",
              "18445        4      0  \n",
              "18249        4      0  \n",
              "18171        4      0  \n",
              "18030        4      0  \n",
              "17945        4      0  \n",
              "17628        4      0  \n",
              "16711        4      0  \n",
              "16532        4      0  \n",
              "15383        4      0  \n",
              "15265        4      0  \n",
              "14779        4      0  \n",
              "14583        4      0  \n",
              "8698         4      0  \n",
              "8195         4      0  \n",
              "141          4      0  \n",
              "1550         4      0  \n",
              "3692         4      0  \n",
              "3193         4      0  \n",
              "3043         4      0  \n",
              "2274         4      0  \n",
              "2005         4      0  \n",
              "1995         4      0  \n",
              "1703         4      0  \n",
              "1473         4      0  \n",
              "3888         4      0  \n",
              "1212         4      0  \n",
              "1093         4      0  \n",
              "1053         4      0  \n",
              "1001         4      0  \n",
              "966          4      0  \n",
              "625          4      0  \n",
              "365          4      0  \n",
              "3788         4      0  \n",
              "3893         4      0  \n",
              "8017         4      0  \n",
              "6181         4      0  \n",
              "7864         4      0  \n",
              "7459         4      0  \n",
              "6983         4      0  \n",
              "6753         4      0  \n",
              "6664         4      0  \n",
              "6314         4      0  \n",
              "6190         4      0  \n",
              "6159         4      0  \n",
              "4170         4      0  \n",
              "6143         4      0  \n",
              "5834         4      0  \n",
              "5522         4      0  \n",
              "4996         4      0  \n",
              "4907         4      0  \n",
              "4623         4      0  \n",
              "4340         4      0  \n",
              "19222        4      0  "
            ]
          },
          "metadata": {
            "tags": []
          },
          "execution_count": 26
        }
      ]
    },
    {
      "cell_type": "markdown",
      "metadata": {
        "id": "mqvABcEo5wpu"
      },
      "source": [
        "#### As we look at all Hyundai Sonata cars of 2014, with the same specs (cylinders, engine, leather, etc.) as our outlier, we see that most of them have engine capacity 2.0 L. It seems that it is incorrectly mentioned as 20.0 L. Let us confirm below."
      ]
    },
    {
      "cell_type": "code",
      "metadata": {
        "colab": {
          "base_uri": "https://localhost:8080/"
        },
        "id": "YCstHfoX5_5n",
        "outputId": "3fe0ad55-45f7-4663-eef2-7c6b3d6c8846"
      },
      "source": [
        "df.loc[(df['manufacturer'] == 'HYUNDAI')\n",
        "      & (df['model'] == 'Sonata')\n",
        "      & (df['prod'] == 2014)\n",
        "      & (df['leather'] == 1)\n",
        "      & (df['cylinders'] == 4)\n",
        "      & (df['turbo'] == 0)\n",
        "      & (df['gear'] == 'Automatic')\n",
        "      & (df['fuel'] == 'LPG')\n",
        "      & (df['color'] == 'Silver')].sort_values('engine', ascending=False)['engine'].value_counts()"
      ],
      "execution_count": null,
      "outputs": [
        {
          "output_type": "execute_result",
          "data": {
            "text/plain": [
              "2.0     78\n",
              "20.0     2\n",
              "Name: engine, dtype: int64"
            ]
          },
          "metadata": {
            "tags": []
          },
          "execution_count": 27
        }
      ]
    },
    {
      "cell_type": "markdown",
      "metadata": {
        "id": "Ua2Qud8p6W0_"
      },
      "source": [
        "Our assumption is correct. Let us fill in the correct value."
      ]
    },
    {
      "cell_type": "code",
      "metadata": {
        "colab": {
          "base_uri": "https://localhost:8080/"
        },
        "id": "prokPf2A6jwu",
        "outputId": "7ca3f0dd-2b47-4236-be23-585ef61f941a"
      },
      "source": [
        "df.loc[[17777,2357], 'engine'] = 2.0\n",
        "df.loc[[17777,2357], 'engine']"
      ],
      "execution_count": null,
      "outputs": [
        {
          "output_type": "execute_result",
          "data": {
            "text/plain": [
              "17777    2.0\n",
              "2357     2.0\n",
              "Name: engine, dtype: float64"
            ]
          },
          "metadata": {
            "tags": []
          },
          "execution_count": 28
        }
      ]
    },
    {
      "cell_type": "markdown",
      "metadata": {
        "id": "8tuutxLf6l_-"
      },
      "source": [
        "#### MILEAGE"
      ]
    },
    {
      "cell_type": "markdown",
      "metadata": {
        "id": "DDqTOJhn6zaJ"
      },
      "source": [
        "As mileage values in the dataset are highly spread apart, let us convert to log."
      ]
    },
    {
      "cell_type": "code",
      "metadata": {
        "colab": {
          "base_uri": "https://localhost:8080/",
          "height": 441
        },
        "id": "7I3M6tC56rQX",
        "outputId": "cd9ad2a6-df0b-45d7-c358-cf73c7619575"
      },
      "source": [
        "logmileage = np.log(df['mileage'])\n",
        "sns.scatterplot(x=logmileage, y=df['price']);\n",
        "plt.xlabel('log(mileage)')"
      ],
      "execution_count": null,
      "outputs": [
        {
          "output_type": "stream",
          "text": [
            "/usr/local/lib/python3.7/dist-packages/pandas/core/series.py:726: RuntimeWarning: divide by zero encountered in log\n",
            "  result = getattr(ufunc, method)(*inputs, **kwargs)\n"
          ],
          "name": "stderr"
        },
        {
          "output_type": "execute_result",
          "data": {
            "text/plain": [
              "Text(0.5, 0, 'log(mileage)')"
            ]
          },
          "metadata": {
            "tags": []
          },
          "execution_count": 37
        },
        {
          "output_type": "display_data",
          "data": {
            "image/png": "[encoded data removed]",
            "text/plain": [
              "<Figure size 576x432 with 1 Axes>"
            ]
          },
          "metadata": {
            "tags": [],
            "needs_background": "light"
          }
        }
      ]
    },
    {
      "cell_type": "markdown",
      "metadata": {
        "id": "wVWiGrVc7EpB"
      },
      "source": [
        "No clear trend is visible."
      ]
    },
    {
      "cell_type": "markdown",
      "metadata": {
        "id": "KHLgTKix6lu_"
      },
      "source": [
        "#### CYLINDERS"
      ]
    },
    {
      "cell_type": "code",
      "metadata": {
        "colab": {
          "base_uri": "https://localhost:8080/",
          "height": 388
        },
        "id": "ufMYIhbk7Lxc",
        "outputId": "d7959bb3-b7db-49cd-cf26-a11ee84b9ebb"
      },
      "source": [
        "sns.stripplot(data=df, x='cylinders', y='price');"
      ],
      "execution_count": null,
      "outputs": [
        {
          "output_type": "display_data",
          "data": {
            "image/png": "[encoded data removed]",
            "text/plain": [
              "<Figure size 576x432 with 1 Axes>"
            ]
          },
          "metadata": {
            "tags": [],
            "needs_background": "light"
          }
        }
      ]
    },
    {
      "cell_type": "markdown",
      "metadata": {
        "id": "4ld1F-857c_D"
      },
      "source": [
        "4 to 8 cylinder cars are very common in the dataset. Cars with higher number of cylinders are costlier. Interestingly, cars in the dataset with 3 and lesser cylinders are also costly. This may be becausdue to other factors."
      ]
    },
    {
      "cell_type": "markdown",
      "metadata": {
        "id": "XMYzYeQ58zcj"
      },
      "source": [
        "# GEAR"
      ]
    },
    {
      "cell_type": "code",
      "metadata": {
        "colab": {
          "base_uri": "https://localhost:8080/",
          "height": 388
        },
        "id": "OFke78-m80p2",
        "outputId": "2fe3279b-f7e9-4b61-df5f-72ad06729ca5"
      },
      "source": [
        "sns.stripplot(data=df, x='gear', y='price');"
      ],
      "execution_count": null,
      "outputs": [
        {
          "output_type": "display_data",
          "data": {
            "image/png": "[encoded data removed]",
            "text/plain": [
              "<Figure size 576x432 with 1 Axes>"
            ]
          },
          "metadata": {
            "tags": [],
            "needs_background": "light"
          }
        }
      ]
    },
    {
      "cell_type": "markdown",
      "metadata": {
        "id": "PNpz2Y5z871T"
      },
      "source": [
        "No clear trend. Tiptronic and Variator prices are dense near the extreme ranges, sparse in the middle. Cheaper cars are more likely to be automatic than manual."
      ]
    },
    {
      "cell_type": "markdown",
      "metadata": {
        "id": "ZCNlxrpN9Swo"
      },
      "source": [
        "#### DRIVE"
      ]
    },
    {
      "cell_type": "code",
      "metadata": {
        "colab": {
          "base_uri": "https://localhost:8080/",
          "height": 406
        },
        "id": "ou4HFYdy9SYD",
        "outputId": "5ba75e87-ad28-4d42-9db9-c9cc3efbf20f"
      },
      "source": [
        "sns.stripplot(data=df, x='drive', y='price')"
      ],
      "execution_count": null,
      "outputs": [
        {
          "output_type": "execute_result",
          "data": {
            "text/plain": [
              "<matplotlib.axes._subplots.AxesSubplot at 0x7f49a90c54d0>"
            ]
          },
          "metadata": {
            "tags": []
          },
          "execution_count": 39
        },
        {
          "output_type": "display_data",
          "data": {
            "image/png": "[encoded data removed]",
            "text/plain": [
              "<Figure size 576x432 with 1 Axes>"
            ]
          },
          "metadata": {
            "tags": [],
            "needs_background": "light"
          }
        }
      ]
    },
    {
      "cell_type": "markdown",
      "metadata": {
        "id": "tcDNk3B99aO0"
      },
      "source": [
        "Again, no clear trend."
      ]
    },
    {
      "cell_type": "markdown",
      "metadata": {
        "id": "V5a1evnC9dvH"
      },
      "source": [
        "#### WHEEL (steering wheel)"
      ]
    },
    {
      "cell_type": "code",
      "metadata": {
        "colab": {
          "base_uri": "https://localhost:8080/",
          "height": 406
        },
        "id": "sWUA-6vo9eJv",
        "outputId": "75f0b027-d03d-4e6c-8496-fadfb382e62a"
      },
      "source": [
        "sns.stripplot(data=df, x='wheel', y='price')"
      ],
      "execution_count": null,
      "outputs": [
        {
          "output_type": "execute_result",
          "data": {
            "text/plain": [
              "<matplotlib.axes._subplots.AxesSubplot at 0x7f49a901ed90>"
            ]
          },
          "metadata": {
            "tags": []
          },
          "execution_count": 40
        },
        {
          "output_type": "display_data",
          "data": {
            "image/png": "[encoded data removed]",
            "text/plain": [
              "<Figure size 576x432 with 1 Axes>"
            ]
          },
          "metadata": {
            "tags": [],
            "needs_background": "light"
          }
        }
      ]
    },
    {
      "cell_type": "markdown",
      "metadata": {
        "id": "x1on0cAN9wME"
      },
      "source": [
        "Distinct segments in prices of right-wheel cars. Costliest cars are left-sided (steering wheel)."
      ]
    },
    {
      "cell_type": "markdown",
      "metadata": {
        "id": "kpV0bO6R9wA3"
      },
      "source": [
        "#### COLOR"
      ]
    },
    {
      "cell_type": "code",
      "metadata": {
        "colab": {
          "base_uri": "https://localhost:8080/",
          "height": 388
        },
        "id": "oW9FbSM5-FL9",
        "outputId": "85391047-5b27-4549-9a93-fec52737e76f"
      },
      "source": [
        "sns.stripplot(data=df, y='color', x='price');"
      ],
      "execution_count": null,
      "outputs": [
        {
          "output_type": "display_data",
          "data": {
            "image/png": "[encoded data removed]",
            "text/plain": [
              "<Figure size 576x432 with 1 Axes>"
            ]
          },
          "metadata": {
            "tags": [],
            "needs_background": "light"
          }
        }
      ]
    },
    {
      "cell_type": "markdown",
      "metadata": {
        "id": "pAhp2m6c-N34"
      },
      "source": [
        "As expected, cheaper cars are more likely to be of common colors like Silver, White, etc. Unique colors like Yellow, Purple, Pink are expensive. Lets see if we find a Camaro in the yellow cars!"
      ]
    },
    {
      "cell_type": "code",
      "metadata": {
        "colab": {
          "base_uri": "https://localhost:8080/",
          "height": 131
        },
        "id": "0y9y-QDO-mIO",
        "outputId": "452dbfab-cca2-4eaa-e66d-8763cdeff063"
      },
      "source": [
        "df.loc[(df['color'] == 'Yellow')&(df['model'] == 'Camaro')].sort_values('price', ascending=False)[:10]"
      ],
      "execution_count": null,
      "outputs": [
        {
          "output_type": "execute_result",
          "data": {
            "text/html": [
              "<div>\n",
              "<style scoped>\n",
              "    .dataframe tbody tr th:only-of-type {\n",
              "        vertical-align: middle;\n",
              "    }\n",
              "\n",
              "    .dataframe tbody tr th {\n",
              "        vertical-align: top;\n",
              "    }\n",
              "\n",
              "    .dataframe thead th {\n",
              "        text-align: right;\n",
              "    }\n",
              "</style>\n",
              "<table border=\"1\" class=\"dataframe\">\n",
              "  <thead>\n",
              "    <tr style=\"text-align: right;\">\n",
              "      <th></th>\n",
              "      <th>price</th>\n",
              "      <th>levy</th>\n",
              "      <th>manufacturer</th>\n",
              "      <th>model</th>\n",
              "      <th>prod</th>\n",
              "      <th>category</th>\n",
              "      <th>leather</th>\n",
              "      <th>fuel</th>\n",
              "      <th>engine</th>\n",
              "      <th>mileage</th>\n",
              "      <th>cylinders</th>\n",
              "      <th>gear</th>\n",
              "      <th>drive</th>\n",
              "      <th>doors</th>\n",
              "      <th>wheel</th>\n",
              "      <th>color</th>\n",
              "      <th>airbags</th>\n",
              "      <th>turbo</th>\n",
              "    </tr>\n",
              "  </thead>\n",
              "  <tbody>\n",
              "    <tr>\n",
              "      <th>13622</th>\n",
              "      <td>10.959992</td>\n",
              "      <td>1080.0</td>\n",
              "      <td>CHEVROLET</td>\n",
              "      <td>Camaro</td>\n",
              "      <td>2014</td>\n",
              "      <td>Cabriolet</td>\n",
              "      <td>1</td>\n",
              "      <td>Petrol</td>\n",
              "      <td>3.6</td>\n",
              "      <td>34481</td>\n",
              "      <td>4.0</td>\n",
              "      <td>Automatic</td>\n",
              "      <td>Front</td>\n",
              "      <td>4</td>\n",
              "      <td>left</td>\n",
              "      <td>Yellow</td>\n",
              "      <td>4</td>\n",
              "      <td>0</td>\n",
              "    </tr>\n",
              "    <tr>\n",
              "      <th>13743</th>\n",
              "      <td>10.784711</td>\n",
              "      <td>1307.0</td>\n",
              "      <td>CHEVROLET</td>\n",
              "      <td>Camaro</td>\n",
              "      <td>2015</td>\n",
              "      <td>Cabriolet</td>\n",
              "      <td>1</td>\n",
              "      <td>Petrol</td>\n",
              "      <td>3.6</td>\n",
              "      <td>99162</td>\n",
              "      <td>4.0</td>\n",
              "      <td>Automatic</td>\n",
              "      <td>Front</td>\n",
              "      <td>4</td>\n",
              "      <td>left</td>\n",
              "      <td>Yellow</td>\n",
              "      <td>4</td>\n",
              "      <td>0</td>\n",
              "    </tr>\n",
              "  </tbody>\n",
              "</table>\n",
              "</div>"
            ],
            "text/plain": [
              "           price    levy manufacturer   model  prod   category  leather  \\\n",
              "13622  10.959992  1080.0    CHEVROLET  Camaro  2014  Cabriolet        1   \n",
              "13743  10.784711  1307.0    CHEVROLET  Camaro  2015  Cabriolet        1   \n",
              "\n",
              "         fuel  engine  mileage  cylinders       gear  drive  doors wheel  \\\n",
              "13622  Petrol     3.6    34481        4.0  Automatic  Front      4  left   \n",
              "13743  Petrol     3.6    99162        4.0  Automatic  Front      4  left   \n",
              "\n",
              "        color  airbags  turbo  \n",
              "13622  Yellow        4      0  \n",
              "13743  Yellow        4      0  "
            ]
          },
          "metadata": {
            "tags": []
          },
          "execution_count": 44
        }
      ]
    },
    {
      "cell_type": "markdown",
      "metadata": {
        "id": "ZHMaDy5g-8-P"
      },
      "source": [
        "As we thought!!"
      ]
    },
    {
      "cell_type": "code",
      "metadata": {
        "id": "tQQRkYj-AdCI"
      },
      "source": [
        "# Let us save the file until now.\n",
        "df.to_csv(root_path+'train_cleaned1.csv', index=False)\n",
        "# df = pd.read_csv(root_path+'train_cleaned1.csv')\n",
        "# dfc = df.copy()"
      ],
      "execution_count": null,
      "outputs": []
    },
    {
      "cell_type": "markdown",
      "metadata": {
        "id": "BTo6jmeSArBm"
      },
      "source": [
        "### Some cars have extremely low price. Let us see if we can manually impute correct prices by inspection of similar cars."
      ]
    },
    {
      "cell_type": "code",
      "metadata": {
        "colab": {
          "base_uri": "https://localhost:8080/",
          "height": 259
        },
        "id": "EJi6oOPZBKmI",
        "outputId": "2a9d1eb2-3561-40be-c3ac-734dc2d635db"
      },
      "source": [
        "df.sort_values('price', ascending=True)[:5]"
      ],
      "execution_count": null,
      "outputs": [
        {
          "output_type": "execute_result",
          "data": {
            "text/html": [
              "<div>\n",
              "<style scoped>\n",
              "    .dataframe tbody tr th:only-of-type {\n",
              "        vertical-align: middle;\n",
              "    }\n",
              "\n",
              "    .dataframe tbody tr th {\n",
              "        vertical-align: top;\n",
              "    }\n",
              "\n",
              "    .dataframe thead th {\n",
              "        text-align: right;\n",
              "    }\n",
              "</style>\n",
              "<table border=\"1\" class=\"dataframe\">\n",
              "  <thead>\n",
              "    <tr style=\"text-align: right;\">\n",
              "      <th></th>\n",
              "      <th>price</th>\n",
              "      <th>levy</th>\n",
              "      <th>manufacturer</th>\n",
              "      <th>model</th>\n",
              "      <th>prod</th>\n",
              "      <th>category</th>\n",
              "      <th>leather</th>\n",
              "      <th>fuel</th>\n",
              "      <th>engine</th>\n",
              "      <th>mileage</th>\n",
              "      <th>cylinders</th>\n",
              "      <th>gear</th>\n",
              "      <th>drive</th>\n",
              "      <th>doors</th>\n",
              "      <th>wheel</th>\n",
              "      <th>color</th>\n",
              "      <th>airbags</th>\n",
              "      <th>turbo</th>\n",
              "    </tr>\n",
              "  </thead>\n",
              "  <tbody>\n",
              "    <tr>\n",
              "      <th>7815</th>\n",
              "      <td>0.000000</td>\n",
              "      <td>NaN</td>\n",
              "      <td>OPEL</td>\n",
              "      <td>Astra</td>\n",
              "      <td>1999</td>\n",
              "      <td>Sedan</td>\n",
              "      <td>1</td>\n",
              "      <td>Petrol</td>\n",
              "      <td>1.6</td>\n",
              "      <td>122231</td>\n",
              "      <td>4.0</td>\n",
              "      <td>Manual</td>\n",
              "      <td>Front</td>\n",
              "      <td>4</td>\n",
              "      <td>left</td>\n",
              "      <td>Silver</td>\n",
              "      <td>4</td>\n",
              "      <td>0</td>\n",
              "    </tr>\n",
              "    <tr>\n",
              "      <th>16991</th>\n",
              "      <td>0.000000</td>\n",
              "      <td>1202.0</td>\n",
              "      <td>CHEVROLET</td>\n",
              "      <td>Lacetti</td>\n",
              "      <td>2006</td>\n",
              "      <td>Hatchback</td>\n",
              "      <td>0</td>\n",
              "      <td>Petrol</td>\n",
              "      <td>1.6</td>\n",
              "      <td>200000</td>\n",
              "      <td>4.0</td>\n",
              "      <td>Manual</td>\n",
              "      <td>Front</td>\n",
              "      <td>4</td>\n",
              "      <td>left</td>\n",
              "      <td>Black</td>\n",
              "      <td>2</td>\n",
              "      <td>0</td>\n",
              "    </tr>\n",
              "    <tr>\n",
              "      <th>13419</th>\n",
              "      <td>1.098612</td>\n",
              "      <td>503.0</td>\n",
              "      <td>TOYOTA</td>\n",
              "      <td>Prius C</td>\n",
              "      <td>2012</td>\n",
              "      <td>Hatchback</td>\n",
              "      <td>1</td>\n",
              "      <td>Petrol</td>\n",
              "      <td>1.5</td>\n",
              "      <td>172800</td>\n",
              "      <td>4.0</td>\n",
              "      <td>Automatic</td>\n",
              "      <td>Front</td>\n",
              "      <td>4</td>\n",
              "      <td>left</td>\n",
              "      <td>Grey</td>\n",
              "      <td>12</td>\n",
              "      <td>0</td>\n",
              "    </tr>\n",
              "    <tr>\n",
              "      <th>17595</th>\n",
              "      <td>1.098612</td>\n",
              "      <td>NaN</td>\n",
              "      <td>HYUNDAI</td>\n",
              "      <td>Sonata</td>\n",
              "      <td>2011</td>\n",
              "      <td>Sedan</td>\n",
              "      <td>1</td>\n",
              "      <td>Petrol</td>\n",
              "      <td>2.4</td>\n",
              "      <td>106422</td>\n",
              "      <td>4.0</td>\n",
              "      <td>Tiptronic</td>\n",
              "      <td>Front</td>\n",
              "      <td>4</td>\n",
              "      <td>left</td>\n",
              "      <td>White</td>\n",
              "      <td>6</td>\n",
              "      <td>0</td>\n",
              "    </tr>\n",
              "    <tr>\n",
              "      <th>7276</th>\n",
              "      <td>1.098612</td>\n",
              "      <td>NaN</td>\n",
              "      <td>MERCEDES-BENZ</td>\n",
              "      <td>G 55 AMG</td>\n",
              "      <td>2020</td>\n",
              "      <td>Jeep</td>\n",
              "      <td>1</td>\n",
              "      <td>LPG</td>\n",
              "      <td>1.8</td>\n",
              "      <td>1212</td>\n",
              "      <td>12.0</td>\n",
              "      <td>Manual</td>\n",
              "      <td>4x4</td>\n",
              "      <td>5</td>\n",
              "      <td>left</td>\n",
              "      <td>Purple</td>\n",
              "      <td>0</td>\n",
              "      <td>1</td>\n",
              "    </tr>\n",
              "  </tbody>\n",
              "</table>\n",
              "</div>"
            ],
            "text/plain": [
              "          price    levy   manufacturer     model  prod   category  leather  \\\n",
              "7815   0.000000     NaN           OPEL     Astra  1999      Sedan        1   \n",
              "16991  0.000000  1202.0      CHEVROLET   Lacetti  2006  Hatchback        0   \n",
              "13419  1.098612   503.0         TOYOTA   Prius C  2012  Hatchback        1   \n",
              "17595  1.098612     NaN        HYUNDAI    Sonata  2011      Sedan        1   \n",
              "7276   1.098612     NaN  MERCEDES-BENZ  G 55 AMG  2020       Jeep        1   \n",
              "\n",
              "         fuel  engine  mileage  cylinders       gear  drive  doors wheel  \\\n",
              "7815   Petrol     1.6   122231        4.0     Manual  Front      4  left   \n",
              "16991  Petrol     1.6   200000        4.0     Manual  Front      4  left   \n",
              "13419  Petrol     1.5   172800        4.0  Automatic  Front      4  left   \n",
              "17595  Petrol     2.4   106422        4.0  Tiptronic  Front      4  left   \n",
              "7276      LPG     1.8     1212       12.0     Manual    4x4      5  left   \n",
              "\n",
              "        color  airbags  turbo  \n",
              "7815   Silver        4      0  \n",
              "16991   Black        2      0  \n",
              "13419    Grey       12      0  \n",
              "17595   White        6      0  \n",
              "7276   Purple        0      1  "
            ]
          },
          "metadata": {
            "tags": []
          },
          "execution_count": 86
        }
      ]
    },
    {
      "cell_type": "markdown",
      "metadata": {
        "id": "dOMEfYXHBQpQ"
      },
      "source": [
        "Let us look at other OPEL Astras of 1999."
      ]
    },
    {
      "cell_type": "code",
      "metadata": {
        "colab": {
          "base_uri": "https://localhost:8080/",
          "height": 162
        },
        "id": "TN6dXe0IBXCC",
        "outputId": "632e3602-1945-4cff-d3c2-87e46abeb43d"
      },
      "source": [
        "df.loc[(df['manufacturer'] == 'OPEL')\n",
        "      & (df['model'] == 'Astra')\n",
        "      & (df['prod'] == 1999)\n",
        "      & (df['category'] == 'Sedan')\n",
        "       & (df['engine'] == 1.6)\n",
        "      ].sort_values('engine', ascending=False).sort_values('price'\n",
        "                                                          )"
      ],
      "execution_count": null,
      "outputs": [
        {
          "output_type": "execute_result",
          "data": {
            "text/html": [
              "<div>\n",
              "<style scoped>\n",
              "    .dataframe tbody tr th:only-of-type {\n",
              "        vertical-align: middle;\n",
              "    }\n",
              "\n",
              "    .dataframe tbody tr th {\n",
              "        vertical-align: top;\n",
              "    }\n",
              "\n",
              "    .dataframe thead th {\n",
              "        text-align: right;\n",
              "    }\n",
              "</style>\n",
              "<table border=\"1\" class=\"dataframe\">\n",
              "  <thead>\n",
              "    <tr style=\"text-align: right;\">\n",
              "      <th></th>\n",
              "      <th>price</th>\n",
              "      <th>levy</th>\n",
              "      <th>manufacturer</th>\n",
              "      <th>model</th>\n",
              "      <th>prod</th>\n",
              "      <th>category</th>\n",
              "      <th>leather</th>\n",
              "      <th>fuel</th>\n",
              "      <th>engine</th>\n",
              "      <th>mileage</th>\n",
              "      <th>cylinders</th>\n",
              "      <th>gear</th>\n",
              "      <th>drive</th>\n",
              "      <th>doors</th>\n",
              "      <th>wheel</th>\n",
              "      <th>color</th>\n",
              "      <th>airbags</th>\n",
              "      <th>turbo</th>\n",
              "    </tr>\n",
              "  </thead>\n",
              "  <tbody>\n",
              "    <tr>\n",
              "      <th>7815</th>\n",
              "      <td>0.000000</td>\n",
              "      <td>NaN</td>\n",
              "      <td>OPEL</td>\n",
              "      <td>Astra</td>\n",
              "      <td>1999</td>\n",
              "      <td>Sedan</td>\n",
              "      <td>1</td>\n",
              "      <td>Petrol</td>\n",
              "      <td>1.6</td>\n",
              "      <td>122231</td>\n",
              "      <td>4.0</td>\n",
              "      <td>Manual</td>\n",
              "      <td>Front</td>\n",
              "      <td>4</td>\n",
              "      <td>left</td>\n",
              "      <td>Silver</td>\n",
              "      <td>4</td>\n",
              "      <td>0</td>\n",
              "    </tr>\n",
              "    <tr>\n",
              "      <th>10815</th>\n",
              "      <td>8.455318</td>\n",
              "      <td>NaN</td>\n",
              "      <td>OPEL</td>\n",
              "      <td>Astra</td>\n",
              "      <td>1999</td>\n",
              "      <td>Sedan</td>\n",
              "      <td>0</td>\n",
              "      <td>Petrol</td>\n",
              "      <td>1.6</td>\n",
              "      <td>145000</td>\n",
              "      <td>4.0</td>\n",
              "      <td>Manual</td>\n",
              "      <td>Front</td>\n",
              "      <td>2</td>\n",
              "      <td>left</td>\n",
              "      <td>Green</td>\n",
              "      <td>2</td>\n",
              "      <td>0</td>\n",
              "    </tr>\n",
              "    <tr>\n",
              "      <th>12129</th>\n",
              "      <td>8.792701</td>\n",
              "      <td>NaN</td>\n",
              "      <td>OPEL</td>\n",
              "      <td>Astra</td>\n",
              "      <td>1999</td>\n",
              "      <td>Sedan</td>\n",
              "      <td>0</td>\n",
              "      <td>Petrol</td>\n",
              "      <td>1.6</td>\n",
              "      <td>227000</td>\n",
              "      <td>4.0</td>\n",
              "      <td>Manual</td>\n",
              "      <td>Front</td>\n",
              "      <td>4</td>\n",
              "      <td>left</td>\n",
              "      <td>Black</td>\n",
              "      <td>0</td>\n",
              "      <td>0</td>\n",
              "    </tr>\n",
              "  </tbody>\n",
              "</table>\n",
              "</div>"
            ],
            "text/plain": [
              "          price  levy manufacturer  model  prod category  leather    fuel  \\\n",
              "7815   0.000000   NaN         OPEL  Astra  1999    Sedan        1  Petrol   \n",
              "10815  8.455318   NaN         OPEL  Astra  1999    Sedan        0  Petrol   \n",
              "12129  8.792701   NaN         OPEL  Astra  1999    Sedan        0  Petrol   \n",
              "\n",
              "       engine  mileage  cylinders    gear  drive  doors wheel   color  \\\n",
              "7815      1.6   122231        4.0  Manual  Front      4  left  Silver   \n",
              "10815     1.6   145000        4.0  Manual  Front      2  left   Green   \n",
              "12129     1.6   227000        4.0  Manual  Front      4  left   Black   \n",
              "\n",
              "       airbags  turbo  \n",
              "7815         4      0  \n",
              "10815        2      0  \n",
              "12129        0      0  "
            ]
          },
          "metadata": {
            "tags": []
          },
          "execution_count": 48
        }
      ]
    },
    {
      "cell_type": "markdown",
      "metadata": {
        "id": "LPSnI9gqBoSe"
      },
      "source": [
        "Let us impute the average of similar cars (having non-zero price)."
      ]
    },
    {
      "cell_type": "code",
      "metadata": {
        "id": "fOecgtQbCb7N"
      },
      "source": [
        "# imputing at index 7815\n",
        "df.loc[7815, 'price'] = (8.455 + 8.793)/2.0"
      ],
      "execution_count": null,
      "outputs": []
    },
    {
      "cell_type": "markdown",
      "metadata": {
        "id": "2ITIwpQ4Cuki"
      },
      "source": [
        "Chevrolet Lacetti 2006 hatchback."
      ]
    },
    {
      "cell_type": "code",
      "metadata": {
        "colab": {
          "base_uri": "https://localhost:8080/",
          "height": 162
        },
        "id": "bH9fD2vqCwGe",
        "outputId": "222822c1-752b-4aef-a888-f67c117ae3df"
      },
      "source": [
        "df.loc[(df['manufacturer'] == 'CHEVROLET')\n",
        "      & (df['model'] == 'Lacetti')\n",
        "      & (df['fuel'] == 'Petrol')\n",
        "      # & (df['prod'] == 2006)\n",
        "       & (df['engine'] == 1.6)\n",
        "       & (df['mileage'] >= 200000)\n",
        "      ].sort_values('price')"
      ],
      "execution_count": null,
      "outputs": [
        {
          "output_type": "execute_result",
          "data": {
            "text/html": [
              "<div>\n",
              "<style scoped>\n",
              "    .dataframe tbody tr th:only-of-type {\n",
              "        vertical-align: middle;\n",
              "    }\n",
              "\n",
              "    .dataframe tbody tr th {\n",
              "        vertical-align: top;\n",
              "    }\n",
              "\n",
              "    .dataframe thead th {\n",
              "        text-align: right;\n",
              "    }\n",
              "</style>\n",
              "<table border=\"1\" class=\"dataframe\">\n",
              "  <thead>\n",
              "    <tr style=\"text-align: right;\">\n",
              "      <th></th>\n",
              "      <th>price</th>\n",
              "      <th>levy</th>\n",
              "      <th>manufacturer</th>\n",
              "      <th>model</th>\n",
              "      <th>prod</th>\n",
              "      <th>category</th>\n",
              "      <th>leather</th>\n",
              "      <th>fuel</th>\n",
              "      <th>engine</th>\n",
              "      <th>mileage</th>\n",
              "      <th>cylinders</th>\n",
              "      <th>gear</th>\n",
              "      <th>drive</th>\n",
              "      <th>doors</th>\n",
              "      <th>wheel</th>\n",
              "      <th>color</th>\n",
              "      <th>airbags</th>\n",
              "      <th>turbo</th>\n",
              "    </tr>\n",
              "  </thead>\n",
              "  <tbody>\n",
              "    <tr>\n",
              "      <th>16992</th>\n",
              "      <td>0.000000</td>\n",
              "      <td>1202.0</td>\n",
              "      <td>CHEVROLET</td>\n",
              "      <td>Lacetti</td>\n",
              "      <td>2006</td>\n",
              "      <td>Hatchback</td>\n",
              "      <td>0</td>\n",
              "      <td>Petrol</td>\n",
              "      <td>1.6</td>\n",
              "      <td>200000</td>\n",
              "      <td>4.0</td>\n",
              "      <td>Manual</td>\n",
              "      <td>Front</td>\n",
              "      <td>4</td>\n",
              "      <td>left</td>\n",
              "      <td>Black</td>\n",
              "      <td>2</td>\n",
              "      <td>0</td>\n",
              "    </tr>\n",
              "    <tr>\n",
              "      <th>7082</th>\n",
              "      <td>8.883640</td>\n",
              "      <td>NaN</td>\n",
              "      <td>CHEVROLET</td>\n",
              "      <td>Lacetti</td>\n",
              "      <td>2005</td>\n",
              "      <td>Sedan</td>\n",
              "      <td>0</td>\n",
              "      <td>Petrol</td>\n",
              "      <td>1.6</td>\n",
              "      <td>200000</td>\n",
              "      <td>4.0</td>\n",
              "      <td>Manual</td>\n",
              "      <td>Front</td>\n",
              "      <td>4</td>\n",
              "      <td>left</td>\n",
              "      <td>Silver</td>\n",
              "      <td>2</td>\n",
              "      <td>0</td>\n",
              "    </tr>\n",
              "    <tr>\n",
              "      <th>7587</th>\n",
              "      <td>9.190138</td>\n",
              "      <td>790.0</td>\n",
              "      <td>CHEVROLET</td>\n",
              "      <td>Lacetti</td>\n",
              "      <td>2009</td>\n",
              "      <td>Sedan</td>\n",
              "      <td>1</td>\n",
              "      <td>Petrol</td>\n",
              "      <td>1.6</td>\n",
              "      <td>219236</td>\n",
              "      <td>4.0</td>\n",
              "      <td>Automatic</td>\n",
              "      <td>Front</td>\n",
              "      <td>4</td>\n",
              "      <td>left</td>\n",
              "      <td>Black</td>\n",
              "      <td>4</td>\n",
              "      <td>0</td>\n",
              "    </tr>\n",
              "  </tbody>\n",
              "</table>\n",
              "</div>"
            ],
            "text/plain": [
              "          price    levy manufacturer    model  prod   category  leather  \\\n",
              "16992  0.000000  1202.0    CHEVROLET  Lacetti  2006  Hatchback        0   \n",
              "7082   8.883640     NaN    CHEVROLET  Lacetti  2005      Sedan        0   \n",
              "7587   9.190138   790.0    CHEVROLET  Lacetti  2009      Sedan        1   \n",
              "\n",
              "         fuel  engine  mileage  cylinders       gear  drive  doors wheel  \\\n",
              "16992  Petrol     1.6   200000        4.0     Manual  Front      4  left   \n",
              "7082   Petrol     1.6   200000        4.0     Manual  Front      4  left   \n",
              "7587   Petrol     1.6   219236        4.0  Automatic  Front      4  left   \n",
              "\n",
              "        color  airbags  turbo  \n",
              "16992   Black        2      0  \n",
              "7082   Silver        2      0  \n",
              "7587    Black        4      0  "
            ]
          },
          "metadata": {
            "tags": []
          },
          "execution_count": 54
        }
      ]
    },
    {
      "cell_type": "code",
      "metadata": {
        "id": "odq2kMGBEe1i"
      },
      "source": [
        "# imputing with average of similar cars\n",
        "df.loc[16992, 'price'] = (8.884 + 9.190)/2.0"
      ],
      "execution_count": null,
      "outputs": []
    },
    {
      "cell_type": "markdown",
      "metadata": {
        "id": "10Glg7rmFAdy"
      },
      "source": [
        "Index 13419, Toyota PRIUS C 2012"
      ]
    },
    {
      "cell_type": "code",
      "metadata": {
        "colab": {
          "base_uri": "https://localhost:8080/",
          "height": 213
        },
        "id": "1uW_yaVdFMqO",
        "outputId": "7e37be48-9722-4f0e-e25a-7a3e0a8805ed"
      },
      "source": [
        "df.loc[(df['manufacturer'] == 'TOYOTA')\n",
        "      & (df['model'] == 'Prius C')\n",
        "      & (df['prod'] == 2012)\n",
        "      & (df['leather'] == 1)\n",
        "      & (df['cylinders'] == 4)\n",
        "      & (df['fuel'] == 'Petrol')\n",
        "       & (df['engine'] == 1.5)\n",
        "      ].sort_values('price')"
      ],
      "execution_count": null,
      "outputs": [
        {
          "output_type": "execute_result",
          "data": {
            "text/html": [
              "<div>\n",
              "<style scoped>\n",
              "    .dataframe tbody tr th:only-of-type {\n",
              "        vertical-align: middle;\n",
              "    }\n",
              "\n",
              "    .dataframe tbody tr th {\n",
              "        vertical-align: top;\n",
              "    }\n",
              "\n",
              "    .dataframe thead th {\n",
              "        text-align: right;\n",
              "    }\n",
              "</style>\n",
              "<table border=\"1\" class=\"dataframe\">\n",
              "  <thead>\n",
              "    <tr style=\"text-align: right;\">\n",
              "      <th></th>\n",
              "      <th>price</th>\n",
              "      <th>levy</th>\n",
              "      <th>manufacturer</th>\n",
              "      <th>model</th>\n",
              "      <th>prod</th>\n",
              "      <th>category</th>\n",
              "      <th>leather</th>\n",
              "      <th>fuel</th>\n",
              "      <th>engine</th>\n",
              "      <th>mileage</th>\n",
              "      <th>cylinders</th>\n",
              "      <th>gear</th>\n",
              "      <th>drive</th>\n",
              "      <th>doors</th>\n",
              "      <th>wheel</th>\n",
              "      <th>color</th>\n",
              "      <th>airbags</th>\n",
              "      <th>turbo</th>\n",
              "    </tr>\n",
              "  </thead>\n",
              "  <tbody>\n",
              "    <tr>\n",
              "      <th>13419</th>\n",
              "      <td>1.098612</td>\n",
              "      <td>503.0</td>\n",
              "      <td>TOYOTA</td>\n",
              "      <td>Prius C</td>\n",
              "      <td>2012</td>\n",
              "      <td>Hatchback</td>\n",
              "      <td>1</td>\n",
              "      <td>Petrol</td>\n",
              "      <td>1.5</td>\n",
              "      <td>172800</td>\n",
              "      <td>4.0</td>\n",
              "      <td>Automatic</td>\n",
              "      <td>Front</td>\n",
              "      <td>4</td>\n",
              "      <td>left</td>\n",
              "      <td>Grey</td>\n",
              "      <td>12</td>\n",
              "      <td>0</td>\n",
              "    </tr>\n",
              "    <tr>\n",
              "      <th>6469</th>\n",
              "      <td>9.967682</td>\n",
              "      <td>NaN</td>\n",
              "      <td>TOYOTA</td>\n",
              "      <td>Prius C</td>\n",
              "      <td>2012</td>\n",
              "      <td>Hatchback</td>\n",
              "      <td>1</td>\n",
              "      <td>Petrol</td>\n",
              "      <td>1.5</td>\n",
              "      <td>162000</td>\n",
              "      <td>4.0</td>\n",
              "      <td>Automatic</td>\n",
              "      <td>Front</td>\n",
              "      <td>4</td>\n",
              "      <td>left</td>\n",
              "      <td>Silver</td>\n",
              "      <td>0</td>\n",
              "      <td>0</td>\n",
              "    </tr>\n",
              "    <tr>\n",
              "      <th>15478</th>\n",
              "      <td>10.065649</td>\n",
              "      <td>NaN</td>\n",
              "      <td>TOYOTA</td>\n",
              "      <td>Prius C</td>\n",
              "      <td>2012</td>\n",
              "      <td>Hatchback</td>\n",
              "      <td>1</td>\n",
              "      <td>Petrol</td>\n",
              "      <td>1.5</td>\n",
              "      <td>152000</td>\n",
              "      <td>4.0</td>\n",
              "      <td>Tiptronic</td>\n",
              "      <td>Front</td>\n",
              "      <td>4</td>\n",
              "      <td>left</td>\n",
              "      <td>White</td>\n",
              "      <td>8</td>\n",
              "      <td>0</td>\n",
              "    </tr>\n",
              "  </tbody>\n",
              "</table>\n",
              "</div>"
            ],
            "text/plain": [
              "           price   levy manufacturer    model  prod   category  leather  \\\n",
              "13419   1.098612  503.0       TOYOTA  Prius C  2012  Hatchback        1   \n",
              "6469    9.967682    NaN       TOYOTA  Prius C  2012  Hatchback        1   \n",
              "15478  10.065649    NaN       TOYOTA  Prius C  2012  Hatchback        1   \n",
              "\n",
              "         fuel  engine  mileage  cylinders       gear  drive  doors wheel  \\\n",
              "13419  Petrol     1.5   172800        4.0  Automatic  Front      4  left   \n",
              "6469   Petrol     1.5   162000        4.0  Automatic  Front      4  left   \n",
              "15478  Petrol     1.5   152000        4.0  Tiptronic  Front      4  left   \n",
              "\n",
              "        color  airbags  turbo  \n",
              "13419    Grey       12      0  \n",
              "6469   Silver        0      0  \n",
              "15478   White        8      0  "
            ]
          },
          "metadata": {
            "tags": []
          },
          "execution_count": 56
        }
      ]
    },
    {
      "cell_type": "code",
      "metadata": {
        "id": "miDaGQ_QFtSd"
      },
      "source": [
        "# imputing price based on mileage (guesstimate)\n",
        "df.loc[13419,'price'] = 9.86"
      ],
      "execution_count": null,
      "outputs": []
    },
    {
      "cell_type": "code",
      "metadata": {
        "colab": {
          "base_uri": "https://localhost:8080/",
          "height": 179
        },
        "id": "cTA1iZ0AGonh",
        "outputId": "bc3d9bbd-08e2-4a43-9c9f-ae40160f85ea"
      },
      "source": [
        "df.sort_values('price', ascending=True)[:3]"
      ],
      "execution_count": null,
      "outputs": [
        {
          "output_type": "execute_result",
          "data": {
            "text/html": [
              "<div>\n",
              "<style scoped>\n",
              "    .dataframe tbody tr th:only-of-type {\n",
              "        vertical-align: middle;\n",
              "    }\n",
              "\n",
              "    .dataframe tbody tr th {\n",
              "        vertical-align: top;\n",
              "    }\n",
              "\n",
              "    .dataframe thead th {\n",
              "        text-align: right;\n",
              "    }\n",
              "</style>\n",
              "<table border=\"1\" class=\"dataframe\">\n",
              "  <thead>\n",
              "    <tr style=\"text-align: right;\">\n",
              "      <th></th>\n",
              "      <th>price</th>\n",
              "      <th>levy</th>\n",
              "      <th>manufacturer</th>\n",
              "      <th>model</th>\n",
              "      <th>prod</th>\n",
              "      <th>category</th>\n",
              "      <th>leather</th>\n",
              "      <th>fuel</th>\n",
              "      <th>engine</th>\n",
              "      <th>mileage</th>\n",
              "      <th>cylinders</th>\n",
              "      <th>gear</th>\n",
              "      <th>drive</th>\n",
              "      <th>doors</th>\n",
              "      <th>wheel</th>\n",
              "      <th>color</th>\n",
              "      <th>airbags</th>\n",
              "      <th>turbo</th>\n",
              "    </tr>\n",
              "  </thead>\n",
              "  <tbody>\n",
              "    <tr>\n",
              "      <th>14492</th>\n",
              "      <td>1.098612</td>\n",
              "      <td>697.0</td>\n",
              "      <td>VOLKSWAGEN</td>\n",
              "      <td>Jetta</td>\n",
              "      <td>2015</td>\n",
              "      <td>Sedan</td>\n",
              "      <td>1</td>\n",
              "      <td>Petrol</td>\n",
              "      <td>1.8</td>\n",
              "      <td>65000</td>\n",
              "      <td>4.0</td>\n",
              "      <td>Automatic</td>\n",
              "      <td>Front</td>\n",
              "      <td>4</td>\n",
              "      <td>left</td>\n",
              "      <td>Grey</td>\n",
              "      <td>12</td>\n",
              "      <td>1</td>\n",
              "    </tr>\n",
              "    <tr>\n",
              "      <th>5890</th>\n",
              "      <td>1.098612</td>\n",
              "      <td>NaN</td>\n",
              "      <td>MERCEDES-BENZ</td>\n",
              "      <td>CLK 230</td>\n",
              "      <td>2004</td>\n",
              "      <td>Coupe</td>\n",
              "      <td>1</td>\n",
              "      <td>Petrol</td>\n",
              "      <td>2.3</td>\n",
              "      <td>328000</td>\n",
              "      <td>4.0</td>\n",
              "      <td>Manual</td>\n",
              "      <td>Rear</td>\n",
              "      <td>2</td>\n",
              "      <td>left</td>\n",
              "      <td>Blue</td>\n",
              "      <td>0</td>\n",
              "      <td>0</td>\n",
              "    </tr>\n",
              "    <tr>\n",
              "      <th>14642</th>\n",
              "      <td>1.098612</td>\n",
              "      <td>87.0</td>\n",
              "      <td>PORSCHE</td>\n",
              "      <td>Panamera</td>\n",
              "      <td>2011</td>\n",
              "      <td>Sedan</td>\n",
              "      <td>1</td>\n",
              "      <td>Petrol</td>\n",
              "      <td>0.0</td>\n",
              "      <td>196800</td>\n",
              "      <td>6.0</td>\n",
              "      <td>Automatic</td>\n",
              "      <td>Rear</td>\n",
              "      <td>4</td>\n",
              "      <td>left</td>\n",
              "      <td>Black</td>\n",
              "      <td>12</td>\n",
              "      <td>0</td>\n",
              "    </tr>\n",
              "  </tbody>\n",
              "</table>\n",
              "</div>"
            ],
            "text/plain": [
              "          price   levy   manufacturer     model  prod category  leather  \\\n",
              "14492  1.098612  697.0     VOLKSWAGEN     Jetta  2015    Sedan        1   \n",
              "5890   1.098612    NaN  MERCEDES-BENZ   CLK 230  2004    Coupe        1   \n",
              "14642  1.098612   87.0        PORSCHE  Panamera  2011    Sedan        1   \n",
              "\n",
              "         fuel  engine  mileage  cylinders       gear  drive  doors wheel  \\\n",
              "14492  Petrol     1.8    65000        4.0  Automatic  Front      4  left   \n",
              "5890   Petrol     2.3   328000        4.0     Manual   Rear      2  left   \n",
              "14642  Petrol     0.0   196800        6.0  Automatic   Rear      4  left   \n",
              "\n",
              "       color  airbags  turbo  \n",
              "14492   Grey       12      1  \n",
              "5890    Blue        0      0  \n",
              "14642  Black       12      0  "
            ]
          },
          "metadata": {
            "tags": []
          },
          "execution_count": 61
        }
      ]
    },
    {
      "cell_type": "markdown",
      "metadata": {
        "id": "CkpSHWbUGPoD"
      },
      "source": [
        "Volkswagen Jetta 2015 (index 14492)"
      ]
    },
    {
      "cell_type": "code",
      "metadata": {
        "colab": {
          "base_uri": "https://localhost:8080/",
          "height": 256
        },
        "id": "q8TfcX9wG2hD",
        "outputId": "e4986ea1-8891-44ca-878e-e620b4b6f4e2"
      },
      "source": [
        "df.loc[(df['manufacturer'] == 'VOLKSWAGEN')\n",
        "      & (df['model'] == 'Jetta')\n",
        "      & (df['prod'] == 2015)\n",
        "      & (df['leather'] == 1)\n",
        "      & (df['cylinders'] == 4)\n",
        "      & (df['gear'] == 'Automatic')\n",
        "      & (df['fuel'] == 'Petrol')\n",
        "       & (df['engine'] == 1.8)\n",
        "      ].sort_values('price')"
      ],
      "execution_count": null,
      "outputs": [
        {
          "output_type": "execute_result",
          "data": {
            "text/html": [
              "<div>\n",
              "<style scoped>\n",
              "    .dataframe tbody tr th:only-of-type {\n",
              "        vertical-align: middle;\n",
              "    }\n",
              "\n",
              "    .dataframe tbody tr th {\n",
              "        vertical-align: top;\n",
              "    }\n",
              "\n",
              "    .dataframe thead th {\n",
              "        text-align: right;\n",
              "    }\n",
              "</style>\n",
              "<table border=\"1\" class=\"dataframe\">\n",
              "  <thead>\n",
              "    <tr style=\"text-align: right;\">\n",
              "      <th></th>\n",
              "      <th>price</th>\n",
              "      <th>levy</th>\n",
              "      <th>manufacturer</th>\n",
              "      <th>model</th>\n",
              "      <th>prod</th>\n",
              "      <th>category</th>\n",
              "      <th>leather</th>\n",
              "      <th>fuel</th>\n",
              "      <th>engine</th>\n",
              "      <th>mileage</th>\n",
              "      <th>cylinders</th>\n",
              "      <th>gear</th>\n",
              "      <th>drive</th>\n",
              "      <th>doors</th>\n",
              "      <th>wheel</th>\n",
              "      <th>color</th>\n",
              "      <th>airbags</th>\n",
              "      <th>turbo</th>\n",
              "    </tr>\n",
              "  </thead>\n",
              "  <tbody>\n",
              "    <tr>\n",
              "      <th>14492</th>\n",
              "      <td>1.098612</td>\n",
              "      <td>697.0</td>\n",
              "      <td>VOLKSWAGEN</td>\n",
              "      <td>Jetta</td>\n",
              "      <td>2015</td>\n",
              "      <td>Sedan</td>\n",
              "      <td>1</td>\n",
              "      <td>Petrol</td>\n",
              "      <td>1.8</td>\n",
              "      <td>65000</td>\n",
              "      <td>4.0</td>\n",
              "      <td>Automatic</td>\n",
              "      <td>Front</td>\n",
              "      <td>4</td>\n",
              "      <td>left</td>\n",
              "      <td>Grey</td>\n",
              "      <td>12</td>\n",
              "      <td>1</td>\n",
              "    </tr>\n",
              "    <tr>\n",
              "      <th>2173</th>\n",
              "      <td>6.152733</td>\n",
              "      <td>697.0</td>\n",
              "      <td>VOLKSWAGEN</td>\n",
              "      <td>Jetta</td>\n",
              "      <td>2015</td>\n",
              "      <td>Sedan</td>\n",
              "      <td>1</td>\n",
              "      <td>Petrol</td>\n",
              "      <td>1.8</td>\n",
              "      <td>117006</td>\n",
              "      <td>4.0</td>\n",
              "      <td>Automatic</td>\n",
              "      <td>Front</td>\n",
              "      <td>4</td>\n",
              "      <td>left</td>\n",
              "      <td>White</td>\n",
              "      <td>12</td>\n",
              "      <td>0</td>\n",
              "    </tr>\n",
              "    <tr>\n",
              "      <th>12361</th>\n",
              "      <td>8.743851</td>\n",
              "      <td>697.0</td>\n",
              "      <td>VOLKSWAGEN</td>\n",
              "      <td>Jetta</td>\n",
              "      <td>2015</td>\n",
              "      <td>Sedan</td>\n",
              "      <td>1</td>\n",
              "      <td>Petrol</td>\n",
              "      <td>1.8</td>\n",
              "      <td>63792</td>\n",
              "      <td>4.0</td>\n",
              "      <td>Automatic</td>\n",
              "      <td>Front</td>\n",
              "      <td>4</td>\n",
              "      <td>left</td>\n",
              "      <td>Black</td>\n",
              "      <td>12</td>\n",
              "      <td>0</td>\n",
              "    </tr>\n",
              "    <tr>\n",
              "      <th>1188</th>\n",
              "      <td>9.554852</td>\n",
              "      <td>697.0</td>\n",
              "      <td>VOLKSWAGEN</td>\n",
              "      <td>Jetta</td>\n",
              "      <td>2015</td>\n",
              "      <td>Sedan</td>\n",
              "      <td>1</td>\n",
              "      <td>Petrol</td>\n",
              "      <td>1.8</td>\n",
              "      <td>45605</td>\n",
              "      <td>4.0</td>\n",
              "      <td>Automatic</td>\n",
              "      <td>Front</td>\n",
              "      <td>4</td>\n",
              "      <td>left</td>\n",
              "      <td>White</td>\n",
              "      <td>0</td>\n",
              "      <td>0</td>\n",
              "    </tr>\n",
              "    <tr>\n",
              "      <th>6109</th>\n",
              "      <td>9.755509</td>\n",
              "      <td>697.0</td>\n",
              "      <td>VOLKSWAGEN</td>\n",
              "      <td>Jetta</td>\n",
              "      <td>2015</td>\n",
              "      <td>Sedan</td>\n",
              "      <td>1</td>\n",
              "      <td>Petrol</td>\n",
              "      <td>1.8</td>\n",
              "      <td>70000</td>\n",
              "      <td>4.0</td>\n",
              "      <td>Automatic</td>\n",
              "      <td>Front</td>\n",
              "      <td>4</td>\n",
              "      <td>left</td>\n",
              "      <td>Silver</td>\n",
              "      <td>4</td>\n",
              "      <td>0</td>\n",
              "    </tr>\n",
              "    <tr>\n",
              "      <th>462</th>\n",
              "      <td>9.875294</td>\n",
              "      <td>NaN</td>\n",
              "      <td>VOLKSWAGEN</td>\n",
              "      <td>Jetta</td>\n",
              "      <td>2015</td>\n",
              "      <td>Sedan</td>\n",
              "      <td>1</td>\n",
              "      <td>Petrol</td>\n",
              "      <td>1.8</td>\n",
              "      <td>102400</td>\n",
              "      <td>4.0</td>\n",
              "      <td>Automatic</td>\n",
              "      <td>Front</td>\n",
              "      <td>4</td>\n",
              "      <td>left</td>\n",
              "      <td>Silver</td>\n",
              "      <td>8</td>\n",
              "      <td>1</td>\n",
              "    </tr>\n",
              "  </tbody>\n",
              "</table>\n",
              "</div>"
            ],
            "text/plain": [
              "          price   levy manufacturer  model  prod category  leather    fuel  \\\n",
              "14492  1.098612  697.0   VOLKSWAGEN  Jetta  2015    Sedan        1  Petrol   \n",
              "2173   6.152733  697.0   VOLKSWAGEN  Jetta  2015    Sedan        1  Petrol   \n",
              "12361  8.743851  697.0   VOLKSWAGEN  Jetta  2015    Sedan        1  Petrol   \n",
              "1188   9.554852  697.0   VOLKSWAGEN  Jetta  2015    Sedan        1  Petrol   \n",
              "6109   9.755509  697.0   VOLKSWAGEN  Jetta  2015    Sedan        1  Petrol   \n",
              "462    9.875294    NaN   VOLKSWAGEN  Jetta  2015    Sedan        1  Petrol   \n",
              "\n",
              "       engine  mileage  cylinders       gear  drive  doors wheel   color  \\\n",
              "14492     1.8    65000        4.0  Automatic  Front      4  left    Grey   \n",
              "2173      1.8   117006        4.0  Automatic  Front      4  left   White   \n",
              "12361     1.8    63792        4.0  Automatic  Front      4  left   Black   \n",
              "1188      1.8    45605        4.0  Automatic  Front      4  left   White   \n",
              "6109      1.8    70000        4.0  Automatic  Front      4  left  Silver   \n",
              "462       1.8   102400        4.0  Automatic  Front      4  left  Silver   \n",
              "\n",
              "       airbags  turbo  \n",
              "14492       12      1  \n",
              "2173        12      0  \n",
              "12361       12      0  \n",
              "1188         0      0  \n",
              "6109         4      0  \n",
              "462          8      1  "
            ]
          },
          "metadata": {
            "tags": []
          },
          "execution_count": 66
        }
      ]
    },
    {
      "cell_type": "code",
      "metadata": {
        "colab": {
          "base_uri": "https://localhost:8080/",
          "height": 406
        },
        "id": "jyWecdPmHfqa",
        "outputId": "d49f6a67-a6b9-49fb-85a8-7b847184c29a"
      },
      "source": [
        "# does the price relate linearly to mileage within a subset ?\n",
        "sns.scatterplot(data=df.loc[(df['manufacturer'] == 'VOLKSWAGEN')\n",
        "      & (df['model'] == 'Jetta')\n",
        "      & (df['prod'] == 2015)\n",
        "      & (df['leather'] == 1)\n",
        "      & (df['cylinders'] == 4)\n",
        "      & (df['gear'] == 'Automatic')\n",
        "      & (df['fuel'] == 'Petrol')\n",
        "       & (df['engine'] == 1.8)\n",
        "      ].sort_values('price'), x='mileage', y='price')\n",
        "# No it does not appear so.."
      ],
      "execution_count": null,
      "outputs": [
        {
          "output_type": "execute_result",
          "data": {
            "text/plain": [
              "<matplotlib.axes._subplots.AxesSubplot at 0x7f49a8bc0810>"
            ]
          },
          "metadata": {
            "tags": []
          },
          "execution_count": 67
        },
        {
          "output_type": "display_data",
          "data": {
            "image/png": "[encoded data removed]",
            "text/plain": [
              "<Figure size 576x432 with 1 Axes>"
            ]
          },
          "metadata": {
            "tags": [],
            "needs_background": "light"
          }
        }
      ]
    },
    {
      "cell_type": "code",
      "metadata": {
        "id": "_d2BH3lHIAm0"
      },
      "source": [
        "# imputing with the closes in terms of mileage and airbags (index 12361)\n",
        "df.loc[14492, 'price'] = 8.3478"
      ],
      "execution_count": null,
      "outputs": []
    },
    {
      "cell_type": "code",
      "metadata": {
        "id": "Vg5KPZ_WITZh"
      },
      "source": [
        "# df.to_csv(root_path+'train_cleaned_manual1.csv', index=False)\n",
        "df = pd.read_csv(root_path+'train_cleaned_manual1.csv')\n",
        "dfc = df.copy()"
      ],
      "execution_count": null,
      "outputs": []
    },
    {
      "cell_type": "markdown",
      "metadata": {
        "id": "4-DhITA2Zlb3"
      },
      "source": [
        "### Model fitting and tuning"
      ]
    },
    {
      "cell_type": "markdown",
      "metadata": {
        "id": "XTTizUKteWRU"
      },
      "source": [
        "We will experiment with various hyperparams to find the least error, and log our progress as we go along."
      ]
    },
    {
      "cell_type": "code",
      "metadata": {
        "colab": {
          "base_uri": "https://localhost:8080/",
          "height": 225
        },
        "id": "PKglEU4oZ-R9",
        "outputId": "619956ed-6b6e-4b1a-931b-163c77ec1b43"
      },
      "source": [
        "dfc.head()"
      ],
      "execution_count": null,
      "outputs": [
        {
          "output_type": "execute_result",
          "data": {
            "text/html": [
              "<div>\n",
              "<style scoped>\n",
              "    .dataframe tbody tr th:only-of-type {\n",
              "        vertical-align: middle;\n",
              "    }\n",
              "\n",
              "    .dataframe tbody tr th {\n",
              "        vertical-align: top;\n",
              "    }\n",
              "\n",
              "    .dataframe thead th {\n",
              "        text-align: right;\n",
              "    }\n",
              "</style>\n",
              "<table border=\"1\" class=\"dataframe\">\n",
              "  <thead>\n",
              "    <tr style=\"text-align: right;\">\n",
              "      <th></th>\n",
              "      <th>price</th>\n",
              "      <th>levy</th>\n",
              "      <th>manufacturer</th>\n",
              "      <th>model</th>\n",
              "      <th>prod</th>\n",
              "      <th>category</th>\n",
              "      <th>leather</th>\n",
              "      <th>fuel</th>\n",
              "      <th>engine</th>\n",
              "      <th>mileage</th>\n",
              "      <th>cylinders</th>\n",
              "      <th>gear</th>\n",
              "      <th>drive</th>\n",
              "      <th>doors</th>\n",
              "      <th>wheel</th>\n",
              "      <th>color</th>\n",
              "      <th>airbags</th>\n",
              "      <th>turbo</th>\n",
              "    </tr>\n",
              "  </thead>\n",
              "  <tbody>\n",
              "    <tr>\n",
              "      <th>0</th>\n",
              "      <td>9.497622</td>\n",
              "      <td>1399.0</td>\n",
              "      <td>LEXUS</td>\n",
              "      <td>RX 450</td>\n",
              "      <td>2010</td>\n",
              "      <td>Jeep</td>\n",
              "      <td>1</td>\n",
              "      <td>Hybrid</td>\n",
              "      <td>3.5</td>\n",
              "      <td>186005</td>\n",
              "      <td>6.0</td>\n",
              "      <td>Automatic</td>\n",
              "      <td>4x4</td>\n",
              "      <td>4</td>\n",
              "      <td>left</td>\n",
              "      <td>Silver</td>\n",
              "      <td>12</td>\n",
              "      <td>0</td>\n",
              "    </tr>\n",
              "    <tr>\n",
              "      <th>1</th>\n",
              "      <td>9.718422</td>\n",
              "      <td>1018.0</td>\n",
              "      <td>CHEVROLET</td>\n",
              "      <td>Equinox</td>\n",
              "      <td>2011</td>\n",
              "      <td>Jeep</td>\n",
              "      <td>0</td>\n",
              "      <td>Petrol</td>\n",
              "      <td>3.0</td>\n",
              "      <td>192000</td>\n",
              "      <td>6.0</td>\n",
              "      <td>Tiptronic</td>\n",
              "      <td>4x4</td>\n",
              "      <td>4</td>\n",
              "      <td>left</td>\n",
              "      <td>Black</td>\n",
              "      <td>8</td>\n",
              "      <td>0</td>\n",
              "    </tr>\n",
              "    <tr>\n",
              "      <th>2</th>\n",
              "      <td>9.043932</td>\n",
              "      <td>NaN</td>\n",
              "      <td>HONDA</td>\n",
              "      <td>FIT</td>\n",
              "      <td>2006</td>\n",
              "      <td>Hatchback</td>\n",
              "      <td>0</td>\n",
              "      <td>Petrol</td>\n",
              "      <td>1.3</td>\n",
              "      <td>200000</td>\n",
              "      <td>4.0</td>\n",
              "      <td>Variator</td>\n",
              "      <td>Front</td>\n",
              "      <td>4</td>\n",
              "      <td>right</td>\n",
              "      <td>Black</td>\n",
              "      <td>2</td>\n",
              "      <td>0</td>\n",
              "    </tr>\n",
              "    <tr>\n",
              "      <th>3</th>\n",
              "      <td>8.190632</td>\n",
              "      <td>862.0</td>\n",
              "      <td>FORD</td>\n",
              "      <td>Escape</td>\n",
              "      <td>2011</td>\n",
              "      <td>Jeep</td>\n",
              "      <td>1</td>\n",
              "      <td>Hybrid</td>\n",
              "      <td>2.5</td>\n",
              "      <td>168966</td>\n",
              "      <td>4.0</td>\n",
              "      <td>Automatic</td>\n",
              "      <td>4x4</td>\n",
              "      <td>4</td>\n",
              "      <td>left</td>\n",
              "      <td>White</td>\n",
              "      <td>0</td>\n",
              "      <td>0</td>\n",
              "    </tr>\n",
              "    <tr>\n",
              "      <th>4</th>\n",
              "      <td>9.369564</td>\n",
              "      <td>446.0</td>\n",
              "      <td>HONDA</td>\n",
              "      <td>FIT</td>\n",
              "      <td>2014</td>\n",
              "      <td>Hatchback</td>\n",
              "      <td>1</td>\n",
              "      <td>Petrol</td>\n",
              "      <td>1.3</td>\n",
              "      <td>91901</td>\n",
              "      <td>4.0</td>\n",
              "      <td>Automatic</td>\n",
              "      <td>Front</td>\n",
              "      <td>4</td>\n",
              "      <td>left</td>\n",
              "      <td>Silver</td>\n",
              "      <td>4</td>\n",
              "      <td>0</td>\n",
              "    </tr>\n",
              "  </tbody>\n",
              "</table>\n",
              "</div>"
            ],
            "text/plain": [
              "      price    levy manufacturer    model  prod   category  leather    fuel  \\\n",
              "0  9.497622  1399.0        LEXUS   RX 450  2010       Jeep        1  Hybrid   \n",
              "1  9.718422  1018.0    CHEVROLET  Equinox  2011       Jeep        0  Petrol   \n",
              "2  9.043932     NaN        HONDA      FIT  2006  Hatchback        0  Petrol   \n",
              "3  8.190632   862.0         FORD   Escape  2011       Jeep        1  Hybrid   \n",
              "4  9.369564   446.0        HONDA      FIT  2014  Hatchback        1  Petrol   \n",
              "\n",
              "   engine  mileage  cylinders       gear  drive  doors  wheel   color  \\\n",
              "0     3.5   186005        6.0  Automatic    4x4      4   left  Silver   \n",
              "1     3.0   192000        6.0  Tiptronic    4x4      4   left   Black   \n",
              "2     1.3   200000        4.0   Variator  Front      4  right   Black   \n",
              "3     2.5   168966        4.0  Automatic    4x4      4   left   White   \n",
              "4     1.3    91901        4.0  Automatic  Front      4   left  Silver   \n",
              "\n",
              "   airbags  turbo  \n",
              "0       12      0  \n",
              "1        8      0  \n",
              "2        2      0  \n",
              "3        0      0  \n",
              "4        4      0  "
            ]
          },
          "metadata": {
            "tags": []
          },
          "execution_count": 107
        }
      ]
    },
    {
      "cell_type": "code",
      "metadata": {
        "colab": {
          "base_uri": "https://localhost:8080/"
        },
        "id": "b9Bd5HEVZpT4",
        "outputId": "d5e2abd6-ef7e-4de8-ee68-3259baf0ce5c"
      },
      "source": [
        "df = dfc.copy()\n",
        "\n",
        "# PREPARE TRAIN DATA\n",
        "\n",
        "# target column\n",
        "target_col = 'price'\n",
        "\n",
        "df['levy_na']  = df['levy'].apply(lambda x: pd.isna(x))\n",
        "\n",
        "df['prod'] = 2021 - df['prod']\n",
        "\n",
        "imputer_strategy = 'mean'\n",
        "encoder_strategy = 'onehot'\n",
        "\n",
        "input_cols = list(df.drop(target_col , axis=1).columns)\n",
        "\n",
        "print(\"len(input_cols)\",len(input_cols))\n",
        "\n",
        "numeric_cols = list(df[input_cols].select_dtypes(np.number).columns)\n",
        "categorical_cols = list(df[input_cols].select_dtypes('object').columns)\n",
        "\n",
        "print('num of numeric cols', len(numeric_cols))\n",
        "print('num of category cols', len(categorical_cols))\n",
        "\n",
        "# minmax scaling\n",
        "minmax = MinMaxScaler()\n",
        "df[numeric_cols] = minmax.fit_transform(df[numeric_cols])\n",
        "\n",
        "# categorical imputation\n",
        "if encoder_strategy == 'onehot':\n",
        "  encoder = OneHotEncoder(sparse=False, handle_unknown = 'ignore')    \n",
        "  encoder.fit(df[categorical_cols])\n",
        "  encoded_cols = list(encoder.get_feature_names(categorical_cols))\n",
        "  df[encoded_cols] = encoder.transform(df[categorical_cols])\n",
        "\n",
        "print('num encoded cols', len(encoded_cols))\n",
        "training_cols = numeric_cols+encoded_cols # very important\n",
        "\n",
        "# splitting into train and validation\n",
        "train_inputs, val_inputs, train_targets, val_targets = train_test_split(df[training_cols],\n",
        "                                                                      df[target_col],\n",
        "                                                                      test_size=0.3,\n",
        "                                                                      random_state=21)\n",
        "\n",
        "\n",
        "# NUMERIC IMPUTATION\n",
        "imputer_strategy = 'mean' # KNN\n",
        "\n",
        "imputer = SimpleImputer(strategy=imputer_strategy)\n",
        "imputer.fit(train_inputs[numeric_cols])\n",
        "train_inputs[numeric_cols] = imputer.transform(train_inputs[numeric_cols])\n",
        "val_inputs[numeric_cols] = imputer.transform(val_inputs[numeric_cols])\n",
        "\n",
        "# getting final train and val data\n",
        "x_train = train_inputs[numeric_cols+encoded_cols]\n",
        "x_val = val_inputs[numeric_cols+encoded_cols]\n",
        "\n",
        "x_train.shape, x_val.shape, train_targets.shape, val_targets.shape"
      ],
      "execution_count": null,
      "outputs": [
        {
          "output_type": "stream",
          "text": [
            "len(input_cols) 18\n",
            "num of numeric cols 9\n",
            "num of category cols 8\n",
            "num encoded cols 1698\n"
          ],
          "name": "stdout"
        },
        {
          "output_type": "execute_result",
          "data": {
            "text/plain": [
              "((13465, 1707), (5771, 1707), (13465,), (5771,))"
            ]
          },
          "metadata": {
            "tags": []
          },
          "execution_count": 110
        }
      ]
    },
    {
      "cell_type": "code",
      "metadata": {
        "id": "xvjkwNbZbVZ_"
      },
      "source": [
        "# FUNCTION TO FIT MODEL, GET TRAIN AND VALIDATION ERROR AND SAVE METRICS\n",
        "def fit_predict(estimator, remarks = '', x_train=x_train, train_targets=train_targets, x_val=x_val, \n",
        "                val_targets=val_targets):\n",
        "    print(datetime.now())\n",
        "    estimator.fit(x_train, train_targets)\n",
        "    train_preds = estimator.predict(x_train)\n",
        "    val_preds = estimator.predict(x_val)\n",
        "\n",
        "    from sklearn.metrics import mean_squared_error\n",
        "    \n",
        "    train_error = np.sqrt(mean_squared_error(train_targets, train_preds))\n",
        "    val_error = np.sqrt(mean_squared_error(val_targets, val_preds))\n",
        "    \n",
        "    # PRINTING METRICS\n",
        "    print('Train RMSLE:', train_error)\n",
        "    print('Val RMSLE:', val_error)\n",
        "    \n",
        "    # LOGGING MODELLING PARAMS - saving  in google drive (let me know if you want to see the file)\n",
        "    \n",
        "    log = pd.read_excel(root_path+'model_params_metrics.xlsx')\n",
        "    \n",
        "    size= len(log.index)\n",
        "    log.loc[size] = np.nan\n",
        "    log.loc[size, 'Date'] = datetime.now()\n",
        "    log.loc[size,'estimator'] = str(estimator)\n",
        "    log.loc[size,'hyperparams'] = str(estimator.get_params())[1:-1]\n",
        "    log.loc[size, 'train_RMSLE'] = train_error\n",
        "    log.loc[size, 'val_RMSLE'] = val_error\n",
        "    log.loc[size, 'Outlier technique'] = remarks\n",
        "    \n",
        "    dfimp = pd.DataFrame({'Column':x_train.columns, 'Imp': model.feature_importances_}).reset_index(\n",
        "        drop=True).set_index('Column').sort_values('Imp',ascending=False)\n",
        "    \n",
        "    # identifying 20 most important columns in prediction\n",
        "    log.loc[size, '20 mostimp cols'] = str(dict(zip(dfimp.index[:20], dfimp['Imp'][:20].values)))\n",
        "    \n",
        "    log.to_excel('model_params_metrics.xlsx', index=False)\n",
        "    log.tail()"
      ],
      "execution_count": null,
      "outputs": []
    },
    {
      "cell_type": "markdown",
      "metadata": {
        "id": "pRzUApuWb_2M"
      },
      "source": [
        "### We will fit using RandomForest model, as they are known to be robust outliers, and useful in a wide range of applications."
      ]
    },
    {
      "cell_type": "code",
      "metadata": {
        "colab": {
          "base_uri": "https://localhost:8080/"
        },
        "id": "HVR_IHCMb_ai",
        "outputId": "06ca58fa-5b05-4050-99a1-6f5364e359f1"
      },
      "source": [
        "model = RandomForestRegressor(random_state=21, max_depth=30)\n",
        "fit_predict(model)"
      ],
      "execution_count": null,
      "outputs": [
        {
          "output_type": "stream",
          "text": [
            "2021-07-21 14:21:29.098248\n",
            "Train RMSLE: 0.4023754691643431\n",
            "Val RMSLE: 0.9456922580313588\n"
          ],
          "name": "stdout"
        }
      ]
    },
    {
      "cell_type": "code",
      "metadata": {
        "colab": {
          "base_uri": "https://localhost:8080/"
        },
        "id": "qInA-yWVfGLv",
        "outputId": "7f4855d6-7ea2-4d4b-e228-42aa69c89b2d"
      },
      "source": [
        "model = RandomForestRegressor(random_state=21, max_leaf_nodes=250, n_estimators = 50)\n",
        "fit_predict(model)"
      ],
      "execution_count": null,
      "outputs": [
        {
          "output_type": "stream",
          "text": [
            "2021-07-21 15:23:00.490941\n",
            "Train RMSLE: 0.803599181954693\n",
            "Val RMSLE: 1.0173191678562346\n"
          ],
          "name": "stdout"
        }
      ]
    },
    {
      "cell_type": "markdown",
      "metadata": {
        "id": "AQpTUpx8fvQ9"
      },
      "source": [
        "#### Trying to introduce more randomness in the model.."
      ]
    },
    {
      "cell_type": "code",
      "metadata": {
        "colab": {
          "base_uri": "https://localhost:8080/"
        },
        "id": "thQMsjsYf2ju",
        "outputId": "154088cb-16a3-4f83-f9ca-50ec88ffc8bd"
      },
      "source": [
        "model = RandomForestRegressor(random_state=21, max_samples=3000, n_estimators=50, bootstrap=False)\n",
        "fit_predict(model, remarks = 'trying with reduced max_samples and bootstrap false')"
      ],
      "execution_count": null,
      "outputs": [
        {
          "output_type": "stream",
          "text": [
            "2021-07-21 14:36:57.661324\n",
            "Train RMSLE: 0.17877867046820525\n",
            "Val RMSLE: 1.174641883294352\n"
          ],
          "name": "stdout"
        }
      ]
    },
    {
      "cell_type": "code",
      "metadata": {
        "colab": {
          "base_uri": "https://localhost:8080/"
        },
        "id": "OAN3U7jpf2XL",
        "outputId": "003f3819-0175-417f-e2bf-73cc5b1af53f"
      },
      "source": [
        "model = RandomForestRegressor(random_state=21, max_samples=3000, n_estimators=50,max_depth = 20, bootstrap=False)\n",
        "fit_predict(model, remarks='trying with reduced max_samples and bootstrap false, reduced max_depth')"
      ],
      "execution_count": null,
      "outputs": [
        {
          "output_type": "stream",
          "text": [
            "2021-07-21 14:40:17.097964\n",
            "Train RMSLE: 0.5005945612683508\n",
            "Val RMSLE: 1.1426015112842933\n"
          ],
          "name": "stdout"
        }
      ]
    },
    {
      "cell_type": "markdown",
      "metadata": {
        "id": "TUdlh1LBgqBZ"
      },
      "source": [
        "NOTE: I tried to tune using GridSearchCV, but it took very long time. Hence, proceeding with manual tuning."
      ]
    },
    {
      "cell_type": "code",
      "metadata": {
        "colab": {
          "base_uri": "https://localhost:8080/"
        },
        "id": "wAI_Y-I9g6_K",
        "outputId": "e2abdf3b-b94f-4ef0-f0ec-5f16fc94ab19"
      },
      "source": [
        "model = RandomForestRegressor(random_state=21, max_samples=2000, n_estimators=80,max_features='sqrt')\n",
        "fit_predict(model, 'bootstrap false, reduced max_features')"
      ],
      "execution_count": null,
      "outputs": [
        {
          "output_type": "stream",
          "text": [
            "2021-07-21 14:41:42.267372\n",
            "Train RMSLE: 0.9140633501937947\n",
            "Val RMSLE: 1.0456095222945672\n"
          ],
          "name": "stdout"
        }
      ]
    },
    {
      "cell_type": "code",
      "metadata": {
        "colab": {
          "base_uri": "https://localhost:8080/"
        },
        "id": "TQ7esUYchHXt",
        "outputId": "4de0f646-5e81-4e51-c1b4-d405c91dcac8"
      },
      "source": [
        "model = RandomForestRegressor(random_state=21, max_samples=0.5, n_estimators=150, max_depth = 50, max_features='sqrt')\n",
        "fit_predict(model, 'reduced max_features and max_samples')"
      ],
      "execution_count": null,
      "outputs": [
        {
          "output_type": "stream",
          "text": [
            "2021-07-21 14:43:00.464958\n",
            "Train RMSLE: 0.6287584604211284\n",
            "Val RMSLE: 0.9558156705500942\n"
          ],
          "name": "stdout"
        }
      ]
    },
    {
      "cell_type": "markdown",
      "metadata": {
        "id": "8E6vYopjfYt4"
      },
      "source": [
        "#### Let us take a look at the most important columns. Fit again using the earlier, less regularised model, and visualise feature importances."
      ]
    },
    {
      "cell_type": "code",
      "metadata": {
        "colab": {
          "base_uri": "https://localhost:8080/",
          "height": 463
        },
        "id": "YBSup1sifcRc",
        "outputId": "68fec40a-287a-46d8-8ca5-c3d92ffeb048"
      },
      "source": [
        "model = RandomForestRegressor(random_state=21, max_leaf_nodes=250, n_estimators = 50)\n",
        "fit_predict(model)\n",
        "\n",
        "dfimp = pd.DataFrame({'Column':x_train.columns, 'Imp': model.feature_importances_}).reset_index(\n",
        "    drop=True).set_index('Column').sort_values('Imp',ascending=False)\n",
        "plt.figure(figsize=(9,17))\n",
        "dfimp[:25].plot(kind='barh') # visualise 25 most important columns"
      ],
      "execution_count": null,
      "outputs": [
        {
          "output_type": "stream",
          "text": [
            "2021-07-21 14:44:35.306065\n",
            "Train RMSLE: 0.803599181954693\n",
            "Val RMSLE: 1.0173191678562346\n"
          ],
          "name": "stdout"
        },
        {
          "output_type": "execute_result",
          "data": {
            "text/plain": [
              "<matplotlib.axes._subplots.AxesSubplot at 0x7f49a7200250>"
            ]
          },
          "metadata": {
            "tags": []
          },
          "execution_count": 118
        },
        {
          "output_type": "display_data",
          "data": {
            "text/plain": [
              "<Figure size 648x1224 with 0 Axes>"
            ]
          },
          "metadata": {
            "tags": []
          }
        },
        {
          "output_type": "display_data",
          "data": {
            "image/png": "[encoded data removed]",
            "text/plain": [
              "<Figure size 576x432 with 1 Axes>"
            ]
          },
          "metadata": {
            "tags": [],
            "needs_background": "light"
          }
        }
      ]
    },
    {
      "cell_type": "code",
      "metadata": {
        "colab": {
          "base_uri": "https://localhost:8080/"
        },
        "id": "CjafSHv1lI-U",
        "outputId": "e4b7385d-de85-4055-87a7-d5f89add2c53"
      },
      "source": [
        "imp_cols = list(dfimp[:25].index)\n",
        "xt = x_train[list(dfimp[:25].index)]\n",
        "xv = x_val[list(dfimp[:25].index)]\n",
        "model = RandomForestRegressor(random_state=21, n_estimators=120, max_leaf_nodes = 250, max_features=0.6)\n",
        "fit_predict(model, x_train=xt, x_val=xv, remarks = 'imp cols')"
      ],
      "execution_count": null,
      "outputs": [
        {
          "output_type": "stream",
          "text": [
            "2021-07-21 15:03:22.502925\n",
            "Train RMSLE: 0.8440845692375338\n",
            "Val RMSLE: 1.007361785573353\n"
          ],
          "name": "stdout"
        }
      ]
    },
    {
      "cell_type": "markdown",
      "metadata": {
        "id": "SdINW3cwmB7a"
      },
      "source": [
        "#### Let us try with XGB, as it is known to provide very good performance."
      ]
    },
    {
      "cell_type": "code",
      "metadata": {
        "colab": {
          "base_uri": "https://localhost:8080/"
        },
        "id": "y-LtHCf-mOe7",
        "outputId": "06776919-f07d-4d2f-8c59-d9f0ac3cd319"
      },
      "source": [
        "xgb = XGBRegressor(objective='reg:squarederror',max_depth=4,learning_rate=0.3, random_state=21)\n",
        "\n",
        "\n",
        "xt = x_train[imp_cols].sample(10000,replace=False)\n",
        "xv = x_val[imp_cols]\n",
        "new_targets = train_targets.loc[xt.index]\n",
        "\n",
        "xgb.fit(xt.values, new_targets.values)\n",
        "xgb_preds = xgb.predict(xv.values)\n",
        "print('XGB train RMSLE',np.sqrt(mean_squared_error(new_targets, xgb.predict(xt.values))))\n",
        "print('XGB val RMSLE', np.sqrt(mean_squared_error(val_targets, xgb.predict(xv.values))))"
      ],
      "execution_count": null,
      "outputs": [
        {
          "output_type": "stream",
          "text": [
            "XGB train RMSLE 0.92042490278277\n",
            "XGB val RMSLE 1.059655164691844\n"
          ],
          "name": "stdout"
        }
      ]
    },
    {
      "cell_type": "code",
      "metadata": {
        "colab": {
          "base_uri": "https://localhost:8080/"
        },
        "id": "N3WcQ_kgm48A",
        "outputId": "b7d662aa-af94-43f4-faab-7a39e0975286"
      },
      "source": [
        "# increased max_depth in XGB\n",
        "xgb = XGBRegressor(objective='reg:squarederror',max_depth=5,learning_rate=0.2, random_state=21)\n",
        "\n",
        "xt = x_train[imp_cols].sample(10000,replace=False)\n",
        "xv = x_val[imp_cols]\n",
        "new_targets = train_targets.loc[xt.index]\n",
        "\n",
        "xgb.fit(xt.values, new_targets.values)\n",
        "xgb_preds = xgb.predict(xv.values)\n",
        "print('XGB train RMSLE',np.sqrt(mean_squared_error(new_targets, xgb.predict(xt.values))))\n",
        "print('XGB val RMSLE', np.sqrt(mean_squared_error(val_targets, xgb.predict(xv.values))))\n",
        "# slight improvement in performance"
      ],
      "execution_count": null,
      "outputs": [
        {
          "output_type": "stream",
          "text": [
            "XGB train RMSLE 0.8477464734468451\n",
            "XGB val RMSLE 1.0364958333484808\n"
          ],
          "name": "stdout"
        }
      ]
    },
    {
      "cell_type": "markdown",
      "metadata": {
        "id": "ieAY60HUnMZW"
      },
      "source": [
        "Let us now aggregate the predictions of RandomForest and XGB"
      ]
    },
    {
      "cell_type": "code",
      "metadata": {
        "colab": {
          "base_uri": "https://localhost:8080/"
        },
        "id": "HPzVwtiLnQj1",
        "outputId": "a1bad76f-ed35-4eab-d146-fe07c3511794"
      },
      "source": [
        "xgb = XGBRegressor(objective='reg:squarederror',max_depth=4,learning_rate=0.3, random_state=21)\n",
        "model = RandomForestRegressor(random_state=21, n_estimators=120, max_leaf_nodes = 230, max_features=0.6)\n",
        "\n",
        "imp_cols = list(dfimp[:25].index)\n",
        "xt = x_train[imp_cols].sample(10000,replace=False)\n",
        "xv = x_val[imp_cols]\n",
        "new_targets = train_targets.loc[xt.index]\n",
        "\n",
        "xgb.fit(xt.values, new_targets.values)\n",
        "xgb_preds = xgb.predict(xv.values)\n",
        "print('XGB train RMSLE',np.sqrt(mean_squared_error(new_targets, xgb.predict(xt.values))))\n",
        "print('XGB val RMSLE', np.sqrt(mean_squared_error(val_targets, xgb.predict(xv.values))))\n",
        "\n",
        "xt = x_train[imp_cols].sample(8000,replace=False)\n",
        "xv = x_val[imp_cols]\n",
        "new_targets = train_targets.loc[xt.index]\n",
        "\n",
        "model.fit(xt.values, new_targets.values)\n",
        "rf_preds = model.predict(xv.values)\n",
        "print('RF train RMSLE',np.sqrt(mean_squared_error(new_targets, model.predict(xt.values))))\n",
        "print('RF val RMSLE', np.sqrt(mean_squared_error(val_targets, model.predict(xv.values))))\n",
        "\n",
        "avg_preds = (rf_preds + xgb_preds)/2.0\n",
        "print('aggregated val score', np.sqrt(mean_squared_error(val_targets, avg_preds)))"
      ],
      "execution_count": null,
      "outputs": [
        {
          "output_type": "stream",
          "text": [
            "XGB train RMSLE 0.916578511976817\n",
            "XGB val RMSLE 1.0553385730883853\n",
            "RF train RMSLE 0.7835966077951172\n",
            "RF val RMSLE 1.0371810099154575\n",
            "aggregated val score 1.0270716505867026\n"
          ],
          "name": "stdout"
        }
      ]
    },
    {
      "cell_type": "markdown",
      "metadata": {
        "id": "vpu06pPonbEd"
      },
      "source": [
        "The validation score is close to the best we have got using only RF. So, not much improvement in performance."
      ]
    },
    {
      "cell_type": "code",
      "metadata": {
        "colab": {
          "base_uri": "https://localhost:8080/",
          "height": 299
        },
        "id": "Igbgl8RunrFf",
        "outputId": "ea3d82cc-9e38-45b4-fe56-8e23e42521c4"
      },
      "source": [
        "log = pd.read_excel(root_path+'model_params_metrics.xlsx') # let me know if you need complete file\n",
        "log.sort_values('val_RMSLE')[:3] # if train and val error are close, it means less overfitting"
      ],
      "execution_count": null,
      "outputs": [
        {
          "output_type": "execute_result",
          "data": {
            "text/html": [
              "<div>\n",
              "<style scoped>\n",
              "    .dataframe tbody tr th:only-of-type {\n",
              "        vertical-align: middle;\n",
              "    }\n",
              "\n",
              "    .dataframe tbody tr th {\n",
              "        vertical-align: top;\n",
              "    }\n",
              "\n",
              "    .dataframe thead th {\n",
              "        text-align: right;\n",
              "    }\n",
              "</style>\n",
              "<table border=\"1\" class=\"dataframe\">\n",
              "  <thead>\n",
              "    <tr style=\"text-align: right;\">\n",
              "      <th></th>\n",
              "      <th>Date</th>\n",
              "      <th>Outlier rows dropped</th>\n",
              "      <th>Outlier technique</th>\n",
              "      <th>Levy or log levy</th>\n",
              "      <th>Train-duplicates dropped</th>\n",
              "      <th>Col for prediction (price/logprice)</th>\n",
              "      <th>Numeric Imputation</th>\n",
              "      <th>Categorical Imputation</th>\n",
              "      <th>Split ratio</th>\n",
              "      <th>machicnehack test set used for categorical imputaton</th>\n",
              "      <th>estimator</th>\n",
              "      <th>hyperparams</th>\n",
              "      <th>train_RMSLE</th>\n",
              "      <th>val_RMSLE</th>\n",
              "      <th>test_RMSLE</th>\n",
              "      <th>20 mostimp cols</th>\n",
              "    </tr>\n",
              "  </thead>\n",
              "  <tbody>\n",
              "    <tr>\n",
              "      <th>6</th>\n",
              "      <td>NaT</td>\n",
              "      <td>NaN</td>\n",
              "      <td>NaN</td>\n",
              "      <td>NaN</td>\n",
              "      <td>NaN</td>\n",
              "      <td>NaN</td>\n",
              "      <td>NaN</td>\n",
              "      <td>NaN</td>\n",
              "      <td>NaN</td>\n",
              "      <td>NaN</td>\n",
              "      <td>RFRegressor</td>\n",
              "      <td>random_state=21, max_depth=60</td>\n",
              "      <td>0.390000</td>\n",
              "      <td>0.964000</td>\n",
              "      <td>NaN</td>\n",
              "      <td>NaN</td>\n",
              "    </tr>\n",
              "    <tr>\n",
              "      <th>5</th>\n",
              "      <td>2021-07-09 00:00:00.000</td>\n",
              "      <td>0</td>\n",
              "      <td>NaN</td>\n",
              "      <td>levy</td>\n",
              "      <td>0</td>\n",
              "      <td>logprice</td>\n",
              "      <td>Median</td>\n",
              "      <td>Not required</td>\n",
              "      <td>70:30</td>\n",
              "      <td>NO</td>\n",
              "      <td>RFRegressor</td>\n",
              "      <td>random_state=21, max_depth=35,</td>\n",
              "      <td>0.394000</td>\n",
              "      <td>0.965000</td>\n",
              "      <td>NaN</td>\n",
              "      <td>NaN</td>\n",
              "    </tr>\n",
              "    <tr>\n",
              "      <th>9</th>\n",
              "      <td>2021-07-09 23:46:49.474</td>\n",
              "      <td>NaN</td>\n",
              "      <td>NaN</td>\n",
              "      <td>NaN</td>\n",
              "      <td>NaN</td>\n",
              "      <td>NaN</td>\n",
              "      <td>NaN</td>\n",
              "      <td>NaN</td>\n",
              "      <td>NaN</td>\n",
              "      <td>NaN</td>\n",
              "      <td>RandomForestRegressor(max_depth=20, min_sample...</td>\n",
              "      <td>'bootstrap': True, 'ccp_alpha': 0.0, 'criterio...</td>\n",
              "      <td>0.709734</td>\n",
              "      <td>0.984271</td>\n",
              "      <td>NaN</td>\n",
              "      <td>NaN</td>\n",
              "    </tr>\n",
              "  </tbody>\n",
              "</table>\n",
              "</div>"
            ],
            "text/plain": [
              "                     Date Outlier rows dropped Outlier technique  \\\n",
              "6                     NaT                  NaN               NaN   \n",
              "5 2021-07-09 00:00:00.000                    0               NaN   \n",
              "9 2021-07-09 23:46:49.474                  NaN               NaN   \n",
              "\n",
              "  Levy or log levy Train-duplicates dropped  \\\n",
              "6              NaN                      NaN   \n",
              "5             levy                        0   \n",
              "9              NaN                      NaN   \n",
              "\n",
              "  Col for prediction (price/logprice) Numeric Imputation  \\\n",
              "6                                 NaN                NaN   \n",
              "5                            logprice             Median   \n",
              "9                                 NaN                NaN   \n",
              "\n",
              "  Categorical Imputation Split ratio  \\\n",
              "6                    NaN         NaN   \n",
              "5           Not required       70:30   \n",
              "9                    NaN         NaN   \n",
              "\n",
              "  machicnehack test set used for categorical imputaton  \\\n",
              "6                                                NaN     \n",
              "5                                                 NO     \n",
              "9                                                NaN     \n",
              "\n",
              "                                           estimator  \\\n",
              "6                                        RFRegressor   \n",
              "5                                        RFRegressor   \n",
              "9  RandomForestRegressor(max_depth=20, min_sample...   \n",
              "\n",
              "                                         hyperparams  train_RMSLE  val_RMSLE  \\\n",
              "6                      random_state=21, max_depth=60     0.390000   0.964000   \n",
              "5                    random_state=21, max_depth=35,      0.394000   0.965000   \n",
              "9  'bootstrap': True, 'ccp_alpha': 0.0, 'criterio...     0.709734   0.984271   \n",
              "\n",
              "   test_RMSLE 20 mostimp cols  \n",
              "6         NaN             NaN  \n",
              "5         NaN             NaN  \n",
              "9         NaN             NaN  "
            ]
          },
          "metadata": {
            "tags": []
          },
          "execution_count": 159
        }
      ]
    },
    {
      "cell_type": "markdown",
      "metadata": {
        "id": "6TDHFC1djWgY"
      },
      "source": [
        "### Final prediction and submission on test data."
      ]
    },
    {
      "cell_type": "code",
      "metadata": {
        "colab": {
          "base_uri": "https://localhost:8080/"
        },
        "id": "EnHWv2nLp7tl",
        "outputId": "d5ea687f-7f2d-4667-c449-c33cf5f780c6"
      },
      "source": [
        "# best RF performance yet\n",
        "model = RandomForestRegressor(random_state=21, max_leaf_nodes=250, n_estimators = 50)\n",
        "fit_predict(model)"
      ],
      "execution_count": null,
      "outputs": [
        {
          "output_type": "stream",
          "text": [
            "2021-07-21 15:20:56.755134\n",
            "Train RMSLE: 0.8440845692375338\n",
            "Val RMSLE: 1.007361785573353\n"
          ],
          "name": "stdout"
        }
      ]
    },
    {
      "cell_type": "code",
      "metadata": {
        "colab": {
          "base_uri": "https://localhost:8080/",
          "height": 131
        },
        "id": "_YKgKqtvjvXG",
        "outputId": "ad58d43d-d0ec-474d-b584-6c9b2f734481"
      },
      "source": [
        "dftest = pd.read_csv(root_path+'test.csv')\n",
        "dftest = carprice_preprocess(dftest, istest=True)\n",
        "dftest.head(2)"
      ],
      "execution_count": null,
      "outputs": [
        {
          "output_type": "execute_result",
          "data": {
            "text/html": [
              "<div>\n",
              "<style scoped>\n",
              "    .dataframe tbody tr th:only-of-type {\n",
              "        vertical-align: middle;\n",
              "    }\n",
              "\n",
              "    .dataframe tbody tr th {\n",
              "        vertical-align: top;\n",
              "    }\n",
              "\n",
              "    .dataframe thead th {\n",
              "        text-align: right;\n",
              "    }\n",
              "</style>\n",
              "<table border=\"1\" class=\"dataframe\">\n",
              "  <thead>\n",
              "    <tr style=\"text-align: right;\">\n",
              "      <th></th>\n",
              "      <th>levy</th>\n",
              "      <th>manufacturer</th>\n",
              "      <th>model</th>\n",
              "      <th>prod</th>\n",
              "      <th>category</th>\n",
              "      <th>leather</th>\n",
              "      <th>fuel</th>\n",
              "      <th>engine</th>\n",
              "      <th>mileage</th>\n",
              "      <th>cylinders</th>\n",
              "      <th>gear</th>\n",
              "      <th>drive</th>\n",
              "      <th>doors</th>\n",
              "      <th>wheel</th>\n",
              "      <th>color</th>\n",
              "      <th>airbags</th>\n",
              "      <th>price</th>\n",
              "      <th>turbo</th>\n",
              "    </tr>\n",
              "  </thead>\n",
              "  <tbody>\n",
              "    <tr>\n",
              "      <th>0</th>\n",
              "      <td>NaN</td>\n",
              "      <td>VOLKSWAGEN</td>\n",
              "      <td>Golf</td>\n",
              "      <td>2012</td>\n",
              "      <td>Hatchback</td>\n",
              "      <td>0</td>\n",
              "      <td>Diesel</td>\n",
              "      <td>2.0</td>\n",
              "      <td>0</td>\n",
              "      <td>4</td>\n",
              "      <td>Manual</td>\n",
              "      <td>Front</td>\n",
              "      <td>2</td>\n",
              "      <td>left</td>\n",
              "      <td>Grey</td>\n",
              "      <td>10</td>\n",
              "      <td>NaN</td>\n",
              "      <td>1</td>\n",
              "    </tr>\n",
              "    <tr>\n",
              "      <th>1</th>\n",
              "      <td>NaN</td>\n",
              "      <td>HYUNDAI</td>\n",
              "      <td>Sonata</td>\n",
              "      <td>2012</td>\n",
              "      <td>Sedan</td>\n",
              "      <td>1</td>\n",
              "      <td>Petrol</td>\n",
              "      <td>2.4</td>\n",
              "      <td>26000</td>\n",
              "      <td>4</td>\n",
              "      <td>Tiptronic</td>\n",
              "      <td>Front</td>\n",
              "      <td>4</td>\n",
              "      <td>left</td>\n",
              "      <td>Grey</td>\n",
              "      <td>10</td>\n",
              "      <td>NaN</td>\n",
              "      <td>0</td>\n",
              "    </tr>\n",
              "  </tbody>\n",
              "</table>\n",
              "</div>"
            ],
            "text/plain": [
              "   levy manufacturer   model  prod   category  leather    fuel  engine  \\\n",
              "0   NaN   VOLKSWAGEN    Golf  2012  Hatchback        0  Diesel     2.0   \n",
              "1   NaN      HYUNDAI  Sonata  2012      Sedan        1  Petrol     2.4   \n",
              "\n",
              "   mileage  cylinders       gear  drive  doors wheel color  airbags  price  \\\n",
              "0        0          4     Manual  Front      2  left  Grey       10    NaN   \n",
              "1    26000          4  Tiptronic  Front      4  left  Grey       10    NaN   \n",
              "\n",
              "   turbo  \n",
              "0      1  \n",
              "1      0  "
            ]
          },
          "metadata": {
            "tags": []
          },
          "execution_count": 160
        }
      ]
    },
    {
      "cell_type": "code",
      "metadata": {
        "colab": {
          "base_uri": "https://localhost:8080/"
        },
        "id": "SnP91doni8Om",
        "outputId": "bedba1be-fd32-4ee3-b899-4ecb0e948dc1"
      },
      "source": [
        "# PREPARE TEST DATA\n",
        "test_inputs = dftest.drop('price', axis=1)\n",
        "test_inputs[numeric_cols] = imputer.transform(test_inputs[numeric_cols])\n",
        "test_inputs[numeric_cols] = minmax.transform(test_inputs[numeric_cols])\n",
        "test_inputs[encoded_cols] = encoder.transform(test_inputs[categorical_cols])\n",
        "test_inputs = test_inputs[training_cols]\n",
        "\n",
        "# SUBMISSION FILE\n",
        "test_preds = model.predict(test_inputs.values)\n",
        "test_preds = np.exp(test_preds)\n",
        "dfsubmit = pd.DataFrame(test_preds, columns = ['Price'])\n",
        "submit_file = str(datetime.now().strftime(\"%Y-%m-%d %H:%M:%S\")).replace(' ','_') + '.csv'\n",
        "submit_file = submit_file.replace(':','_')\n",
        "print(submit_file)\n",
        "submit_path= 'C:\\\\Users\\\\Anshu\\\\Data Science\\\\TheMathCompany-hackathon\\\\submissions\\\\'\n",
        "dfsubmit.to_csv(submit_path + submit_file, index=False)\n",
        "print('Submission file saved')"
      ],
      "execution_count": null,
      "outputs": [
        {
          "output_type": "stream",
          "text": [
            "2021-07-21_15_25_52.csv\n",
            "Submission file saved\n"
          ],
          "name": "stdout"
        }
      ]
    },
    {
      "cell_type": "markdown",
      "metadata": {
        "id": "9JIP2ib4rhjf"
      },
      "source": [
        "### Thanks!"
      ]
    },
    {
      "cell_type": "markdown",
      "metadata": {
        "id": "pmOfFJIzrjFH"
      },
      "source": [
        "Thanks for going through my work!\n",
        "\n",
        "In this notebook, I have mentioned the major steps in cleaning, preprocesing and model fitting on carprice dataset. Detailed notebooks and rough work for EDA and other analysis that I tried (some of which did not help), can be found on github.\n",
        "\n",
        "Github:   https://github.com/antariksh0094\n",
        "\n",
        "Jovian :  https://jovian.ai/antariksh0094\n",
        "\n",
        "\n",
        "Would love feedback/suggestions!\n",
        "\n",
        "LinkedIn: https://www.linkedin.com/in/antariksh-anupam-2b3a7673/\n",
        "\n",
        "Email ID: antariksh.0094@gmail.com"
      ]
    }
  ]
}